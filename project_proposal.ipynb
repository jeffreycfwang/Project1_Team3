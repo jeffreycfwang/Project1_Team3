{
 "cells": [
  {
   "cell_type": "markdown",
   "id": "b278a39a-c9fa-4c75-8102-01fb3dec3506",
   "metadata": {
    "tags": []
   },
   "source": [
    "# Project 1"
   ]
  },
  {
   "cell_type": "markdown",
   "id": "0c785753-7f49-442a-a93c-cfeeb8338e36",
   "metadata": {},
   "source": [
    "## Project Title"
   ]
  },
  {
   "cell_type": "code",
   "execution_count": null,
   "id": "b8f158fd-36d8-4557-ad27-5b9c4a7221a6",
   "metadata": {},
   "outputs": [],
   "source": []
  },
  {
   "cell_type": "markdown",
   "id": "678fdf49-0046-42fb-aace-1261d1d6188b",
   "metadata": {},
   "source": [
    "## Team Members"
   ]
  },
  {
   "cell_type": "code",
   "execution_count": null,
   "id": "27924655-1ebd-49b0-ba1f-58d4117e5476",
   "metadata": {},
   "outputs": [],
   "source": [
    "Jeffrey Wang\n",
    "Brian Wetzel\n",
    "Anjan Amin\n",
    "Alex Edwards\n",
    "Sackor Saydee"
   ]
  },
  {
   "cell_type": "markdown",
   "id": "af46c08c-90c5-495e-8cb0-0002fc562c8b",
   "metadata": {},
   "source": [
    "## Project Description / Outline"
   ]
  },
  {
   "cell_type": "code",
   "execution_count": null,
   "id": "8ea75163-3c34-468e-9063-75ab82d05813",
   "metadata": {},
   "outputs": [],
   "source": [
    "Scrape Asset Data, Calc Analysis, Indicators, Send Notification, Execute Trade (Alpaca)"
   ]
  },
  {
   "cell_type": "markdown",
   "id": "af2f1da5-9917-424a-a1cd-60ba05102d02",
   "metadata": {},
   "source": [
    "## Research Questions to Answer"
   ]
  },
  {
   "cell_type": "markdown",
   "id": "7c58148d-b768-4f86-adcf-e6c11c1716dd",
   "metadata": {},
   "source": [
    "• Are popular Bitcoin metrics valuable when applied to other cryptos (ie. mvrv-zscore, Puell Multiple)\n",
    "\n",
    "  - What scale / index / meter to guage a buy/sell?\n",
    "      - Possible Example: Fear & Greed Index - https://alternative.me/crypto/fear-and-greed-index/\n",
    "\n",
    "  - Determine 5 criteria to guage a buy/sell?\n",
    "\n",
    "  - What are the most useful charts? Possible Examples:\n",
    "      - The Puell Multiple - https://www.lookintobitcoin.com/charts/puell-multiple/\n",
    "      - NVT Ratio [Bitcoin's PE Ratio] - http://charts.woobull.com/bitcoin-nvt-ratio/\n",
    "      - MVRV Z-Score - https://www.lookintobitcoin.com/charts/mvrv-zscore/\n",
    "                                                                   "
   ]
  },
  {
   "cell_type": "markdown",
   "id": "05f3d85e-712a-4122-9c1c-bc1fb48dac81",
   "metadata": {},
   "source": [
    "##  Dataset(s) to be used"
   ]
  },
  {
   "cell_type": "code",
   "execution_count": null,
   "id": "2a0a5997-5cff-44c1-92e3-9a8f3eaaead9",
   "metadata": {},
   "outputs": [],
   "source": [
    "Apaca\n",
    "Coin Metrics \n",
    "Quandl\n",
    "Nasdaq\n",
    "Crypto Exchanges (Coinbase, Kraken, Robinhood, OKCoin, etc.)"
   ]
  },
  {
   "cell_type": "markdown",
   "id": "ff9f22e1-ef21-4340-aa62-55d8a977952a",
   "metadata": {},
   "source": [
    "## Rough Breakdown of Tasks"
   ]
  },
  {
   "cell_type": "markdown",
   "id": "2622a653-c6ab-4165-8e8e-2867db247f03",
   "metadata": {},
   "source": [
    "• Pull Data (API)\n",
    "\n",
    "• Clean / Sort data\n",
    "\n",
    "• Calculations / Add new columns (ie. pct change, etc.)\n",
    "\n",
    "• Calculations based on new columns\n",
    "\n",
    "• Determine parameters/benchmarks that lead to a buy/sell trade indicator (less binary, somewhat ambiguous)\n",
    "  - alert: scale of 0-10, meter, index \n",
    "  - criteria: ie. 3 of 5 indicators with same signal\n",
    "  - sequential criteria (if, then)\n",
    "  - if statement\n",
    "  - buy/sell within std of benchmarks\n",
    "\n",
    "• Charting / Panels and Panes\n",
    "\n",
    "• Export PNG Visulizations (charts, etc.)\n",
    "\n",
    "• Python library implemention for notifications (ie. email, smtp lib library, twilio)\n",
    "\n",
    "• Readme Presentation w/ findings, etc."
   ]
  },
  {
   "cell_type": "markdown",
   "id": "af9ddf72-6601-43e8-8942-0aef07535833",
   "metadata": {},
   "source": []
  },
  {
   "cell_type": "code",
   "execution_count": null,
   "id": "4b65641b-239c-4db2-80a3-9cb2d1169e0a",
   "metadata": {},
   "outputs": [],
   "source": []
  }
 ],
 "metadata": {
  "kernelspec": {
   "display_name": "Python 3 (ipykernel)",
   "language": "python",
   "name": "python3"
  },
  "language_info": {
   "codemirror_mode": {
    "name": "ipython",
    "version": 3
   },
   "file_extension": ".py",
   "mimetype": "text/x-python",
   "name": "python",
   "nbconvert_exporter": "python",
   "pygments_lexer": "ipython3",
   "version": "3.8.8"
  }
 },
 "nbformat": 4,
 "nbformat_minor": 5
}
