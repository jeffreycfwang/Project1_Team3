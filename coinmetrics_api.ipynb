{
 "cells": [
  {
   "cell_type": "markdown",
   "id": "134fc63e",
   "metadata": {
    "tags": []
   },
   "source": [
    "### Import Libraries\n",
    "NOTE: You need to \"pip install coinmetrics\" in order to use api this.  No api key is required.<BR>\n",
    "API Documentation: https://coinmetrics.readthedocs.io/en/latest/community.html"
   ]
  },
  {
   "cell_type": "code",
   "execution_count": 4,
   "id": "3b829385",
   "metadata": {},
   "outputs": [
    {
     "ename": "ModuleNotFoundError",
     "evalue": "No module named 'coinmetrics'",
     "output_type": "error",
     "traceback": [
      "\u001b[1;31m---------------------------------------------------------------------------\u001b[0m",
      "\u001b[1;31mModuleNotFoundError\u001b[0m                       Traceback (most recent call last)",
      "\u001b[1;32m~\\AppData\\Local\\Temp/ipykernel_6068/4023005166.py\u001b[0m in \u001b[0;36m<module>\u001b[1;34m\u001b[0m\n\u001b[0;32m      1\u001b[0m \u001b[1;31m# Import Libraries:\u001b[0m\u001b[1;33m\u001b[0m\u001b[1;33m\u001b[0m\u001b[1;33m\u001b[0m\u001b[0m\n\u001b[1;32m----> 2\u001b[1;33m \u001b[1;32mimport\u001b[0m \u001b[0mcoinmetrics\u001b[0m \u001b[1;31m# Coinmetrics API\u001b[0m\u001b[1;33m\u001b[0m\u001b[1;33m\u001b[0m\u001b[0m\n\u001b[0m\u001b[0;32m      3\u001b[0m \u001b[1;32mimport\u001b[0m \u001b[0mdatetime\u001b[0m \u001b[1;31m# Datetime Feature\u001b[0m\u001b[1;33m\u001b[0m\u001b[1;33m\u001b[0m\u001b[0m\n\u001b[0;32m      4\u001b[0m \u001b[1;32mimport\u001b[0m \u001b[0mpandas\u001b[0m \u001b[1;32mas\u001b[0m \u001b[0mpd\u001b[0m \u001b[1;31m# Import Pandas\u001b[0m\u001b[1;33m\u001b[0m\u001b[1;33m\u001b[0m\u001b[0m\n\u001b[0;32m      5\u001b[0m \u001b[1;32mimport\u001b[0m \u001b[0mpanel\u001b[0m \u001b[1;32mas\u001b[0m \u001b[0mpn\u001b[0m \u001b[1;31m# Import Panel\u001b[0m\u001b[1;33m\u001b[0m\u001b[1;33m\u001b[0m\u001b[0m\n",
      "\u001b[1;31mModuleNotFoundError\u001b[0m: No module named 'coinmetrics'"
     ]
    }
   ],
   "source": [
    "# Import Libraries:\n",
    "import coinmetrics # Coinmetrics API\n",
    "import datetime # Datetime Feature\n",
    "import pandas as pd # Import Pandas\n",
    "import panel as pn # Import Panel\n",
    "import plotly.express as px # Import Plotly\n",
    "pn.extension(\"plotly\")# Import Plotly Extension\n",
    "\n",
    "# Initialize a reference object (in this case `cm` for the Coinmetrics Community API)\n",
    "cm = coinmetrics.Community()"
   ]
  },
  {
   "cell_type": "markdown",
   "id": "9bd8b29e",
   "metadata": {},
   "source": [
    "### List of Supported Assets"
   ]
  },
  {
   "cell_type": "code",
   "execution_count": 3,
   "id": "fe371c6b",
   "metadata": {},
   "outputs": [
    {
     "ename": "NameError",
     "evalue": "name 'cm' is not defined",
     "output_type": "error",
     "traceback": [
      "\u001b[1;31m---------------------------------------------------------------------------\u001b[0m",
      "\u001b[1;31mNameError\u001b[0m                                 Traceback (most recent call last)",
      "\u001b[1;32m~\\AppData\\Local\\Temp/ipykernel_6068/1936854128.py\u001b[0m in \u001b[0;36m<module>\u001b[1;34m\u001b[0m\n\u001b[0;32m      1\u001b[0m \u001b[1;31m# List the assets Coin Metrics has data for:\u001b[0m\u001b[1;33m\u001b[0m\u001b[1;33m\u001b[0m\u001b[1;33m\u001b[0m\u001b[0m\n\u001b[1;32m----> 2\u001b[1;33m \u001b[0msupported_assets\u001b[0m \u001b[1;33m=\u001b[0m \u001b[0mcm\u001b[0m\u001b[1;33m.\u001b[0m\u001b[0mget_supported_assets\u001b[0m\u001b[1;33m(\u001b[0m\u001b[1;33m)\u001b[0m\u001b[1;33m\u001b[0m\u001b[1;33m\u001b[0m\u001b[0m\n\u001b[0m\u001b[0;32m      3\u001b[0m \u001b[0mprint\u001b[0m\u001b[1;33m(\u001b[0m\u001b[1;34m\"supported assets:\\n\"\u001b[0m\u001b[1;33m,\u001b[0m \u001b[0msupported_assets\u001b[0m\u001b[1;33m)\u001b[0m\u001b[1;33m\u001b[0m\u001b[1;33m\u001b[0m\u001b[0m\n",
      "\u001b[1;31mNameError\u001b[0m: name 'cm' is not defined"
     ]
    }
   ],
   "source": [
    "# List the assets Coin Metrics has data for:\n",
    "supported_assets = cm.get_supported_assets()\n",
    "print(\"supported assets:\\n\", supported_assets)"
   ]
  },
  {
   "cell_type": "markdown",
   "id": "b7b25283",
   "metadata": {},
   "source": [
    "### List of Available Metrics"
   ]
  },
  {
   "cell_type": "code",
   "execution_count": 9,
   "id": "f086dfbe",
   "metadata": {},
   "outputs": [
    {
     "name": "stdout",
     "output_type": "stream",
     "text": [
      "These are the available data type for eth:\n",
      " \n",
      " ['AdrActCnt', 'AdrBal1in100KCnt', 'AdrBal1in100MCnt', 'AdrBal1in10BCnt', 'AdrBal1in10KCnt', 'AdrBal1in10MCnt', 'AdrBal1in1BCnt', 'AdrBal1in1KCnt', 'AdrBal1in1MCnt', 'AdrBalCnt', 'AdrBalNtv0.001Cnt', 'AdrBalNtv0.01Cnt', 'AdrBalNtv0.1Cnt', 'AdrBalNtv100Cnt', 'AdrBalNtv100KCnt', 'AdrBalNtv10Cnt', 'AdrBalNtv10KCnt', 'AdrBalNtv1Cnt', 'AdrBalNtv1KCnt', 'AdrBalNtv1MCnt', 'AdrBalUSD100Cnt', 'AdrBalUSD100KCnt', 'AdrBalUSD10Cnt', 'AdrBalUSD10KCnt', 'AdrBalUSD10MCnt', 'AdrBalUSD1Cnt', 'AdrBalUSD1KCnt', 'AdrBalUSD1MCnt', 'AssetEODCompletionTime', 'BlkCnt', 'BlkSizeMeanByte', 'CapAct1yrUSD', 'CapMVRVCur', 'CapMVRVFF', 'CapMrktCurUSD', 'CapMrktFFUSD', 'CapRealUSD', 'DiffLast', 'DiffMean', 'FeeByteMeanNtv', 'FeeMeanNtv', 'FeeMeanUSD', 'FeeMedNtv', 'FeeMedUSD', 'FeeTotNtv', 'FeeTotUSD', 'FlowInExNtv', 'FlowInExUSD', 'FlowOutExNtv', 'FlowOutExUSD', 'FlowTfrFromExCnt', 'GasLmtBlk', 'GasLmtBlkMean', 'GasLmtTx', 'GasLmtTxMean', 'GasUsedTx', 'GasUsedTxMean', 'HashRate', 'IssContNtv', 'IssContPctAnn', 'IssContPctDay', 'IssContUSD', 'IssTotNtv', 'IssTotUSD', 'NDF', 'NVTAdj', 'NVTAdj90', 'NVTAdjFF', 'NVTAdjFF90', 'PriceBTC', 'PriceUSD', 'ROI1yr', 'ROI30d', 'RevAllTimeUSD', 'RevHashNtv', 'RevHashRateNtv', 'RevHashRateUSD', 'RevHashUSD', 'RevNtv', 'RevUSD', 'SER', 'SplyAct10yr', 'SplyAct180d', 'SplyAct1d', 'SplyAct1yr', 'SplyAct2yr', 'SplyAct30d', 'SplyAct3yr', 'SplyAct4yr', 'SplyAct5yr', 'SplyAct7d', 'SplyAct90d', 'SplyActEver', 'SplyActPct1yr', 'SplyAdrBal1in100K', 'SplyAdrBal1in100M', 'SplyAdrBal1in10B', 'SplyAdrBal1in10K', 'SplyAdrBal1in10M', 'SplyAdrBal1in1B', 'SplyAdrBal1in1K', 'SplyAdrBal1in1M', 'SplyAdrBalNtv0.001', 'SplyAdrBalNtv0.01', 'SplyAdrBalNtv0.1', 'SplyAdrBalNtv1', 'SplyAdrBalNtv10', 'SplyAdrBalNtv100', 'SplyAdrBalNtv100K', 'SplyAdrBalNtv10K', 'SplyAdrBalNtv1K', 'SplyAdrBalNtv1M', 'SplyAdrBalUSD1', 'SplyAdrBalUSD10', 'SplyAdrBalUSD100', 'SplyAdrBalUSD100K', 'SplyAdrBalUSD10K', 'SplyAdrBalUSD10M', 'SplyAdrBalUSD1K', 'SplyAdrBalUSD1M', 'SplyAdrTop100', 'SplyAdrTop10Pct', 'SplyAdrTop1Pct', 'SplyCur', 'SplyExpFut10yr', 'SplyFF', 'TxCnt', 'TxCntSec', 'TxTfrCnt', 'TxTfrValAdjNtv', 'TxTfrValAdjUSD', 'TxTfrValMeanNtv', 'TxTfrValMeanUSD', 'TxTfrValMedNtv', 'TxTfrValMedUSD', 'VelCur1yr', 'VtyDayRet180d', 'VtyDayRet30d']\n"
     ]
    }
   ],
   "source": [
    "# List all available metrics for a specific asset:\n",
    "#INPUTS\n",
    "asset = \"eth\"\n",
    "available_data_types = cm.get_available_data_types_for_asset(asset)\n",
    "\n",
    "# PRINT OUTPUT\n",
    "print(f\"These are the available data type for {asset}:\\n \\n\", available_data_types)"
   ]
  },
  {
   "cell_type": "markdown",
   "id": "4555ad71",
   "metadata": {},
   "source": [
    "### Fetch Metric"
   ]
  },
  {
   "cell_type": "code",
   "execution_count": 10,
   "id": "17f99fda",
   "metadata": {},
   "outputs": [
    {
     "name": "stdout",
     "output_type": "stream",
     "text": [
      "{'metrics': ['PriceUSD', 'ROI30d'], 'series': [{'time': '2019-01-01T00:00:00.000Z', 'values': ['139.154644360023', '21.136921649098255']}, {'time': '2019-01-02T00:00:00.000Z', 'values': ['154.426368790181', '43.73788484042323']}, {'time': '2019-01-03T00:00:00.000Z', 'values': ['147.06208679135', '35.67480011247676']}, {'time': '2019-01-04T00:00:00.000Z', 'values': ['153.442376972531', '51.72381830825383']}, {'time': '2019-01-05T00:00:00.000Z', 'values': ['154.301756867329', '69.91187623203629']}, {'time': '2019-01-06T00:00:00.000Z', 'values': ['155.940283167738', '69.26312575537388']}, {'time': '2019-01-07T00:00:00.000Z', 'values': ['150.346131794272', '65.94652933624539']}, {'time': '2019-01-08T00:00:00.000Z', 'values': ['149.052762711864', '60.282135696159266']}]}\n"
     ]
    }
   ],
   "source": [
    "# Example: Fetch the `PriceUSD` and `ROI30d` data for BTC from 2019-01-01 to 2019-01-08.\n",
    "#INPUTS\n",
    "asset = \"eth\"  # See list printed above\n",
    "metric = \"PriceUSD,ROI30d\"\n",
    "begin_timestamp = \"2019-01-01\"  # The `datetime` type is also accepted\n",
    "end_timestamp = \"2019-01-08\"  # The `datetime` type is also accepted\n",
    "\n",
    "# PRINT OUTPUT\n",
    "asset_data = cm.get_asset_data_for_time_range(asset, metric, begin_timestamp, end_timestamp).json\n",
    "print(asset_data)"
   ]
  },
  {
   "cell_type": "markdown",
   "id": "0c9a7128",
   "metadata": {},
   "source": [
    "### Fetch Metric on Specific Date"
   ]
  },
  {
   "cell_type": "code",
   "execution_count": 11,
   "id": "ef9c9ae4",
   "metadata": {},
   "outputs": [
    {
     "name": "stdout",
     "output_type": "stream",
     "text": [
      " The NVTAdj of eth on 2021-10-30 is 48.836259569061\n"
     ]
    }
   ],
   "source": [
    "#INPUTS\n",
    "asset = \"eth\"\n",
    "metric = \"NVTAdj\"\n",
    "begin_timestamp = \"2021-10-30\"  # The `datetime` type is also accepted\n",
    "end_timestamp = \"2021-10-30\"  # The `datetime` type is also accepted\n",
    "\n",
    "# PRINT OUTPUT\n",
    "asset_data = cm.get_asset_data_for_time_range(asset, metric, begin_timestamp, end_timestamp)\n",
    "print(f\" The {metric} of {asset} on {begin_timestamp} is {asset_data['series'][0]['values'][0]}\")"
   ]
  },
  {
   "cell_type": "markdown",
   "id": "0d848841",
   "metadata": {},
   "source": [
    "### Fetch Data to Build Dataframe"
   ]
  },
  {
   "cell_type": "code",
   "execution_count": 33,
   "id": "8abfd4cd",
   "metadata": {},
   "outputs": [
    {
     "name": "stdout",
     "output_type": "stream",
     "text": [
      "DATES: \n",
      "\n",
      " ['2021-09-30T00:00:00.000Z', '2021-10-01T00:00:00.000Z', '2021-10-02T00:00:00.000Z', '2021-10-03T00:00:00.000Z', '2021-10-04T00:00:00.000Z', '2021-10-05T00:00:00.000Z', '2021-10-06T00:00:00.000Z', '2021-10-07T00:00:00.000Z', '2021-10-08T00:00:00.000Z', '2021-10-09T00:00:00.000Z', '2021-10-10T00:00:00.000Z', '2021-10-11T00:00:00.000Z', '2021-10-12T00:00:00.000Z', '2021-10-13T00:00:00.000Z', '2021-10-14T00:00:00.000Z', '2021-10-15T00:00:00.000Z', '2021-10-16T00:00:00.000Z', '2021-10-17T00:00:00.000Z', '2021-10-18T00:00:00.000Z', '2021-10-19T00:00:00.000Z', '2021-10-20T00:00:00.000Z', '2021-10-21T00:00:00.000Z', '2021-10-22T00:00:00.000Z', '2021-10-23T00:00:00.000Z', '2021-10-24T00:00:00.000Z', '2021-10-25T00:00:00.000Z', '2021-10-26T00:00:00.000Z', '2021-10-27T00:00:00.000Z', '2021-10-28T00:00:00.000Z', '2021-10-29T00:00:00.000Z', '2021-10-30T00:00:00.000Z'] \n",
      "\n",
      "\n",
      "NVT Adj: \n",
      "\n",
      " [26715.43846342725, 30712.717009716, 53404.592752601995, 45092.2337747505, 38675.961837435, 33667.62028380975, 25250.12449316775, 34048.224710121, 34160.00610531, 75659.0939270385, 66385.42058766, 39432.678053034746, 37170.3262306935, 48704.16745620975, 34433.934270077254, 32698.9734061395, 63717.13505664, 87864.7891093395, 42762.95037095625, 43340.616680427, 44547.007969196246, 39298.196574453, 52969.5823996455, 98697.41647373026, 72928.774549026, 47214.5031403425, 37298.02880444775, 49454.3387780385, 48137.316851805, 40804.584346277996, 84803.3919305535] \n",
      "\n",
      "\n",
      "Price: \n",
      "\n",
      " [43781.546015488, 48078.1315543542, 47792.4391943308, 48202.6229177089, 49288.5013106371, 51558.0493319112, 55419.800411163, 53805.1569125658, 53933.5275908825, 55010.9224751607, 54701.2797022209, 57289.1864570426, 56196.1812597896, 57348.8928769725, 57384.0369146698, 61446.0840073057, 60932.0632119228, 61462.2223722969, 61977.0575514319, 64290.8977574518, 66061.7965639977, 62373.8856206897, 60750.9673718293, 61250.082628872, 60865.4470523086, 63031.6729015196, 60393.9802738165, 58563.3359899766, 60564.5721122151, 62230.8055689655, 61742.9165321449] \n",
      "\n",
      "\n"
     ]
    }
   ],
   "source": [
    "# SETUP\n",
    "# Initialize empty lists to fill with data fetched from api\n",
    "date = []\n",
    "nvtadj = []\n",
    "price = []\n",
    "\n",
    "# API INPUTS\n",
    "asset = \"btc\"\n",
    "metric = \"NVTAdj,PriceUSD\"\n",
    "begin_timestamp = datetime.date(2021,9,30)\n",
    "end_timestamp = datetime.date(2021,10,30)\n",
    "\n",
    "\n",
    "# API OUTPUT\n",
    "asset_data = cm.get_asset_data_for_time_range(asset, metric, begin_timestamp, end_timestamp)\n",
    "\n",
    "# Use For Loop to interate through data and populate lists\n",
    "for entry in asset_data['series']:\n",
    "    date.append(entry['time'])\n",
    "    nvtadj.append(float(entry['values'][0])*750)\n",
    "    price.append(float(entry['values'][1]))\n",
    "    \n",
    "# Print Date List\n",
    "print(\"DATES: \\n\\n\", date, \"\\n\\n\")\n",
    "\n",
    "# Print nvtadj List\n",
    "print(\"NVT Adj: \\n\\n\", nvtadj, \"\\n\\n\")\n",
    "\n",
    "# Print nvtadj List\n",
    "print(\"Price: \\n\\n\", price, \"\\n\\n\")"
   ]
  },
  {
   "cell_type": "markdown",
   "id": "5c64b721",
   "metadata": {},
   "source": [
    "### Create Dataframe"
   ]
  },
  {
   "cell_type": "code",
   "execution_count": 34,
   "id": "1ebd993c",
   "metadata": {},
   "outputs": [
    {
     "data": {
      "text/html": [
       "<div>\n",
       "<style scoped>\n",
       "    .dataframe tbody tr th:only-of-type {\n",
       "        vertical-align: middle;\n",
       "    }\n",
       "\n",
       "    .dataframe tbody tr th {\n",
       "        vertical-align: top;\n",
       "    }\n",
       "\n",
       "    .dataframe thead th {\n",
       "        text-align: right;\n",
       "    }\n",
       "</style>\n",
       "<table border=\"1\" class=\"dataframe\">\n",
       "  <thead>\n",
       "    <tr style=\"text-align: right;\">\n",
       "      <th></th>\n",
       "      <th>Date</th>\n",
       "      <th>NVT Adj</th>\n",
       "      <th>Price</th>\n",
       "    </tr>\n",
       "  </thead>\n",
       "  <tbody>\n",
       "    <tr>\n",
       "      <th>0</th>\n",
       "      <td>2021-09-30T00:00:00.000Z</td>\n",
       "      <td>26715.438463</td>\n",
       "      <td>43781.546015</td>\n",
       "    </tr>\n",
       "    <tr>\n",
       "      <th>1</th>\n",
       "      <td>2021-10-01T00:00:00.000Z</td>\n",
       "      <td>30712.717010</td>\n",
       "      <td>48078.131554</td>\n",
       "    </tr>\n",
       "    <tr>\n",
       "      <th>2</th>\n",
       "      <td>2021-10-02T00:00:00.000Z</td>\n",
       "      <td>53404.592753</td>\n",
       "      <td>47792.439194</td>\n",
       "    </tr>\n",
       "    <tr>\n",
       "      <th>3</th>\n",
       "      <td>2021-10-03T00:00:00.000Z</td>\n",
       "      <td>45092.233775</td>\n",
       "      <td>48202.622918</td>\n",
       "    </tr>\n",
       "    <tr>\n",
       "      <th>4</th>\n",
       "      <td>2021-10-04T00:00:00.000Z</td>\n",
       "      <td>38675.961837</td>\n",
       "      <td>49288.501311</td>\n",
       "    </tr>\n",
       "  </tbody>\n",
       "</table>\n",
       "</div>"
      ],
      "text/plain": [
       "                       Date       NVT Adj         Price\n",
       "0  2021-09-30T00:00:00.000Z  26715.438463  43781.546015\n",
       "1  2021-10-01T00:00:00.000Z  30712.717010  48078.131554\n",
       "2  2021-10-02T00:00:00.000Z  53404.592753  47792.439194\n",
       "3  2021-10-03T00:00:00.000Z  45092.233775  48202.622918\n",
       "4  2021-10-04T00:00:00.000Z  38675.961837  49288.501311"
      ]
     },
     "execution_count": 34,
     "metadata": {},
     "output_type": "execute_result"
    }
   ],
   "source": [
    "date_df = pd.DataFrame(date, columns = [\"Date\"])\n",
    "nvtadj_df = pd.DataFrame(nvtadj, columns = [\"NVT Adj\"])\n",
    "price_df = pd.DataFrame(price, columns = [\"Price\"])\n",
    "df = pd.concat([date_df, nvtadj_df, price_df], axis='columns', join='inner')\n",
    "df.head()"
   ]
  },
  {
   "cell_type": "code",
   "execution_count": 39,
   "id": "7e4dff2c",
   "metadata": {},
   "outputs": [
    {
     "data": {
      "application/vnd.plotly.v1+json": {
       "config": {
        "plotlyServerURL": "https://plot.ly"
       },
       "data": [
        {
         "hovertemplate": "Date=%{x}<br>Price=%{y}<br>NVT Adj=%{marker.size}<extra></extra>",
         "legendgroup": "",
         "marker": {
          "color": "#636efa",
          "size": [
           26715.43846342725,
           30712.717009716,
           53404.592752601995,
           45092.2337747505,
           38675.961837435,
           33667.62028380975,
           25250.12449316775,
           34048.224710121,
           34160.00610531,
           75659.0939270385,
           66385.42058766,
           39432.678053034746,
           37170.3262306935,
           48704.16745620975,
           34433.934270077254,
           32698.9734061395,
           63717.13505664,
           87864.7891093395,
           42762.95037095625,
           43340.616680427,
           44547.007969196246,
           39298.196574453,
           52969.5823996455,
           98697.41647373026,
           72928.774549026,
           47214.5031403425,
           37298.02880444775,
           49454.3387780385,
           48137.316851805,
           40804.584346277996,
           84803.3919305535
          ],
          "sizemode": "area",
          "sizeref": 246.74354118432566,
          "symbol": "circle"
         },
         "mode": "markers",
         "name": "",
         "orientation": "v",
         "showlegend": false,
         "type": "scatter",
         "x": [
          "2021-09-30T00:00:00.000Z",
          "2021-10-01T00:00:00.000Z",
          "2021-10-02T00:00:00.000Z",
          "2021-10-03T00:00:00.000Z",
          "2021-10-04T00:00:00.000Z",
          "2021-10-05T00:00:00.000Z",
          "2021-10-06T00:00:00.000Z",
          "2021-10-07T00:00:00.000Z",
          "2021-10-08T00:00:00.000Z",
          "2021-10-09T00:00:00.000Z",
          "2021-10-10T00:00:00.000Z",
          "2021-10-11T00:00:00.000Z",
          "2021-10-12T00:00:00.000Z",
          "2021-10-13T00:00:00.000Z",
          "2021-10-14T00:00:00.000Z",
          "2021-10-15T00:00:00.000Z",
          "2021-10-16T00:00:00.000Z",
          "2021-10-17T00:00:00.000Z",
          "2021-10-18T00:00:00.000Z",
          "2021-10-19T00:00:00.000Z",
          "2021-10-20T00:00:00.000Z",
          "2021-10-21T00:00:00.000Z",
          "2021-10-22T00:00:00.000Z",
          "2021-10-23T00:00:00.000Z",
          "2021-10-24T00:00:00.000Z",
          "2021-10-25T00:00:00.000Z",
          "2021-10-26T00:00:00.000Z",
          "2021-10-27T00:00:00.000Z",
          "2021-10-28T00:00:00.000Z",
          "2021-10-29T00:00:00.000Z",
          "2021-10-30T00:00:00.000Z"
         ],
         "xaxis": "x",
         "y": [
          43781.546015488,
          48078.1315543542,
          47792.4391943308,
          48202.6229177089,
          49288.5013106371,
          51558.0493319112,
          55419.800411163,
          53805.1569125658,
          53933.5275908825,
          55010.9224751607,
          54701.2797022209,
          57289.1864570426,
          56196.1812597896,
          57348.8928769725,
          57384.0369146698,
          61446.0840073057,
          60932.0632119228,
          61462.2223722969,
          61977.0575514319,
          64290.8977574518,
          66061.7965639977,
          62373.8856206897,
          60750.9673718293,
          61250.082628872,
          60865.4470523086,
          63031.6729015196,
          60393.9802738165,
          58563.3359899766,
          60564.5721122151,
          62230.8055689655,
          61742.9165321449
         ],
         "yaxis": "y"
        }
       ],
       "layout": {
        "autosize": true,
        "legend": {
         "itemsizing": "constant",
         "tracegroupgap": 0
        },
        "margin": {
         "t": 60
        },
        "template": {
         "data": {
          "bar": [
           {
            "error_x": {
             "color": "#2a3f5f"
            },
            "error_y": {
             "color": "#2a3f5f"
            },
            "marker": {
             "line": {
              "color": "#E5ECF6",
              "width": 0.5
             },
             "pattern": {
              "fillmode": "overlay",
              "size": 10,
              "solidity": 0.2
             }
            },
            "type": "bar"
           }
          ],
          "barpolar": [
           {
            "marker": {
             "line": {
              "color": "#E5ECF6",
              "width": 0.5
             },
             "pattern": {
              "fillmode": "overlay",
              "size": 10,
              "solidity": 0.2
             }
            },
            "type": "barpolar"
           }
          ],
          "carpet": [
           {
            "aaxis": {
             "endlinecolor": "#2a3f5f",
             "gridcolor": "white",
             "linecolor": "white",
             "minorgridcolor": "white",
             "startlinecolor": "#2a3f5f"
            },
            "baxis": {
             "endlinecolor": "#2a3f5f",
             "gridcolor": "white",
             "linecolor": "white",
             "minorgridcolor": "white",
             "startlinecolor": "#2a3f5f"
            },
            "type": "carpet"
           }
          ],
          "choropleth": [
           {
            "colorbar": {
             "outlinewidth": 0,
             "ticks": ""
            },
            "type": "choropleth"
           }
          ],
          "contour": [
           {
            "colorbar": {
             "outlinewidth": 0,
             "ticks": ""
            },
            "colorscale": [
             [
              0,
              "#0d0887"
             ],
             [
              0.1111111111111111,
              "#46039f"
             ],
             [
              0.2222222222222222,
              "#7201a8"
             ],
             [
              0.3333333333333333,
              "#9c179e"
             ],
             [
              0.4444444444444444,
              "#bd3786"
             ],
             [
              0.5555555555555556,
              "#d8576b"
             ],
             [
              0.6666666666666666,
              "#ed7953"
             ],
             [
              0.7777777777777778,
              "#fb9f3a"
             ],
             [
              0.8888888888888888,
              "#fdca26"
             ],
             [
              1,
              "#f0f921"
             ]
            ],
            "type": "contour"
           }
          ],
          "contourcarpet": [
           {
            "colorbar": {
             "outlinewidth": 0,
             "ticks": ""
            },
            "type": "contourcarpet"
           }
          ],
          "heatmap": [
           {
            "colorbar": {
             "outlinewidth": 0,
             "ticks": ""
            },
            "colorscale": [
             [
              0,
              "#0d0887"
             ],
             [
              0.1111111111111111,
              "#46039f"
             ],
             [
              0.2222222222222222,
              "#7201a8"
             ],
             [
              0.3333333333333333,
              "#9c179e"
             ],
             [
              0.4444444444444444,
              "#bd3786"
             ],
             [
              0.5555555555555556,
              "#d8576b"
             ],
             [
              0.6666666666666666,
              "#ed7953"
             ],
             [
              0.7777777777777778,
              "#fb9f3a"
             ],
             [
              0.8888888888888888,
              "#fdca26"
             ],
             [
              1,
              "#f0f921"
             ]
            ],
            "type": "heatmap"
           }
          ],
          "heatmapgl": [
           {
            "colorbar": {
             "outlinewidth": 0,
             "ticks": ""
            },
            "colorscale": [
             [
              0,
              "#0d0887"
             ],
             [
              0.1111111111111111,
              "#46039f"
             ],
             [
              0.2222222222222222,
              "#7201a8"
             ],
             [
              0.3333333333333333,
              "#9c179e"
             ],
             [
              0.4444444444444444,
              "#bd3786"
             ],
             [
              0.5555555555555556,
              "#d8576b"
             ],
             [
              0.6666666666666666,
              "#ed7953"
             ],
             [
              0.7777777777777778,
              "#fb9f3a"
             ],
             [
              0.8888888888888888,
              "#fdca26"
             ],
             [
              1,
              "#f0f921"
             ]
            ],
            "type": "heatmapgl"
           }
          ],
          "histogram": [
           {
            "marker": {
             "pattern": {
              "fillmode": "overlay",
              "size": 10,
              "solidity": 0.2
             }
            },
            "type": "histogram"
           }
          ],
          "histogram2d": [
           {
            "colorbar": {
             "outlinewidth": 0,
             "ticks": ""
            },
            "colorscale": [
             [
              0,
              "#0d0887"
             ],
             [
              0.1111111111111111,
              "#46039f"
             ],
             [
              0.2222222222222222,
              "#7201a8"
             ],
             [
              0.3333333333333333,
              "#9c179e"
             ],
             [
              0.4444444444444444,
              "#bd3786"
             ],
             [
              0.5555555555555556,
              "#d8576b"
             ],
             [
              0.6666666666666666,
              "#ed7953"
             ],
             [
              0.7777777777777778,
              "#fb9f3a"
             ],
             [
              0.8888888888888888,
              "#fdca26"
             ],
             [
              1,
              "#f0f921"
             ]
            ],
            "type": "histogram2d"
           }
          ],
          "histogram2dcontour": [
           {
            "colorbar": {
             "outlinewidth": 0,
             "ticks": ""
            },
            "colorscale": [
             [
              0,
              "#0d0887"
             ],
             [
              0.1111111111111111,
              "#46039f"
             ],
             [
              0.2222222222222222,
              "#7201a8"
             ],
             [
              0.3333333333333333,
              "#9c179e"
             ],
             [
              0.4444444444444444,
              "#bd3786"
             ],
             [
              0.5555555555555556,
              "#d8576b"
             ],
             [
              0.6666666666666666,
              "#ed7953"
             ],
             [
              0.7777777777777778,
              "#fb9f3a"
             ],
             [
              0.8888888888888888,
              "#fdca26"
             ],
             [
              1,
              "#f0f921"
             ]
            ],
            "type": "histogram2dcontour"
           }
          ],
          "mesh3d": [
           {
            "colorbar": {
             "outlinewidth": 0,
             "ticks": ""
            },
            "type": "mesh3d"
           }
          ],
          "parcoords": [
           {
            "line": {
             "colorbar": {
              "outlinewidth": 0,
              "ticks": ""
             }
            },
            "type": "parcoords"
           }
          ],
          "pie": [
           {
            "automargin": true,
            "type": "pie"
           }
          ],
          "scatter": [
           {
            "marker": {
             "colorbar": {
              "outlinewidth": 0,
              "ticks": ""
             }
            },
            "type": "scatter"
           }
          ],
          "scatter3d": [
           {
            "line": {
             "colorbar": {
              "outlinewidth": 0,
              "ticks": ""
             }
            },
            "marker": {
             "colorbar": {
              "outlinewidth": 0,
              "ticks": ""
             }
            },
            "type": "scatter3d"
           }
          ],
          "scattercarpet": [
           {
            "marker": {
             "colorbar": {
              "outlinewidth": 0,
              "ticks": ""
             }
            },
            "type": "scattercarpet"
           }
          ],
          "scattergeo": [
           {
            "marker": {
             "colorbar": {
              "outlinewidth": 0,
              "ticks": ""
             }
            },
            "type": "scattergeo"
           }
          ],
          "scattergl": [
           {
            "marker": {
             "colorbar": {
              "outlinewidth": 0,
              "ticks": ""
             }
            },
            "type": "scattergl"
           }
          ],
          "scattermapbox": [
           {
            "marker": {
             "colorbar": {
              "outlinewidth": 0,
              "ticks": ""
             }
            },
            "type": "scattermapbox"
           }
          ],
          "scatterpolar": [
           {
            "marker": {
             "colorbar": {
              "outlinewidth": 0,
              "ticks": ""
             }
            },
            "type": "scatterpolar"
           }
          ],
          "scatterpolargl": [
           {
            "marker": {
             "colorbar": {
              "outlinewidth": 0,
              "ticks": ""
             }
            },
            "type": "scatterpolargl"
           }
          ],
          "scatterternary": [
           {
            "marker": {
             "colorbar": {
              "outlinewidth": 0,
              "ticks": ""
             }
            },
            "type": "scatterternary"
           }
          ],
          "surface": [
           {
            "colorbar": {
             "outlinewidth": 0,
             "ticks": ""
            },
            "colorscale": [
             [
              0,
              "#0d0887"
             ],
             [
              0.1111111111111111,
              "#46039f"
             ],
             [
              0.2222222222222222,
              "#7201a8"
             ],
             [
              0.3333333333333333,
              "#9c179e"
             ],
             [
              0.4444444444444444,
              "#bd3786"
             ],
             [
              0.5555555555555556,
              "#d8576b"
             ],
             [
              0.6666666666666666,
              "#ed7953"
             ],
             [
              0.7777777777777778,
              "#fb9f3a"
             ],
             [
              0.8888888888888888,
              "#fdca26"
             ],
             [
              1,
              "#f0f921"
             ]
            ],
            "type": "surface"
           }
          ],
          "table": [
           {
            "cells": {
             "fill": {
              "color": "#EBF0F8"
             },
             "line": {
              "color": "white"
             }
            },
            "header": {
             "fill": {
              "color": "#C8D4E3"
             },
             "line": {
              "color": "white"
             }
            },
            "type": "table"
           }
          ]
         },
         "layout": {
          "annotationdefaults": {
           "arrowcolor": "#2a3f5f",
           "arrowhead": 0,
           "arrowwidth": 1
          },
          "autotypenumbers": "strict",
          "coloraxis": {
           "colorbar": {
            "outlinewidth": 0,
            "ticks": ""
           }
          },
          "colorscale": {
           "diverging": [
            [
             0,
             "#8e0152"
            ],
            [
             0.1,
             "#c51b7d"
            ],
            [
             0.2,
             "#de77ae"
            ],
            [
             0.3,
             "#f1b6da"
            ],
            [
             0.4,
             "#fde0ef"
            ],
            [
             0.5,
             "#f7f7f7"
            ],
            [
             0.6,
             "#e6f5d0"
            ],
            [
             0.7,
             "#b8e186"
            ],
            [
             0.8,
             "#7fbc41"
            ],
            [
             0.9,
             "#4d9221"
            ],
            [
             1,
             "#276419"
            ]
           ],
           "sequential": [
            [
             0,
             "#0d0887"
            ],
            [
             0.1111111111111111,
             "#46039f"
            ],
            [
             0.2222222222222222,
             "#7201a8"
            ],
            [
             0.3333333333333333,
             "#9c179e"
            ],
            [
             0.4444444444444444,
             "#bd3786"
            ],
            [
             0.5555555555555556,
             "#d8576b"
            ],
            [
             0.6666666666666666,
             "#ed7953"
            ],
            [
             0.7777777777777778,
             "#fb9f3a"
            ],
            [
             0.8888888888888888,
             "#fdca26"
            ],
            [
             1,
             "#f0f921"
            ]
           ],
           "sequentialminus": [
            [
             0,
             "#0d0887"
            ],
            [
             0.1111111111111111,
             "#46039f"
            ],
            [
             0.2222222222222222,
             "#7201a8"
            ],
            [
             0.3333333333333333,
             "#9c179e"
            ],
            [
             0.4444444444444444,
             "#bd3786"
            ],
            [
             0.5555555555555556,
             "#d8576b"
            ],
            [
             0.6666666666666666,
             "#ed7953"
            ],
            [
             0.7777777777777778,
             "#fb9f3a"
            ],
            [
             0.8888888888888888,
             "#fdca26"
            ],
            [
             1,
             "#f0f921"
            ]
           ]
          },
          "colorway": [
           "#636efa",
           "#EF553B",
           "#00cc96",
           "#ab63fa",
           "#FFA15A",
           "#19d3f3",
           "#FF6692",
           "#B6E880",
           "#FF97FF",
           "#FECB52"
          ],
          "font": {
           "color": "#2a3f5f"
          },
          "geo": {
           "bgcolor": "white",
           "lakecolor": "white",
           "landcolor": "#E5ECF6",
           "showlakes": true,
           "showland": true,
           "subunitcolor": "white"
          },
          "hoverlabel": {
           "align": "left"
          },
          "hovermode": "closest",
          "mapbox": {
           "style": "light"
          },
          "paper_bgcolor": "white",
          "plot_bgcolor": "#E5ECF6",
          "polar": {
           "angularaxis": {
            "gridcolor": "white",
            "linecolor": "white",
            "ticks": ""
           },
           "bgcolor": "#E5ECF6",
           "radialaxis": {
            "gridcolor": "white",
            "linecolor": "white",
            "ticks": ""
           }
          },
          "scene": {
           "xaxis": {
            "backgroundcolor": "#E5ECF6",
            "gridcolor": "white",
            "gridwidth": 2,
            "linecolor": "white",
            "showbackground": true,
            "ticks": "",
            "zerolinecolor": "white"
           },
           "yaxis": {
            "backgroundcolor": "#E5ECF6",
            "gridcolor": "white",
            "gridwidth": 2,
            "linecolor": "white",
            "showbackground": true,
            "ticks": "",
            "zerolinecolor": "white"
           },
           "zaxis": {
            "backgroundcolor": "#E5ECF6",
            "gridcolor": "white",
            "gridwidth": 2,
            "linecolor": "white",
            "showbackground": true,
            "ticks": "",
            "zerolinecolor": "white"
           }
          },
          "shapedefaults": {
           "line": {
            "color": "#2a3f5f"
           }
          },
          "ternary": {
           "aaxis": {
            "gridcolor": "white",
            "linecolor": "white",
            "ticks": ""
           },
           "baxis": {
            "gridcolor": "white",
            "linecolor": "white",
            "ticks": ""
           },
           "bgcolor": "#E5ECF6",
           "caxis": {
            "gridcolor": "white",
            "linecolor": "white",
            "ticks": ""
           }
          },
          "title": {
           "x": 0.05
          },
          "xaxis": {
           "automargin": true,
           "gridcolor": "white",
           "linecolor": "white",
           "ticks": "",
           "title": {
            "standoff": 15
           },
           "zerolinecolor": "white",
           "zerolinewidth": 2
          },
          "yaxis": {
           "automargin": true,
           "gridcolor": "white",
           "linecolor": "white",
           "ticks": "",
           "title": {
            "standoff": 15
           },
           "zerolinecolor": "white",
           "zerolinewidth": 2
          }
         }
        },
        "xaxis": {
         "anchor": "y",
         "autorange": true,
         "domain": [
          0,
          1
         ],
         "range": [
          "2021-09-27 19:39:25.783",
          "2021-11-01 12:41:57.766"
         ],
         "showspikes": false,
         "title": {
          "text": "Date"
         },
         "type": "date"
        },
        "yaxis": {
         "anchor": "x",
         "autorange": true,
         "domain": [
          0,
          1
         ],
         "range": [
          41390.471737127744,
          68750.88923605962
         ],
         "showspikes": false,
         "title": {
          "text": "Price"
         },
         "type": "linear"
        }
       }
      },
      "image/png": "[encoded data removed]",
      "text/html": [
       "<div>                            <div id=\"76554959-60fb-4c4d-adee-b3ae7948a940\" class=\"plotly-graph-div\" style=\"height:525px; width:100%;\"></div>            <script type=\"text/javascript\">                require([\"plotly\"], function(Plotly) {                    window.PLOTLYENV=window.PLOTLYENV || {};                                    if (document.getElementById(\"76554959-60fb-4c4d-adee-b3ae7948a940\")) {                    Plotly.newPlot(                        \"76554959-60fb-4c4d-adee-b3ae7948a940\",                        [{\"hovertemplate\":\"Date=%{x}<br>Price=%{y}<br>NVT Adj=%{marker.size}<extra></extra>\",\"legendgroup\":\"\",\"marker\":{\"color\":\"#636efa\",\"size\":[26715.43846342725,30712.717009716,53404.592752601995,45092.2337747505,38675.961837435,33667.62028380975,25250.12449316775,34048.224710121,34160.00610531,75659.0939270385,66385.42058766,39432.678053034746,37170.3262306935,48704.16745620975,34433.934270077254,32698.9734061395,63717.13505664,87864.7891093395,42762.95037095625,43340.616680427,44547.007969196246,39298.196574453,52969.5823996455,98697.41647373026,72928.774549026,47214.5031403425,37298.02880444775,49454.3387780385,48137.316851805,40804.584346277996,84803.3919305535],\"sizemode\":\"area\",\"sizeref\":246.74354118432566,\"symbol\":\"circle\"},\"mode\":\"markers\",\"name\":\"\",\"orientation\":\"v\",\"showlegend\":false,\"type\":\"scatter\",\"x\":[\"2021-09-30T00:00:00.000Z\",\"2021-10-01T00:00:00.000Z\",\"2021-10-02T00:00:00.000Z\",\"2021-10-03T00:00:00.000Z\",\"2021-10-04T00:00:00.000Z\",\"2021-10-05T00:00:00.000Z\",\"2021-10-06T00:00:00.000Z\",\"2021-10-07T00:00:00.000Z\",\"2021-10-08T00:00:00.000Z\",\"2021-10-09T00:00:00.000Z\",\"2021-10-10T00:00:00.000Z\",\"2021-10-11T00:00:00.000Z\",\"2021-10-12T00:00:00.000Z\",\"2021-10-13T00:00:00.000Z\",\"2021-10-14T00:00:00.000Z\",\"2021-10-15T00:00:00.000Z\",\"2021-10-16T00:00:00.000Z\",\"2021-10-17T00:00:00.000Z\",\"2021-10-18T00:00:00.000Z\",\"2021-10-19T00:00:00.000Z\",\"2021-10-20T00:00:00.000Z\",\"2021-10-21T00:00:00.000Z\",\"2021-10-22T00:00:00.000Z\",\"2021-10-23T00:00:00.000Z\",\"2021-10-24T00:00:00.000Z\",\"2021-10-25T00:00:00.000Z\",\"2021-10-26T00:00:00.000Z\",\"2021-10-27T00:00:00.000Z\",\"2021-10-28T00:00:00.000Z\",\"2021-10-29T00:00:00.000Z\",\"2021-10-30T00:00:00.000Z\"],\"xaxis\":\"x\",\"y\":[43781.546015488,48078.1315543542,47792.4391943308,48202.6229177089,49288.5013106371,51558.0493319112,55419.800411163,53805.1569125658,53933.5275908825,55010.9224751607,54701.2797022209,57289.1864570426,56196.1812597896,57348.8928769725,57384.0369146698,61446.0840073057,60932.0632119228,61462.2223722969,61977.0575514319,64290.8977574518,66061.7965639977,62373.8856206897,60750.9673718293,61250.082628872,60865.4470523086,63031.6729015196,60393.9802738165,58563.3359899766,60564.5721122151,62230.8055689655,61742.9165321449],\"yaxis\":\"y\"}],                        {\"legend\":{\"itemsizing\":\"constant\",\"tracegroupgap\":0},\"margin\":{\"t\":60},\"template\":{\"data\":{\"bar\":[{\"error_x\":{\"color\":\"#2a3f5f\"},\"error_y\":{\"color\":\"#2a3f5f\"},\"marker\":{\"line\":{\"color\":\"#E5ECF6\",\"width\":0.5},\"pattern\":{\"fillmode\":\"overlay\",\"size\":10,\"solidity\":0.2}},\"type\":\"bar\"}],\"barpolar\":[{\"marker\":{\"line\":{\"color\":\"#E5ECF6\",\"width\":0.5},\"pattern\":{\"fillmode\":\"overlay\",\"size\":10,\"solidity\":0.2}},\"type\":\"barpolar\"}],\"carpet\":[{\"aaxis\":{\"endlinecolor\":\"#2a3f5f\",\"gridcolor\":\"white\",\"linecolor\":\"white\",\"minorgridcolor\":\"white\",\"startlinecolor\":\"#2a3f5f\"},\"baxis\":{\"endlinecolor\":\"#2a3f5f\",\"gridcolor\":\"white\",\"linecolor\":\"white\",\"minorgridcolor\":\"white\",\"startlinecolor\":\"#2a3f5f\"},\"type\":\"carpet\"}],\"choropleth\":[{\"colorbar\":{\"outlinewidth\":0,\"ticks\":\"\"},\"type\":\"choropleth\"}],\"contour\":[{\"colorbar\":{\"outlinewidth\":0,\"ticks\":\"\"},\"colorscale\":[[0.0,\"#0d0887\"],[0.1111111111111111,\"#46039f\"],[0.2222222222222222,\"#7201a8\"],[0.3333333333333333,\"#9c179e\"],[0.4444444444444444,\"#bd3786\"],[0.5555555555555556,\"#d8576b\"],[0.6666666666666666,\"#ed7953\"],[0.7777777777777778,\"#fb9f3a\"],[0.8888888888888888,\"#fdca26\"],[1.0,\"#f0f921\"]],\"type\":\"contour\"}],\"contourcarpet\":[{\"colorbar\":{\"outlinewidth\":0,\"ticks\":\"\"},\"type\":\"contourcarpet\"}],\"heatmap\":[{\"colorbar\":{\"outlinewidth\":0,\"ticks\":\"\"},\"colorscale\":[[0.0,\"#0d0887\"],[0.1111111111111111,\"#46039f\"],[0.2222222222222222,\"#7201a8\"],[0.3333333333333333,\"#9c179e\"],[0.4444444444444444,\"#bd3786\"],[0.5555555555555556,\"#d8576b\"],[0.6666666666666666,\"#ed7953\"],[0.7777777777777778,\"#fb9f3a\"],[0.8888888888888888,\"#fdca26\"],[1.0,\"#f0f921\"]],\"type\":\"heatmap\"}],\"heatmapgl\":[{\"colorbar\":{\"outlinewidth\":0,\"ticks\":\"\"},\"colorscale\":[[0.0,\"#0d0887\"],[0.1111111111111111,\"#46039f\"],[0.2222222222222222,\"#7201a8\"],[0.3333333333333333,\"#9c179e\"],[0.4444444444444444,\"#bd3786\"],[0.5555555555555556,\"#d8576b\"],[0.6666666666666666,\"#ed7953\"],[0.7777777777777778,\"#fb9f3a\"],[0.8888888888888888,\"#fdca26\"],[1.0,\"#f0f921\"]],\"type\":\"heatmapgl\"}],\"histogram\":[{\"marker\":{\"pattern\":{\"fillmode\":\"overlay\",\"size\":10,\"solidity\":0.2}},\"type\":\"histogram\"}],\"histogram2d\":[{\"colorbar\":{\"outlinewidth\":0,\"ticks\":\"\"},\"colorscale\":[[0.0,\"#0d0887\"],[0.1111111111111111,\"#46039f\"],[0.2222222222222222,\"#7201a8\"],[0.3333333333333333,\"#9c179e\"],[0.4444444444444444,\"#bd3786\"],[0.5555555555555556,\"#d8576b\"],[0.6666666666666666,\"#ed7953\"],[0.7777777777777778,\"#fb9f3a\"],[0.8888888888888888,\"#fdca26\"],[1.0,\"#f0f921\"]],\"type\":\"histogram2d\"}],\"histogram2dcontour\":[{\"colorbar\":{\"outlinewidth\":0,\"ticks\":\"\"},\"colorscale\":[[0.0,\"#0d0887\"],[0.1111111111111111,\"#46039f\"],[0.2222222222222222,\"#7201a8\"],[0.3333333333333333,\"#9c179e\"],[0.4444444444444444,\"#bd3786\"],[0.5555555555555556,\"#d8576b\"],[0.6666666666666666,\"#ed7953\"],[0.7777777777777778,\"#fb9f3a\"],[0.8888888888888888,\"#fdca26\"],[1.0,\"#f0f921\"]],\"type\":\"histogram2dcontour\"}],\"mesh3d\":[{\"colorbar\":{\"outlinewidth\":0,\"ticks\":\"\"},\"type\":\"mesh3d\"}],\"parcoords\":[{\"line\":{\"colorbar\":{\"outlinewidth\":0,\"ticks\":\"\"}},\"type\":\"parcoords\"}],\"pie\":[{\"automargin\":true,\"type\":\"pie\"}],\"scatter\":[{\"marker\":{\"colorbar\":{\"outlinewidth\":0,\"ticks\":\"\"}},\"type\":\"scatter\"}],\"scatter3d\":[{\"line\":{\"colorbar\":{\"outlinewidth\":0,\"ticks\":\"\"}},\"marker\":{\"colorbar\":{\"outlinewidth\":0,\"ticks\":\"\"}},\"type\":\"scatter3d\"}],\"scattercarpet\":[{\"marker\":{\"colorbar\":{\"outlinewidth\":0,\"ticks\":\"\"}},\"type\":\"scattercarpet\"}],\"scattergeo\":[{\"marker\":{\"colorbar\":{\"outlinewidth\":0,\"ticks\":\"\"}},\"type\":\"scattergeo\"}],\"scattergl\":[{\"marker\":{\"colorbar\":{\"outlinewidth\":0,\"ticks\":\"\"}},\"type\":\"scattergl\"}],\"scattermapbox\":[{\"marker\":{\"colorbar\":{\"outlinewidth\":0,\"ticks\":\"\"}},\"type\":\"scattermapbox\"}],\"scatterpolar\":[{\"marker\":{\"colorbar\":{\"outlinewidth\":0,\"ticks\":\"\"}},\"type\":\"scatterpolar\"}],\"scatterpolargl\":[{\"marker\":{\"colorbar\":{\"outlinewidth\":0,\"ticks\":\"\"}},\"type\":\"scatterpolargl\"}],\"scatterternary\":[{\"marker\":{\"colorbar\":{\"outlinewidth\":0,\"ticks\":\"\"}},\"type\":\"scatterternary\"}],\"surface\":[{\"colorbar\":{\"outlinewidth\":0,\"ticks\":\"\"},\"colorscale\":[[0.0,\"#0d0887\"],[0.1111111111111111,\"#46039f\"],[0.2222222222222222,\"#7201a8\"],[0.3333333333333333,\"#9c179e\"],[0.4444444444444444,\"#bd3786\"],[0.5555555555555556,\"#d8576b\"],[0.6666666666666666,\"#ed7953\"],[0.7777777777777778,\"#fb9f3a\"],[0.8888888888888888,\"#fdca26\"],[1.0,\"#f0f921\"]],\"type\":\"surface\"}],\"table\":[{\"cells\":{\"fill\":{\"color\":\"#EBF0F8\"},\"line\":{\"color\":\"white\"}},\"header\":{\"fill\":{\"color\":\"#C8D4E3\"},\"line\":{\"color\":\"white\"}},\"type\":\"table\"}]},\"layout\":{\"annotationdefaults\":{\"arrowcolor\":\"#2a3f5f\",\"arrowhead\":0,\"arrowwidth\":1},\"autotypenumbers\":\"strict\",\"coloraxis\":{\"colorbar\":{\"outlinewidth\":0,\"ticks\":\"\"}},\"colorscale\":{\"diverging\":[[0,\"#8e0152\"],[0.1,\"#c51b7d\"],[0.2,\"#de77ae\"],[0.3,\"#f1b6da\"],[0.4,\"#fde0ef\"],[0.5,\"#f7f7f7\"],[0.6,\"#e6f5d0\"],[0.7,\"#b8e186\"],[0.8,\"#7fbc41\"],[0.9,\"#4d9221\"],[1,\"#276419\"]],\"sequential\":[[0.0,\"#0d0887\"],[0.1111111111111111,\"#46039f\"],[0.2222222222222222,\"#7201a8\"],[0.3333333333333333,\"#9c179e\"],[0.4444444444444444,\"#bd3786\"],[0.5555555555555556,\"#d8576b\"],[0.6666666666666666,\"#ed7953\"],[0.7777777777777778,\"#fb9f3a\"],[0.8888888888888888,\"#fdca26\"],[1.0,\"#f0f921\"]],\"sequentialminus\":[[0.0,\"#0d0887\"],[0.1111111111111111,\"#46039f\"],[0.2222222222222222,\"#7201a8\"],[0.3333333333333333,\"#9c179e\"],[0.4444444444444444,\"#bd3786\"],[0.5555555555555556,\"#d8576b\"],[0.6666666666666666,\"#ed7953\"],[0.7777777777777778,\"#fb9f3a\"],[0.8888888888888888,\"#fdca26\"],[1.0,\"#f0f921\"]]},\"colorway\":[\"#636efa\",\"#EF553B\",\"#00cc96\",\"#ab63fa\",\"#FFA15A\",\"#19d3f3\",\"#FF6692\",\"#B6E880\",\"#FF97FF\",\"#FECB52\"],\"font\":{\"color\":\"#2a3f5f\"},\"geo\":{\"bgcolor\":\"white\",\"lakecolor\":\"white\",\"landcolor\":\"#E5ECF6\",\"showlakes\":true,\"showland\":true,\"subunitcolor\":\"white\"},\"hoverlabel\":{\"align\":\"left\"},\"hovermode\":\"closest\",\"mapbox\":{\"style\":\"light\"},\"paper_bgcolor\":\"white\",\"plot_bgcolor\":\"#E5ECF6\",\"polar\":{\"angularaxis\":{\"gridcolor\":\"white\",\"linecolor\":\"white\",\"ticks\":\"\"},\"bgcolor\":\"#E5ECF6\",\"radialaxis\":{\"gridcolor\":\"white\",\"linecolor\":\"white\",\"ticks\":\"\"}},\"scene\":{\"xaxis\":{\"backgroundcolor\":\"#E5ECF6\",\"gridcolor\":\"white\",\"gridwidth\":2,\"linecolor\":\"white\",\"showbackground\":true,\"ticks\":\"\",\"zerolinecolor\":\"white\"},\"yaxis\":{\"backgroundcolor\":\"#E5ECF6\",\"gridcolor\":\"white\",\"gridwidth\":2,\"linecolor\":\"white\",\"showbackground\":true,\"ticks\":\"\",\"zerolinecolor\":\"white\"},\"zaxis\":{\"backgroundcolor\":\"#E5ECF6\",\"gridcolor\":\"white\",\"gridwidth\":2,\"linecolor\":\"white\",\"showbackground\":true,\"ticks\":\"\",\"zerolinecolor\":\"white\"}},\"shapedefaults\":{\"line\":{\"color\":\"#2a3f5f\"}},\"ternary\":{\"aaxis\":{\"gridcolor\":\"white\",\"linecolor\":\"white\",\"ticks\":\"\"},\"baxis\":{\"gridcolor\":\"white\",\"linecolor\":\"white\",\"ticks\":\"\"},\"bgcolor\":\"#E5ECF6\",\"caxis\":{\"gridcolor\":\"white\",\"linecolor\":\"white\",\"ticks\":\"\"}},\"title\":{\"x\":0.05},\"xaxis\":{\"automargin\":true,\"gridcolor\":\"white\",\"linecolor\":\"white\",\"ticks\":\"\",\"title\":{\"standoff\":15},\"zerolinecolor\":\"white\",\"zerolinewidth\":2},\"yaxis\":{\"automargin\":true,\"gridcolor\":\"white\",\"linecolor\":\"white\",\"ticks\":\"\",\"title\":{\"standoff\":15},\"zerolinecolor\":\"white\",\"zerolinewidth\":2}}},\"xaxis\":{\"anchor\":\"y\",\"domain\":[0.0,1.0],\"title\":{\"text\":\"Date\"}},\"yaxis\":{\"anchor\":\"x\",\"domain\":[0.0,1.0],\"title\":{\"text\":\"Price\"}}},                        {\"responsive\": true}                    ).then(function(){\n",
       "                            \n",
       "var gd = document.getElementById('76554959-60fb-4c4d-adee-b3ae7948a940');\n",
       "var x = new MutationObserver(function (mutations, observer) {{\n",
       "        var display = window.getComputedStyle(gd).display;\n",
       "        if (!display || display === 'none') {{\n",
       "            console.log([gd, 'removed!']);\n",
       "            Plotly.purge(gd);\n",
       "            observer.disconnect();\n",
       "        }}\n",
       "}});\n",
       "\n",
       "// Listen for the removal of the full notebook cells\n",
       "var notebookContainer = gd.closest('#notebook-container');\n",
       "if (notebookContainer) {{\n",
       "    x.observe(notebookContainer, {childList: true});\n",
       "}}\n",
       "\n",
       "// Listen for the clearing of the current output cell\n",
       "var outputEl = gd.closest('.output');\n",
       "if (outputEl) {{\n",
       "    x.observe(outputEl, {childList: true});\n",
       "}}\n",
       "\n",
       "                        })                };                });            </script>        </div>"
      ]
     },
     "metadata": {},
     "output_type": "display_data"
    }
   ],
   "source": [
    "px.scatter(df, x='Date', y='Price', size='NVT Adj')"
   ]
  },
  {
   "cell_type": "code",
   "execution_count": 36,
   "id": "f1de6c7f",
   "metadata": {},
   "outputs": [
    {
     "data": {
      "text/plain": [
       "<matplotlib.axes._subplots.AxesSubplot at 0x7fe1e5efef50>"
      ]
     },
     "execution_count": 36,
     "metadata": {},
     "output_type": "execute_result"
    },
    {
     "data": {
      "image/png": "[encoded data removed]",
      "text/plain": [
       "<Figure size 1440x720 with 1 Axes>"
      ]
     },
     "metadata": {
      "needs_background": "light"
     },
     "output_type": "display_data"
    }
   ],
   "source": [
    "df.plot(figsize = (20,10))"
   ]
  },
  {
   "cell_type": "code",
   "execution_count": null,
   "id": "48256269",
   "metadata": {},
   "outputs": [],
   "source": []
  }
 ],
 "metadata": {
  "kernelspec": {
   "display_name": "Python 3 (ipykernel)",
   "language": "python",
   "name": "python3"
  },
  "language_info": {
   "codemirror_mode": {
    "name": "ipython",
    "version": 3
   },
   "file_extension": ".py",
   "mimetype": "text/x-python",
   "name": "python",
   "nbconvert_exporter": "python",
   "pygments_lexer": "ipython3",
   "version": "3.8.8"
  }
 },
 "nbformat": 4,
 "nbformat_minor": 5
}
