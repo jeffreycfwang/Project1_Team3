{
 "cells": [
  {
   "cell_type": "code",
   "execution_count": 2,
   "id": "56a646c3",
   "metadata": {},
   "outputs": [
    {
     "data": {
      "application/javascript": [
       "\n",
       "(function(root) {\n",
       "  function now() {\n",
       "    return new Date();\n",
       "  }\n",
       "\n",
       "  var force = true;\n",
       "\n",
       "  if (typeof root._bokeh_onload_callbacks === \"undefined\" || force === true) {\n",
       "    root._bokeh_onload_callbacks = [];\n",
       "    root._bokeh_is_loading = undefined;\n",
       "  }\n",
       "\n",
       "  if (typeof (root._bokeh_timeout) === \"undefined\" || force === true) {\n",
       "    root._bokeh_timeout = Date.now() + 5000;\n",
       "    root._bokeh_failed_load = false;\n",
       "  }\n",
       "\n",
       "  function run_callbacks() {\n",
       "    try {\n",
       "      root._bokeh_onload_callbacks.forEach(function(callback) {\n",
       "        if (callback != null)\n",
       "          callback();\n",
       "      });\n",
       "    } finally {\n",
       "      delete root._bokeh_onload_callbacks\n",
       "    }\n",
       "    console.debug(\"Bokeh: all callbacks have finished\");\n",
       "  }\n",
       "\n",
       "  function load_libs(css_urls, js_urls, js_modules, callback) {\n",
       "    if (css_urls == null) css_urls = [];\n",
       "    if (js_urls == null) js_urls = [];\n",
       "    if (js_modules == null) js_modules = [];\n",
       "\n",
       "    root._bokeh_onload_callbacks.push(callback);\n",
       "    if (root._bokeh_is_loading > 0) {\n",
       "      console.debug(\"Bokeh: BokehJS is being loaded, scheduling callback at\", now());\n",
       "      return null;\n",
       "    }\n",
       "    if (js_urls.length === 0 && js_modules.length === 0) {\n",
       "      run_callbacks();\n",
       "      return null;\n",
       "    }\n",
       "    console.debug(\"Bokeh: BokehJS not loaded, scheduling load and callback at\", now());\n",
       "    root._bokeh_is_loading = css_urls.length + js_urls.length + js_modules.length;\n",
       "\n",
       "    function on_load() {\n",
       "      root._bokeh_is_loading--;\n",
       "      if (root._bokeh_is_loading === 0) {\n",
       "        console.debug(\"Bokeh: all BokehJS libraries/stylesheets loaded\");\n",
       "        run_callbacks()\n",
       "      }\n",
       "    }\n",
       "\n",
       "    function on_error() {\n",
       "      console.error(\"failed to load \" + url);\n",
       "    }\n",
       "\n",
       "    for (var i = 0; i < css_urls.length; i++) {\n",
       "      var url = css_urls[i];\n",
       "      const element = document.createElement(\"link\");\n",
       "      element.onload = on_load;\n",
       "      element.onerror = on_error;\n",
       "      element.rel = \"stylesheet\";\n",
       "      element.type = \"text/css\";\n",
       "      element.href = url;\n",
       "      console.debug(\"Bokeh: injecting link tag for BokehJS stylesheet: \", url);\n",
       "      document.body.appendChild(element);\n",
       "    }\n",
       "\n",
       "    var skip = [];\n",
       "    if (window.requirejs) {\n",
       "      window.requirejs.config({'packages': {}, 'paths': {'plotly': 'https://cdn.plot.ly/plotly-latest.min'}, 'shim': {}});\n",
       "      \n",
       "      require([\"plotly\"], function(Plotly) {\n",
       "\twindow.Plotly = Plotly\n",
       "      })\n",
       "      \n",
       "    }\n",
       "    if (((window['Plotly'] !== undefined) && (!(window['Plotly'] instanceof HTMLElement))) || window.requirejs) {\n",
       "      var urls = ['https://cdn.plot.ly/plotly-latest.min.js'];\n",
       "      for (var i = 0; i < urls.length; i++) {\n",
       "        skip.push(urls[i])\n",
       "      }\n",
       "    }\n",
       "    for (var i = 0; i < js_urls.length; i++) {\n",
       "      var url = js_urls[i];\n",
       "      if (skip.indexOf(url) >= 0) { on_load(); continue; }\n",
       "      var element = document.createElement('script');\n",
       "      element.onload = on_load;\n",
       "      element.onerror = on_error;\n",
       "      element.async = false;\n",
       "      element.src = url;\n",
       "      console.debug(\"Bokeh: injecting script tag for BokehJS library: \", url);\n",
       "      document.head.appendChild(element);\n",
       "    }\n",
       "    for (var i = 0; i < js_modules.length; i++) {\n",
       "      var url = js_modules[i];\n",
       "      if (skip.indexOf(url) >= 0) { on_load(); continue; }\n",
       "      var element = document.createElement('script');\n",
       "      element.onload = on_load;\n",
       "      element.onerror = on_error;\n",
       "      element.async = false;\n",
       "      element.src = url;\n",
       "      element.type = \"module\";\n",
       "      console.debug(\"Bokeh: injecting script tag for BokehJS library: \", url);\n",
       "      document.head.appendChild(element);\n",
       "    }\n",
       "    if (!js_urls.length && !js_modules.length) {\n",
       "      on_load()\n",
       "    }\n",
       "  };\n",
       "\n",
       "  function inject_raw_css(css) {\n",
       "    const element = document.createElement(\"style\");\n",
       "    element.appendChild(document.createTextNode(css));\n",
       "    document.body.appendChild(element);\n",
       "  }\n",
       "\n",
       "  var js_urls = [\"https://code.jquery.com/jquery-3.4.1.min.js\", \"https://cdn.plot.ly/plotly-latest.min.js\", \"https://cdn.bokeh.org/bokeh/release/bokeh-2.3.2.min.js\", \"https://cdn.bokeh.org/bokeh/release/bokeh-widgets-2.3.2.min.js\", \"https://cdn.bokeh.org/bokeh/release/bokeh-tables-2.3.2.min.js\", \"https://unpkg.com/@holoviz/panel@^0.12.1/dist/panel.min.js\"];\n",
       "  var js_modules = [];\n",
       "  var css_urls = [\"https://unpkg.com/@holoviz/panel@0.12.1/dist/css/alerts.css\", \"https://unpkg.com/@holoviz/panel@0.12.1/dist/css/card.css\", \"https://unpkg.com/@holoviz/panel@0.12.1/dist/css/dataframe.css\", \"https://unpkg.com/@holoviz/panel@0.12.1/dist/css/json.css\", \"https://unpkg.com/@holoviz/panel@0.12.1/dist/css/loading.css\", \"https://unpkg.com/@holoviz/panel@0.12.1/dist/css/markdown.css\", \"https://unpkg.com/@holoviz/panel@0.12.1/dist/css/widgets.css\"];\n",
       "  var inline_js = [\n",
       "    function(Bokeh) {\n",
       "      inject_raw_css(\"\\n    .bk.pn-loading.arcs:before {\\n      background-image: url(\\\"data:image/svg+xml;base64,PHN2ZyB4bWxucz0iaHR0cDovL3d3dy53My5vcmcvMjAwMC9zdmciIHhtbG5zOnhsaW5rPSJodHRwOi8vd3d3LnczLm9yZy8xOTk5L3hsaW5rIiBzdHlsZT0ibWFyZ2luOiBhdXRvOyBiYWNrZ3JvdW5kOiBub25lOyBkaXNwbGF5OiBibG9jazsgc2hhcGUtcmVuZGVyaW5nOiBhdXRvOyIgdmlld0JveD0iMCAwIDEwMCAxMDAiIHByZXNlcnZlQXNwZWN0UmF0aW89InhNaWRZTWlkIj4gIDxjaXJjbGUgY3g9IjUwIiBjeT0iNTAiIHI9IjMyIiBzdHJva2Utd2lkdGg9IjgiIHN0cm9rZT0iI2MzYzNjMyIgc3Ryb2tlLWRhc2hhcnJheT0iNTAuMjY1NDgyNDU3NDM2NjkgNTAuMjY1NDgyNDU3NDM2NjkiIGZpbGw9Im5vbmUiIHN0cm9rZS1saW5lY2FwPSJyb3VuZCI+ICAgIDxhbmltYXRlVHJhbnNmb3JtIGF0dHJpYnV0ZU5hbWU9InRyYW5zZm9ybSIgdHlwZT0icm90YXRlIiByZXBlYXRDb3VudD0iaW5kZWZpbml0ZSIgZHVyPSIxcyIga2V5VGltZXM9IjA7MSIgdmFsdWVzPSIwIDUwIDUwOzM2MCA1MCA1MCI+PC9hbmltYXRlVHJhbnNmb3JtPiAgPC9jaXJjbGU+PC9zdmc+\\\")\\n    }\\n    \");\n",
       "    },\n",
       "    function(Bokeh) {\n",
       "      Bokeh.set_log_level(\"info\");\n",
       "    },\n",
       "    function(Bokeh) {} // ensure no trailing comma for IE\n",
       "  ];\n",
       "\n",
       "  function run_inline_js() {\n",
       "    if ((root.Bokeh !== undefined) || (force === true)) {\n",
       "      for (var i = 0; i < inline_js.length; i++) {\n",
       "        inline_js[i].call(root, root.Bokeh);\n",
       "      }} else if (Date.now() < root._bokeh_timeout) {\n",
       "      setTimeout(run_inline_js, 100);\n",
       "    } else if (!root._bokeh_failed_load) {\n",
       "      console.log(\"Bokeh: BokehJS failed to load within specified timeout.\");\n",
       "      root._bokeh_failed_load = true;\n",
       "    }\n",
       "  }\n",
       "\n",
       "  if (root._bokeh_is_loading === 0) {\n",
       "    console.debug(\"Bokeh: BokehJS loaded, going straight to plotting\");\n",
       "    run_inline_js();\n",
       "  } else {\n",
       "    load_libs(css_urls, js_urls, js_modules, function() {\n",
       "      console.debug(\"Bokeh: BokehJS plotting callback run at\", now());\n",
       "      run_inline_js();\n",
       "    });\n",
       "  }\n",
       "}(window));"
      ],
      "application/vnd.holoviews_load.v0+json": "\n(function(root) {\n  function now() {\n    return new Date();\n  }\n\n  var force = true;\n\n  if (typeof root._bokeh_onload_callbacks === \"undefined\" || force === true) {\n    root._bokeh_onload_callbacks = [];\n    root._bokeh_is_loading = undefined;\n  }\n\n  if (typeof (root._bokeh_timeout) === \"undefined\" || force === true) {\n    root._bokeh_timeout = Date.now() + 5000;\n    root._bokeh_failed_load = false;\n  }\n\n  function run_callbacks() {\n    try {\n      root._bokeh_onload_callbacks.forEach(function(callback) {\n        if (callback != null)\n          callback();\n      });\n    } finally {\n      delete root._bokeh_onload_callbacks\n    }\n    console.debug(\"Bokeh: all callbacks have finished\");\n  }\n\n  function load_libs(css_urls, js_urls, js_modules, callback) {\n    if (css_urls == null) css_urls = [];\n    if (js_urls == null) js_urls = [];\n    if (js_modules == null) js_modules = [];\n\n    root._bokeh_onload_callbacks.push(callback);\n    if (root._bokeh_is_loading > 0) {\n      console.debug(\"Bokeh: BokehJS is being loaded, scheduling callback at\", now());\n      return null;\n    }\n    if (js_urls.length === 0 && js_modules.length === 0) {\n      run_callbacks();\n      return null;\n    }\n    console.debug(\"Bokeh: BokehJS not loaded, scheduling load and callback at\", now());\n    root._bokeh_is_loading = css_urls.length + js_urls.length + js_modules.length;\n\n    function on_load() {\n      root._bokeh_is_loading--;\n      if (root._bokeh_is_loading === 0) {\n        console.debug(\"Bokeh: all BokehJS libraries/stylesheets loaded\");\n        run_callbacks()\n      }\n    }\n\n    function on_error() {\n      console.error(\"failed to load \" + url);\n    }\n\n    for (var i = 0; i < css_urls.length; i++) {\n      var url = css_urls[i];\n      const element = document.createElement(\"link\");\n      element.onload = on_load;\n      element.onerror = on_error;\n      element.rel = \"stylesheet\";\n      element.type = \"text/css\";\n      element.href = url;\n      console.debug(\"Bokeh: injecting link tag for BokehJS stylesheet: \", url);\n      document.body.appendChild(element);\n    }\n\n    var skip = [];\n    if (window.requirejs) {\n      window.requirejs.config({'packages': {}, 'paths': {'plotly': 'https://cdn.plot.ly/plotly-latest.min'}, 'shim': {}});\n      \n      require([\"plotly\"], function(Plotly) {\n\twindow.Plotly = Plotly\n      })\n      \n    }\n    if (((window['Plotly'] !== undefined) && (!(window['Plotly'] instanceof HTMLElement))) || window.requirejs) {\n      var urls = ['https://cdn.plot.ly/plotly-latest.min.js'];\n      for (var i = 0; i < urls.length; i++) {\n        skip.push(urls[i])\n      }\n    }\n    for (var i = 0; i < js_urls.length; i++) {\n      var url = js_urls[i];\n      if (skip.indexOf(url) >= 0) { on_load(); continue; }\n      var element = document.createElement('script');\n      element.onload = on_load;\n      element.onerror = on_error;\n      element.async = false;\n      element.src = url;\n      console.debug(\"Bokeh: injecting script tag for BokehJS library: \", url);\n      document.head.appendChild(element);\n    }\n    for (var i = 0; i < js_modules.length; i++) {\n      var url = js_modules[i];\n      if (skip.indexOf(url) >= 0) { on_load(); continue; }\n      var element = document.createElement('script');\n      element.onload = on_load;\n      element.onerror = on_error;\n      element.async = false;\n      element.src = url;\n      element.type = \"module\";\n      console.debug(\"Bokeh: injecting script tag for BokehJS library: \", url);\n      document.head.appendChild(element);\n    }\n    if (!js_urls.length && !js_modules.length) {\n      on_load()\n    }\n  };\n\n  function inject_raw_css(css) {\n    const element = document.createElement(\"style\");\n    element.appendChild(document.createTextNode(css));\n    document.body.appendChild(element);\n  }\n\n  var js_urls = [\"https://code.jquery.com/jquery-3.4.1.min.js\", \"https://cdn.plot.ly/plotly-latest.min.js\", \"https://cdn.bokeh.org/bokeh/release/bokeh-2.3.2.min.js\", \"https://cdn.bokeh.org/bokeh/release/bokeh-widgets-2.3.2.min.js\", \"https://cdn.bokeh.org/bokeh/release/bokeh-tables-2.3.2.min.js\", \"https://unpkg.com/@holoviz/panel@^0.12.1/dist/panel.min.js\"];\n  var js_modules = [];\n  var css_urls = [\"https://unpkg.com/@holoviz/panel@0.12.1/dist/css/alerts.css\", \"https://unpkg.com/@holoviz/panel@0.12.1/dist/css/card.css\", \"https://unpkg.com/@holoviz/panel@0.12.1/dist/css/dataframe.css\", \"https://unpkg.com/@holoviz/panel@0.12.1/dist/css/json.css\", \"https://unpkg.com/@holoviz/panel@0.12.1/dist/css/loading.css\", \"https://unpkg.com/@holoviz/panel@0.12.1/dist/css/markdown.css\", \"https://unpkg.com/@holoviz/panel@0.12.1/dist/css/widgets.css\"];\n  var inline_js = [\n    function(Bokeh) {\n      inject_raw_css(\"\\n    .bk.pn-loading.arcs:before {\\n      background-image: url(\\\"data:image/svg+xml;base64,PHN2ZyB4bWxucz0iaHR0cDovL3d3dy53My5vcmcvMjAwMC9zdmciIHhtbG5zOnhsaW5rPSJodHRwOi8vd3d3LnczLm9yZy8xOTk5L3hsaW5rIiBzdHlsZT0ibWFyZ2luOiBhdXRvOyBiYWNrZ3JvdW5kOiBub25lOyBkaXNwbGF5OiBibG9jazsgc2hhcGUtcmVuZGVyaW5nOiBhdXRvOyIgdmlld0JveD0iMCAwIDEwMCAxMDAiIHByZXNlcnZlQXNwZWN0UmF0aW89InhNaWRZTWlkIj4gIDxjaXJjbGUgY3g9IjUwIiBjeT0iNTAiIHI9IjMyIiBzdHJva2Utd2lkdGg9IjgiIHN0cm9rZT0iI2MzYzNjMyIgc3Ryb2tlLWRhc2hhcnJheT0iNTAuMjY1NDgyNDU3NDM2NjkgNTAuMjY1NDgyNDU3NDM2NjkiIGZpbGw9Im5vbmUiIHN0cm9rZS1saW5lY2FwPSJyb3VuZCI+ICAgIDxhbmltYXRlVHJhbnNmb3JtIGF0dHJpYnV0ZU5hbWU9InRyYW5zZm9ybSIgdHlwZT0icm90YXRlIiByZXBlYXRDb3VudD0iaW5kZWZpbml0ZSIgZHVyPSIxcyIga2V5VGltZXM9IjA7MSIgdmFsdWVzPSIwIDUwIDUwOzM2MCA1MCA1MCI+PC9hbmltYXRlVHJhbnNmb3JtPiAgPC9jaXJjbGU+PC9zdmc+\\\")\\n    }\\n    \");\n    },\n    function(Bokeh) {\n      Bokeh.set_log_level(\"info\");\n    },\n    function(Bokeh) {} // ensure no trailing comma for IE\n  ];\n\n  function run_inline_js() {\n    if ((root.Bokeh !== undefined) || (force === true)) {\n      for (var i = 0; i < inline_js.length; i++) {\n        inline_js[i].call(root, root.Bokeh);\n      }} else if (Date.now() < root._bokeh_timeout) {\n      setTimeout(run_inline_js, 100);\n    } else if (!root._bokeh_failed_load) {\n      console.log(\"Bokeh: BokehJS failed to load within specified timeout.\");\n      root._bokeh_failed_load = true;\n    }\n  }\n\n  if (root._bokeh_is_loading === 0) {\n    console.debug(\"Bokeh: BokehJS loaded, going straight to plotting\");\n    run_inline_js();\n  } else {\n    load_libs(css_urls, js_urls, js_modules, function() {\n      console.debug(\"Bokeh: BokehJS plotting callback run at\", now());\n      run_inline_js();\n    });\n  }\n}(window));"
     },
     "metadata": {},
     "output_type": "display_data"
    },
    {
     "data": {
      "application/javascript": [
       "\n",
       "if ((window.PyViz === undefined) || (window.PyViz instanceof HTMLElement)) {\n",
       "  window.PyViz = {comms: {}, comm_status:{}, kernels:{}, receivers: {}, plot_index: []}\n",
       "}\n",
       "\n",
       "\n",
       "    function JupyterCommManager() {\n",
       "    }\n",
       "\n",
       "    JupyterCommManager.prototype.register_target = function(plot_id, comm_id, msg_handler) {\n",
       "      if (window.comm_manager || ((window.Jupyter !== undefined) && (Jupyter.notebook.kernel != null))) {\n",
       "        var comm_manager = window.comm_manager || Jupyter.notebook.kernel.comm_manager;\n",
       "        comm_manager.register_target(comm_id, function(comm) {\n",
       "          comm.on_msg(msg_handler);\n",
       "        });\n",
       "      } else if ((plot_id in window.PyViz.kernels) && (window.PyViz.kernels[plot_id])) {\n",
       "        window.PyViz.kernels[plot_id].registerCommTarget(comm_id, function(comm) {\n",
       "          comm.onMsg = msg_handler;\n",
       "        });\n",
       "      } else if (typeof google != 'undefined' && google.colab.kernel != null) {\n",
       "        google.colab.kernel.comms.registerTarget(comm_id, (comm) => {\n",
       "          var messages = comm.messages[Symbol.asyncIterator]();\n",
       "          function processIteratorResult(result) {\n",
       "            var message = result.value;\n",
       "            console.log(message)\n",
       "            var content = {data: message.data, comm_id};\n",
       "            var buffers = []\n",
       "            for (var buffer of message.buffers || []) {\n",
       "              buffers.push(new DataView(buffer))\n",
       "            }\n",
       "            var metadata = message.metadata || {};\n",
       "            var msg = {content, buffers, metadata}\n",
       "            msg_handler(msg);\n",
       "            return messages.next().then(processIteratorResult);\n",
       "          }\n",
       "          return messages.next().then(processIteratorResult);\n",
       "        })\n",
       "      }\n",
       "    }\n",
       "\n",
       "    JupyterCommManager.prototype.get_client_comm = function(plot_id, comm_id, msg_handler) {\n",
       "      if (comm_id in window.PyViz.comms) {\n",
       "        return window.PyViz.comms[comm_id];\n",
       "      } else if (window.comm_manager || ((window.Jupyter !== undefined) && (Jupyter.notebook.kernel != null))) {\n",
       "        var comm_manager = window.comm_manager || Jupyter.notebook.kernel.comm_manager;\n",
       "        var comm = comm_manager.new_comm(comm_id, {}, {}, {}, comm_id);\n",
       "        if (msg_handler) {\n",
       "          comm.on_msg(msg_handler);\n",
       "        }\n",
       "      } else if ((plot_id in window.PyViz.kernels) && (window.PyViz.kernels[plot_id])) {\n",
       "        var comm = window.PyViz.kernels[plot_id].connectToComm(comm_id);\n",
       "        comm.open();\n",
       "        if (msg_handler) {\n",
       "          comm.onMsg = msg_handler;\n",
       "        }\n",
       "      } else if (typeof google != 'undefined' && google.colab.kernel != null) {\n",
       "        var comm_promise = google.colab.kernel.comms.open(comm_id)\n",
       "        comm_promise.then((comm) => {\n",
       "          window.PyViz.comms[comm_id] = comm;\n",
       "          if (msg_handler) {\n",
       "            var messages = comm.messages[Symbol.asyncIterator]();\n",
       "            function processIteratorResult(result) {\n",
       "              var message = result.value;\n",
       "              var content = {data: message.data};\n",
       "              var metadata = message.metadata || {comm_id};\n",
       "              var msg = {content, metadata}\n",
       "              msg_handler(msg);\n",
       "              return messages.next().then(processIteratorResult);\n",
       "            }\n",
       "            return messages.next().then(processIteratorResult);\n",
       "          }\n",
       "        }) \n",
       "        var sendClosure = (data, metadata, buffers, disposeOnDone) => {\n",
       "          return comm_promise.then((comm) => {\n",
       "            comm.send(data, metadata, buffers, disposeOnDone);\n",
       "          });\n",
       "        };\n",
       "        var comm = {\n",
       "          send: sendClosure\n",
       "        };\n",
       "      }\n",
       "      window.PyViz.comms[comm_id] = comm;\n",
       "      return comm;\n",
       "    }\n",
       "    window.PyViz.comm_manager = new JupyterCommManager();\n",
       "    \n",
       "\n",
       "\n",
       "var JS_MIME_TYPE = 'application/javascript';\n",
       "var HTML_MIME_TYPE = 'text/html';\n",
       "var EXEC_MIME_TYPE = 'application/vnd.holoviews_exec.v0+json';\n",
       "var CLASS_NAME = 'output';\n",
       "\n",
       "/**\n",
       " * Render data to the DOM node\n",
       " */\n",
       "function render(props, node) {\n",
       "  var div = document.createElement(\"div\");\n",
       "  var script = document.createElement(\"script\");\n",
       "  node.appendChild(div);\n",
       "  node.appendChild(script);\n",
       "}\n",
       "\n",
       "/**\n",
       " * Handle when a new output is added\n",
       " */\n",
       "function handle_add_output(event, handle) {\n",
       "  var output_area = handle.output_area;\n",
       "  var output = handle.output;\n",
       "  if ((output.data == undefined) || (!output.data.hasOwnProperty(EXEC_MIME_TYPE))) {\n",
       "    return\n",
       "  }\n",
       "  var id = output.metadata[EXEC_MIME_TYPE][\"id\"];\n",
       "  var toinsert = output_area.element.find(\".\" + CLASS_NAME.split(' ')[0]);\n",
       "  if (id !== undefined) {\n",
       "    var nchildren = toinsert.length;\n",
       "    var html_node = toinsert[nchildren-1].children[0];\n",
       "    html_node.innerHTML = output.data[HTML_MIME_TYPE];\n",
       "    var scripts = [];\n",
       "    var nodelist = html_node.querySelectorAll(\"script\");\n",
       "    for (var i in nodelist) {\n",
       "      if (nodelist.hasOwnProperty(i)) {\n",
       "        scripts.push(nodelist[i])\n",
       "      }\n",
       "    }\n",
       "\n",
       "    scripts.forEach( function (oldScript) {\n",
       "      var newScript = document.createElement(\"script\");\n",
       "      var attrs = [];\n",
       "      var nodemap = oldScript.attributes;\n",
       "      for (var j in nodemap) {\n",
       "        if (nodemap.hasOwnProperty(j)) {\n",
       "          attrs.push(nodemap[j])\n",
       "        }\n",
       "      }\n",
       "      attrs.forEach(function(attr) { newScript.setAttribute(attr.name, attr.value) });\n",
       "      newScript.appendChild(document.createTextNode(oldScript.innerHTML));\n",
       "      oldScript.parentNode.replaceChild(newScript, oldScript);\n",
       "    });\n",
       "    if (JS_MIME_TYPE in output.data) {\n",
       "      toinsert[nchildren-1].children[1].textContent = output.data[JS_MIME_TYPE];\n",
       "    }\n",
       "    output_area._hv_plot_id = id;\n",
       "    if ((window.Bokeh !== undefined) && (id in Bokeh.index)) {\n",
       "      window.PyViz.plot_index[id] = Bokeh.index[id];\n",
       "    } else {\n",
       "      window.PyViz.plot_index[id] = null;\n",
       "    }\n",
       "  } else if (output.metadata[EXEC_MIME_TYPE][\"server_id\"] !== undefined) {\n",
       "    var bk_div = document.createElement(\"div\");\n",
       "    bk_div.innerHTML = output.data[HTML_MIME_TYPE];\n",
       "    var script_attrs = bk_div.children[0].attributes;\n",
       "    for (var i = 0; i < script_attrs.length; i++) {\n",
       "      toinsert[toinsert.length - 1].childNodes[1].setAttribute(script_attrs[i].name, script_attrs[i].value);\n",
       "    }\n",
       "    // store reference to server id on output_area\n",
       "    output_area._bokeh_server_id = output.metadata[EXEC_MIME_TYPE][\"server_id\"];\n",
       "  }\n",
       "}\n",
       "\n",
       "/**\n",
       " * Handle when an output is cleared or removed\n",
       " */\n",
       "function handle_clear_output(event, handle) {\n",
       "  var id = handle.cell.output_area._hv_plot_id;\n",
       "  var server_id = handle.cell.output_area._bokeh_server_id;\n",
       "  if (((id === undefined) || !(id in PyViz.plot_index)) && (server_id !== undefined)) { return; }\n",
       "  var comm = window.PyViz.comm_manager.get_client_comm(\"hv-extension-comm\", \"hv-extension-comm\", function () {});\n",
       "  if (server_id !== null) {\n",
       "    comm.send({event_type: 'server_delete', 'id': server_id});\n",
       "    return;\n",
       "  } else if (comm !== null) {\n",
       "    comm.send({event_type: 'delete', 'id': id});\n",
       "  }\n",
       "  delete PyViz.plot_index[id];\n",
       "  if ((window.Bokeh !== undefined) & (id in window.Bokeh.index)) {\n",
       "    var doc = window.Bokeh.index[id].model.document\n",
       "    doc.clear();\n",
       "    const i = window.Bokeh.documents.indexOf(doc);\n",
       "    if (i > -1) {\n",
       "      window.Bokeh.documents.splice(i, 1);\n",
       "    }\n",
       "  }\n",
       "}\n",
       "\n",
       "/**\n",
       " * Handle kernel restart event\n",
       " */\n",
       "function handle_kernel_cleanup(event, handle) {\n",
       "  delete PyViz.comms[\"hv-extension-comm\"];\n",
       "  window.PyViz.plot_index = {}\n",
       "}\n",
       "\n",
       "/**\n",
       " * Handle update_display_data messages\n",
       " */\n",
       "function handle_update_output(event, handle) {\n",
       "  handle_clear_output(event, {cell: {output_area: handle.output_area}})\n",
       "  handle_add_output(event, handle)\n",
       "}\n",
       "\n",
       "function register_renderer(events, OutputArea) {\n",
       "  function append_mime(data, metadata, element) {\n",
       "    // create a DOM node to render to\n",
       "    var toinsert = this.create_output_subarea(\n",
       "    metadata,\n",
       "    CLASS_NAME,\n",
       "    EXEC_MIME_TYPE\n",
       "    );\n",
       "    this.keyboard_manager.register_events(toinsert);\n",
       "    // Render to node\n",
       "    var props = {data: data, metadata: metadata[EXEC_MIME_TYPE]};\n",
       "    render(props, toinsert[0]);\n",
       "    element.append(toinsert);\n",
       "    return toinsert\n",
       "  }\n",
       "\n",
       "  events.on('output_added.OutputArea', handle_add_output);\n",
       "  events.on('output_updated.OutputArea', handle_update_output);\n",
       "  events.on('clear_output.CodeCell', handle_clear_output);\n",
       "  events.on('delete.Cell', handle_clear_output);\n",
       "  events.on('kernel_ready.Kernel', handle_kernel_cleanup);\n",
       "\n",
       "  OutputArea.prototype.register_mime_type(EXEC_MIME_TYPE, append_mime, {\n",
       "    safe: true,\n",
       "    index: 0\n",
       "  });\n",
       "}\n",
       "\n",
       "if (window.Jupyter !== undefined) {\n",
       "  try {\n",
       "    var events = require('base/js/events');\n",
       "    var OutputArea = require('notebook/js/outputarea').OutputArea;\n",
       "    if (OutputArea.prototype.mime_types().indexOf(EXEC_MIME_TYPE) == -1) {\n",
       "      register_renderer(events, OutputArea);\n",
       "    }\n",
       "  } catch(err) {\n",
       "  }\n",
       "}\n"
      ],
      "application/vnd.holoviews_load.v0+json": "\nif ((window.PyViz === undefined) || (window.PyViz instanceof HTMLElement)) {\n  window.PyViz = {comms: {}, comm_status:{}, kernels:{}, receivers: {}, plot_index: []}\n}\n\n\n    function JupyterCommManager() {\n    }\n\n    JupyterCommManager.prototype.register_target = function(plot_id, comm_id, msg_handler) {\n      if (window.comm_manager || ((window.Jupyter !== undefined) && (Jupyter.notebook.kernel != null))) {\n        var comm_manager = window.comm_manager || Jupyter.notebook.kernel.comm_manager;\n        comm_manager.register_target(comm_id, function(comm) {\n          comm.on_msg(msg_handler);\n        });\n      } else if ((plot_id in window.PyViz.kernels) && (window.PyViz.kernels[plot_id])) {\n        window.PyViz.kernels[plot_id].registerCommTarget(comm_id, function(comm) {\n          comm.onMsg = msg_handler;\n        });\n      } else if (typeof google != 'undefined' && google.colab.kernel != null) {\n        google.colab.kernel.comms.registerTarget(comm_id, (comm) => {\n          var messages = comm.messages[Symbol.asyncIterator]();\n          function processIteratorResult(result) {\n            var message = result.value;\n            console.log(message)\n            var content = {data: message.data, comm_id};\n            var buffers = []\n            for (var buffer of message.buffers || []) {\n              buffers.push(new DataView(buffer))\n            }\n            var metadata = message.metadata || {};\n            var msg = {content, buffers, metadata}\n            msg_handler(msg);\n            return messages.next().then(processIteratorResult);\n          }\n          return messages.next().then(processIteratorResult);\n        })\n      }\n    }\n\n    JupyterCommManager.prototype.get_client_comm = function(plot_id, comm_id, msg_handler) {\n      if (comm_id in window.PyViz.comms) {\n        return window.PyViz.comms[comm_id];\n      } else if (window.comm_manager || ((window.Jupyter !== undefined) && (Jupyter.notebook.kernel != null))) {\n        var comm_manager = window.comm_manager || Jupyter.notebook.kernel.comm_manager;\n        var comm = comm_manager.new_comm(comm_id, {}, {}, {}, comm_id);\n        if (msg_handler) {\n          comm.on_msg(msg_handler);\n        }\n      } else if ((plot_id in window.PyViz.kernels) && (window.PyViz.kernels[plot_id])) {\n        var comm = window.PyViz.kernels[plot_id].connectToComm(comm_id);\n        comm.open();\n        if (msg_handler) {\n          comm.onMsg = msg_handler;\n        }\n      } else if (typeof google != 'undefined' && google.colab.kernel != null) {\n        var comm_promise = google.colab.kernel.comms.open(comm_id)\n        comm_promise.then((comm) => {\n          window.PyViz.comms[comm_id] = comm;\n          if (msg_handler) {\n            var messages = comm.messages[Symbol.asyncIterator]();\n            function processIteratorResult(result) {\n              var message = result.value;\n              var content = {data: message.data};\n              var metadata = message.metadata || {comm_id};\n              var msg = {content, metadata}\n              msg_handler(msg);\n              return messages.next().then(processIteratorResult);\n            }\n            return messages.next().then(processIteratorResult);\n          }\n        }) \n        var sendClosure = (data, metadata, buffers, disposeOnDone) => {\n          return comm_promise.then((comm) => {\n            comm.send(data, metadata, buffers, disposeOnDone);\n          });\n        };\n        var comm = {\n          send: sendClosure\n        };\n      }\n      window.PyViz.comms[comm_id] = comm;\n      return comm;\n    }\n    window.PyViz.comm_manager = new JupyterCommManager();\n    \n\n\nvar JS_MIME_TYPE = 'application/javascript';\nvar HTML_MIME_TYPE = 'text/html';\nvar EXEC_MIME_TYPE = 'application/vnd.holoviews_exec.v0+json';\nvar CLASS_NAME = 'output';\n\n/**\n * Render data to the DOM node\n */\nfunction render(props, node) {\n  var div = document.createElement(\"div\");\n  var script = document.createElement(\"script\");\n  node.appendChild(div);\n  node.appendChild(script);\n}\n\n/**\n * Handle when a new output is added\n */\nfunction handle_add_output(event, handle) {\n  var output_area = handle.output_area;\n  var output = handle.output;\n  if ((output.data == undefined) || (!output.data.hasOwnProperty(EXEC_MIME_TYPE))) {\n    return\n  }\n  var id = output.metadata[EXEC_MIME_TYPE][\"id\"];\n  var toinsert = output_area.element.find(\".\" + CLASS_NAME.split(' ')[0]);\n  if (id !== undefined) {\n    var nchildren = toinsert.length;\n    var html_node = toinsert[nchildren-1].children[0];\n    html_node.innerHTML = output.data[HTML_MIME_TYPE];\n    var scripts = [];\n    var nodelist = html_node.querySelectorAll(\"script\");\n    for (var i in nodelist) {\n      if (nodelist.hasOwnProperty(i)) {\n        scripts.push(nodelist[i])\n      }\n    }\n\n    scripts.forEach( function (oldScript) {\n      var newScript = document.createElement(\"script\");\n      var attrs = [];\n      var nodemap = oldScript.attributes;\n      for (var j in nodemap) {\n        if (nodemap.hasOwnProperty(j)) {\n          attrs.push(nodemap[j])\n        }\n      }\n      attrs.forEach(function(attr) { newScript.setAttribute(attr.name, attr.value) });\n      newScript.appendChild(document.createTextNode(oldScript.innerHTML));\n      oldScript.parentNode.replaceChild(newScript, oldScript);\n    });\n    if (JS_MIME_TYPE in output.data) {\n      toinsert[nchildren-1].children[1].textContent = output.data[JS_MIME_TYPE];\n    }\n    output_area._hv_plot_id = id;\n    if ((window.Bokeh !== undefined) && (id in Bokeh.index)) {\n      window.PyViz.plot_index[id] = Bokeh.index[id];\n    } else {\n      window.PyViz.plot_index[id] = null;\n    }\n  } else if (output.metadata[EXEC_MIME_TYPE][\"server_id\"] !== undefined) {\n    var bk_div = document.createElement(\"div\");\n    bk_div.innerHTML = output.data[HTML_MIME_TYPE];\n    var script_attrs = bk_div.children[0].attributes;\n    for (var i = 0; i < script_attrs.length; i++) {\n      toinsert[toinsert.length - 1].childNodes[1].setAttribute(script_attrs[i].name, script_attrs[i].value);\n    }\n    // store reference to server id on output_area\n    output_area._bokeh_server_id = output.metadata[EXEC_MIME_TYPE][\"server_id\"];\n  }\n}\n\n/**\n * Handle when an output is cleared or removed\n */\nfunction handle_clear_output(event, handle) {\n  var id = handle.cell.output_area._hv_plot_id;\n  var server_id = handle.cell.output_area._bokeh_server_id;\n  if (((id === undefined) || !(id in PyViz.plot_index)) && (server_id !== undefined)) { return; }\n  var comm = window.PyViz.comm_manager.get_client_comm(\"hv-extension-comm\", \"hv-extension-comm\", function () {});\n  if (server_id !== null) {\n    comm.send({event_type: 'server_delete', 'id': server_id});\n    return;\n  } else if (comm !== null) {\n    comm.send({event_type: 'delete', 'id': id});\n  }\n  delete PyViz.plot_index[id];\n  if ((window.Bokeh !== undefined) & (id in window.Bokeh.index)) {\n    var doc = window.Bokeh.index[id].model.document\n    doc.clear();\n    const i = window.Bokeh.documents.indexOf(doc);\n    if (i > -1) {\n      window.Bokeh.documents.splice(i, 1);\n    }\n  }\n}\n\n/**\n * Handle kernel restart event\n */\nfunction handle_kernel_cleanup(event, handle) {\n  delete PyViz.comms[\"hv-extension-comm\"];\n  window.PyViz.plot_index = {}\n}\n\n/**\n * Handle update_display_data messages\n */\nfunction handle_update_output(event, handle) {\n  handle_clear_output(event, {cell: {output_area: handle.output_area}})\n  handle_add_output(event, handle)\n}\n\nfunction register_renderer(events, OutputArea) {\n  function append_mime(data, metadata, element) {\n    // create a DOM node to render to\n    var toinsert = this.create_output_subarea(\n    metadata,\n    CLASS_NAME,\n    EXEC_MIME_TYPE\n    );\n    this.keyboard_manager.register_events(toinsert);\n    // Render to node\n    var props = {data: data, metadata: metadata[EXEC_MIME_TYPE]};\n    render(props, toinsert[0]);\n    element.append(toinsert);\n    return toinsert\n  }\n\n  events.on('output_added.OutputArea', handle_add_output);\n  events.on('output_updated.OutputArea', handle_update_output);\n  events.on('clear_output.CodeCell', handle_clear_output);\n  events.on('delete.Cell', handle_clear_output);\n  events.on('kernel_ready.Kernel', handle_kernel_cleanup);\n\n  OutputArea.prototype.register_mime_type(EXEC_MIME_TYPE, append_mime, {\n    safe: true,\n    index: 0\n  });\n}\n\nif (window.Jupyter !== undefined) {\n  try {\n    var events = require('base/js/events');\n    var OutputArea = require('notebook/js/outputarea').OutputArea;\n    if (OutputArea.prototype.mime_types().indexOf(EXEC_MIME_TYPE) == -1) {\n      register_renderer(events, OutputArea);\n    }\n  } catch(err) {\n  }\n}\n"
     },
     "metadata": {},
     "output_type": "display_data"
    }
   ],
   "source": [
    "\n",
    "# Import Libraries:\n",
    "import coinmetrics # Coinmetrics API\n",
    "from datetime import datetime, timedelta # Datetime Feature\n",
    "import pandas as pd # Import Pandas\n",
    "import panel as pn # Import Panel\n",
    "import plotly.express as px # Import Plotly\n",
    "pn.extension(\"plotly\")# Import Plotly Extension\n",
    "from pprint import pprint\n",
    "import requests\n",
    "import matplotlib.pyplot as plt\n",
    "import numpy as np\n",
    "import plotly.graph_objects as go\n",
    "\n",
    "\n",
    "# Initialize a reference object (in this case `cm` for the Coinmetrics Community API)\n",
    "cm = coinmetrics.Community()"
   ]
  },
  {
   "cell_type": "code",
   "execution_count": 3,
   "id": "ebd1b48e",
   "metadata": {},
   "outputs": [],
   "source": [
    "# API INPUTS\n",
    "asset = \"btc\"\n",
    "begin_timestamp = (datetime.now() - timedelta(days=90)).date()\n",
    "end_timestamp = (datetime.now() - timedelta(days=0)).date()\n",
    "# end_timestamp = datetime.now().date()\n",
    "\n",
    "\n",
    "# API OUTPUT\n",
    "# asset_data = requests.get(f\"https://community-api.coinmetrics.io/v4/timeseries/market-candles?start_time={begin_timestamp}&paging_from=start&markets=coinbase-{asset}-usd-spot&pretty=true\").json()\n",
    "asset_data = requests.get(f\"https://community-api.coinmetrics.io/v4/timeseries/market-candles?start_time={begin_timestamp}&end_time={end_timestamp}&paging_from=start&markets=coinbase-{asset}-usd-spot&pretty=true\").json()\n"
   ]
  },
  {
   "cell_type": "code",
   "execution_count": 4,
   "id": "22ff89bb",
   "metadata": {},
   "outputs": [
    {
     "data": {
      "text/html": [
       "<div>\n",
       "<style scoped>\n",
       "    .dataframe tbody tr th:only-of-type {\n",
       "        vertical-align: middle;\n",
       "    }\n",
       "\n",
       "    .dataframe tbody tr th {\n",
       "        vertical-align: top;\n",
       "    }\n",
       "\n",
       "    .dataframe thead th {\n",
       "        text-align: right;\n",
       "    }\n",
       "</style>\n",
       "<table border=\"1\" class=\"dataframe\">\n",
       "  <thead>\n",
       "    <tr style=\"text-align: right;\">\n",
       "      <th></th>\n",
       "      <th>date</th>\n",
       "      <th>open</th>\n",
       "      <th>close</th>\n",
       "      <th>high</th>\n",
       "      <th>low</th>\n",
       "      <th>volume</th>\n",
       "      <th>vwap</th>\n",
       "    </tr>\n",
       "  </thead>\n",
       "  <tbody>\n",
       "    <tr>\n",
       "      <th>85</th>\n",
       "      <td>2021-11-07T00:00:00.000000000Z</td>\n",
       "      <td>61,539.30</td>\n",
       "      <td>63,309.13</td>\n",
       "      <td>63,327.96</td>\n",
       "      <td>61,397.86</td>\n",
       "      <td>5,596.02</td>\n",
       "      <td>62,249.87</td>\n",
       "    </tr>\n",
       "    <tr>\n",
       "      <th>86</th>\n",
       "      <td>2021-11-08T00:00:00.000000000Z</td>\n",
       "      <td>63,309.12</td>\n",
       "      <td>67,554.84</td>\n",
       "      <td>67,792.77</td>\n",
       "      <td>63,309.12</td>\n",
       "      <td>17,661.87</td>\n",
       "      <td>65,687.68</td>\n",
       "    </tr>\n",
       "    <tr>\n",
       "      <th>87</th>\n",
       "      <td>2021-11-09T00:00:00.000000000Z</td>\n",
       "      <td>67,554.13</td>\n",
       "      <td>66,944.67</td>\n",
       "      <td>68,568.85</td>\n",
       "      <td>66,261.79</td>\n",
       "      <td>14,996.63</td>\n",
       "      <td>67,466.34</td>\n",
       "    </tr>\n",
       "    <tr>\n",
       "      <th>88</th>\n",
       "      <td>2021-11-10T00:00:00.000000000Z</td>\n",
       "      <td>66,938.76</td>\n",
       "      <td>64,912.20</td>\n",
       "      <td>69,000.00</td>\n",
       "      <td>62,800.00</td>\n",
       "      <td>19,030.25</td>\n",
       "      <td>66,764.93</td>\n",
       "    </tr>\n",
       "    <tr>\n",
       "      <th>89</th>\n",
       "      <td>2021-11-11T00:00:00.000000000Z</td>\n",
       "      <td>64,912.20</td>\n",
       "      <td>64,807.74</td>\n",
       "      <td>65,600.00</td>\n",
       "      <td>64,133.78</td>\n",
       "      <td>10,259.51</td>\n",
       "      <td>64,897.58</td>\n",
       "    </tr>\n",
       "  </tbody>\n",
       "</table>\n",
       "</div>"
      ],
      "text/plain": [
       "                              date      open     close      high       low  \\\n",
       "85  2021-11-07T00:00:00.000000000Z 61,539.30 63,309.13 63,327.96 61,397.86   \n",
       "86  2021-11-08T00:00:00.000000000Z 63,309.12 67,554.84 67,792.77 63,309.12   \n",
       "87  2021-11-09T00:00:00.000000000Z 67,554.13 66,944.67 68,568.85 66,261.79   \n",
       "88  2021-11-10T00:00:00.000000000Z 66,938.76 64,912.20 69,000.00 62,800.00   \n",
       "89  2021-11-11T00:00:00.000000000Z 64,912.20 64,807.74 65,600.00 64,133.78   \n",
       "\n",
       "      volume      vwap  \n",
       "85  5,596.02 62,249.87  \n",
       "86 17,661.87 65,687.68  \n",
       "87 14,996.63 67,466.34  \n",
       "88 19,030.25 66,764.93  \n",
       "89 10,259.51 64,897.58  "
      ]
     },
     "execution_count": 4,
     "metadata": {},
     "output_type": "execute_result"
    }
   ],
   "source": [
    "# Initiate clean dictionary\n",
    "data_dictionary = {\n",
    "    \"date\" : [],\n",
    "    \"open\" : [],\n",
    "    \"close\" : [],\n",
    "    \"high\" : [],\n",
    "    \"low\" : [],\n",
    "    \"volume\" : [],\n",
    "    \"vwap\" : [], \n",
    "}\n",
    "\n",
    "# Use For Loop to interate through data into dictionary\n",
    "for entry in asset_data['data']:\n",
    "    data_dictionary['date'].append(entry['time'])\n",
    "    data_dictionary['open'].append(float(entry['price_open']))\n",
    "    data_dictionary['close'].append(float(entry['price_close']))\n",
    "    data_dictionary['high'].append(float(entry['price_high']))\n",
    "    data_dictionary['low'].append(float(entry['price_low']))\n",
    "    data_dictionary['volume'].append(float(entry['volume']))\n",
    "    data_dictionary['vwap'].append(float(entry['vwap']))\n",
    "\n",
    "\n",
    "    \n",
    "#     {'data': [{'candle_trades_count': '301135',\n",
    "#            'candle_usd_volume': '547725314.072704441370172316698874',\n",
    "#            'market': 'coinbase-btc-usd-spot',\n",
    "#            'price_close': '47833.64',\n",
    "#            'price_high': '47953.9',\n",
    "#            'price_low': '44249.64',\n",
    "#            'price_open': '44422.15',\n",
    "#            'time': '2021-08-13T00:00:00.000000000Z',\n",
    "#            'volume': '11794.94196257',\n",
    "#            'vwap': '46437.30472018029'},\n",
    "\n",
    "asset_data_df = pd.DataFrame.from_dict(data_dictionary)\n",
    "pd.options.display.float_format = \"{:,.2f}\".format\n",
    "# INSERT HERE >>> FIND WAY TO CLEAN DATE DATA\n",
    "asset_data_df.tail()"
   ]
  },
  {
   "cell_type": "code",
   "execution_count": 5,
   "id": "0408292b",
   "metadata": {},
   "outputs": [],
   "source": [
    "bb_df= asset_data_df"
   ]
  },
  {
   "cell_type": "code",
   "execution_count": 6,
   "id": "b2d4246f",
   "metadata": {},
   "outputs": [
    {
     "data": {
      "text/html": [
       "<div>\n",
       "<style scoped>\n",
       "    .dataframe tbody tr th:only-of-type {\n",
       "        vertical-align: middle;\n",
       "    }\n",
       "\n",
       "    .dataframe tbody tr th {\n",
       "        vertical-align: top;\n",
       "    }\n",
       "\n",
       "    .dataframe thead th {\n",
       "        text-align: right;\n",
       "    }\n",
       "</style>\n",
       "<table border=\"1\" class=\"dataframe\">\n",
       "  <thead>\n",
       "    <tr style=\"text-align: right;\">\n",
       "      <th></th>\n",
       "      <th>date</th>\n",
       "      <th>open</th>\n",
       "      <th>close</th>\n",
       "      <th>high</th>\n",
       "      <th>low</th>\n",
       "      <th>volume</th>\n",
       "      <th>vwap</th>\n",
       "      <th>sma</th>\n",
       "    </tr>\n",
       "  </thead>\n",
       "  <tbody>\n",
       "    <tr>\n",
       "      <th>85</th>\n",
       "      <td>2021-11-07T00:00:00.000000000Z</td>\n",
       "      <td>61,539.30</td>\n",
       "      <td>63,309.13</td>\n",
       "      <td>63,327.96</td>\n",
       "      <td>61,397.86</td>\n",
       "      <td>5,596.02</td>\n",
       "      <td>62,249.87</td>\n",
       "      <td>61,890.37</td>\n",
       "    </tr>\n",
       "    <tr>\n",
       "      <th>86</th>\n",
       "      <td>2021-11-08T00:00:00.000000000Z</td>\n",
       "      <td>63,309.12</td>\n",
       "      <td>67,554.84</td>\n",
       "      <td>67,792.77</td>\n",
       "      <td>63,309.12</td>\n",
       "      <td>17,661.87</td>\n",
       "      <td>65,687.68</td>\n",
       "      <td>62,052.96</td>\n",
       "    </tr>\n",
       "    <tr>\n",
       "      <th>87</th>\n",
       "      <td>2021-11-09T00:00:00.000000000Z</td>\n",
       "      <td>67,554.13</td>\n",
       "      <td>66,944.67</td>\n",
       "      <td>68,568.85</td>\n",
       "      <td>66,261.79</td>\n",
       "      <td>14,996.63</td>\n",
       "      <td>67,466.34</td>\n",
       "      <td>62,098.87</td>\n",
       "    </tr>\n",
       "    <tr>\n",
       "      <th>88</th>\n",
       "      <td>2021-11-10T00:00:00.000000000Z</td>\n",
       "      <td>66,938.76</td>\n",
       "      <td>64,912.20</td>\n",
       "      <td>69,000.00</td>\n",
       "      <td>62,800.00</td>\n",
       "      <td>19,030.25</td>\n",
       "      <td>66,764.93</td>\n",
       "      <td>62,234.27</td>\n",
       "    </tr>\n",
       "    <tr>\n",
       "      <th>89</th>\n",
       "      <td>2021-11-11T00:00:00.000000000Z</td>\n",
       "      <td>64,912.20</td>\n",
       "      <td>64,807.74</td>\n",
       "      <td>65,600.00</td>\n",
       "      <td>64,133.78</td>\n",
       "      <td>10,259.51</td>\n",
       "      <td>64,897.58</td>\n",
       "      <td>62,440.28</td>\n",
       "    </tr>\n",
       "  </tbody>\n",
       "</table>\n",
       "</div>"
      ],
      "text/plain": [
       "                              date      open     close      high       low  \\\n",
       "85  2021-11-07T00:00:00.000000000Z 61,539.30 63,309.13 63,327.96 61,397.86   \n",
       "86  2021-11-08T00:00:00.000000000Z 63,309.12 67,554.84 67,792.77 63,309.12   \n",
       "87  2021-11-09T00:00:00.000000000Z 67,554.13 66,944.67 68,568.85 66,261.79   \n",
       "88  2021-11-10T00:00:00.000000000Z 66,938.76 64,912.20 69,000.00 62,800.00   \n",
       "89  2021-11-11T00:00:00.000000000Z 64,912.20 64,807.74 65,600.00 64,133.78   \n",
       "\n",
       "      volume      vwap       sma  \n",
       "85  5,596.02 62,249.87 61,890.37  \n",
       "86 17,661.87 65,687.68 62,052.96  \n",
       "87 14,996.63 67,466.34 62,098.87  \n",
       "88 19,030.25 66,764.93 62,234.27  \n",
       "89 10,259.51 64,897.58 62,440.28  "
      ]
     },
     "execution_count": 6,
     "metadata": {},
     "output_type": "execute_result"
    }
   ],
   "source": [
    "def sma(data, window):\n",
    "    return(data.rolling(window = window).mean())\n",
    "sma(bb_df['close'], window = 20)\n",
    "\n",
    "bb_df['sma'] = sma(bb_df['close'],20)\n",
    "bb_df.tail()"
   ]
  },
  {
   "cell_type": "code",
   "execution_count": 7,
   "id": "e976dfbe",
   "metadata": {},
   "outputs": [
    {
     "data": {
      "text/html": [
       "<div>\n",
       "<style scoped>\n",
       "    .dataframe tbody tr th:only-of-type {\n",
       "        vertical-align: middle;\n",
       "    }\n",
       "\n",
       "    .dataframe tbody tr th {\n",
       "        vertical-align: top;\n",
       "    }\n",
       "\n",
       "    .dataframe thead th {\n",
       "        text-align: right;\n",
       "    }\n",
       "</style>\n",
       "<table border=\"1\" class=\"dataframe\">\n",
       "  <thead>\n",
       "    <tr style=\"text-align: right;\">\n",
       "      <th></th>\n",
       "      <th>date</th>\n",
       "      <th>open</th>\n",
       "      <th>close</th>\n",
       "      <th>high</th>\n",
       "      <th>low</th>\n",
       "      <th>volume</th>\n",
       "      <th>vwap</th>\n",
       "      <th>sma</th>\n",
       "      <th>upper_band</th>\n",
       "      <th>lower_band</th>\n",
       "    </tr>\n",
       "  </thead>\n",
       "  <tbody>\n",
       "    <tr>\n",
       "      <th>85</th>\n",
       "      <td>2021-11-07T00:00:00.000000000Z</td>\n",
       "      <td>61,539.30</td>\n",
       "      <td>63,309.13</td>\n",
       "      <td>63,327.96</td>\n",
       "      <td>61,397.86</td>\n",
       "      <td>5,596.02</td>\n",
       "      <td>62,249.87</td>\n",
       "      <td>61,890.37</td>\n",
       "      <td>65,155.88</td>\n",
       "      <td>58,624.87</td>\n",
       "    </tr>\n",
       "    <tr>\n",
       "      <th>86</th>\n",
       "      <td>2021-11-08T00:00:00.000000000Z</td>\n",
       "      <td>63,309.12</td>\n",
       "      <td>67,554.84</td>\n",
       "      <td>67,792.77</td>\n",
       "      <td>63,309.12</td>\n",
       "      <td>17,661.87</td>\n",
       "      <td>65,687.68</td>\n",
       "      <td>62,052.96</td>\n",
       "      <td>66,063.15</td>\n",
       "      <td>58,042.77</td>\n",
       "    </tr>\n",
       "    <tr>\n",
       "      <th>87</th>\n",
       "      <td>2021-11-09T00:00:00.000000000Z</td>\n",
       "      <td>67,554.13</td>\n",
       "      <td>66,944.67</td>\n",
       "      <td>68,568.85</td>\n",
       "      <td>66,261.79</td>\n",
       "      <td>14,996.63</td>\n",
       "      <td>67,466.34</td>\n",
       "      <td>62,098.87</td>\n",
       "      <td>66,316.25</td>\n",
       "      <td>57,881.48</td>\n",
       "    </tr>\n",
       "    <tr>\n",
       "      <th>88</th>\n",
       "      <td>2021-11-10T00:00:00.000000000Z</td>\n",
       "      <td>66,938.76</td>\n",
       "      <td>64,912.20</td>\n",
       "      <td>69,000.00</td>\n",
       "      <td>62,800.00</td>\n",
       "      <td>19,030.25</td>\n",
       "      <td>66,764.93</td>\n",
       "      <td>62,234.27</td>\n",
       "      <td>66,635.76</td>\n",
       "      <td>57,832.79</td>\n",
       "    </tr>\n",
       "    <tr>\n",
       "      <th>89</th>\n",
       "      <td>2021-11-11T00:00:00.000000000Z</td>\n",
       "      <td>64,912.20</td>\n",
       "      <td>64,807.74</td>\n",
       "      <td>65,600.00</td>\n",
       "      <td>64,133.78</td>\n",
       "      <td>10,259.51</td>\n",
       "      <td>64,897.58</td>\n",
       "      <td>62,440.28</td>\n",
       "      <td>66,921.92</td>\n",
       "      <td>57,958.64</td>\n",
       "    </tr>\n",
       "  </tbody>\n",
       "</table>\n",
       "</div>"
      ],
      "text/plain": [
       "                              date      open     close      high       low  \\\n",
       "85  2021-11-07T00:00:00.000000000Z 61,539.30 63,309.13 63,327.96 61,397.86   \n",
       "86  2021-11-08T00:00:00.000000000Z 63,309.12 67,554.84 67,792.77 63,309.12   \n",
       "87  2021-11-09T00:00:00.000000000Z 67,554.13 66,944.67 68,568.85 66,261.79   \n",
       "88  2021-11-10T00:00:00.000000000Z 66,938.76 64,912.20 69,000.00 62,800.00   \n",
       "89  2021-11-11T00:00:00.000000000Z 64,912.20 64,807.74 65,600.00 64,133.78   \n",
       "\n",
       "      volume      vwap       sma  upper_band  lower_band  \n",
       "85  5,596.02 62,249.87 61,890.37   65,155.88   58,624.87  \n",
       "86 17,661.87 65,687.68 62,052.96   66,063.15   58,042.77  \n",
       "87 14,996.63 67,466.34 62,098.87   66,316.25   57,881.48  \n",
       "88 19,030.25 66,764.93 62,234.27   66,635.76   57,832.79  \n",
       "89 10,259.51 64,897.58 62,440.28   66,921.92   57,958.64  "
      ]
     },
     "execution_count": 7,
     "metadata": {},
     "output_type": "execute_result"
    }
   ],
   "source": [
    "def bb(data, sma, window):\n",
    "    std = data.rolling(window=window).std()\n",
    "    upper_band = sma + std * 2\n",
    "    lower_band = sma -std * 2\n",
    "    return upper_band, lower_band\n",
    "bb_df['upper_band'],bb_df['lower_band'] = bb(bb_df['close'], bb_df['sma'],20)\n",
    "bb_df.tail()"
   ]
  },
  {
   "cell_type": "code",
   "execution_count": 8,
   "id": "92a64ec5",
   "metadata": {},
   "outputs": [],
   "source": [
    "bb_df.dropna(inplace=True)\n",
    "bb_df = bb_df.set_index(pd.DatetimeIndex(bb_df['date']))\n",
    "df= bb_df"
   ]
  },
  {
   "cell_type": "code",
   "execution_count": 12,
   "id": "61b2d12b",
   "metadata": {},
   "outputs": [],
   "source": [
    "def signals(data, lower_band, upper_band):\n",
    "    buy_price = []\n",
    "    sell_price = []\n",
    "    signal = 0\n",
    "\n",
    "    for i in range(len(data)):\n",
    "        \n",
    "        if df['close'][i] < df['lower_band'][i]:\n",
    "            if signal != 1:\n",
    "                buy_price.append(data[i])\n",
    "                sell_price.append(np.nan)\n",
    "                signal = 1\n",
    "           \n",
    "            else:\n",
    "                buy_price.append(np.nan)\n",
    "                sell_price.append(np.nan)\n",
    "                signal = 0\n",
    "            \n",
    "        elif df['close'][i] > df['upper_band'][i]:\n",
    "            if signal !=-1:\n",
    "                buy_price.append(np.nan)\n",
    "                sell_price.append(data[i])\n",
    "                signal = -1\n",
    "            \n",
    "            else: \n",
    "                buy_price.append(np.nan)\n",
    "                sell_price.append(np.nan)\n",
    "                signal = 0\n",
    "        \n",
    "        else:\n",
    "            buy_price.append(np.nan)\n",
    "            sell_price.append(np.nan)\n",
    "            signal = 0\n",
    "        \n",
    "    return buy_price, sell_price, signal\n",
    "   \n",
    "    \n",
    "\n",
    "        \n",
    "\n",
    "df['buy_price'],df['sell_price'],df['signal'] = signals(df['close'], df['lower_band'], df['upper_band'])"
   ]
  },
  {
   "cell_type": "code",
   "execution_count": 13,
   "id": "25781876",
   "metadata": {},
   "outputs": [
    {
     "data": {
      "text/html": [
       "<div>\n",
       "<style scoped>\n",
       "    .dataframe tbody tr th:only-of-type {\n",
       "        vertical-align: middle;\n",
       "    }\n",
       "\n",
       "    .dataframe tbody tr th {\n",
       "        vertical-align: top;\n",
       "    }\n",
       "\n",
       "    .dataframe thead th {\n",
       "        text-align: right;\n",
       "    }\n",
       "</style>\n",
       "<table border=\"1\" class=\"dataframe\">\n",
       "  <thead>\n",
       "    <tr style=\"text-align: right;\">\n",
       "      <th></th>\n",
       "      <th>date</th>\n",
       "      <th>open</th>\n",
       "      <th>close</th>\n",
       "      <th>high</th>\n",
       "      <th>low</th>\n",
       "      <th>volume</th>\n",
       "      <th>vwap</th>\n",
       "      <th>sma</th>\n",
       "      <th>upper_band</th>\n",
       "      <th>lower_band</th>\n",
       "      <th>buy_price</th>\n",
       "      <th>sell_price</th>\n",
       "      <th>signal</th>\n",
       "    </tr>\n",
       "    <tr>\n",
       "      <th>date</th>\n",
       "      <th></th>\n",
       "      <th></th>\n",
       "      <th></th>\n",
       "      <th></th>\n",
       "      <th></th>\n",
       "      <th></th>\n",
       "      <th></th>\n",
       "      <th></th>\n",
       "      <th></th>\n",
       "      <th></th>\n",
       "      <th></th>\n",
       "      <th></th>\n",
       "      <th></th>\n",
       "    </tr>\n",
       "  </thead>\n",
       "  <tbody>\n",
       "    <tr>\n",
       "      <th>2021-09-02 00:00:00+00:00</th>\n",
       "      <td>2021-09-02T00:00:00.000000000Z</td>\n",
       "      <td>48,834.27</td>\n",
       "      <td>49,279.37</td>\n",
       "      <td>50,392.19</td>\n",
       "      <td>48,620.73</td>\n",
       "      <td>14,120.38</td>\n",
       "      <td>49,684.35</td>\n",
       "      <td>47,787.33</td>\n",
       "      <td>50,844.42</td>\n",
       "      <td>44,730.24</td>\n",
       "      <td>NaN</td>\n",
       "      <td>NaN</td>\n",
       "      <td>0</td>\n",
       "    </tr>\n",
       "    <tr>\n",
       "      <th>2021-09-03 00:00:00+00:00</th>\n",
       "      <td>2021-09-03T00:00:00.000000000Z</td>\n",
       "      <td>49,279.38</td>\n",
       "      <td>50,025.00</td>\n",
       "      <td>51,064.44</td>\n",
       "      <td>48,349.66</td>\n",
       "      <td>14,577.23</td>\n",
       "      <td>50,032.04</td>\n",
       "      <td>47,933.10</td>\n",
       "      <td>51,129.00</td>\n",
       "      <td>44,737.20</td>\n",
       "      <td>NaN</td>\n",
       "      <td>NaN</td>\n",
       "      <td>0</td>\n",
       "    </tr>\n",
       "    <tr>\n",
       "      <th>2021-09-04 00:00:00+00:00</th>\n",
       "      <td>2021-09-04T00:00:00.000000000Z</td>\n",
       "      <td>50,025.00</td>\n",
       "      <td>49,942.98</td>\n",
       "      <td>50,558.75</td>\n",
       "      <td>49,400.00</td>\n",
       "      <td>7,595.49</td>\n",
       "      <td>50,014.31</td>\n",
       "      <td>48,079.52</td>\n",
       "      <td>51,365.30</td>\n",
       "      <td>44,793.75</td>\n",
       "      <td>NaN</td>\n",
       "      <td>NaN</td>\n",
       "      <td>0</td>\n",
       "    </tr>\n",
       "    <tr>\n",
       "      <th>2021-09-05 00:00:00+00:00</th>\n",
       "      <td>2021-09-05T00:00:00.000000000Z</td>\n",
       "      <td>49,944.89</td>\n",
       "      <td>51,789.17</td>\n",
       "      <td>51,907.08</td>\n",
       "      <td>49,500.00</td>\n",
       "      <td>7,743.93</td>\n",
       "      <td>50,658.49</td>\n",
       "      <td>48,373.86</td>\n",
       "      <td>51,885.40</td>\n",
       "      <td>44,862.32</td>\n",
       "      <td>NaN</td>\n",
       "      <td>NaN</td>\n",
       "      <td>0</td>\n",
       "    </tr>\n",
       "    <tr>\n",
       "      <th>2021-09-06 00:00:00+00:00</th>\n",
       "      <td>2021-09-06T00:00:00.000000000Z</td>\n",
       "      <td>51,789.17</td>\n",
       "      <td>52,698.81</td>\n",
       "      <td>52,802.03</td>\n",
       "      <td>51,020.08</td>\n",
       "      <td>9,571.75</td>\n",
       "      <td>51,859.41</td>\n",
       "      <td>48,775.22</td>\n",
       "      <td>52,339.61</td>\n",
       "      <td>45,210.83</td>\n",
       "      <td>NaN</td>\n",
       "      <td>52,698.81</td>\n",
       "      <td>0</td>\n",
       "    </tr>\n",
       "    <tr>\n",
       "      <th>...</th>\n",
       "      <td>...</td>\n",
       "      <td>...</td>\n",
       "      <td>...</td>\n",
       "      <td>...</td>\n",
       "      <td>...</td>\n",
       "      <td>...</td>\n",
       "      <td>...</td>\n",
       "      <td>...</td>\n",
       "      <td>...</td>\n",
       "      <td>...</td>\n",
       "      <td>...</td>\n",
       "      <td>...</td>\n",
       "      <td>...</td>\n",
       "    </tr>\n",
       "    <tr>\n",
       "      <th>2021-11-07 00:00:00+00:00</th>\n",
       "      <td>2021-11-07T00:00:00.000000000Z</td>\n",
       "      <td>61,539.30</td>\n",
       "      <td>63,309.13</td>\n",
       "      <td>63,327.96</td>\n",
       "      <td>61,397.86</td>\n",
       "      <td>5,596.02</td>\n",
       "      <td>62,249.87</td>\n",
       "      <td>61,890.37</td>\n",
       "      <td>65,155.88</td>\n",
       "      <td>58,624.87</td>\n",
       "      <td>NaN</td>\n",
       "      <td>NaN</td>\n",
       "      <td>0</td>\n",
       "    </tr>\n",
       "    <tr>\n",
       "      <th>2021-11-08 00:00:00+00:00</th>\n",
       "      <td>2021-11-08T00:00:00.000000000Z</td>\n",
       "      <td>63,309.12</td>\n",
       "      <td>67,554.84</td>\n",
       "      <td>67,792.77</td>\n",
       "      <td>63,309.12</td>\n",
       "      <td>17,661.87</td>\n",
       "      <td>65,687.68</td>\n",
       "      <td>62,052.96</td>\n",
       "      <td>66,063.15</td>\n",
       "      <td>58,042.77</td>\n",
       "      <td>NaN</td>\n",
       "      <td>67,554.84</td>\n",
       "      <td>0</td>\n",
       "    </tr>\n",
       "    <tr>\n",
       "      <th>2021-11-09 00:00:00+00:00</th>\n",
       "      <td>2021-11-09T00:00:00.000000000Z</td>\n",
       "      <td>67,554.13</td>\n",
       "      <td>66,944.67</td>\n",
       "      <td>68,568.85</td>\n",
       "      <td>66,261.79</td>\n",
       "      <td>14,996.63</td>\n",
       "      <td>67,466.34</td>\n",
       "      <td>62,098.87</td>\n",
       "      <td>66,316.25</td>\n",
       "      <td>57,881.48</td>\n",
       "      <td>NaN</td>\n",
       "      <td>NaN</td>\n",
       "      <td>0</td>\n",
       "    </tr>\n",
       "    <tr>\n",
       "      <th>2021-11-10 00:00:00+00:00</th>\n",
       "      <td>2021-11-10T00:00:00.000000000Z</td>\n",
       "      <td>66,938.76</td>\n",
       "      <td>64,912.20</td>\n",
       "      <td>69,000.00</td>\n",
       "      <td>62,800.00</td>\n",
       "      <td>19,030.25</td>\n",
       "      <td>66,764.93</td>\n",
       "      <td>62,234.27</td>\n",
       "      <td>66,635.76</td>\n",
       "      <td>57,832.79</td>\n",
       "      <td>NaN</td>\n",
       "      <td>NaN</td>\n",
       "      <td>0</td>\n",
       "    </tr>\n",
       "    <tr>\n",
       "      <th>2021-11-11 00:00:00+00:00</th>\n",
       "      <td>2021-11-11T00:00:00.000000000Z</td>\n",
       "      <td>64,912.20</td>\n",
       "      <td>64,807.74</td>\n",
       "      <td>65,600.00</td>\n",
       "      <td>64,133.78</td>\n",
       "      <td>10,259.51</td>\n",
       "      <td>64,897.58</td>\n",
       "      <td>62,440.28</td>\n",
       "      <td>66,921.92</td>\n",
       "      <td>57,958.64</td>\n",
       "      <td>NaN</td>\n",
       "      <td>NaN</td>\n",
       "      <td>0</td>\n",
       "    </tr>\n",
       "  </tbody>\n",
       "</table>\n",
       "<p>71 rows × 13 columns</p>\n",
       "</div>"
      ],
      "text/plain": [
       "                                                     date      open     close  \\\n",
       "date                                                                            \n",
       "2021-09-02 00:00:00+00:00  2021-09-02T00:00:00.000000000Z 48,834.27 49,279.37   \n",
       "2021-09-03 00:00:00+00:00  2021-09-03T00:00:00.000000000Z 49,279.38 50,025.00   \n",
       "2021-09-04 00:00:00+00:00  2021-09-04T00:00:00.000000000Z 50,025.00 49,942.98   \n",
       "2021-09-05 00:00:00+00:00  2021-09-05T00:00:00.000000000Z 49,944.89 51,789.17   \n",
       "2021-09-06 00:00:00+00:00  2021-09-06T00:00:00.000000000Z 51,789.17 52,698.81   \n",
       "...                                                   ...       ...       ...   \n",
       "2021-11-07 00:00:00+00:00  2021-11-07T00:00:00.000000000Z 61,539.30 63,309.13   \n",
       "2021-11-08 00:00:00+00:00  2021-11-08T00:00:00.000000000Z 63,309.12 67,554.84   \n",
       "2021-11-09 00:00:00+00:00  2021-11-09T00:00:00.000000000Z 67,554.13 66,944.67   \n",
       "2021-11-10 00:00:00+00:00  2021-11-10T00:00:00.000000000Z 66,938.76 64,912.20   \n",
       "2021-11-11 00:00:00+00:00  2021-11-11T00:00:00.000000000Z 64,912.20 64,807.74   \n",
       "\n",
       "                               high       low    volume      vwap       sma  \\\n",
       "date                                                                          \n",
       "2021-09-02 00:00:00+00:00 50,392.19 48,620.73 14,120.38 49,684.35 47,787.33   \n",
       "2021-09-03 00:00:00+00:00 51,064.44 48,349.66 14,577.23 50,032.04 47,933.10   \n",
       "2021-09-04 00:00:00+00:00 50,558.75 49,400.00  7,595.49 50,014.31 48,079.52   \n",
       "2021-09-05 00:00:00+00:00 51,907.08 49,500.00  7,743.93 50,658.49 48,373.86   \n",
       "2021-09-06 00:00:00+00:00 52,802.03 51,020.08  9,571.75 51,859.41 48,775.22   \n",
       "...                             ...       ...       ...       ...       ...   \n",
       "2021-11-07 00:00:00+00:00 63,327.96 61,397.86  5,596.02 62,249.87 61,890.37   \n",
       "2021-11-08 00:00:00+00:00 67,792.77 63,309.12 17,661.87 65,687.68 62,052.96   \n",
       "2021-11-09 00:00:00+00:00 68,568.85 66,261.79 14,996.63 67,466.34 62,098.87   \n",
       "2021-11-10 00:00:00+00:00 69,000.00 62,800.00 19,030.25 66,764.93 62,234.27   \n",
       "2021-11-11 00:00:00+00:00 65,600.00 64,133.78 10,259.51 64,897.58 62,440.28   \n",
       "\n",
       "                           upper_band  lower_band  buy_price  sell_price  \\\n",
       "date                                                                       \n",
       "2021-09-02 00:00:00+00:00   50,844.42   44,730.24        NaN         NaN   \n",
       "2021-09-03 00:00:00+00:00   51,129.00   44,737.20        NaN         NaN   \n",
       "2021-09-04 00:00:00+00:00   51,365.30   44,793.75        NaN         NaN   \n",
       "2021-09-05 00:00:00+00:00   51,885.40   44,862.32        NaN         NaN   \n",
       "2021-09-06 00:00:00+00:00   52,339.61   45,210.83        NaN   52,698.81   \n",
       "...                               ...         ...        ...         ...   \n",
       "2021-11-07 00:00:00+00:00   65,155.88   58,624.87        NaN         NaN   \n",
       "2021-11-08 00:00:00+00:00   66,063.15   58,042.77        NaN   67,554.84   \n",
       "2021-11-09 00:00:00+00:00   66,316.25   57,881.48        NaN         NaN   \n",
       "2021-11-10 00:00:00+00:00   66,635.76   57,832.79        NaN         NaN   \n",
       "2021-11-11 00:00:00+00:00   66,921.92   57,958.64        NaN         NaN   \n",
       "\n",
       "                           signal  \n",
       "date                               \n",
       "2021-09-02 00:00:00+00:00       0  \n",
       "2021-09-03 00:00:00+00:00       0  \n",
       "2021-09-04 00:00:00+00:00       0  \n",
       "2021-09-05 00:00:00+00:00       0  \n",
       "2021-09-06 00:00:00+00:00       0  \n",
       "...                           ...  \n",
       "2021-11-07 00:00:00+00:00       0  \n",
       "2021-11-08 00:00:00+00:00       0  \n",
       "2021-11-09 00:00:00+00:00       0  \n",
       "2021-11-10 00:00:00+00:00       0  \n",
       "2021-11-11 00:00:00+00:00       0  \n",
       "\n",
       "[71 rows x 13 columns]"
      ]
     },
     "execution_count": 13,
     "metadata": {},
     "output_type": "execute_result"
    }
   ],
   "source": [
    "df"
   ]
  },
  {
   "cell_type": "code",
   "execution_count": 14,
   "id": "b2f0f08c",
   "metadata": {},
   "outputs": [
    {
     "data": {
      "application/vnd.plotly.v1+json": {
       "config": {
        "plotlyServerURL": "https://plot.ly"
       },
       "data": [
        {
         "line": {
          "color": "grey",
          "width": 0.8
         },
         "name": "SMA",
         "type": "scatter",
         "x": [
          "2021-09-02T00:00:00+00:00",
          "2021-09-03T00:00:00+00:00",
          "2021-09-04T00:00:00+00:00",
          "2021-09-05T00:00:00+00:00",
          "2021-09-06T00:00:00+00:00",
          "2021-09-07T00:00:00+00:00",
          "2021-09-08T00:00:00+00:00",
          "2021-09-09T00:00:00+00:00",
          "2021-09-10T00:00:00+00:00",
          "2021-09-11T00:00:00+00:00",
          "2021-09-12T00:00:00+00:00",
          "2021-09-13T00:00:00+00:00",
          "2021-09-14T00:00:00+00:00",
          "2021-09-15T00:00:00+00:00",
          "2021-09-16T00:00:00+00:00",
          "2021-09-17T00:00:00+00:00",
          "2021-09-18T00:00:00+00:00",
          "2021-09-19T00:00:00+00:00",
          "2021-09-20T00:00:00+00:00",
          "2021-09-21T00:00:00+00:00",
          "2021-09-22T00:00:00+00:00",
          "2021-09-23T00:00:00+00:00",
          "2021-09-24T00:00:00+00:00",
          "2021-09-25T00:00:00+00:00",
          "2021-09-26T00:00:00+00:00",
          "2021-09-27T00:00:00+00:00",
          "2021-09-28T00:00:00+00:00",
          "2021-09-29T00:00:00+00:00",
          "2021-09-30T00:00:00+00:00",
          "2021-10-01T00:00:00+00:00",
          "2021-10-02T00:00:00+00:00",
          "2021-10-03T00:00:00+00:00",
          "2021-10-04T00:00:00+00:00",
          "2021-10-05T00:00:00+00:00",
          "2021-10-06T00:00:00+00:00",
          "2021-10-07T00:00:00+00:00",
          "2021-10-08T00:00:00+00:00",
          "2021-10-09T00:00:00+00:00",
          "2021-10-10T00:00:00+00:00",
          "2021-10-11T00:00:00+00:00",
          "2021-10-12T00:00:00+00:00",
          "2021-10-13T00:00:00+00:00",
          "2021-10-14T00:00:00+00:00",
          "2021-10-15T00:00:00+00:00",
          "2021-10-16T00:00:00+00:00",
          "2021-10-17T00:00:00+00:00",
          "2021-10-18T00:00:00+00:00",
          "2021-10-19T00:00:00+00:00",
          "2021-10-20T00:00:00+00:00",
          "2021-10-21T00:00:00+00:00",
          "2021-10-22T00:00:00+00:00",
          "2021-10-23T00:00:00+00:00",
          "2021-10-24T00:00:00+00:00",
          "2021-10-25T00:00:00+00:00",
          "2021-10-26T00:00:00+00:00",
          "2021-10-27T00:00:00+00:00",
          "2021-10-28T00:00:00+00:00",
          "2021-10-29T00:00:00+00:00",
          "2021-10-30T00:00:00+00:00",
          "2021-10-31T00:00:00+00:00",
          "2021-11-01T00:00:00+00:00",
          "2021-11-02T00:00:00+00:00",
          "2021-11-03T00:00:00+00:00",
          "2021-11-04T00:00:00+00:00",
          "2021-11-05T00:00:00+00:00",
          "2021-11-06T00:00:00+00:00",
          "2021-11-07T00:00:00+00:00",
          "2021-11-08T00:00:00+00:00",
          "2021-11-09T00:00:00+00:00",
          "2021-11-10T00:00:00+00:00",
          "2021-11-11T00:00:00+00:00"
         ],
         "y": [
          47787.3315,
          47933.099,
          48079.523499999996,
          48373.859000000004,
          48775.220499999996,
          48884.5465,
          48849.057499999995,
          48701.9375,
          48501.159,
          48295.519,
          48121.4055,
          47984.669,
          47891.6635,
          47956.496,
          47890.2755,
          47808.3035,
          47783.9025,
          47797.013,
          47592.0365,
          47186.023499999996,
          46900.81,
          46644.4395,
          46289.7365,
          45835.553499999995,
          45359.514,
          45123.377,
          44871.6625,
          44627.7705,
          44576.4195,
          44726.116,
          44807.789000000004,
          44972.10249999999,
          45078.0185,
          45245.312,
          45624.628,
          45949.344,
          46231.807,
          46617.1255,
          47201.003500000006,
          48039.3955,
          48660.8955,
          49284.382,
          50009.9115,
          50959.406,
          51844.376000000004,
          52812.143500000006,
          53862.9605,
          55002.0095,
          56112.115000000005,
          56814.028000000006,
          57465.5255,
          58118.82649999999,
          58699.27350000001,
          59278.75099999999,
          59528.657999999996,
          59761.5405,
          60092.93200000001,
          60458.6535,
          60818.7475,
          61011.56,
          61258.78199999999,
          61553.741500000004,
          61832.5365,
          61819.99149999999,
          61826.428,
          61827.038,
          61890.373999999996,
          62052.95900000001,
          62098.8655,
          62234.2745,
          62440.27949999999
         ]
        },
        {
         "line": {
          "color": "blue",
          "dash": "dot",
          "width": 1
         },
         "name": "Upper Band",
         "type": "scatter",
         "x": [
          "2021-09-02T00:00:00+00:00",
          "2021-09-03T00:00:00+00:00",
          "2021-09-04T00:00:00+00:00",
          "2021-09-05T00:00:00+00:00",
          "2021-09-06T00:00:00+00:00",
          "2021-09-07T00:00:00+00:00",
          "2021-09-08T00:00:00+00:00",
          "2021-09-09T00:00:00+00:00",
          "2021-09-10T00:00:00+00:00",
          "2021-09-11T00:00:00+00:00",
          "2021-09-12T00:00:00+00:00",
          "2021-09-13T00:00:00+00:00",
          "2021-09-14T00:00:00+00:00",
          "2021-09-15T00:00:00+00:00",
          "2021-09-16T00:00:00+00:00",
          "2021-09-17T00:00:00+00:00",
          "2021-09-18T00:00:00+00:00",
          "2021-09-19T00:00:00+00:00",
          "2021-09-20T00:00:00+00:00",
          "2021-09-21T00:00:00+00:00",
          "2021-09-22T00:00:00+00:00",
          "2021-09-23T00:00:00+00:00",
          "2021-09-24T00:00:00+00:00",
          "2021-09-25T00:00:00+00:00",
          "2021-09-26T00:00:00+00:00",
          "2021-09-27T00:00:00+00:00",
          "2021-09-28T00:00:00+00:00",
          "2021-09-29T00:00:00+00:00",
          "2021-09-30T00:00:00+00:00",
          "2021-10-01T00:00:00+00:00",
          "2021-10-02T00:00:00+00:00",
          "2021-10-03T00:00:00+00:00",
          "2021-10-04T00:00:00+00:00",
          "2021-10-05T00:00:00+00:00",
          "2021-10-06T00:00:00+00:00",
          "2021-10-07T00:00:00+00:00",
          "2021-10-08T00:00:00+00:00",
          "2021-10-09T00:00:00+00:00",
          "2021-10-10T00:00:00+00:00",
          "2021-10-11T00:00:00+00:00",
          "2021-10-12T00:00:00+00:00",
          "2021-10-13T00:00:00+00:00",
          "2021-10-14T00:00:00+00:00",
          "2021-10-15T00:00:00+00:00",
          "2021-10-16T00:00:00+00:00",
          "2021-10-17T00:00:00+00:00",
          "2021-10-18T00:00:00+00:00",
          "2021-10-19T00:00:00+00:00",
          "2021-10-20T00:00:00+00:00",
          "2021-10-21T00:00:00+00:00",
          "2021-10-22T00:00:00+00:00",
          "2021-10-23T00:00:00+00:00",
          "2021-10-24T00:00:00+00:00",
          "2021-10-25T00:00:00+00:00",
          "2021-10-26T00:00:00+00:00",
          "2021-10-27T00:00:00+00:00",
          "2021-10-28T00:00:00+00:00",
          "2021-10-29T00:00:00+00:00",
          "2021-10-30T00:00:00+00:00",
          "2021-10-31T00:00:00+00:00",
          "2021-11-01T00:00:00+00:00",
          "2021-11-02T00:00:00+00:00",
          "2021-11-03T00:00:00+00:00",
          "2021-11-04T00:00:00+00:00",
          "2021-11-05T00:00:00+00:00",
          "2021-11-06T00:00:00+00:00",
          "2021-11-07T00:00:00+00:00",
          "2021-11-08T00:00:00+00:00",
          "2021-11-09T00:00:00+00:00",
          "2021-11-10T00:00:00+00:00",
          "2021-11-11T00:00:00+00:00"
         ],
         "y": [
          50844.423815389186,
          51129.00291091901,
          51365.2993850586,
          51885.39604487247,
          52339.61309660841,
          52033.61052458204,
          52112.3782256921,
          52132.62272178036,
          52337.23064239614,
          52387.18486604579,
          52291.70610581261,
          52388.37184961908,
          52284.76175900044,
          52323.15040633372,
          52225.40182897201,
          52121.56545113714,
          52078.96423817951,
          52083.51105464406,
          52379.190660367865,
          52828.557502842385,
          52672.996241205125,
          52286.36800683065,
          51950.464768982136,
          51080.812579950274,
          49617.29822193562,
          49543.47060871626,
          49627.70274575449,
          49551.14759775233,
          49511.38357831843,
          49912.36411911936,
          50129.782531493496,
          50510.79826213281,
          50865.66121052793,
          51574.67986488806,
          53343.56679967173,
          54470.37956321499,
          55430.54942527372,
          56607.99727618382,
          57658.98828628658,
          58986.628066691985,
          59947.08918962663,
          61062.246599351514,
          61905.73658745387,
          63418.52798501869,
          64489.28151573356,
          65301.79502591169,
          65696.55310435446,
          66202.70900514,
          67046.07691029644,
          67396.86262242647,
          67249.08002113296,
          67011.23828976264,
          66614.83316300981,
          66651.62020749164,
          66674.6613591245,
          66407.235935724,
          66156.87434152458,
          66086.3020285059,
          65773.82120013052,
          65714.52680809757,
          65331.20117483532,
          65279.16802551147,
          65034.08909090193,
          65025.77011725965,
          65024.7465372627,
          65025.12081388912,
          65155.878478524486,
          66063.15062874327,
          66316.25101288821,
          66635.76226940173,
          66921.91652415975
         ]
        },
        {
         "line": {
          "color": "blue",
          "dash": "dot",
          "width": 1
         },
         "name": "Lower Band",
         "type": "scatter",
         "x": [
          "2021-09-02T00:00:00+00:00",
          "2021-09-03T00:00:00+00:00",
          "2021-09-04T00:00:00+00:00",
          "2021-09-05T00:00:00+00:00",
          "2021-09-06T00:00:00+00:00",
          "2021-09-07T00:00:00+00:00",
          "2021-09-08T00:00:00+00:00",
          "2021-09-09T00:00:00+00:00",
          "2021-09-10T00:00:00+00:00",
          "2021-09-11T00:00:00+00:00",
          "2021-09-12T00:00:00+00:00",
          "2021-09-13T00:00:00+00:00",
          "2021-09-14T00:00:00+00:00",
          "2021-09-15T00:00:00+00:00",
          "2021-09-16T00:00:00+00:00",
          "2021-09-17T00:00:00+00:00",
          "2021-09-18T00:00:00+00:00",
          "2021-09-19T00:00:00+00:00",
          "2021-09-20T00:00:00+00:00",
          "2021-09-21T00:00:00+00:00",
          "2021-09-22T00:00:00+00:00",
          "2021-09-23T00:00:00+00:00",
          "2021-09-24T00:00:00+00:00",
          "2021-09-25T00:00:00+00:00",
          "2021-09-26T00:00:00+00:00",
          "2021-09-27T00:00:00+00:00",
          "2021-09-28T00:00:00+00:00",
          "2021-09-29T00:00:00+00:00",
          "2021-09-30T00:00:00+00:00",
          "2021-10-01T00:00:00+00:00",
          "2021-10-02T00:00:00+00:00",
          "2021-10-03T00:00:00+00:00",
          "2021-10-04T00:00:00+00:00",
          "2021-10-05T00:00:00+00:00",
          "2021-10-06T00:00:00+00:00",
          "2021-10-07T00:00:00+00:00",
          "2021-10-08T00:00:00+00:00",
          "2021-10-09T00:00:00+00:00",
          "2021-10-10T00:00:00+00:00",
          "2021-10-11T00:00:00+00:00",
          "2021-10-12T00:00:00+00:00",
          "2021-10-13T00:00:00+00:00",
          "2021-10-14T00:00:00+00:00",
          "2021-10-15T00:00:00+00:00",
          "2021-10-16T00:00:00+00:00",
          "2021-10-17T00:00:00+00:00",
          "2021-10-18T00:00:00+00:00",
          "2021-10-19T00:00:00+00:00",
          "2021-10-20T00:00:00+00:00",
          "2021-10-21T00:00:00+00:00",
          "2021-10-22T00:00:00+00:00",
          "2021-10-23T00:00:00+00:00",
          "2021-10-24T00:00:00+00:00",
          "2021-10-25T00:00:00+00:00",
          "2021-10-26T00:00:00+00:00",
          "2021-10-27T00:00:00+00:00",
          "2021-10-28T00:00:00+00:00",
          "2021-10-29T00:00:00+00:00",
          "2021-10-30T00:00:00+00:00",
          "2021-10-31T00:00:00+00:00",
          "2021-11-01T00:00:00+00:00",
          "2021-11-02T00:00:00+00:00",
          "2021-11-03T00:00:00+00:00",
          "2021-11-04T00:00:00+00:00",
          "2021-11-05T00:00:00+00:00",
          "2021-11-06T00:00:00+00:00",
          "2021-11-07T00:00:00+00:00",
          "2021-11-08T00:00:00+00:00",
          "2021-11-09T00:00:00+00:00",
          "2021-11-10T00:00:00+00:00",
          "2021-11-11T00:00:00+00:00"
         ],
         "y": [
          44730.239184610815,
          44737.195089081,
          44793.74761494139,
          44862.32195512754,
          45210.82790339158,
          45735.48247541795,
          45585.736774307894,
          45271.25227821964,
          44665.08735760386,
          44203.85313395421,
          43951.10489418739,
          43580.966150380926,
          43498.56524099957,
          43589.84159366628,
          43555.149171027995,
          43495.041548862864,
          43488.84076182048,
          43510.514945355935,
          42804.88233963214,
          41543.48949715761,
          41128.62375879487,
          41002.51099316935,
          40629.00823101786,
          40590.294420049715,
          41101.729778064386,
          40703.28339128374,
          40115.62225424551,
          39704.39340224767,
          39641.455421681574,
          39539.86788088064,
          39485.79546850651,
          39433.406737867175,
          39290.37578947207,
          38915.94413511194,
          37905.68920032826,
          37428.308436785,
          37033.06457472628,
          36626.25372381618,
          36743.018713713434,
          37092.16293330801,
          37374.701810373364,
          37506.51740064848,
          38114.08641254614,
          38500.28401498131,
          39199.47048426645,
          40322.49197408832,
          42029.36789564554,
          43801.30999486,
          45178.15308970357,
          46231.19337757354,
          47681.970978867044,
          49226.41471023734,
          50783.71383699021,
          51905.88179250834,
          52382.6546408755,
          53115.845064276,
          54028.98965847544,
          54831.0049714941,
          55863.673799869466,
          56308.59319190243,
          57186.362825164666,
          57828.31497448854,
          58630.983909098075,
          58614.21288274033,
          58628.1094627373,
          58628.95518611088,
          58624.869521475506,
          58042.76737125675,
          57881.47998711179,
          57832.78673059826,
          57958.642475840235
         ]
        },
        {
         "line": {
          "color": "red",
          "width": 1
         },
         "name": "Price",
         "type": "scatter",
         "x": [
          "2021-09-02T00:00:00+00:00",
          "2021-09-03T00:00:00+00:00",
          "2021-09-04T00:00:00+00:00",
          "2021-09-05T00:00:00+00:00",
          "2021-09-06T00:00:00+00:00",
          "2021-09-07T00:00:00+00:00",
          "2021-09-08T00:00:00+00:00",
          "2021-09-09T00:00:00+00:00",
          "2021-09-10T00:00:00+00:00",
          "2021-09-11T00:00:00+00:00",
          "2021-09-12T00:00:00+00:00",
          "2021-09-13T00:00:00+00:00",
          "2021-09-14T00:00:00+00:00",
          "2021-09-15T00:00:00+00:00",
          "2021-09-16T00:00:00+00:00",
          "2021-09-17T00:00:00+00:00",
          "2021-09-18T00:00:00+00:00",
          "2021-09-19T00:00:00+00:00",
          "2021-09-20T00:00:00+00:00",
          "2021-09-21T00:00:00+00:00",
          "2021-09-22T00:00:00+00:00",
          "2021-09-23T00:00:00+00:00",
          "2021-09-24T00:00:00+00:00",
          "2021-09-25T00:00:00+00:00",
          "2021-09-26T00:00:00+00:00",
          "2021-09-27T00:00:00+00:00",
          "2021-09-28T00:00:00+00:00",
          "2021-09-29T00:00:00+00:00",
          "2021-09-30T00:00:00+00:00",
          "2021-10-01T00:00:00+00:00",
          "2021-10-02T00:00:00+00:00",
          "2021-10-03T00:00:00+00:00",
          "2021-10-04T00:00:00+00:00",
          "2021-10-05T00:00:00+00:00",
          "2021-10-06T00:00:00+00:00",
          "2021-10-07T00:00:00+00:00",
          "2021-10-08T00:00:00+00:00",
          "2021-10-09T00:00:00+00:00",
          "2021-10-10T00:00:00+00:00",
          "2021-10-11T00:00:00+00:00",
          "2021-10-12T00:00:00+00:00",
          "2021-10-13T00:00:00+00:00",
          "2021-10-14T00:00:00+00:00",
          "2021-10-15T00:00:00+00:00",
          "2021-10-16T00:00:00+00:00",
          "2021-10-17T00:00:00+00:00",
          "2021-10-18T00:00:00+00:00",
          "2021-10-19T00:00:00+00:00",
          "2021-10-20T00:00:00+00:00",
          "2021-10-21T00:00:00+00:00",
          "2021-10-22T00:00:00+00:00",
          "2021-10-23T00:00:00+00:00",
          "2021-10-24T00:00:00+00:00",
          "2021-10-25T00:00:00+00:00",
          "2021-10-26T00:00:00+00:00",
          "2021-10-27T00:00:00+00:00",
          "2021-10-28T00:00:00+00:00",
          "2021-10-29T00:00:00+00:00",
          "2021-10-30T00:00:00+00:00",
          "2021-10-31T00:00:00+00:00",
          "2021-11-01T00:00:00+00:00",
          "2021-11-02T00:00:00+00:00",
          "2021-11-03T00:00:00+00:00",
          "2021-11-04T00:00:00+00:00",
          "2021-11-05T00:00:00+00:00",
          "2021-11-06T00:00:00+00:00",
          "2021-11-07T00:00:00+00:00",
          "2021-11-08T00:00:00+00:00",
          "2021-11-09T00:00:00+00:00",
          "2021-11-10T00:00:00+00:00",
          "2021-11-11T00:00:00+00:00"
         ],
         "y": [
          49279.37,
          50025,
          49942.98,
          51789.17,
          52698.81,
          46894.5,
          46060.36,
          46400,
          44851.45,
          45171.83,
          46024.23,
          44947.72,
          47127.22,
          48148.12,
          47753.16,
          47303.5,
          48314.56,
          47255.92,
          43012.97,
          40719.6,
          43575.1,
          44897.59,
          42848.92,
          42705.51,
          43178.02,
          42171.76,
          41026.07,
          41522.16,
          43824.43,
          48165.76,
          47657.69,
          48233.99,
          49245.54,
          51493.99,
          55339.48,
          53797.82,
          53963.82,
          54962.29,
          54690.53,
          57487.44,
          56005.1,
          57367.32,
          57359.51,
          61695.4,
          60877.42,
          61527.11,
          62042.41,
          64303.14,
          66026.54,
          62204.02,
          60687.64,
          61300.01,
          60854.48,
          63083.54,
          60337.62,
          58455.47,
          60591.65,
          62276.72,
          61892.41,
          61343.69,
          60949.54,
          63266.51,
          62935.41,
          61444.5,
          61006.15,
          61539.31,
          63309.13,
          67554.84,
          66944.67,
          64912.2,
          64807.74
         ]
        },
        {
         "marker": {
          "color": "Green"
         },
         "mode": "markers",
         "name": "Buy Price",
         "type": "scatter",
         "x": [
          "2021-09-02T00:00:00+00:00",
          "2021-09-03T00:00:00+00:00",
          "2021-09-04T00:00:00+00:00",
          "2021-09-05T00:00:00+00:00",
          "2021-09-06T00:00:00+00:00",
          "2021-09-07T00:00:00+00:00",
          "2021-09-08T00:00:00+00:00",
          "2021-09-09T00:00:00+00:00",
          "2021-09-10T00:00:00+00:00",
          "2021-09-11T00:00:00+00:00",
          "2021-09-12T00:00:00+00:00",
          "2021-09-13T00:00:00+00:00",
          "2021-09-14T00:00:00+00:00",
          "2021-09-15T00:00:00+00:00",
          "2021-09-16T00:00:00+00:00",
          "2021-09-17T00:00:00+00:00",
          "2021-09-18T00:00:00+00:00",
          "2021-09-19T00:00:00+00:00",
          "2021-09-20T00:00:00+00:00",
          "2021-09-21T00:00:00+00:00",
          "2021-09-22T00:00:00+00:00",
          "2021-09-23T00:00:00+00:00",
          "2021-09-24T00:00:00+00:00",
          "2021-09-25T00:00:00+00:00",
          "2021-09-26T00:00:00+00:00",
          "2021-09-27T00:00:00+00:00",
          "2021-09-28T00:00:00+00:00",
          "2021-09-29T00:00:00+00:00",
          "2021-09-30T00:00:00+00:00",
          "2021-10-01T00:00:00+00:00",
          "2021-10-02T00:00:00+00:00",
          "2021-10-03T00:00:00+00:00",
          "2021-10-04T00:00:00+00:00",
          "2021-10-05T00:00:00+00:00",
          "2021-10-06T00:00:00+00:00",
          "2021-10-07T00:00:00+00:00",
          "2021-10-08T00:00:00+00:00",
          "2021-10-09T00:00:00+00:00",
          "2021-10-10T00:00:00+00:00",
          "2021-10-11T00:00:00+00:00",
          "2021-10-12T00:00:00+00:00",
          "2021-10-13T00:00:00+00:00",
          "2021-10-14T00:00:00+00:00",
          "2021-10-15T00:00:00+00:00",
          "2021-10-16T00:00:00+00:00",
          "2021-10-17T00:00:00+00:00",
          "2021-10-18T00:00:00+00:00",
          "2021-10-19T00:00:00+00:00",
          "2021-10-20T00:00:00+00:00",
          "2021-10-21T00:00:00+00:00",
          "2021-10-22T00:00:00+00:00",
          "2021-10-23T00:00:00+00:00",
          "2021-10-24T00:00:00+00:00",
          "2021-10-25T00:00:00+00:00",
          "2021-10-26T00:00:00+00:00",
          "2021-10-27T00:00:00+00:00",
          "2021-10-28T00:00:00+00:00",
          "2021-10-29T00:00:00+00:00",
          "2021-10-30T00:00:00+00:00",
          "2021-10-31T00:00:00+00:00",
          "2021-11-01T00:00:00+00:00",
          "2021-11-02T00:00:00+00:00",
          "2021-11-03T00:00:00+00:00",
          "2021-11-04T00:00:00+00:00",
          "2021-11-05T00:00:00+00:00",
          "2021-11-06T00:00:00+00:00",
          "2021-11-07T00:00:00+00:00",
          "2021-11-08T00:00:00+00:00",
          "2021-11-09T00:00:00+00:00",
          "2021-11-10T00:00:00+00:00",
          "2021-11-11T00:00:00+00:00"
         ],
         "y": [
          null,
          null,
          null,
          null,
          null,
          null,
          null,
          null,
          null,
          null,
          null,
          null,
          null,
          null,
          null,
          null,
          null,
          null,
          null,
          40719.6,
          null,
          null,
          null,
          null,
          null,
          null,
          null,
          null,
          null,
          null,
          null,
          null,
          null,
          null,
          null,
          null,
          null,
          null,
          null,
          null,
          null,
          null,
          null,
          null,
          null,
          null,
          null,
          null,
          null,
          null,
          null,
          null,
          null,
          null,
          null,
          null,
          null,
          null,
          null,
          null,
          null,
          null,
          null,
          null,
          null,
          null,
          null,
          null,
          null,
          null,
          null
         ]
        },
        {
         "marker": {
          "color": "Red"
         },
         "mode": "markers",
         "name": "Sell Price",
         "type": "scatter",
         "x": [
          "2021-09-02T00:00:00+00:00",
          "2021-09-03T00:00:00+00:00",
          "2021-09-04T00:00:00+00:00",
          "2021-09-05T00:00:00+00:00",
          "2021-09-06T00:00:00+00:00",
          "2021-09-07T00:00:00+00:00",
          "2021-09-08T00:00:00+00:00",
          "2021-09-09T00:00:00+00:00",
          "2021-09-10T00:00:00+00:00",
          "2021-09-11T00:00:00+00:00",
          "2021-09-12T00:00:00+00:00",
          "2021-09-13T00:00:00+00:00",
          "2021-09-14T00:00:00+00:00",
          "2021-09-15T00:00:00+00:00",
          "2021-09-16T00:00:00+00:00",
          "2021-09-17T00:00:00+00:00",
          "2021-09-18T00:00:00+00:00",
          "2021-09-19T00:00:00+00:00",
          "2021-09-20T00:00:00+00:00",
          "2021-09-21T00:00:00+00:00",
          "2021-09-22T00:00:00+00:00",
          "2021-09-23T00:00:00+00:00",
          "2021-09-24T00:00:00+00:00",
          "2021-09-25T00:00:00+00:00",
          "2021-09-26T00:00:00+00:00",
          "2021-09-27T00:00:00+00:00",
          "2021-09-28T00:00:00+00:00",
          "2021-09-29T00:00:00+00:00",
          "2021-09-30T00:00:00+00:00",
          "2021-10-01T00:00:00+00:00",
          "2021-10-02T00:00:00+00:00",
          "2021-10-03T00:00:00+00:00",
          "2021-10-04T00:00:00+00:00",
          "2021-10-05T00:00:00+00:00",
          "2021-10-06T00:00:00+00:00",
          "2021-10-07T00:00:00+00:00",
          "2021-10-08T00:00:00+00:00",
          "2021-10-09T00:00:00+00:00",
          "2021-10-10T00:00:00+00:00",
          "2021-10-11T00:00:00+00:00",
          "2021-10-12T00:00:00+00:00",
          "2021-10-13T00:00:00+00:00",
          "2021-10-14T00:00:00+00:00",
          "2021-10-15T00:00:00+00:00",
          "2021-10-16T00:00:00+00:00",
          "2021-10-17T00:00:00+00:00",
          "2021-10-18T00:00:00+00:00",
          "2021-10-19T00:00:00+00:00",
          "2021-10-20T00:00:00+00:00",
          "2021-10-21T00:00:00+00:00",
          "2021-10-22T00:00:00+00:00",
          "2021-10-23T00:00:00+00:00",
          "2021-10-24T00:00:00+00:00",
          "2021-10-25T00:00:00+00:00",
          "2021-10-26T00:00:00+00:00",
          "2021-10-27T00:00:00+00:00",
          "2021-10-28T00:00:00+00:00",
          "2021-10-29T00:00:00+00:00",
          "2021-10-30T00:00:00+00:00",
          "2021-10-31T00:00:00+00:00",
          "2021-11-01T00:00:00+00:00",
          "2021-11-02T00:00:00+00:00",
          "2021-11-03T00:00:00+00:00",
          "2021-11-04T00:00:00+00:00",
          "2021-11-05T00:00:00+00:00",
          "2021-11-06T00:00:00+00:00",
          "2021-11-07T00:00:00+00:00",
          "2021-11-08T00:00:00+00:00",
          "2021-11-09T00:00:00+00:00",
          "2021-11-10T00:00:00+00:00",
          "2021-11-11T00:00:00+00:00"
         ],
         "y": [
          null,
          null,
          null,
          null,
          52698.81,
          null,
          null,
          null,
          null,
          null,
          null,
          null,
          null,
          null,
          null,
          null,
          null,
          null,
          null,
          null,
          null,
          null,
          null,
          null,
          null,
          null,
          null,
          null,
          null,
          null,
          null,
          null,
          null,
          null,
          55339.48,
          null,
          null,
          null,
          null,
          null,
          null,
          null,
          null,
          null,
          null,
          null,
          null,
          null,
          null,
          null,
          null,
          null,
          null,
          null,
          null,
          null,
          null,
          null,
          null,
          null,
          null,
          null,
          null,
          null,
          null,
          null,
          null,
          67554.84,
          null,
          null,
          null
         ]
        }
       ],
       "layout": {
        "autosize": true,
        "template": {
         "data": {
          "bar": [
           {
            "error_x": {
             "color": "#2a3f5f"
            },
            "error_y": {
             "color": "#2a3f5f"
            },
            "marker": {
             "line": {
              "color": "#E5ECF6",
              "width": 0.5
             },
             "pattern": {
              "fillmode": "overlay",
              "size": 10,
              "solidity": 0.2
             }
            },
            "type": "bar"
           }
          ],
          "barpolar": [
           {
            "marker": {
             "line": {
              "color": "#E5ECF6",
              "width": 0.5
             },
             "pattern": {
              "fillmode": "overlay",
              "size": 10,
              "solidity": 0.2
             }
            },
            "type": "barpolar"
           }
          ],
          "carpet": [
           {
            "aaxis": {
             "endlinecolor": "#2a3f5f",
             "gridcolor": "white",
             "linecolor": "white",
             "minorgridcolor": "white",
             "startlinecolor": "#2a3f5f"
            },
            "baxis": {
             "endlinecolor": "#2a3f5f",
             "gridcolor": "white",
             "linecolor": "white",
             "minorgridcolor": "white",
             "startlinecolor": "#2a3f5f"
            },
            "type": "carpet"
           }
          ],
          "choropleth": [
           {
            "colorbar": {
             "outlinewidth": 0,
             "ticks": ""
            },
            "type": "choropleth"
           }
          ],
          "contour": [
           {
            "colorbar": {
             "outlinewidth": 0,
             "ticks": ""
            },
            "colorscale": [
             [
              0,
              "#0d0887"
             ],
             [
              0.1111111111111111,
              "#46039f"
             ],
             [
              0.2222222222222222,
              "#7201a8"
             ],
             [
              0.3333333333333333,
              "#9c179e"
             ],
             [
              0.4444444444444444,
              "#bd3786"
             ],
             [
              0.5555555555555556,
              "#d8576b"
             ],
             [
              0.6666666666666666,
              "#ed7953"
             ],
             [
              0.7777777777777778,
              "#fb9f3a"
             ],
             [
              0.8888888888888888,
              "#fdca26"
             ],
             [
              1,
              "#f0f921"
             ]
            ],
            "type": "contour"
           }
          ],
          "contourcarpet": [
           {
            "colorbar": {
             "outlinewidth": 0,
             "ticks": ""
            },
            "type": "contourcarpet"
           }
          ],
          "heatmap": [
           {
            "colorbar": {
             "outlinewidth": 0,
             "ticks": ""
            },
            "colorscale": [
             [
              0,
              "#0d0887"
             ],
             [
              0.1111111111111111,
              "#46039f"
             ],
             [
              0.2222222222222222,
              "#7201a8"
             ],
             [
              0.3333333333333333,
              "#9c179e"
             ],
             [
              0.4444444444444444,
              "#bd3786"
             ],
             [
              0.5555555555555556,
              "#d8576b"
             ],
             [
              0.6666666666666666,
              "#ed7953"
             ],
             [
              0.7777777777777778,
              "#fb9f3a"
             ],
             [
              0.8888888888888888,
              "#fdca26"
             ],
             [
              1,
              "#f0f921"
             ]
            ],
            "type": "heatmap"
           }
          ],
          "heatmapgl": [
           {
            "colorbar": {
             "outlinewidth": 0,
             "ticks": ""
            },
            "colorscale": [
             [
              0,
              "#0d0887"
             ],
             [
              0.1111111111111111,
              "#46039f"
             ],
             [
              0.2222222222222222,
              "#7201a8"
             ],
             [
              0.3333333333333333,
              "#9c179e"
             ],
             [
              0.4444444444444444,
              "#bd3786"
             ],
             [
              0.5555555555555556,
              "#d8576b"
             ],
             [
              0.6666666666666666,
              "#ed7953"
             ],
             [
              0.7777777777777778,
              "#fb9f3a"
             ],
             [
              0.8888888888888888,
              "#fdca26"
             ],
             [
              1,
              "#f0f921"
             ]
            ],
            "type": "heatmapgl"
           }
          ],
          "histogram": [
           {
            "marker": {
             "pattern": {
              "fillmode": "overlay",
              "size": 10,
              "solidity": 0.2
             }
            },
            "type": "histogram"
           }
          ],
          "histogram2d": [
           {
            "colorbar": {
             "outlinewidth": 0,
             "ticks": ""
            },
            "colorscale": [
             [
              0,
              "#0d0887"
             ],
             [
              0.1111111111111111,
              "#46039f"
             ],
             [
              0.2222222222222222,
              "#7201a8"
             ],
             [
              0.3333333333333333,
              "#9c179e"
             ],
             [
              0.4444444444444444,
              "#bd3786"
             ],
             [
              0.5555555555555556,
              "#d8576b"
             ],
             [
              0.6666666666666666,
              "#ed7953"
             ],
             [
              0.7777777777777778,
              "#fb9f3a"
             ],
             [
              0.8888888888888888,
              "#fdca26"
             ],
             [
              1,
              "#f0f921"
             ]
            ],
            "type": "histogram2d"
           }
          ],
          "histogram2dcontour": [
           {
            "colorbar": {
             "outlinewidth": 0,
             "ticks": ""
            },
            "colorscale": [
             [
              0,
              "#0d0887"
             ],
             [
              0.1111111111111111,
              "#46039f"
             ],
             [
              0.2222222222222222,
              "#7201a8"
             ],
             [
              0.3333333333333333,
              "#9c179e"
             ],
             [
              0.4444444444444444,
              "#bd3786"
             ],
             [
              0.5555555555555556,
              "#d8576b"
             ],
             [
              0.6666666666666666,
              "#ed7953"
             ],
             [
              0.7777777777777778,
              "#fb9f3a"
             ],
             [
              0.8888888888888888,
              "#fdca26"
             ],
             [
              1,
              "#f0f921"
             ]
            ],
            "type": "histogram2dcontour"
           }
          ],
          "mesh3d": [
           {
            "colorbar": {
             "outlinewidth": 0,
             "ticks": ""
            },
            "type": "mesh3d"
           }
          ],
          "parcoords": [
           {
            "line": {
             "colorbar": {
              "outlinewidth": 0,
              "ticks": ""
             }
            },
            "type": "parcoords"
           }
          ],
          "pie": [
           {
            "automargin": true,
            "type": "pie"
           }
          ],
          "scatter": [
           {
            "marker": {
             "colorbar": {
              "outlinewidth": 0,
              "ticks": ""
             }
            },
            "type": "scatter"
           }
          ],
          "scatter3d": [
           {
            "line": {
             "colorbar": {
              "outlinewidth": 0,
              "ticks": ""
             }
            },
            "marker": {
             "colorbar": {
              "outlinewidth": 0,
              "ticks": ""
             }
            },
            "type": "scatter3d"
           }
          ],
          "scattercarpet": [
           {
            "marker": {
             "colorbar": {
              "outlinewidth": 0,
              "ticks": ""
             }
            },
            "type": "scattercarpet"
           }
          ],
          "scattergeo": [
           {
            "marker": {
             "colorbar": {
              "outlinewidth": 0,
              "ticks": ""
             }
            },
            "type": "scattergeo"
           }
          ],
          "scattergl": [
           {
            "marker": {
             "colorbar": {
              "outlinewidth": 0,
              "ticks": ""
             }
            },
            "type": "scattergl"
           }
          ],
          "scattermapbox": [
           {
            "marker": {
             "colorbar": {
              "outlinewidth": 0,
              "ticks": ""
             }
            },
            "type": "scattermapbox"
           }
          ],
          "scatterpolar": [
           {
            "marker": {
             "colorbar": {
              "outlinewidth": 0,
              "ticks": ""
             }
            },
            "type": "scatterpolar"
           }
          ],
          "scatterpolargl": [
           {
            "marker": {
             "colorbar": {
              "outlinewidth": 0,
              "ticks": ""
             }
            },
            "type": "scatterpolargl"
           }
          ],
          "scatterternary": [
           {
            "marker": {
             "colorbar": {
              "outlinewidth": 0,
              "ticks": ""
             }
            },
            "type": "scatterternary"
           }
          ],
          "surface": [
           {
            "colorbar": {
             "outlinewidth": 0,
             "ticks": ""
            },
            "colorscale": [
             [
              0,
              "#0d0887"
             ],
             [
              0.1111111111111111,
              "#46039f"
             ],
             [
              0.2222222222222222,
              "#7201a8"
             ],
             [
              0.3333333333333333,
              "#9c179e"
             ],
             [
              0.4444444444444444,
              "#bd3786"
             ],
             [
              0.5555555555555556,
              "#d8576b"
             ],
             [
              0.6666666666666666,
              "#ed7953"
             ],
             [
              0.7777777777777778,
              "#fb9f3a"
             ],
             [
              0.8888888888888888,
              "#fdca26"
             ],
             [
              1,
              "#f0f921"
             ]
            ],
            "type": "surface"
           }
          ],
          "table": [
           {
            "cells": {
             "fill": {
              "color": "#EBF0F8"
             },
             "line": {
              "color": "white"
             }
            },
            "header": {
             "fill": {
              "color": "#C8D4E3"
             },
             "line": {
              "color": "white"
             }
            },
            "type": "table"
           }
          ]
         },
         "layout": {
          "annotationdefaults": {
           "arrowcolor": "#2a3f5f",
           "arrowhead": 0,
           "arrowwidth": 1
          },
          "autotypenumbers": "strict",
          "coloraxis": {
           "colorbar": {
            "outlinewidth": 0,
            "ticks": ""
           }
          },
          "colorscale": {
           "diverging": [
            [
             0,
             "#8e0152"
            ],
            [
             0.1,
             "#c51b7d"
            ],
            [
             0.2,
             "#de77ae"
            ],
            [
             0.3,
             "#f1b6da"
            ],
            [
             0.4,
             "#fde0ef"
            ],
            [
             0.5,
             "#f7f7f7"
            ],
            [
             0.6,
             "#e6f5d0"
            ],
            [
             0.7,
             "#b8e186"
            ],
            [
             0.8,
             "#7fbc41"
            ],
            [
             0.9,
             "#4d9221"
            ],
            [
             1,
             "#276419"
            ]
           ],
           "sequential": [
            [
             0,
             "#0d0887"
            ],
            [
             0.1111111111111111,
             "#46039f"
            ],
            [
             0.2222222222222222,
             "#7201a8"
            ],
            [
             0.3333333333333333,
             "#9c179e"
            ],
            [
             0.4444444444444444,
             "#bd3786"
            ],
            [
             0.5555555555555556,
             "#d8576b"
            ],
            [
             0.6666666666666666,
             "#ed7953"
            ],
            [
             0.7777777777777778,
             "#fb9f3a"
            ],
            [
             0.8888888888888888,
             "#fdca26"
            ],
            [
             1,
             "#f0f921"
            ]
           ],
           "sequentialminus": [
            [
             0,
             "#0d0887"
            ],
            [
             0.1111111111111111,
             "#46039f"
            ],
            [
             0.2222222222222222,
             "#7201a8"
            ],
            [
             0.3333333333333333,
             "#9c179e"
            ],
            [
             0.4444444444444444,
             "#bd3786"
            ],
            [
             0.5555555555555556,
             "#d8576b"
            ],
            [
             0.6666666666666666,
             "#ed7953"
            ],
            [
             0.7777777777777778,
             "#fb9f3a"
            ],
            [
             0.8888888888888888,
             "#fdca26"
            ],
            [
             1,
             "#f0f921"
            ]
           ]
          },
          "colorway": [
           "#636efa",
           "#EF553B",
           "#00cc96",
           "#ab63fa",
           "#FFA15A",
           "#19d3f3",
           "#FF6692",
           "#B6E880",
           "#FF97FF",
           "#FECB52"
          ],
          "font": {
           "color": "#2a3f5f"
          },
          "geo": {
           "bgcolor": "white",
           "lakecolor": "white",
           "landcolor": "#E5ECF6",
           "showlakes": true,
           "showland": true,
           "subunitcolor": "white"
          },
          "hoverlabel": {
           "align": "left"
          },
          "hovermode": "closest",
          "mapbox": {
           "style": "light"
          },
          "paper_bgcolor": "white",
          "plot_bgcolor": "#E5ECF6",
          "polar": {
           "angularaxis": {
            "gridcolor": "white",
            "linecolor": "white",
            "ticks": ""
           },
           "bgcolor": "#E5ECF6",
           "radialaxis": {
            "gridcolor": "white",
            "linecolor": "white",
            "ticks": ""
           }
          },
          "scene": {
           "xaxis": {
            "backgroundcolor": "#E5ECF6",
            "gridcolor": "white",
            "gridwidth": 2,
            "linecolor": "white",
            "showbackground": true,
            "ticks": "",
            "zerolinecolor": "white"
           },
           "yaxis": {
            "backgroundcolor": "#E5ECF6",
            "gridcolor": "white",
            "gridwidth": 2,
            "linecolor": "white",
            "showbackground": true,
            "ticks": "",
            "zerolinecolor": "white"
           },
           "zaxis": {
            "backgroundcolor": "#E5ECF6",
            "gridcolor": "white",
            "gridwidth": 2,
            "linecolor": "white",
            "showbackground": true,
            "ticks": "",
            "zerolinecolor": "white"
           }
          },
          "shapedefaults": {
           "line": {
            "color": "#2a3f5f"
           }
          },
          "ternary": {
           "aaxis": {
            "gridcolor": "white",
            "linecolor": "white",
            "ticks": ""
           },
           "baxis": {
            "gridcolor": "white",
            "linecolor": "white",
            "ticks": ""
           },
           "bgcolor": "#E5ECF6",
           "caxis": {
            "gridcolor": "white",
            "linecolor": "white",
            "ticks": ""
           }
          },
          "title": {
           "x": 0.05
          },
          "xaxis": {
           "automargin": true,
           "gridcolor": "white",
           "linecolor": "white",
           "ticks": "",
           "title": {
            "standoff": 15
           },
           "zerolinecolor": "white",
           "zerolinewidth": 2
          },
          "yaxis": {
           "automargin": true,
           "gridcolor": "white",
           "linecolor": "white",
           "ticks": "",
           "title": {
            "standoff": 15
           },
           "zerolinecolor": "white",
           "zerolinewidth": 2
          }
         }
        },
        "title": {
         "text": "Bollinger Band Analysis"
        },
        "xaxis": {
         "autorange": true,
         "range": [
          "2021-08-28 13:23:11.2351",
          "2021-11-15 10:36:48.7649"
         ],
         "title": {
          "text": "Date"
         },
         "type": "date"
        },
        "yaxis": {
         "autorange": true,
         "range": [
          34867.28199246924,
          70046.71661940817
         ],
         "title": {
          "text": "Price"
         },
         "type": "linear"
        }
       }
      },
      "image/png": "[encoded data removed]",
      "text/html": [
       "<div>                            <div id=\"7295fed0-8dcf-42ea-b9ff-8eada7a88540\" class=\"plotly-graph-div\" style=\"height:525px; width:100%;\"></div>            <script type=\"text/javascript\">                require([\"plotly\"], function(Plotly) {                    window.PLOTLYENV=window.PLOTLYENV || {};                                    if (document.getElementById(\"7295fed0-8dcf-42ea-b9ff-8eada7a88540\")) {                    Plotly.newPlot(                        \"7295fed0-8dcf-42ea-b9ff-8eada7a88540\",                        [{\"line\":{\"color\":\"grey\",\"width\":0.8},\"name\":\"SMA\",\"type\":\"scatter\",\"x\":[\"2021-09-02T00:00:00+00:00\",\"2021-09-03T00:00:00+00:00\",\"2021-09-04T00:00:00+00:00\",\"2021-09-05T00:00:00+00:00\",\"2021-09-06T00:00:00+00:00\",\"2021-09-07T00:00:00+00:00\",\"2021-09-08T00:00:00+00:00\",\"2021-09-09T00:00:00+00:00\",\"2021-09-10T00:00:00+00:00\",\"2021-09-11T00:00:00+00:00\",\"2021-09-12T00:00:00+00:00\",\"2021-09-13T00:00:00+00:00\",\"2021-09-14T00:00:00+00:00\",\"2021-09-15T00:00:00+00:00\",\"2021-09-16T00:00:00+00:00\",\"2021-09-17T00:00:00+00:00\",\"2021-09-18T00:00:00+00:00\",\"2021-09-19T00:00:00+00:00\",\"2021-09-20T00:00:00+00:00\",\"2021-09-21T00:00:00+00:00\",\"2021-09-22T00:00:00+00:00\",\"2021-09-23T00:00:00+00:00\",\"2021-09-24T00:00:00+00:00\",\"2021-09-25T00:00:00+00:00\",\"2021-09-26T00:00:00+00:00\",\"2021-09-27T00:00:00+00:00\",\"2021-09-28T00:00:00+00:00\",\"2021-09-29T00:00:00+00:00\",\"2021-09-30T00:00:00+00:00\",\"2021-10-01T00:00:00+00:00\",\"2021-10-02T00:00:00+00:00\",\"2021-10-03T00:00:00+00:00\",\"2021-10-04T00:00:00+00:00\",\"2021-10-05T00:00:00+00:00\",\"2021-10-06T00:00:00+00:00\",\"2021-10-07T00:00:00+00:00\",\"2021-10-08T00:00:00+00:00\",\"2021-10-09T00:00:00+00:00\",\"2021-10-10T00:00:00+00:00\",\"2021-10-11T00:00:00+00:00\",\"2021-10-12T00:00:00+00:00\",\"2021-10-13T00:00:00+00:00\",\"2021-10-14T00:00:00+00:00\",\"2021-10-15T00:00:00+00:00\",\"2021-10-16T00:00:00+00:00\",\"2021-10-17T00:00:00+00:00\",\"2021-10-18T00:00:00+00:00\",\"2021-10-19T00:00:00+00:00\",\"2021-10-20T00:00:00+00:00\",\"2021-10-21T00:00:00+00:00\",\"2021-10-22T00:00:00+00:00\",\"2021-10-23T00:00:00+00:00\",\"2021-10-24T00:00:00+00:00\",\"2021-10-25T00:00:00+00:00\",\"2021-10-26T00:00:00+00:00\",\"2021-10-27T00:00:00+00:00\",\"2021-10-28T00:00:00+00:00\",\"2021-10-29T00:00:00+00:00\",\"2021-10-30T00:00:00+00:00\",\"2021-10-31T00:00:00+00:00\",\"2021-11-01T00:00:00+00:00\",\"2021-11-02T00:00:00+00:00\",\"2021-11-03T00:00:00+00:00\",\"2021-11-04T00:00:00+00:00\",\"2021-11-05T00:00:00+00:00\",\"2021-11-06T00:00:00+00:00\",\"2021-11-07T00:00:00+00:00\",\"2021-11-08T00:00:00+00:00\",\"2021-11-09T00:00:00+00:00\",\"2021-11-10T00:00:00+00:00\",\"2021-11-11T00:00:00+00:00\"],\"y\":[47787.3315,47933.099,48079.523499999996,48373.859000000004,48775.220499999996,48884.5465,48849.057499999995,48701.9375,48501.159,48295.519,48121.4055,47984.669,47891.6635,47956.496,47890.2755,47808.3035,47783.9025,47797.013,47592.0365,47186.023499999996,46900.81,46644.4395,46289.7365,45835.553499999995,45359.514,45123.377,44871.6625,44627.7705,44576.4195,44726.116,44807.789000000004,44972.10249999999,45078.0185,45245.312,45624.628,45949.344,46231.807,46617.1255,47201.003500000006,48039.3955,48660.8955,49284.382,50009.9115,50959.406,51844.376000000004,52812.143500000006,53862.9605,55002.0095,56112.115000000005,56814.028000000006,57465.5255,58118.82649999999,58699.27350000001,59278.75099999999,59528.657999999996,59761.5405,60092.93200000001,60458.6535,60818.7475,61011.56,61258.78199999999,61553.741500000004,61832.5365,61819.99149999999,61826.428,61827.038,61890.373999999996,62052.95900000001,62098.8655,62234.2745,62440.27949999999]},{\"line\":{\"color\":\"blue\",\"dash\":\"dot\",\"width\":1},\"name\":\"Upper Band\",\"type\":\"scatter\",\"x\":[\"2021-09-02T00:00:00+00:00\",\"2021-09-03T00:00:00+00:00\",\"2021-09-04T00:00:00+00:00\",\"2021-09-05T00:00:00+00:00\",\"2021-09-06T00:00:00+00:00\",\"2021-09-07T00:00:00+00:00\",\"2021-09-08T00:00:00+00:00\",\"2021-09-09T00:00:00+00:00\",\"2021-09-10T00:00:00+00:00\",\"2021-09-11T00:00:00+00:00\",\"2021-09-12T00:00:00+00:00\",\"2021-09-13T00:00:00+00:00\",\"2021-09-14T00:00:00+00:00\",\"2021-09-15T00:00:00+00:00\",\"2021-09-16T00:00:00+00:00\",\"2021-09-17T00:00:00+00:00\",\"2021-09-18T00:00:00+00:00\",\"2021-09-19T00:00:00+00:00\",\"2021-09-20T00:00:00+00:00\",\"2021-09-21T00:00:00+00:00\",\"2021-09-22T00:00:00+00:00\",\"2021-09-23T00:00:00+00:00\",\"2021-09-24T00:00:00+00:00\",\"2021-09-25T00:00:00+00:00\",\"2021-09-26T00:00:00+00:00\",\"2021-09-27T00:00:00+00:00\",\"2021-09-28T00:00:00+00:00\",\"2021-09-29T00:00:00+00:00\",\"2021-09-30T00:00:00+00:00\",\"2021-10-01T00:00:00+00:00\",\"2021-10-02T00:00:00+00:00\",\"2021-10-03T00:00:00+00:00\",\"2021-10-04T00:00:00+00:00\",\"2021-10-05T00:00:00+00:00\",\"2021-10-06T00:00:00+00:00\",\"2021-10-07T00:00:00+00:00\",\"2021-10-08T00:00:00+00:00\",\"2021-10-09T00:00:00+00:00\",\"2021-10-10T00:00:00+00:00\",\"2021-10-11T00:00:00+00:00\",\"2021-10-12T00:00:00+00:00\",\"2021-10-13T00:00:00+00:00\",\"2021-10-14T00:00:00+00:00\",\"2021-10-15T00:00:00+00:00\",\"2021-10-16T00:00:00+00:00\",\"2021-10-17T00:00:00+00:00\",\"2021-10-18T00:00:00+00:00\",\"2021-10-19T00:00:00+00:00\",\"2021-10-20T00:00:00+00:00\",\"2021-10-21T00:00:00+00:00\",\"2021-10-22T00:00:00+00:00\",\"2021-10-23T00:00:00+00:00\",\"2021-10-24T00:00:00+00:00\",\"2021-10-25T00:00:00+00:00\",\"2021-10-26T00:00:00+00:00\",\"2021-10-27T00:00:00+00:00\",\"2021-10-28T00:00:00+00:00\",\"2021-10-29T00:00:00+00:00\",\"2021-10-30T00:00:00+00:00\",\"2021-10-31T00:00:00+00:00\",\"2021-11-01T00:00:00+00:00\",\"2021-11-02T00:00:00+00:00\",\"2021-11-03T00:00:00+00:00\",\"2021-11-04T00:00:00+00:00\",\"2021-11-05T00:00:00+00:00\",\"2021-11-06T00:00:00+00:00\",\"2021-11-07T00:00:00+00:00\",\"2021-11-08T00:00:00+00:00\",\"2021-11-09T00:00:00+00:00\",\"2021-11-10T00:00:00+00:00\",\"2021-11-11T00:00:00+00:00\"],\"y\":[50844.423815389186,51129.00291091901,51365.2993850586,51885.39604487247,52339.61309660841,52033.61052458204,52112.3782256921,52132.62272178036,52337.23064239614,52387.18486604579,52291.70610581261,52388.37184961908,52284.76175900044,52323.15040633372,52225.40182897201,52121.56545113714,52078.96423817951,52083.51105464406,52379.190660367865,52828.557502842385,52672.996241205125,52286.36800683065,51950.464768982136,51080.812579950274,49617.29822193562,49543.47060871626,49627.70274575449,49551.14759775233,49511.38357831843,49912.36411911936,50129.782531493496,50510.79826213281,50865.66121052793,51574.67986488806,53343.56679967173,54470.37956321499,55430.54942527372,56607.99727618382,57658.98828628658,58986.628066691985,59947.08918962663,61062.246599351514,61905.73658745387,63418.52798501869,64489.28151573356,65301.79502591169,65696.55310435446,66202.70900514,67046.07691029644,67396.86262242647,67249.08002113296,67011.23828976264,66614.83316300981,66651.62020749164,66674.6613591245,66407.235935724,66156.87434152458,66086.3020285059,65773.82120013052,65714.52680809757,65331.20117483532,65279.16802551147,65034.08909090193,65025.77011725965,65024.7465372627,65025.12081388912,65155.878478524486,66063.15062874327,66316.25101288821,66635.76226940173,66921.91652415975]},{\"line\":{\"color\":\"blue\",\"dash\":\"dot\",\"width\":1},\"name\":\"Lower Band\",\"type\":\"scatter\",\"x\":[\"2021-09-02T00:00:00+00:00\",\"2021-09-03T00:00:00+00:00\",\"2021-09-04T00:00:00+00:00\",\"2021-09-05T00:00:00+00:00\",\"2021-09-06T00:00:00+00:00\",\"2021-09-07T00:00:00+00:00\",\"2021-09-08T00:00:00+00:00\",\"2021-09-09T00:00:00+00:00\",\"2021-09-10T00:00:00+00:00\",\"2021-09-11T00:00:00+00:00\",\"2021-09-12T00:00:00+00:00\",\"2021-09-13T00:00:00+00:00\",\"2021-09-14T00:00:00+00:00\",\"2021-09-15T00:00:00+00:00\",\"2021-09-16T00:00:00+00:00\",\"2021-09-17T00:00:00+00:00\",\"2021-09-18T00:00:00+00:00\",\"2021-09-19T00:00:00+00:00\",\"2021-09-20T00:00:00+00:00\",\"2021-09-21T00:00:00+00:00\",\"2021-09-22T00:00:00+00:00\",\"2021-09-23T00:00:00+00:00\",\"2021-09-24T00:00:00+00:00\",\"2021-09-25T00:00:00+00:00\",\"2021-09-26T00:00:00+00:00\",\"2021-09-27T00:00:00+00:00\",\"2021-09-28T00:00:00+00:00\",\"2021-09-29T00:00:00+00:00\",\"2021-09-30T00:00:00+00:00\",\"2021-10-01T00:00:00+00:00\",\"2021-10-02T00:00:00+00:00\",\"2021-10-03T00:00:00+00:00\",\"2021-10-04T00:00:00+00:00\",\"2021-10-05T00:00:00+00:00\",\"2021-10-06T00:00:00+00:00\",\"2021-10-07T00:00:00+00:00\",\"2021-10-08T00:00:00+00:00\",\"2021-10-09T00:00:00+00:00\",\"2021-10-10T00:00:00+00:00\",\"2021-10-11T00:00:00+00:00\",\"2021-10-12T00:00:00+00:00\",\"2021-10-13T00:00:00+00:00\",\"2021-10-14T00:00:00+00:00\",\"2021-10-15T00:00:00+00:00\",\"2021-10-16T00:00:00+00:00\",\"2021-10-17T00:00:00+00:00\",\"2021-10-18T00:00:00+00:00\",\"2021-10-19T00:00:00+00:00\",\"2021-10-20T00:00:00+00:00\",\"2021-10-21T00:00:00+00:00\",\"2021-10-22T00:00:00+00:00\",\"2021-10-23T00:00:00+00:00\",\"2021-10-24T00:00:00+00:00\",\"2021-10-25T00:00:00+00:00\",\"2021-10-26T00:00:00+00:00\",\"2021-10-27T00:00:00+00:00\",\"2021-10-28T00:00:00+00:00\",\"2021-10-29T00:00:00+00:00\",\"2021-10-30T00:00:00+00:00\",\"2021-10-31T00:00:00+00:00\",\"2021-11-01T00:00:00+00:00\",\"2021-11-02T00:00:00+00:00\",\"2021-11-03T00:00:00+00:00\",\"2021-11-04T00:00:00+00:00\",\"2021-11-05T00:00:00+00:00\",\"2021-11-06T00:00:00+00:00\",\"2021-11-07T00:00:00+00:00\",\"2021-11-08T00:00:00+00:00\",\"2021-11-09T00:00:00+00:00\",\"2021-11-10T00:00:00+00:00\",\"2021-11-11T00:00:00+00:00\"],\"y\":[44730.239184610815,44737.195089081,44793.74761494139,44862.32195512754,45210.82790339158,45735.48247541795,45585.736774307894,45271.25227821964,44665.08735760386,44203.85313395421,43951.10489418739,43580.966150380926,43498.56524099957,43589.84159366628,43555.149171027995,43495.041548862864,43488.84076182048,43510.514945355935,42804.88233963214,41543.48949715761,41128.62375879487,41002.51099316935,40629.00823101786,40590.294420049715,41101.729778064386,40703.28339128374,40115.62225424551,39704.39340224767,39641.455421681574,39539.86788088064,39485.79546850651,39433.406737867175,39290.37578947207,38915.94413511194,37905.68920032826,37428.308436785,37033.06457472628,36626.25372381618,36743.018713713434,37092.16293330801,37374.701810373364,37506.51740064848,38114.08641254614,38500.28401498131,39199.47048426645,40322.49197408832,42029.36789564554,43801.30999486,45178.15308970357,46231.19337757354,47681.970978867044,49226.41471023734,50783.71383699021,51905.88179250834,52382.6546408755,53115.845064276,54028.98965847544,54831.0049714941,55863.673799869466,56308.59319190243,57186.362825164666,57828.31497448854,58630.983909098075,58614.21288274033,58628.1094627373,58628.95518611088,58624.869521475506,58042.76737125675,57881.47998711179,57832.78673059826,57958.642475840235]},{\"line\":{\"color\":\"red\",\"width\":1},\"name\":\"Price\",\"type\":\"scatter\",\"x\":[\"2021-09-02T00:00:00+00:00\",\"2021-09-03T00:00:00+00:00\",\"2021-09-04T00:00:00+00:00\",\"2021-09-05T00:00:00+00:00\",\"2021-09-06T00:00:00+00:00\",\"2021-09-07T00:00:00+00:00\",\"2021-09-08T00:00:00+00:00\",\"2021-09-09T00:00:00+00:00\",\"2021-09-10T00:00:00+00:00\",\"2021-09-11T00:00:00+00:00\",\"2021-09-12T00:00:00+00:00\",\"2021-09-13T00:00:00+00:00\",\"2021-09-14T00:00:00+00:00\",\"2021-09-15T00:00:00+00:00\",\"2021-09-16T00:00:00+00:00\",\"2021-09-17T00:00:00+00:00\",\"2021-09-18T00:00:00+00:00\",\"2021-09-19T00:00:00+00:00\",\"2021-09-20T00:00:00+00:00\",\"2021-09-21T00:00:00+00:00\",\"2021-09-22T00:00:00+00:00\",\"2021-09-23T00:00:00+00:00\",\"2021-09-24T00:00:00+00:00\",\"2021-09-25T00:00:00+00:00\",\"2021-09-26T00:00:00+00:00\",\"2021-09-27T00:00:00+00:00\",\"2021-09-28T00:00:00+00:00\",\"2021-09-29T00:00:00+00:00\",\"2021-09-30T00:00:00+00:00\",\"2021-10-01T00:00:00+00:00\",\"2021-10-02T00:00:00+00:00\",\"2021-10-03T00:00:00+00:00\",\"2021-10-04T00:00:00+00:00\",\"2021-10-05T00:00:00+00:00\",\"2021-10-06T00:00:00+00:00\",\"2021-10-07T00:00:00+00:00\",\"2021-10-08T00:00:00+00:00\",\"2021-10-09T00:00:00+00:00\",\"2021-10-10T00:00:00+00:00\",\"2021-10-11T00:00:00+00:00\",\"2021-10-12T00:00:00+00:00\",\"2021-10-13T00:00:00+00:00\",\"2021-10-14T00:00:00+00:00\",\"2021-10-15T00:00:00+00:00\",\"2021-10-16T00:00:00+00:00\",\"2021-10-17T00:00:00+00:00\",\"2021-10-18T00:00:00+00:00\",\"2021-10-19T00:00:00+00:00\",\"2021-10-20T00:00:00+00:00\",\"2021-10-21T00:00:00+00:00\",\"2021-10-22T00:00:00+00:00\",\"2021-10-23T00:00:00+00:00\",\"2021-10-24T00:00:00+00:00\",\"2021-10-25T00:00:00+00:00\",\"2021-10-26T00:00:00+00:00\",\"2021-10-27T00:00:00+00:00\",\"2021-10-28T00:00:00+00:00\",\"2021-10-29T00:00:00+00:00\",\"2021-10-30T00:00:00+00:00\",\"2021-10-31T00:00:00+00:00\",\"2021-11-01T00:00:00+00:00\",\"2021-11-02T00:00:00+00:00\",\"2021-11-03T00:00:00+00:00\",\"2021-11-04T00:00:00+00:00\",\"2021-11-05T00:00:00+00:00\",\"2021-11-06T00:00:00+00:00\",\"2021-11-07T00:00:00+00:00\",\"2021-11-08T00:00:00+00:00\",\"2021-11-09T00:00:00+00:00\",\"2021-11-10T00:00:00+00:00\",\"2021-11-11T00:00:00+00:00\"],\"y\":[49279.37,50025.0,49942.98,51789.17,52698.81,46894.5,46060.36,46400.0,44851.45,45171.83,46024.23,44947.72,47127.22,48148.12,47753.16,47303.5,48314.56,47255.92,43012.97,40719.6,43575.1,44897.59,42848.92,42705.51,43178.02,42171.76,41026.07,41522.16,43824.43,48165.76,47657.69,48233.99,49245.54,51493.99,55339.48,53797.82,53963.82,54962.29,54690.53,57487.44,56005.1,57367.32,57359.51,61695.4,60877.42,61527.11,62042.41,64303.14,66026.54,62204.02,60687.64,61300.01,60854.48,63083.54,60337.62,58455.47,60591.65,62276.72,61892.41,61343.69,60949.54,63266.51,62935.41,61444.5,61006.15,61539.31,63309.13,67554.84,66944.67,64912.2,64807.74]},{\"marker\":{\"color\":\"Green\"},\"mode\":\"markers\",\"name\":\"Buy Price\",\"type\":\"scatter\",\"x\":[\"2021-09-02T00:00:00+00:00\",\"2021-09-03T00:00:00+00:00\",\"2021-09-04T00:00:00+00:00\",\"2021-09-05T00:00:00+00:00\",\"2021-09-06T00:00:00+00:00\",\"2021-09-07T00:00:00+00:00\",\"2021-09-08T00:00:00+00:00\",\"2021-09-09T00:00:00+00:00\",\"2021-09-10T00:00:00+00:00\",\"2021-09-11T00:00:00+00:00\",\"2021-09-12T00:00:00+00:00\",\"2021-09-13T00:00:00+00:00\",\"2021-09-14T00:00:00+00:00\",\"2021-09-15T00:00:00+00:00\",\"2021-09-16T00:00:00+00:00\",\"2021-09-17T00:00:00+00:00\",\"2021-09-18T00:00:00+00:00\",\"2021-09-19T00:00:00+00:00\",\"2021-09-20T00:00:00+00:00\",\"2021-09-21T00:00:00+00:00\",\"2021-09-22T00:00:00+00:00\",\"2021-09-23T00:00:00+00:00\",\"2021-09-24T00:00:00+00:00\",\"2021-09-25T00:00:00+00:00\",\"2021-09-26T00:00:00+00:00\",\"2021-09-27T00:00:00+00:00\",\"2021-09-28T00:00:00+00:00\",\"2021-09-29T00:00:00+00:00\",\"2021-09-30T00:00:00+00:00\",\"2021-10-01T00:00:00+00:00\",\"2021-10-02T00:00:00+00:00\",\"2021-10-03T00:00:00+00:00\",\"2021-10-04T00:00:00+00:00\",\"2021-10-05T00:00:00+00:00\",\"2021-10-06T00:00:00+00:00\",\"2021-10-07T00:00:00+00:00\",\"2021-10-08T00:00:00+00:00\",\"2021-10-09T00:00:00+00:00\",\"2021-10-10T00:00:00+00:00\",\"2021-10-11T00:00:00+00:00\",\"2021-10-12T00:00:00+00:00\",\"2021-10-13T00:00:00+00:00\",\"2021-10-14T00:00:00+00:00\",\"2021-10-15T00:00:00+00:00\",\"2021-10-16T00:00:00+00:00\",\"2021-10-17T00:00:00+00:00\",\"2021-10-18T00:00:00+00:00\",\"2021-10-19T00:00:00+00:00\",\"2021-10-20T00:00:00+00:00\",\"2021-10-21T00:00:00+00:00\",\"2021-10-22T00:00:00+00:00\",\"2021-10-23T00:00:00+00:00\",\"2021-10-24T00:00:00+00:00\",\"2021-10-25T00:00:00+00:00\",\"2021-10-26T00:00:00+00:00\",\"2021-10-27T00:00:00+00:00\",\"2021-10-28T00:00:00+00:00\",\"2021-10-29T00:00:00+00:00\",\"2021-10-30T00:00:00+00:00\",\"2021-10-31T00:00:00+00:00\",\"2021-11-01T00:00:00+00:00\",\"2021-11-02T00:00:00+00:00\",\"2021-11-03T00:00:00+00:00\",\"2021-11-04T00:00:00+00:00\",\"2021-11-05T00:00:00+00:00\",\"2021-11-06T00:00:00+00:00\",\"2021-11-07T00:00:00+00:00\",\"2021-11-08T00:00:00+00:00\",\"2021-11-09T00:00:00+00:00\",\"2021-11-10T00:00:00+00:00\",\"2021-11-11T00:00:00+00:00\"],\"y\":[null,null,null,null,null,null,null,null,null,null,null,null,null,null,null,null,null,null,null,40719.6,null,null,null,null,null,null,null,null,null,null,null,null,null,null,null,null,null,null,null,null,null,null,null,null,null,null,null,null,null,null,null,null,null,null,null,null,null,null,null,null,null,null,null,null,null,null,null,null,null,null,null]},{\"marker\":{\"color\":\"Red\"},\"mode\":\"markers\",\"name\":\"Sell Price\",\"type\":\"scatter\",\"x\":[\"2021-09-02T00:00:00+00:00\",\"2021-09-03T00:00:00+00:00\",\"2021-09-04T00:00:00+00:00\",\"2021-09-05T00:00:00+00:00\",\"2021-09-06T00:00:00+00:00\",\"2021-09-07T00:00:00+00:00\",\"2021-09-08T00:00:00+00:00\",\"2021-09-09T00:00:00+00:00\",\"2021-09-10T00:00:00+00:00\",\"2021-09-11T00:00:00+00:00\",\"2021-09-12T00:00:00+00:00\",\"2021-09-13T00:00:00+00:00\",\"2021-09-14T00:00:00+00:00\",\"2021-09-15T00:00:00+00:00\",\"2021-09-16T00:00:00+00:00\",\"2021-09-17T00:00:00+00:00\",\"2021-09-18T00:00:00+00:00\",\"2021-09-19T00:00:00+00:00\",\"2021-09-20T00:00:00+00:00\",\"2021-09-21T00:00:00+00:00\",\"2021-09-22T00:00:00+00:00\",\"2021-09-23T00:00:00+00:00\",\"2021-09-24T00:00:00+00:00\",\"2021-09-25T00:00:00+00:00\",\"2021-09-26T00:00:00+00:00\",\"2021-09-27T00:00:00+00:00\",\"2021-09-28T00:00:00+00:00\",\"2021-09-29T00:00:00+00:00\",\"2021-09-30T00:00:00+00:00\",\"2021-10-01T00:00:00+00:00\",\"2021-10-02T00:00:00+00:00\",\"2021-10-03T00:00:00+00:00\",\"2021-10-04T00:00:00+00:00\",\"2021-10-05T00:00:00+00:00\",\"2021-10-06T00:00:00+00:00\",\"2021-10-07T00:00:00+00:00\",\"2021-10-08T00:00:00+00:00\",\"2021-10-09T00:00:00+00:00\",\"2021-10-10T00:00:00+00:00\",\"2021-10-11T00:00:00+00:00\",\"2021-10-12T00:00:00+00:00\",\"2021-10-13T00:00:00+00:00\",\"2021-10-14T00:00:00+00:00\",\"2021-10-15T00:00:00+00:00\",\"2021-10-16T00:00:00+00:00\",\"2021-10-17T00:00:00+00:00\",\"2021-10-18T00:00:00+00:00\",\"2021-10-19T00:00:00+00:00\",\"2021-10-20T00:00:00+00:00\",\"2021-10-21T00:00:00+00:00\",\"2021-10-22T00:00:00+00:00\",\"2021-10-23T00:00:00+00:00\",\"2021-10-24T00:00:00+00:00\",\"2021-10-25T00:00:00+00:00\",\"2021-10-26T00:00:00+00:00\",\"2021-10-27T00:00:00+00:00\",\"2021-10-28T00:00:00+00:00\",\"2021-10-29T00:00:00+00:00\",\"2021-10-30T00:00:00+00:00\",\"2021-10-31T00:00:00+00:00\",\"2021-11-01T00:00:00+00:00\",\"2021-11-02T00:00:00+00:00\",\"2021-11-03T00:00:00+00:00\",\"2021-11-04T00:00:00+00:00\",\"2021-11-05T00:00:00+00:00\",\"2021-11-06T00:00:00+00:00\",\"2021-11-07T00:00:00+00:00\",\"2021-11-08T00:00:00+00:00\",\"2021-11-09T00:00:00+00:00\",\"2021-11-10T00:00:00+00:00\",\"2021-11-11T00:00:00+00:00\"],\"y\":[null,null,null,null,52698.81,null,null,null,null,null,null,null,null,null,null,null,null,null,null,null,null,null,null,null,null,null,null,null,null,null,null,null,null,null,55339.48,null,null,null,null,null,null,null,null,null,null,null,null,null,null,null,null,null,null,null,null,null,null,null,null,null,null,null,null,null,null,null,null,67554.84,null,null,null]}],                        {\"template\":{\"data\":{\"bar\":[{\"error_x\":{\"color\":\"#2a3f5f\"},\"error_y\":{\"color\":\"#2a3f5f\"},\"marker\":{\"line\":{\"color\":\"#E5ECF6\",\"width\":0.5},\"pattern\":{\"fillmode\":\"overlay\",\"size\":10,\"solidity\":0.2}},\"type\":\"bar\"}],\"barpolar\":[{\"marker\":{\"line\":{\"color\":\"#E5ECF6\",\"width\":0.5},\"pattern\":{\"fillmode\":\"overlay\",\"size\":10,\"solidity\":0.2}},\"type\":\"barpolar\"}],\"carpet\":[{\"aaxis\":{\"endlinecolor\":\"#2a3f5f\",\"gridcolor\":\"white\",\"linecolor\":\"white\",\"minorgridcolor\":\"white\",\"startlinecolor\":\"#2a3f5f\"},\"baxis\":{\"endlinecolor\":\"#2a3f5f\",\"gridcolor\":\"white\",\"linecolor\":\"white\",\"minorgridcolor\":\"white\",\"startlinecolor\":\"#2a3f5f\"},\"type\":\"carpet\"}],\"choropleth\":[{\"colorbar\":{\"outlinewidth\":0,\"ticks\":\"\"},\"type\":\"choropleth\"}],\"contour\":[{\"colorbar\":{\"outlinewidth\":0,\"ticks\":\"\"},\"colorscale\":[[0.0,\"#0d0887\"],[0.1111111111111111,\"#46039f\"],[0.2222222222222222,\"#7201a8\"],[0.3333333333333333,\"#9c179e\"],[0.4444444444444444,\"#bd3786\"],[0.5555555555555556,\"#d8576b\"],[0.6666666666666666,\"#ed7953\"],[0.7777777777777778,\"#fb9f3a\"],[0.8888888888888888,\"#fdca26\"],[1.0,\"#f0f921\"]],\"type\":\"contour\"}],\"contourcarpet\":[{\"colorbar\":{\"outlinewidth\":0,\"ticks\":\"\"},\"type\":\"contourcarpet\"}],\"heatmap\":[{\"colorbar\":{\"outlinewidth\":0,\"ticks\":\"\"},\"colorscale\":[[0.0,\"#0d0887\"],[0.1111111111111111,\"#46039f\"],[0.2222222222222222,\"#7201a8\"],[0.3333333333333333,\"#9c179e\"],[0.4444444444444444,\"#bd3786\"],[0.5555555555555556,\"#d8576b\"],[0.6666666666666666,\"#ed7953\"],[0.7777777777777778,\"#fb9f3a\"],[0.8888888888888888,\"#fdca26\"],[1.0,\"#f0f921\"]],\"type\":\"heatmap\"}],\"heatmapgl\":[{\"colorbar\":{\"outlinewidth\":0,\"ticks\":\"\"},\"colorscale\":[[0.0,\"#0d0887\"],[0.1111111111111111,\"#46039f\"],[0.2222222222222222,\"#7201a8\"],[0.3333333333333333,\"#9c179e\"],[0.4444444444444444,\"#bd3786\"],[0.5555555555555556,\"#d8576b\"],[0.6666666666666666,\"#ed7953\"],[0.7777777777777778,\"#fb9f3a\"],[0.8888888888888888,\"#fdca26\"],[1.0,\"#f0f921\"]],\"type\":\"heatmapgl\"}],\"histogram\":[{\"marker\":{\"pattern\":{\"fillmode\":\"overlay\",\"size\":10,\"solidity\":0.2}},\"type\":\"histogram\"}],\"histogram2d\":[{\"colorbar\":{\"outlinewidth\":0,\"ticks\":\"\"},\"colorscale\":[[0.0,\"#0d0887\"],[0.1111111111111111,\"#46039f\"],[0.2222222222222222,\"#7201a8\"],[0.3333333333333333,\"#9c179e\"],[0.4444444444444444,\"#bd3786\"],[0.5555555555555556,\"#d8576b\"],[0.6666666666666666,\"#ed7953\"],[0.7777777777777778,\"#fb9f3a\"],[0.8888888888888888,\"#fdca26\"],[1.0,\"#f0f921\"]],\"type\":\"histogram2d\"}],\"histogram2dcontour\":[{\"colorbar\":{\"outlinewidth\":0,\"ticks\":\"\"},\"colorscale\":[[0.0,\"#0d0887\"],[0.1111111111111111,\"#46039f\"],[0.2222222222222222,\"#7201a8\"],[0.3333333333333333,\"#9c179e\"],[0.4444444444444444,\"#bd3786\"],[0.5555555555555556,\"#d8576b\"],[0.6666666666666666,\"#ed7953\"],[0.7777777777777778,\"#fb9f3a\"],[0.8888888888888888,\"#fdca26\"],[1.0,\"#f0f921\"]],\"type\":\"histogram2dcontour\"}],\"mesh3d\":[{\"colorbar\":{\"outlinewidth\":0,\"ticks\":\"\"},\"type\":\"mesh3d\"}],\"parcoords\":[{\"line\":{\"colorbar\":{\"outlinewidth\":0,\"ticks\":\"\"}},\"type\":\"parcoords\"}],\"pie\":[{\"automargin\":true,\"type\":\"pie\"}],\"scatter\":[{\"marker\":{\"colorbar\":{\"outlinewidth\":0,\"ticks\":\"\"}},\"type\":\"scatter\"}],\"scatter3d\":[{\"line\":{\"colorbar\":{\"outlinewidth\":0,\"ticks\":\"\"}},\"marker\":{\"colorbar\":{\"outlinewidth\":0,\"ticks\":\"\"}},\"type\":\"scatter3d\"}],\"scattercarpet\":[{\"marker\":{\"colorbar\":{\"outlinewidth\":0,\"ticks\":\"\"}},\"type\":\"scattercarpet\"}],\"scattergeo\":[{\"marker\":{\"colorbar\":{\"outlinewidth\":0,\"ticks\":\"\"}},\"type\":\"scattergeo\"}],\"scattergl\":[{\"marker\":{\"colorbar\":{\"outlinewidth\":0,\"ticks\":\"\"}},\"type\":\"scattergl\"}],\"scattermapbox\":[{\"marker\":{\"colorbar\":{\"outlinewidth\":0,\"ticks\":\"\"}},\"type\":\"scattermapbox\"}],\"scatterpolar\":[{\"marker\":{\"colorbar\":{\"outlinewidth\":0,\"ticks\":\"\"}},\"type\":\"scatterpolar\"}],\"scatterpolargl\":[{\"marker\":{\"colorbar\":{\"outlinewidth\":0,\"ticks\":\"\"}},\"type\":\"scatterpolargl\"}],\"scatterternary\":[{\"marker\":{\"colorbar\":{\"outlinewidth\":0,\"ticks\":\"\"}},\"type\":\"scatterternary\"}],\"surface\":[{\"colorbar\":{\"outlinewidth\":0,\"ticks\":\"\"},\"colorscale\":[[0.0,\"#0d0887\"],[0.1111111111111111,\"#46039f\"],[0.2222222222222222,\"#7201a8\"],[0.3333333333333333,\"#9c179e\"],[0.4444444444444444,\"#bd3786\"],[0.5555555555555556,\"#d8576b\"],[0.6666666666666666,\"#ed7953\"],[0.7777777777777778,\"#fb9f3a\"],[0.8888888888888888,\"#fdca26\"],[1.0,\"#f0f921\"]],\"type\":\"surface\"}],\"table\":[{\"cells\":{\"fill\":{\"color\":\"#EBF0F8\"},\"line\":{\"color\":\"white\"}},\"header\":{\"fill\":{\"color\":\"#C8D4E3\"},\"line\":{\"color\":\"white\"}},\"type\":\"table\"}]},\"layout\":{\"annotationdefaults\":{\"arrowcolor\":\"#2a3f5f\",\"arrowhead\":0,\"arrowwidth\":1},\"autotypenumbers\":\"strict\",\"coloraxis\":{\"colorbar\":{\"outlinewidth\":0,\"ticks\":\"\"}},\"colorscale\":{\"diverging\":[[0,\"#8e0152\"],[0.1,\"#c51b7d\"],[0.2,\"#de77ae\"],[0.3,\"#f1b6da\"],[0.4,\"#fde0ef\"],[0.5,\"#f7f7f7\"],[0.6,\"#e6f5d0\"],[0.7,\"#b8e186\"],[0.8,\"#7fbc41\"],[0.9,\"#4d9221\"],[1,\"#276419\"]],\"sequential\":[[0.0,\"#0d0887\"],[0.1111111111111111,\"#46039f\"],[0.2222222222222222,\"#7201a8\"],[0.3333333333333333,\"#9c179e\"],[0.4444444444444444,\"#bd3786\"],[0.5555555555555556,\"#d8576b\"],[0.6666666666666666,\"#ed7953\"],[0.7777777777777778,\"#fb9f3a\"],[0.8888888888888888,\"#fdca26\"],[1.0,\"#f0f921\"]],\"sequentialminus\":[[0.0,\"#0d0887\"],[0.1111111111111111,\"#46039f\"],[0.2222222222222222,\"#7201a8\"],[0.3333333333333333,\"#9c179e\"],[0.4444444444444444,\"#bd3786\"],[0.5555555555555556,\"#d8576b\"],[0.6666666666666666,\"#ed7953\"],[0.7777777777777778,\"#fb9f3a\"],[0.8888888888888888,\"#fdca26\"],[1.0,\"#f0f921\"]]},\"colorway\":[\"#636efa\",\"#EF553B\",\"#00cc96\",\"#ab63fa\",\"#FFA15A\",\"#19d3f3\",\"#FF6692\",\"#B6E880\",\"#FF97FF\",\"#FECB52\"],\"font\":{\"color\":\"#2a3f5f\"},\"geo\":{\"bgcolor\":\"white\",\"lakecolor\":\"white\",\"landcolor\":\"#E5ECF6\",\"showlakes\":true,\"showland\":true,\"subunitcolor\":\"white\"},\"hoverlabel\":{\"align\":\"left\"},\"hovermode\":\"closest\",\"mapbox\":{\"style\":\"light\"},\"paper_bgcolor\":\"white\",\"plot_bgcolor\":\"#E5ECF6\",\"polar\":{\"angularaxis\":{\"gridcolor\":\"white\",\"linecolor\":\"white\",\"ticks\":\"\"},\"bgcolor\":\"#E5ECF6\",\"radialaxis\":{\"gridcolor\":\"white\",\"linecolor\":\"white\",\"ticks\":\"\"}},\"scene\":{\"xaxis\":{\"backgroundcolor\":\"#E5ECF6\",\"gridcolor\":\"white\",\"gridwidth\":2,\"linecolor\":\"white\",\"showbackground\":true,\"ticks\":\"\",\"zerolinecolor\":\"white\"},\"yaxis\":{\"backgroundcolor\":\"#E5ECF6\",\"gridcolor\":\"white\",\"gridwidth\":2,\"linecolor\":\"white\",\"showbackground\":true,\"ticks\":\"\",\"zerolinecolor\":\"white\"},\"zaxis\":{\"backgroundcolor\":\"#E5ECF6\",\"gridcolor\":\"white\",\"gridwidth\":2,\"linecolor\":\"white\",\"showbackground\":true,\"ticks\":\"\",\"zerolinecolor\":\"white\"}},\"shapedefaults\":{\"line\":{\"color\":\"#2a3f5f\"}},\"ternary\":{\"aaxis\":{\"gridcolor\":\"white\",\"linecolor\":\"white\",\"ticks\":\"\"},\"baxis\":{\"gridcolor\":\"white\",\"linecolor\":\"white\",\"ticks\":\"\"},\"bgcolor\":\"#E5ECF6\",\"caxis\":{\"gridcolor\":\"white\",\"linecolor\":\"white\",\"ticks\":\"\"}},\"title\":{\"x\":0.05},\"xaxis\":{\"automargin\":true,\"gridcolor\":\"white\",\"linecolor\":\"white\",\"ticks\":\"\",\"title\":{\"standoff\":15},\"zerolinecolor\":\"white\",\"zerolinewidth\":2},\"yaxis\":{\"automargin\":true,\"gridcolor\":\"white\",\"linecolor\":\"white\",\"ticks\":\"\",\"title\":{\"standoff\":15},\"zerolinecolor\":\"white\",\"zerolinewidth\":2}}},\"title\":{\"text\":\"Bollinger Band Analysis\"},\"xaxis\":{\"title\":{\"text\":\"Date\"}},\"yaxis\":{\"title\":{\"text\":\"Price\"}}},                        {\"responsive\": true}                    ).then(function(){\n",
       "                            \n",
       "var gd = document.getElementById('7295fed0-8dcf-42ea-b9ff-8eada7a88540');\n",
       "var x = new MutationObserver(function (mutations, observer) {{\n",
       "        var display = window.getComputedStyle(gd).display;\n",
       "        if (!display || display === 'none') {{\n",
       "            console.log([gd, 'removed!']);\n",
       "            Plotly.purge(gd);\n",
       "            observer.disconnect();\n",
       "        }}\n",
       "}});\n",
       "\n",
       "// Listen for the removal of the full notebook cells\n",
       "var notebookContainer = gd.closest('#notebook-container');\n",
       "if (notebookContainer) {{\n",
       "    x.observe(notebookContainer, {childList: true});\n",
       "}}\n",
       "\n",
       "// Listen for the clearing of the current output cell\n",
       "var outputEl = gd.closest('.output');\n",
       "if (outputEl) {{\n",
       "    x.observe(outputEl, {childList: true});\n",
       "}}\n",
       "\n",
       "                        })                };                });            </script>        </div>"
      ]
     },
     "metadata": {},
     "output_type": "display_data"
    }
   ],
   "source": [
    "fig = go.Figure()\n",
    "\n",
    "fig.add_trace(go.Scatter(x=df.index, y= df['sma'], line=dict (color='grey', width=.8), name = 'SMA'))\n",
    "fig.add_trace(go.Scatter(x=df.index, y= df['upper_band'], line=dict (color='blue', width=1, dash='dot'), name = 'Upper Band'))\n",
    "fig.add_trace(go.Scatter(x=df.index, y= df['lower_band'], line=dict (color='blue', width=1, dash='dot'), name = 'Lower Band'))\n",
    "fig.add_trace(go.Scatter(x=df.index, y= df['close'], line=dict (color='red', width=1), name = 'Price'))\n",
    "\n",
    "\n",
    "fig.add_trace(go.Scatter(x=df.index, y=df['buy_price'],mode='markers',marker=dict(color='Green'),name='Buy Price'))\n",
    "\n",
    "fig.add_trace(go.Scatter(x=df.index, y=df['sell_price'], mode='markers',marker=dict(color='Red'), name='Sell Price'))\n",
    "\n",
    "\n",
    "#fig.add_trace(go.Candlestick(x=df.index, open= df['open'],high=df['high'], low= df['low'], close=df['close'], name = 'Price'))\n",
    "\n",
    "\n",
    "fig.update_layout(title='Bollinger Band Analysis',xaxis_title='Date',yaxis_title='Price')\n",
    "\n",
    "\n",
    "\n",
    "\n",
    "\n",
    "fig.show()"
   ]
  },
  {
   "cell_type": "code",
   "execution_count": null,
   "id": "40121055",
   "metadata": {},
   "outputs": [],
   "source": []
  },
  {
   "cell_type": "code",
   "execution_count": null,
   "id": "5052b878",
   "metadata": {},
   "outputs": [],
   "source": []
  },
  {
   "cell_type": "code",
   "execution_count": null,
   "id": "f8280fe6",
   "metadata": {},
   "outputs": [],
   "source": []
  },
  {
   "cell_type": "code",
   "execution_count": null,
   "id": "2500ca4d",
   "metadata": {},
   "outputs": [],
   "source": []
  }
 ],
 "metadata": {
  "kernelspec": {
   "display_name": "Python 3 (ipykernel)",
   "language": "python",
   "name": "python3"
  },
  "language_info": {
   "codemirror_mode": {
    "name": "ipython",
    "version": 3
   },
   "file_extension": ".py",
   "mimetype": "text/x-python",
   "name": "python",
   "nbconvert_exporter": "python",
   "pygments_lexer": "ipython3",
   "version": "3.8.8"
  }
 },
 "nbformat": 4,
 "nbformat_minor": 5
}
