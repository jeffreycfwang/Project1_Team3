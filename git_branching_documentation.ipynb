{
 "cells": [
  {
   "cell_type": "markdown",
   "id": "b5ad5926",
   "metadata": {},
   "source": [
    "# Git Branching/Pushing"
   ]
  },
  {
   "cell_type": "markdown",
   "id": "bb055652",
   "metadata": {},
   "source": [
    "## Creat a new branch"
   ]
  },
  {
   "cell_type": "markdown",
   "id": "c0f5ce29",
   "metadata": {},
   "source": [
    "### `git checkout -b *your branch here*`"
   ]
  },
  {
   "cell_type": "markdown",
   "id": "e0e3300d",
   "metadata": {},
   "source": [
    "## Change current Branch"
   ]
  },
  {
   "cell_type": "markdown",
   "id": "15e93d7c",
   "metadata": {},
   "source": [
    "### `git checkout *your branch here*`"
   ]
  },
  {
   "cell_type": "markdown",
   "id": "f4d6b152",
   "metadata": {},
   "source": [
    "## Check current branches"
   ]
  },
  {
   "cell_type": "markdown",
   "id": "3626cfe2",
   "metadata": {},
   "source": [
    "### `git branch`"
   ]
  },
  {
   "cell_type": "markdown",
   "id": "a6d42868",
   "metadata": {},
   "source": [
    "## Push into specific branch"
   ]
  },
  {
   "cell_type": "markdown",
   "id": "defca5fa",
   "metadata": {},
   "source": [
    "### `git push origin *your branch here*`"
   ]
  },
  {
   "cell_type": "markdown",
   "id": "f0c1b923",
   "metadata": {},
   "source": [
    "## Delete a Branch"
   ]
  },
  {
   "cell_type": "markdown",
   "id": "8e95157a",
   "metadata": {},
   "source": [
    "### `git branch -D *your branch here*`"
   ]
  },
  {
   "cell_type": "code",
   "execution_count": null,
   "id": "dc6a693a",
   "metadata": {},
   "outputs": [],
   "source": []
  }
 ],
 "metadata": {
  "kernelspec": {
   "display_name": "Python 3 (ipykernel)",
   "language": "python",
   "name": "python3"
  },
  "language_info": {
   "codemirror_mode": {
    "name": "ipython",
    "version": 3
   },
   "file_extension": ".py",
   "mimetype": "text/x-python",
   "name": "python",
   "nbconvert_exporter": "python",
   "pygments_lexer": "ipython3",
   "version": "3.8.8"
  }
 },
 "nbformat": 4,
 "nbformat_minor": 5
}
