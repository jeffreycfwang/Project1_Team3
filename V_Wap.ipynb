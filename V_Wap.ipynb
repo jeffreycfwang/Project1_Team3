{
 "cells": [
  {
   "cell_type": "code",
   "execution_count": 1,
   "id": "2df8abb6",
   "metadata": {},
   "outputs": [
    {
     "data": {
      "application/javascript": [
       "\n",
       "(function(root) {\n",
       "  function now() {\n",
       "    return new Date();\n",
       "  }\n",
       "\n",
       "  var force = true;\n",
       "\n",
       "  if (typeof root._bokeh_onload_callbacks === \"undefined\" || force === true) {\n",
       "    root._bokeh_onload_callbacks = [];\n",
       "    root._bokeh_is_loading = undefined;\n",
       "  }\n",
       "\n",
       "  if (typeof (root._bokeh_timeout) === \"undefined\" || force === true) {\n",
       "    root._bokeh_timeout = Date.now() + 5000;\n",
       "    root._bokeh_failed_load = false;\n",
       "  }\n",
       "\n",
       "  function run_callbacks() {\n",
       "    try {\n",
       "      root._bokeh_onload_callbacks.forEach(function(callback) {\n",
       "        if (callback != null)\n",
       "          callback();\n",
       "      });\n",
       "    } finally {\n",
       "      delete root._bokeh_onload_callbacks\n",
       "    }\n",
       "    console.debug(\"Bokeh: all callbacks have finished\");\n",
       "  }\n",
       "\n",
       "  function load_libs(css_urls, js_urls, js_modules, callback) {\n",
       "    if (css_urls == null) css_urls = [];\n",
       "    if (js_urls == null) js_urls = [];\n",
       "    if (js_modules == null) js_modules = [];\n",
       "\n",
       "    root._bokeh_onload_callbacks.push(callback);\n",
       "    if (root._bokeh_is_loading > 0) {\n",
       "      console.debug(\"Bokeh: BokehJS is being loaded, scheduling callback at\", now());\n",
       "      return null;\n",
       "    }\n",
       "    if (js_urls.length === 0 && js_modules.length === 0) {\n",
       "      run_callbacks();\n",
       "      return null;\n",
       "    }\n",
       "    console.debug(\"Bokeh: BokehJS not loaded, scheduling load and callback at\", now());\n",
       "    root._bokeh_is_loading = css_urls.length + js_urls.length + js_modules.length;\n",
       "\n",
       "    function on_load() {\n",
       "      root._bokeh_is_loading--;\n",
       "      if (root._bokeh_is_loading === 0) {\n",
       "        console.debug(\"Bokeh: all BokehJS libraries/stylesheets loaded\");\n",
       "        run_callbacks()\n",
       "      }\n",
       "    }\n",
       "\n",
       "    function on_error() {\n",
       "      console.error(\"failed to load \" + url);\n",
       "    }\n",
       "\n",
       "    for (var i = 0; i < css_urls.length; i++) {\n",
       "      var url = css_urls[i];\n",
       "      const element = document.createElement(\"link\");\n",
       "      element.onload = on_load;\n",
       "      element.onerror = on_error;\n",
       "      element.rel = \"stylesheet\";\n",
       "      element.type = \"text/css\";\n",
       "      element.href = url;\n",
       "      console.debug(\"Bokeh: injecting link tag for BokehJS stylesheet: \", url);\n",
       "      document.body.appendChild(element);\n",
       "    }\n",
       "\n",
       "    var skip = [];\n",
       "    if (window.requirejs) {\n",
       "      window.requirejs.config({'packages': {}, 'paths': {'plotly': 'https://cdn.plot.ly/plotly-latest.min'}, 'shim': {}});\n",
       "      \n",
       "      require([\"plotly\"], function(Plotly) {\n",
       "\twindow.Plotly = Plotly\n",
       "      })\n",
       "      \n",
       "    }\n",
       "    if (((window['Plotly'] !== undefined) && (!(window['Plotly'] instanceof HTMLElement))) || window.requirejs) {\n",
       "      var urls = ['https://cdn.plot.ly/plotly-latest.min.js'];\n",
       "      for (var i = 0; i < urls.length; i++) {\n",
       "        skip.push(urls[i])\n",
       "      }\n",
       "    }\n",
       "    for (var i = 0; i < js_urls.length; i++) {\n",
       "      var url = js_urls[i];\n",
       "      if (skip.indexOf(url) >= 0) { on_load(); continue; }\n",
       "      var element = document.createElement('script');\n",
       "      element.onload = on_load;\n",
       "      element.onerror = on_error;\n",
       "      element.async = false;\n",
       "      element.src = url;\n",
       "      console.debug(\"Bokeh: injecting script tag for BokehJS library: \", url);\n",
       "      document.head.appendChild(element);\n",
       "    }\n",
       "    for (var i = 0; i < js_modules.length; i++) {\n",
       "      var url = js_modules[i];\n",
       "      if (skip.indexOf(url) >= 0) { on_load(); continue; }\n",
       "      var element = document.createElement('script');\n",
       "      element.onload = on_load;\n",
       "      element.onerror = on_error;\n",
       "      element.async = false;\n",
       "      element.src = url;\n",
       "      element.type = \"module\";\n",
       "      console.debug(\"Bokeh: injecting script tag for BokehJS library: \", url);\n",
       "      document.head.appendChild(element);\n",
       "    }\n",
       "    if (!js_urls.length && !js_modules.length) {\n",
       "      on_load()\n",
       "    }\n",
       "  };\n",
       "\n",
       "  function inject_raw_css(css) {\n",
       "    const element = document.createElement(\"style\");\n",
       "    element.appendChild(document.createTextNode(css));\n",
       "    document.body.appendChild(element);\n",
       "  }\n",
       "\n",
       "  var js_urls = [\"https://code.jquery.com/jquery-3.4.1.min.js\", \"https://cdn.plot.ly/plotly-latest.min.js\", \"https://cdn.bokeh.org/bokeh/release/bokeh-2.4.1.min.js\", \"https://cdn.bokeh.org/bokeh/release/bokeh-gl-2.4.1.min.js\", \"https://cdn.bokeh.org/bokeh/release/bokeh-widgets-2.4.1.min.js\", \"https://cdn.bokeh.org/bokeh/release/bokeh-tables-2.4.1.min.js\", \"https://cdn.bokeh.org/bokeh/release/bokeh-mathjax-2.4.1.min.js\", \"https://unpkg.com/@holoviz/panel@0.12.4/dist/panel.min.js\"];\n",
       "  var js_modules = [];\n",
       "  var css_urls = [\"https://unpkg.com/@holoviz/panel@0.12.4/dist/css/alerts.css\", \"https://unpkg.com/@holoviz/panel@0.12.4/dist/css/card.css\", \"https://unpkg.com/@holoviz/panel@0.12.4/dist/css/dataframe.css\", \"https://unpkg.com/@holoviz/panel@0.12.4/dist/css/json.css\", \"https://unpkg.com/@holoviz/panel@0.12.4/dist/css/loading.css\", \"https://unpkg.com/@holoviz/panel@0.12.4/dist/css/markdown.css\", \"https://unpkg.com/@holoviz/panel@0.12.4/dist/css/widgets.css\"];\n",
       "  var inline_js = [\n",
       "    function(Bokeh) {\n",
       "      inject_raw_css(\"\\n    .bk.pn-loading.arcs:before {\\n      background-image: url(\\\"data:image/svg+xml;base64,PHN2ZyB4bWxucz0iaHR0cDovL3d3dy53My5vcmcvMjAwMC9zdmciIHhtbG5zOnhsaW5rPSJodHRwOi8vd3d3LnczLm9yZy8xOTk5L3hsaW5rIiBzdHlsZT0ibWFyZ2luOiBhdXRvOyBiYWNrZ3JvdW5kOiBub25lOyBkaXNwbGF5OiBibG9jazsgc2hhcGUtcmVuZGVyaW5nOiBhdXRvOyIgdmlld0JveD0iMCAwIDEwMCAxMDAiIHByZXNlcnZlQXNwZWN0UmF0aW89InhNaWRZTWlkIj4gIDxjaXJjbGUgY3g9IjUwIiBjeT0iNTAiIHI9IjMyIiBzdHJva2Utd2lkdGg9IjgiIHN0cm9rZT0iI2MzYzNjMyIgc3Ryb2tlLWRhc2hhcnJheT0iNTAuMjY1NDgyNDU3NDM2NjkgNTAuMjY1NDgyNDU3NDM2NjkiIGZpbGw9Im5vbmUiIHN0cm9rZS1saW5lY2FwPSJyb3VuZCI+ICAgIDxhbmltYXRlVHJhbnNmb3JtIGF0dHJpYnV0ZU5hbWU9InRyYW5zZm9ybSIgdHlwZT0icm90YXRlIiByZXBlYXRDb3VudD0iaW5kZWZpbml0ZSIgZHVyPSIxcyIga2V5VGltZXM9IjA7MSIgdmFsdWVzPSIwIDUwIDUwOzM2MCA1MCA1MCI+PC9hbmltYXRlVHJhbnNmb3JtPiAgPC9jaXJjbGU+PC9zdmc+\\\")\\n    }\\n    \");\n",
       "    },\n",
       "    function(Bokeh) {\n",
       "      Bokeh.set_log_level(\"info\");\n",
       "    },\n",
       "    function(Bokeh) {} // ensure no trailing comma for IE\n",
       "  ];\n",
       "\n",
       "  function run_inline_js() {\n",
       "    if ((root.Bokeh !== undefined) || (force === true)) {\n",
       "      for (var i = 0; i < inline_js.length; i++) {\n",
       "        inline_js[i].call(root, root.Bokeh);\n",
       "      }} else if (Date.now() < root._bokeh_timeout) {\n",
       "      setTimeout(run_inline_js, 100);\n",
       "    } else if (!root._bokeh_failed_load) {\n",
       "      console.log(\"Bokeh: BokehJS failed to load within specified timeout.\");\n",
       "      root._bokeh_failed_load = true;\n",
       "    }\n",
       "  }\n",
       "\n",
       "  if (root._bokeh_is_loading === 0) {\n",
       "    console.debug(\"Bokeh: BokehJS loaded, going straight to plotting\");\n",
       "    run_inline_js();\n",
       "  } else {\n",
       "    load_libs(css_urls, js_urls, js_modules, function() {\n",
       "      console.debug(\"Bokeh: BokehJS plotting callback run at\", now());\n",
       "      run_inline_js();\n",
       "    });\n",
       "  }\n",
       "}(window));"
      ],
      "application/vnd.holoviews_load.v0+json": "\n(function(root) {\n  function now() {\n    return new Date();\n  }\n\n  var force = true;\n\n  if (typeof root._bokeh_onload_callbacks === \"undefined\" || force === true) {\n    root._bokeh_onload_callbacks = [];\n    root._bokeh_is_loading = undefined;\n  }\n\n  if (typeof (root._bokeh_timeout) === \"undefined\" || force === true) {\n    root._bokeh_timeout = Date.now() + 5000;\n    root._bokeh_failed_load = false;\n  }\n\n  function run_callbacks() {\n    try {\n      root._bokeh_onload_callbacks.forEach(function(callback) {\n        if (callback != null)\n          callback();\n      });\n    } finally {\n      delete root._bokeh_onload_callbacks\n    }\n    console.debug(\"Bokeh: all callbacks have finished\");\n  }\n\n  function load_libs(css_urls, js_urls, js_modules, callback) {\n    if (css_urls == null) css_urls = [];\n    if (js_urls == null) js_urls = [];\n    if (js_modules == null) js_modules = [];\n\n    root._bokeh_onload_callbacks.push(callback);\n    if (root._bokeh_is_loading > 0) {\n      console.debug(\"Bokeh: BokehJS is being loaded, scheduling callback at\", now());\n      return null;\n    }\n    if (js_urls.length === 0 && js_modules.length === 0) {\n      run_callbacks();\n      return null;\n    }\n    console.debug(\"Bokeh: BokehJS not loaded, scheduling load and callback at\", now());\n    root._bokeh_is_loading = css_urls.length + js_urls.length + js_modules.length;\n\n    function on_load() {\n      root._bokeh_is_loading--;\n      if (root._bokeh_is_loading === 0) {\n        console.debug(\"Bokeh: all BokehJS libraries/stylesheets loaded\");\n        run_callbacks()\n      }\n    }\n\n    function on_error() {\n      console.error(\"failed to load \" + url);\n    }\n\n    for (var i = 0; i < css_urls.length; i++) {\n      var url = css_urls[i];\n      const element = document.createElement(\"link\");\n      element.onload = on_load;\n      element.onerror = on_error;\n      element.rel = \"stylesheet\";\n      element.type = \"text/css\";\n      element.href = url;\n      console.debug(\"Bokeh: injecting link tag for BokehJS stylesheet: \", url);\n      document.body.appendChild(element);\n    }\n\n    var skip = [];\n    if (window.requirejs) {\n      window.requirejs.config({'packages': {}, 'paths': {'plotly': 'https://cdn.plot.ly/plotly-latest.min'}, 'shim': {}});\n      \n      require([\"plotly\"], function(Plotly) {\n\twindow.Plotly = Plotly\n      })\n      \n    }\n    if (((window['Plotly'] !== undefined) && (!(window['Plotly'] instanceof HTMLElement))) || window.requirejs) {\n      var urls = ['https://cdn.plot.ly/plotly-latest.min.js'];\n      for (var i = 0; i < urls.length; i++) {\n        skip.push(urls[i])\n      }\n    }\n    for (var i = 0; i < js_urls.length; i++) {\n      var url = js_urls[i];\n      if (skip.indexOf(url) >= 0) { on_load(); continue; }\n      var element = document.createElement('script');\n      element.onload = on_load;\n      element.onerror = on_error;\n      element.async = false;\n      element.src = url;\n      console.debug(\"Bokeh: injecting script tag for BokehJS library: \", url);\n      document.head.appendChild(element);\n    }\n    for (var i = 0; i < js_modules.length; i++) {\n      var url = js_modules[i];\n      if (skip.indexOf(url) >= 0) { on_load(); continue; }\n      var element = document.createElement('script');\n      element.onload = on_load;\n      element.onerror = on_error;\n      element.async = false;\n      element.src = url;\n      element.type = \"module\";\n      console.debug(\"Bokeh: injecting script tag for BokehJS library: \", url);\n      document.head.appendChild(element);\n    }\n    if (!js_urls.length && !js_modules.length) {\n      on_load()\n    }\n  };\n\n  function inject_raw_css(css) {\n    const element = document.createElement(\"style\");\n    element.appendChild(document.createTextNode(css));\n    document.body.appendChild(element);\n  }\n\n  var js_urls = [\"https://code.jquery.com/jquery-3.4.1.min.js\", \"https://cdn.plot.ly/plotly-latest.min.js\", \"https://cdn.bokeh.org/bokeh/release/bokeh-2.4.1.min.js\", \"https://cdn.bokeh.org/bokeh/release/bokeh-gl-2.4.1.min.js\", \"https://cdn.bokeh.org/bokeh/release/bokeh-widgets-2.4.1.min.js\", \"https://cdn.bokeh.org/bokeh/release/bokeh-tables-2.4.1.min.js\", \"https://cdn.bokeh.org/bokeh/release/bokeh-mathjax-2.4.1.min.js\", \"https://unpkg.com/@holoviz/panel@0.12.4/dist/panel.min.js\"];\n  var js_modules = [];\n  var css_urls = [\"https://unpkg.com/@holoviz/panel@0.12.4/dist/css/alerts.css\", \"https://unpkg.com/@holoviz/panel@0.12.4/dist/css/card.css\", \"https://unpkg.com/@holoviz/panel@0.12.4/dist/css/dataframe.css\", \"https://unpkg.com/@holoviz/panel@0.12.4/dist/css/json.css\", \"https://unpkg.com/@holoviz/panel@0.12.4/dist/css/loading.css\", \"https://unpkg.com/@holoviz/panel@0.12.4/dist/css/markdown.css\", \"https://unpkg.com/@holoviz/panel@0.12.4/dist/css/widgets.css\"];\n  var inline_js = [\n    function(Bokeh) {\n      inject_raw_css(\"\\n    .bk.pn-loading.arcs:before {\\n      background-image: url(\\\"data:image/svg+xml;base64,PHN2ZyB4bWxucz0iaHR0cDovL3d3dy53My5vcmcvMjAwMC9zdmciIHhtbG5zOnhsaW5rPSJodHRwOi8vd3d3LnczLm9yZy8xOTk5L3hsaW5rIiBzdHlsZT0ibWFyZ2luOiBhdXRvOyBiYWNrZ3JvdW5kOiBub25lOyBkaXNwbGF5OiBibG9jazsgc2hhcGUtcmVuZGVyaW5nOiBhdXRvOyIgdmlld0JveD0iMCAwIDEwMCAxMDAiIHByZXNlcnZlQXNwZWN0UmF0aW89InhNaWRZTWlkIj4gIDxjaXJjbGUgY3g9IjUwIiBjeT0iNTAiIHI9IjMyIiBzdHJva2Utd2lkdGg9IjgiIHN0cm9rZT0iI2MzYzNjMyIgc3Ryb2tlLWRhc2hhcnJheT0iNTAuMjY1NDgyNDU3NDM2NjkgNTAuMjY1NDgyNDU3NDM2NjkiIGZpbGw9Im5vbmUiIHN0cm9rZS1saW5lY2FwPSJyb3VuZCI+ICAgIDxhbmltYXRlVHJhbnNmb3JtIGF0dHJpYnV0ZU5hbWU9InRyYW5zZm9ybSIgdHlwZT0icm90YXRlIiByZXBlYXRDb3VudD0iaW5kZWZpbml0ZSIgZHVyPSIxcyIga2V5VGltZXM9IjA7MSIgdmFsdWVzPSIwIDUwIDUwOzM2MCA1MCA1MCI+PC9hbmltYXRlVHJhbnNmb3JtPiAgPC9jaXJjbGU+PC9zdmc+\\\")\\n    }\\n    \");\n    },\n    function(Bokeh) {\n      Bokeh.set_log_level(\"info\");\n    },\n    function(Bokeh) {} // ensure no trailing comma for IE\n  ];\n\n  function run_inline_js() {\n    if ((root.Bokeh !== undefined) || (force === true)) {\n      for (var i = 0; i < inline_js.length; i++) {\n        inline_js[i].call(root, root.Bokeh);\n      }} else if (Date.now() < root._bokeh_timeout) {\n      setTimeout(run_inline_js, 100);\n    } else if (!root._bokeh_failed_load) {\n      console.log(\"Bokeh: BokehJS failed to load within specified timeout.\");\n      root._bokeh_failed_load = true;\n    }\n  }\n\n  if (root._bokeh_is_loading === 0) {\n    console.debug(\"Bokeh: BokehJS loaded, going straight to plotting\");\n    run_inline_js();\n  } else {\n    load_libs(css_urls, js_urls, js_modules, function() {\n      console.debug(\"Bokeh: BokehJS plotting callback run at\", now());\n      run_inline_js();\n    });\n  }\n}(window));"
     },
     "metadata": {},
     "output_type": "display_data"
    },
    {
     "data": {
      "application/javascript": [
       "\n",
       "if ((window.PyViz === undefined) || (window.PyViz instanceof HTMLElement)) {\n",
       "  window.PyViz = {comms: {}, comm_status:{}, kernels:{}, receivers: {}, plot_index: []}\n",
       "}\n",
       "\n",
       "\n",
       "    function JupyterCommManager() {\n",
       "    }\n",
       "\n",
       "    JupyterCommManager.prototype.register_target = function(plot_id, comm_id, msg_handler) {\n",
       "      if (window.comm_manager || ((window.Jupyter !== undefined) && (Jupyter.notebook.kernel != null))) {\n",
       "        var comm_manager = window.comm_manager || Jupyter.notebook.kernel.comm_manager;\n",
       "        comm_manager.register_target(comm_id, function(comm) {\n",
       "          comm.on_msg(msg_handler);\n",
       "        });\n",
       "      } else if ((plot_id in window.PyViz.kernels) && (window.PyViz.kernels[plot_id])) {\n",
       "        window.PyViz.kernels[plot_id].registerCommTarget(comm_id, function(comm) {\n",
       "          comm.onMsg = msg_handler;\n",
       "        });\n",
       "      } else if (typeof google != 'undefined' && google.colab.kernel != null) {\n",
       "        google.colab.kernel.comms.registerTarget(comm_id, (comm) => {\n",
       "          var messages = comm.messages[Symbol.asyncIterator]();\n",
       "          function processIteratorResult(result) {\n",
       "            var message = result.value;\n",
       "            console.log(message)\n",
       "            var content = {data: message.data, comm_id};\n",
       "            var buffers = []\n",
       "            for (var buffer of message.buffers || []) {\n",
       "              buffers.push(new DataView(buffer))\n",
       "            }\n",
       "            var metadata = message.metadata || {};\n",
       "            var msg = {content, buffers, metadata}\n",
       "            msg_handler(msg);\n",
       "            return messages.next().then(processIteratorResult);\n",
       "          }\n",
       "          return messages.next().then(processIteratorResult);\n",
       "        })\n",
       "      }\n",
       "    }\n",
       "\n",
       "    JupyterCommManager.prototype.get_client_comm = function(plot_id, comm_id, msg_handler) {\n",
       "      if (comm_id in window.PyViz.comms) {\n",
       "        return window.PyViz.comms[comm_id];\n",
       "      } else if (window.comm_manager || ((window.Jupyter !== undefined) && (Jupyter.notebook.kernel != null))) {\n",
       "        var comm_manager = window.comm_manager || Jupyter.notebook.kernel.comm_manager;\n",
       "        var comm = comm_manager.new_comm(comm_id, {}, {}, {}, comm_id);\n",
       "        if (msg_handler) {\n",
       "          comm.on_msg(msg_handler);\n",
       "        }\n",
       "      } else if ((plot_id in window.PyViz.kernels) && (window.PyViz.kernels[plot_id])) {\n",
       "        var comm = window.PyViz.kernels[plot_id].connectToComm(comm_id);\n",
       "        comm.open();\n",
       "        if (msg_handler) {\n",
       "          comm.onMsg = msg_handler;\n",
       "        }\n",
       "      } else if (typeof google != 'undefined' && google.colab.kernel != null) {\n",
       "        var comm_promise = google.colab.kernel.comms.open(comm_id)\n",
       "        comm_promise.then((comm) => {\n",
       "          window.PyViz.comms[comm_id] = comm;\n",
       "          if (msg_handler) {\n",
       "            var messages = comm.messages[Symbol.asyncIterator]();\n",
       "            function processIteratorResult(result) {\n",
       "              var message = result.value;\n",
       "              var content = {data: message.data};\n",
       "              var metadata = message.metadata || {comm_id};\n",
       "              var msg = {content, metadata}\n",
       "              msg_handler(msg);\n",
       "              return messages.next().then(processIteratorResult);\n",
       "            }\n",
       "            return messages.next().then(processIteratorResult);\n",
       "          }\n",
       "        }) \n",
       "        var sendClosure = (data, metadata, buffers, disposeOnDone) => {\n",
       "          return comm_promise.then((comm) => {\n",
       "            comm.send(data, metadata, buffers, disposeOnDone);\n",
       "          });\n",
       "        };\n",
       "        var comm = {\n",
       "          send: sendClosure\n",
       "        };\n",
       "      }\n",
       "      window.PyViz.comms[comm_id] = comm;\n",
       "      return comm;\n",
       "    }\n",
       "    window.PyViz.comm_manager = new JupyterCommManager();\n",
       "    \n",
       "\n",
       "\n",
       "var JS_MIME_TYPE = 'application/javascript';\n",
       "var HTML_MIME_TYPE = 'text/html';\n",
       "var EXEC_MIME_TYPE = 'application/vnd.holoviews_exec.v0+json';\n",
       "var CLASS_NAME = 'output';\n",
       "\n",
       "/**\n",
       " * Render data to the DOM node\n",
       " */\n",
       "function render(props, node) {\n",
       "  var div = document.createElement(\"div\");\n",
       "  var script = document.createElement(\"script\");\n",
       "  node.appendChild(div);\n",
       "  node.appendChild(script);\n",
       "}\n",
       "\n",
       "/**\n",
       " * Handle when a new output is added\n",
       " */\n",
       "function handle_add_output(event, handle) {\n",
       "  var output_area = handle.output_area;\n",
       "  var output = handle.output;\n",
       "  if ((output.data == undefined) || (!output.data.hasOwnProperty(EXEC_MIME_TYPE))) {\n",
       "    return\n",
       "  }\n",
       "  var id = output.metadata[EXEC_MIME_TYPE][\"id\"];\n",
       "  var toinsert = output_area.element.find(\".\" + CLASS_NAME.split(' ')[0]);\n",
       "  if (id !== undefined) {\n",
       "    var nchildren = toinsert.length;\n",
       "    var html_node = toinsert[nchildren-1].children[0];\n",
       "    html_node.innerHTML = output.data[HTML_MIME_TYPE];\n",
       "    var scripts = [];\n",
       "    var nodelist = html_node.querySelectorAll(\"script\");\n",
       "    for (var i in nodelist) {\n",
       "      if (nodelist.hasOwnProperty(i)) {\n",
       "        scripts.push(nodelist[i])\n",
       "      }\n",
       "    }\n",
       "\n",
       "    scripts.forEach( function (oldScript) {\n",
       "      var newScript = document.createElement(\"script\");\n",
       "      var attrs = [];\n",
       "      var nodemap = oldScript.attributes;\n",
       "      for (var j in nodemap) {\n",
       "        if (nodemap.hasOwnProperty(j)) {\n",
       "          attrs.push(nodemap[j])\n",
       "        }\n",
       "      }\n",
       "      attrs.forEach(function(attr) { newScript.setAttribute(attr.name, attr.value) });\n",
       "      newScript.appendChild(document.createTextNode(oldScript.innerHTML));\n",
       "      oldScript.parentNode.replaceChild(newScript, oldScript);\n",
       "    });\n",
       "    if (JS_MIME_TYPE in output.data) {\n",
       "      toinsert[nchildren-1].children[1].textContent = output.data[JS_MIME_TYPE];\n",
       "    }\n",
       "    output_area._hv_plot_id = id;\n",
       "    if ((window.Bokeh !== undefined) && (id in Bokeh.index)) {\n",
       "      window.PyViz.plot_index[id] = Bokeh.index[id];\n",
       "    } else {\n",
       "      window.PyViz.plot_index[id] = null;\n",
       "    }\n",
       "  } else if (output.metadata[EXEC_MIME_TYPE][\"server_id\"] !== undefined) {\n",
       "    var bk_div = document.createElement(\"div\");\n",
       "    bk_div.innerHTML = output.data[HTML_MIME_TYPE];\n",
       "    var script_attrs = bk_div.children[0].attributes;\n",
       "    for (var i = 0; i < script_attrs.length; i++) {\n",
       "      toinsert[toinsert.length - 1].childNodes[1].setAttribute(script_attrs[i].name, script_attrs[i].value);\n",
       "    }\n",
       "    // store reference to server id on output_area\n",
       "    output_area._bokeh_server_id = output.metadata[EXEC_MIME_TYPE][\"server_id\"];\n",
       "  }\n",
       "}\n",
       "\n",
       "/**\n",
       " * Handle when an output is cleared or removed\n",
       " */\n",
       "function handle_clear_output(event, handle) {\n",
       "  var id = handle.cell.output_area._hv_plot_id;\n",
       "  var server_id = handle.cell.output_area._bokeh_server_id;\n",
       "  if (((id === undefined) || !(id in PyViz.plot_index)) && (server_id !== undefined)) { return; }\n",
       "  var comm = window.PyViz.comm_manager.get_client_comm(\"hv-extension-comm\", \"hv-extension-comm\", function () {});\n",
       "  if (server_id !== null) {\n",
       "    comm.send({event_type: 'server_delete', 'id': server_id});\n",
       "    return;\n",
       "  } else if (comm !== null) {\n",
       "    comm.send({event_type: 'delete', 'id': id});\n",
       "  }\n",
       "  delete PyViz.plot_index[id];\n",
       "  if ((window.Bokeh !== undefined) & (id in window.Bokeh.index)) {\n",
       "    var doc = window.Bokeh.index[id].model.document\n",
       "    doc.clear();\n",
       "    const i = window.Bokeh.documents.indexOf(doc);\n",
       "    if (i > -1) {\n",
       "      window.Bokeh.documents.splice(i, 1);\n",
       "    }\n",
       "  }\n",
       "}\n",
       "\n",
       "/**\n",
       " * Handle kernel restart event\n",
       " */\n",
       "function handle_kernel_cleanup(event, handle) {\n",
       "  delete PyViz.comms[\"hv-extension-comm\"];\n",
       "  window.PyViz.plot_index = {}\n",
       "}\n",
       "\n",
       "/**\n",
       " * Handle update_display_data messages\n",
       " */\n",
       "function handle_update_output(event, handle) {\n",
       "  handle_clear_output(event, {cell: {output_area: handle.output_area}})\n",
       "  handle_add_output(event, handle)\n",
       "}\n",
       "\n",
       "function register_renderer(events, OutputArea) {\n",
       "  function append_mime(data, metadata, element) {\n",
       "    // create a DOM node to render to\n",
       "    var toinsert = this.create_output_subarea(\n",
       "    metadata,\n",
       "    CLASS_NAME,\n",
       "    EXEC_MIME_TYPE\n",
       "    );\n",
       "    this.keyboard_manager.register_events(toinsert);\n",
       "    // Render to node\n",
       "    var props = {data: data, metadata: metadata[EXEC_MIME_TYPE]};\n",
       "    render(props, toinsert[0]);\n",
       "    element.append(toinsert);\n",
       "    return toinsert\n",
       "  }\n",
       "\n",
       "  events.on('output_added.OutputArea', handle_add_output);\n",
       "  events.on('output_updated.OutputArea', handle_update_output);\n",
       "  events.on('clear_output.CodeCell', handle_clear_output);\n",
       "  events.on('delete.Cell', handle_clear_output);\n",
       "  events.on('kernel_ready.Kernel', handle_kernel_cleanup);\n",
       "\n",
       "  OutputArea.prototype.register_mime_type(EXEC_MIME_TYPE, append_mime, {\n",
       "    safe: true,\n",
       "    index: 0\n",
       "  });\n",
       "}\n",
       "\n",
       "if (window.Jupyter !== undefined) {\n",
       "  try {\n",
       "    var events = require('base/js/events');\n",
       "    var OutputArea = require('notebook/js/outputarea').OutputArea;\n",
       "    if (OutputArea.prototype.mime_types().indexOf(EXEC_MIME_TYPE) == -1) {\n",
       "      register_renderer(events, OutputArea);\n",
       "    }\n",
       "  } catch(err) {\n",
       "  }\n",
       "}\n"
      ],
      "application/vnd.holoviews_load.v0+json": "\nif ((window.PyViz === undefined) || (window.PyViz instanceof HTMLElement)) {\n  window.PyViz = {comms: {}, comm_status:{}, kernels:{}, receivers: {}, plot_index: []}\n}\n\n\n    function JupyterCommManager() {\n    }\n\n    JupyterCommManager.prototype.register_target = function(plot_id, comm_id, msg_handler) {\n      if (window.comm_manager || ((window.Jupyter !== undefined) && (Jupyter.notebook.kernel != null))) {\n        var comm_manager = window.comm_manager || Jupyter.notebook.kernel.comm_manager;\n        comm_manager.register_target(comm_id, function(comm) {\n          comm.on_msg(msg_handler);\n        });\n      } else if ((plot_id in window.PyViz.kernels) && (window.PyViz.kernels[plot_id])) {\n        window.PyViz.kernels[plot_id].registerCommTarget(comm_id, function(comm) {\n          comm.onMsg = msg_handler;\n        });\n      } else if (typeof google != 'undefined' && google.colab.kernel != null) {\n        google.colab.kernel.comms.registerTarget(comm_id, (comm) => {\n          var messages = comm.messages[Symbol.asyncIterator]();\n          function processIteratorResult(result) {\n            var message = result.value;\n            console.log(message)\n            var content = {data: message.data, comm_id};\n            var buffers = []\n            for (var buffer of message.buffers || []) {\n              buffers.push(new DataView(buffer))\n            }\n            var metadata = message.metadata || {};\n            var msg = {content, buffers, metadata}\n            msg_handler(msg);\n            return messages.next().then(processIteratorResult);\n          }\n          return messages.next().then(processIteratorResult);\n        })\n      }\n    }\n\n    JupyterCommManager.prototype.get_client_comm = function(plot_id, comm_id, msg_handler) {\n      if (comm_id in window.PyViz.comms) {\n        return window.PyViz.comms[comm_id];\n      } else if (window.comm_manager || ((window.Jupyter !== undefined) && (Jupyter.notebook.kernel != null))) {\n        var comm_manager = window.comm_manager || Jupyter.notebook.kernel.comm_manager;\n        var comm = comm_manager.new_comm(comm_id, {}, {}, {}, comm_id);\n        if (msg_handler) {\n          comm.on_msg(msg_handler);\n        }\n      } else if ((plot_id in window.PyViz.kernels) && (window.PyViz.kernels[plot_id])) {\n        var comm = window.PyViz.kernels[plot_id].connectToComm(comm_id);\n        comm.open();\n        if (msg_handler) {\n          comm.onMsg = msg_handler;\n        }\n      } else if (typeof google != 'undefined' && google.colab.kernel != null) {\n        var comm_promise = google.colab.kernel.comms.open(comm_id)\n        comm_promise.then((comm) => {\n          window.PyViz.comms[comm_id] = comm;\n          if (msg_handler) {\n            var messages = comm.messages[Symbol.asyncIterator]();\n            function processIteratorResult(result) {\n              var message = result.value;\n              var content = {data: message.data};\n              var metadata = message.metadata || {comm_id};\n              var msg = {content, metadata}\n              msg_handler(msg);\n              return messages.next().then(processIteratorResult);\n            }\n            return messages.next().then(processIteratorResult);\n          }\n        }) \n        var sendClosure = (data, metadata, buffers, disposeOnDone) => {\n          return comm_promise.then((comm) => {\n            comm.send(data, metadata, buffers, disposeOnDone);\n          });\n        };\n        var comm = {\n          send: sendClosure\n        };\n      }\n      window.PyViz.comms[comm_id] = comm;\n      return comm;\n    }\n    window.PyViz.comm_manager = new JupyterCommManager();\n    \n\n\nvar JS_MIME_TYPE = 'application/javascript';\nvar HTML_MIME_TYPE = 'text/html';\nvar EXEC_MIME_TYPE = 'application/vnd.holoviews_exec.v0+json';\nvar CLASS_NAME = 'output';\n\n/**\n * Render data to the DOM node\n */\nfunction render(props, node) {\n  var div = document.createElement(\"div\");\n  var script = document.createElement(\"script\");\n  node.appendChild(div);\n  node.appendChild(script);\n}\n\n/**\n * Handle when a new output is added\n */\nfunction handle_add_output(event, handle) {\n  var output_area = handle.output_area;\n  var output = handle.output;\n  if ((output.data == undefined) || (!output.data.hasOwnProperty(EXEC_MIME_TYPE))) {\n    return\n  }\n  var id = output.metadata[EXEC_MIME_TYPE][\"id\"];\n  var toinsert = output_area.element.find(\".\" + CLASS_NAME.split(' ')[0]);\n  if (id !== undefined) {\n    var nchildren = toinsert.length;\n    var html_node = toinsert[nchildren-1].children[0];\n    html_node.innerHTML = output.data[HTML_MIME_TYPE];\n    var scripts = [];\n    var nodelist = html_node.querySelectorAll(\"script\");\n    for (var i in nodelist) {\n      if (nodelist.hasOwnProperty(i)) {\n        scripts.push(nodelist[i])\n      }\n    }\n\n    scripts.forEach( function (oldScript) {\n      var newScript = document.createElement(\"script\");\n      var attrs = [];\n      var nodemap = oldScript.attributes;\n      for (var j in nodemap) {\n        if (nodemap.hasOwnProperty(j)) {\n          attrs.push(nodemap[j])\n        }\n      }\n      attrs.forEach(function(attr) { newScript.setAttribute(attr.name, attr.value) });\n      newScript.appendChild(document.createTextNode(oldScript.innerHTML));\n      oldScript.parentNode.replaceChild(newScript, oldScript);\n    });\n    if (JS_MIME_TYPE in output.data) {\n      toinsert[nchildren-1].children[1].textContent = output.data[JS_MIME_TYPE];\n    }\n    output_area._hv_plot_id = id;\n    if ((window.Bokeh !== undefined) && (id in Bokeh.index)) {\n      window.PyViz.plot_index[id] = Bokeh.index[id];\n    } else {\n      window.PyViz.plot_index[id] = null;\n    }\n  } else if (output.metadata[EXEC_MIME_TYPE][\"server_id\"] !== undefined) {\n    var bk_div = document.createElement(\"div\");\n    bk_div.innerHTML = output.data[HTML_MIME_TYPE];\n    var script_attrs = bk_div.children[0].attributes;\n    for (var i = 0; i < script_attrs.length; i++) {\n      toinsert[toinsert.length - 1].childNodes[1].setAttribute(script_attrs[i].name, script_attrs[i].value);\n    }\n    // store reference to server id on output_area\n    output_area._bokeh_server_id = output.metadata[EXEC_MIME_TYPE][\"server_id\"];\n  }\n}\n\n/**\n * Handle when an output is cleared or removed\n */\nfunction handle_clear_output(event, handle) {\n  var id = handle.cell.output_area._hv_plot_id;\n  var server_id = handle.cell.output_area._bokeh_server_id;\n  if (((id === undefined) || !(id in PyViz.plot_index)) && (server_id !== undefined)) { return; }\n  var comm = window.PyViz.comm_manager.get_client_comm(\"hv-extension-comm\", \"hv-extension-comm\", function () {});\n  if (server_id !== null) {\n    comm.send({event_type: 'server_delete', 'id': server_id});\n    return;\n  } else if (comm !== null) {\n    comm.send({event_type: 'delete', 'id': id});\n  }\n  delete PyViz.plot_index[id];\n  if ((window.Bokeh !== undefined) & (id in window.Bokeh.index)) {\n    var doc = window.Bokeh.index[id].model.document\n    doc.clear();\n    const i = window.Bokeh.documents.indexOf(doc);\n    if (i > -1) {\n      window.Bokeh.documents.splice(i, 1);\n    }\n  }\n}\n\n/**\n * Handle kernel restart event\n */\nfunction handle_kernel_cleanup(event, handle) {\n  delete PyViz.comms[\"hv-extension-comm\"];\n  window.PyViz.plot_index = {}\n}\n\n/**\n * Handle update_display_data messages\n */\nfunction handle_update_output(event, handle) {\n  handle_clear_output(event, {cell: {output_area: handle.output_area}})\n  handle_add_output(event, handle)\n}\n\nfunction register_renderer(events, OutputArea) {\n  function append_mime(data, metadata, element) {\n    // create a DOM node to render to\n    var toinsert = this.create_output_subarea(\n    metadata,\n    CLASS_NAME,\n    EXEC_MIME_TYPE\n    );\n    this.keyboard_manager.register_events(toinsert);\n    // Render to node\n    var props = {data: data, metadata: metadata[EXEC_MIME_TYPE]};\n    render(props, toinsert[0]);\n    element.append(toinsert);\n    return toinsert\n  }\n\n  events.on('output_added.OutputArea', handle_add_output);\n  events.on('output_updated.OutputArea', handle_update_output);\n  events.on('clear_output.CodeCell', handle_clear_output);\n  events.on('delete.Cell', handle_clear_output);\n  events.on('kernel_ready.Kernel', handle_kernel_cleanup);\n\n  OutputArea.prototype.register_mime_type(EXEC_MIME_TYPE, append_mime, {\n    safe: true,\n    index: 0\n  });\n}\n\nif (window.Jupyter !== undefined) {\n  try {\n    var events = require('base/js/events');\n    var OutputArea = require('notebook/js/outputarea').OutputArea;\n    if (OutputArea.prototype.mime_types().indexOf(EXEC_MIME_TYPE) == -1) {\n      register_renderer(events, OutputArea);\n    }\n  } catch(err) {\n  }\n}\n"
     },
     "metadata": {},
     "output_type": "display_data"
    }
   ],
   "source": [
    "# Import Libraries:\n",
    "from datetime import datetime, timedelta # Datetime Feature\n",
    "import pandas as pd # Import Pandas\n",
    "import panel as pn # Import Panel\n",
    "import plotly.express as px # Import Plotly\n",
    "pn.extension(\"plotly\")# Import Plotly Extension\n",
    "from pprint import pprint\n",
    "import requests # To fetch data from our url API\n",
    "import plotly.graph_objects as go\n",
    "from plotly.subplots import make_subplots\n",
    "\n",
    "# Import and initialize coinmetrics API (in this case `cm` for the Coinmetrics Community API)\n",
    "import coinmetrics # Coinmetrics API\n",
    "cm = coinmetrics.Community()"
   ]
  },
  {
   "cell_type": "code",
   "execution_count": 2,
   "id": "61ca5655",
   "metadata": {
    "tags": []
   },
   "outputs": [],
   "source": [
    "# API INPUTS\n",
    "asset = \"btc\"\n",
    "begin_timestamp = (datetime.now() - timedelta(days=90)).date()\n",
    "end_timestamp = (datetime.now() - timedelta(days=0)).date()\n",
    "# end_timestamp = datetime.now().date()\n",
    "\n",
    "\n",
    "# API OUTPUT (Coinmetrics Community URL API)\n",
    "asset_data = requests.get(f\"https://community-api.coinmetrics.io/v4/timeseries/market-candles?start_time={begin_timestamp}&end_time={end_timestamp}&paging_from=start&markets=coinbase-{asset}-usd-spot&pretty=true\").json()\n",
    "# pprint(asset_data)\n",
    "\n"
   ]
  },
  {
   "cell_type": "code",
   "execution_count": 3,
   "id": "ccf521ee",
   "metadata": {},
   "outputs": [
    {
     "data": {
      "text/html": [
       "<div>\n",
       "<style scoped>\n",
       "    .dataframe tbody tr th:only-of-type {\n",
       "        vertical-align: middle;\n",
       "    }\n",
       "\n",
       "    .dataframe tbody tr th {\n",
       "        vertical-align: top;\n",
       "    }\n",
       "\n",
       "    .dataframe thead th {\n",
       "        text-align: right;\n",
       "    }\n",
       "</style>\n",
       "<table border=\"1\" class=\"dataframe\">\n",
       "  <thead>\n",
       "    <tr style=\"text-align: right;\">\n",
       "      <th></th>\n",
       "      <th>date</th>\n",
       "      <th>open</th>\n",
       "      <th>close</th>\n",
       "      <th>high</th>\n",
       "      <th>low</th>\n",
       "      <th>volume</th>\n",
       "      <th>vwap</th>\n",
       "    </tr>\n",
       "  </thead>\n",
       "  <tbody>\n",
       "    <tr>\n",
       "      <th>0</th>\n",
       "      <td>2021-08-22T00:00:00.000000000Z</td>\n",
       "      <td>48,870.21</td>\n",
       "      <td>49,284.63</td>\n",
       "      <td>49,526.13</td>\n",
       "      <td>48,102.89</td>\n",
       "      <td>6,243.40</td>\n",
       "      <td>48,847.07</td>\n",
       "    </tr>\n",
       "    <tr>\n",
       "      <th>1</th>\n",
       "      <td>2021-08-23T00:00:00.000000000Z</td>\n",
       "      <td>49,284.38</td>\n",
       "      <td>49,506.50</td>\n",
       "      <td>50,505.00</td>\n",
       "      <td>49,012.84</td>\n",
       "      <td>10,824.27</td>\n",
       "      <td>49,881.69</td>\n",
       "    </tr>\n",
       "    <tr>\n",
       "      <th>2</th>\n",
       "      <td>2021-08-24T00:00:00.000000000Z</td>\n",
       "      <td>49,504.53</td>\n",
       "      <td>47,682.45</td>\n",
       "      <td>49,875.90</td>\n",
       "      <td>47,600.00</td>\n",
       "      <td>12,068.34</td>\n",
       "      <td>48,642.69</td>\n",
       "    </tr>\n",
       "    <tr>\n",
       "      <th>3</th>\n",
       "      <td>2021-08-25T00:00:00.000000000Z</td>\n",
       "      <td>47,682.45</td>\n",
       "      <td>48,987.33</td>\n",
       "      <td>49,277.00</td>\n",
       "      <td>47,122.02</td>\n",
       "      <td>9,289.23</td>\n",
       "      <td>48,212.27</td>\n",
       "    </tr>\n",
       "    <tr>\n",
       "      <th>4</th>\n",
       "      <td>2021-08-26T00:00:00.000000000Z</td>\n",
       "      <td>48,991.57</td>\n",
       "      <td>46,851.47</td>\n",
       "      <td>49,365.10</td>\n",
       "      <td>46,315.48</td>\n",
       "      <td>11,651.32</td>\n",
       "      <td>47,253.25</td>\n",
       "    </tr>\n",
       "  </tbody>\n",
       "</table>\n",
       "</div>"
      ],
      "text/plain": [
       "                             date      open     close      high       low  \\\n",
       "0  2021-08-22T00:00:00.000000000Z 48,870.21 49,284.63 49,526.13 48,102.89   \n",
       "1  2021-08-23T00:00:00.000000000Z 49,284.38 49,506.50 50,505.00 49,012.84   \n",
       "2  2021-08-24T00:00:00.000000000Z 49,504.53 47,682.45 49,875.90 47,600.00   \n",
       "3  2021-08-25T00:00:00.000000000Z 47,682.45 48,987.33 49,277.00 47,122.02   \n",
       "4  2021-08-26T00:00:00.000000000Z 48,991.57 46,851.47 49,365.10 46,315.48   \n",
       "\n",
       "     volume      vwap  \n",
       "0  6,243.40 48,847.07  \n",
       "1 10,824.27 49,881.69  \n",
       "2 12,068.34 48,642.69  \n",
       "3  9,289.23 48,212.27  \n",
       "4 11,651.32 47,253.25  "
      ]
     },
     "execution_count": 3,
     "metadata": {},
     "output_type": "execute_result"
    }
   ],
   "source": [
    "# Initiate clean dictionary\n",
    "data_dictionary = {\n",
    "    \"date\" : [],\n",
    "    \"open\" : [],\n",
    "    \"close\" : [],\n",
    "    \"high\" : [],\n",
    "    \"low\" : [],\n",
    "    \"volume\" : [],\n",
    "    \"vwap\" : [], \n",
    "}\n",
    "\n",
    "# Use For Loop to interate through data and populate dictionary\n",
    "for entry in asset_data['data']:\n",
    "    data_dictionary['date'].append(entry['time'])\n",
    "    data_dictionary['open'].append(float(entry['price_open']))\n",
    "    data_dictionary['close'].append(float(entry['price_close']))\n",
    "    data_dictionary['high'].append(float(entry['price_high']))\n",
    "    data_dictionary['low'].append(float(entry['price_low']))\n",
    "    data_dictionary['volume'].append(float(entry['volume']))\n",
    "    data_dictionary['vwap'].append(float(entry['vwap']))\n",
    "\n",
    "#Convert dictionary into Pandas dataframe and format to two decimals\n",
    "asset_data_df = pd.DataFrame.from_dict(data_dictionary)\n",
    "pd.options.display.float_format = \"{:,.2f}\".format\n",
    "# INSERT HERE >>> FIND WAY TO CLEAN DATE DATA\n",
    "\n",
    "# View dataframe\n",
    "asset_data_df.head()\n"
   ]
  },
  {
   "cell_type": "markdown",
   "id": "f55af86b",
   "metadata": {},
   "source": [
    "# Rolling Average"
   ]
  },
  {
   "cell_type": "code",
   "execution_count": 4,
   "id": "32af2dd9",
   "metadata": {},
   "outputs": [
    {
     "name": "stdout",
     "output_type": "stream",
     "text": [
      "0          NaN\n",
      "1          NaN\n",
      "2          NaN\n",
      "3          NaN\n",
      "4          NaN\n",
      "        ...   \n",
      "85   62,775.80\n",
      "86   62,728.49\n",
      "87   62,672.13\n",
      "88   62,425.29\n",
      "89   62,161.81\n",
      "Name: close, Length: 90, dtype: float64\n"
     ]
    }
   ],
   "source": [
    "asset_data_rolling_30day = asset_data_df['close'].rolling(window=30).mean()\n",
    "print(asset_data_rolling_30day)\n"
   ]
  },
  {
   "cell_type": "code",
   "execution_count": null,
   "id": "422b5f9e",
   "metadata": {
    "tags": []
   },
   "outputs": [],
   "source": []
  },
  {
   "cell_type": "markdown",
   "id": "17ea9f79",
   "metadata": {
    "tags": []
   },
   "source": [
    "# RSI - Alex"
   ]
  },
  {
   "cell_type": "code",
   "execution_count": null,
   "id": "aa501362",
   "metadata": {
    "tags": []
   },
   "outputs": [],
   "source": []
  },
  {
   "cell_type": "markdown",
   "id": "feda65d2",
   "metadata": {
    "tags": []
   },
   "source": [
    "# BOLLINGER BANDS - Alex"
   ]
  },
  {
   "cell_type": "code",
   "execution_count": null,
   "id": "611358ab",
   "metadata": {
    "tags": []
   },
   "outputs": [],
   "source": []
  },
  {
   "cell_type": "markdown",
   "id": "3db95674",
   "metadata": {
    "tags": []
   },
   "source": [
    "# MAC D - Saydee"
   ]
  },
  {
   "cell_type": "code",
   "execution_count": null,
   "id": "9e3c35dc",
   "metadata": {
    "tags": []
   },
   "outputs": [],
   "source": []
  },
  {
   "cell_type": "markdown",
   "id": "8316948f",
   "metadata": {
    "tags": []
   },
   "source": [
    "# V Wap"
   ]
  },
  {
   "cell_type": "code",
   "execution_count": 5,
   "id": "e4b6ef46",
   "metadata": {
    "tags": []
   },
   "outputs": [
    {
     "data": {
      "text/plain": [
       "<bound method NDFrame.head of                                                      date      open     close  \\\n",
       "date                                                                            \n",
       "2021-08-22 00:00:00+00:00  2021-08-22T00:00:00.000000000Z 48,870.21 49,284.63   \n",
       "2021-08-23 00:00:00+00:00  2021-08-23T00:00:00.000000000Z 49,284.38 49,506.50   \n",
       "2021-08-24 00:00:00+00:00  2021-08-24T00:00:00.000000000Z 49,504.53 47,682.45   \n",
       "2021-08-25 00:00:00+00:00  2021-08-25T00:00:00.000000000Z 47,682.45 48,987.33   \n",
       "2021-08-26 00:00:00+00:00  2021-08-26T00:00:00.000000000Z 48,991.57 46,851.47   \n",
       "...                                                   ...       ...       ...   \n",
       "2021-11-15 00:00:00+00:00  2021-11-15T00:00:00.000000000Z 65,505.03 63,624.59   \n",
       "2021-11-16 00:00:00+00:00  2021-11-16T00:00:00.000000000Z 63,621.05 60,107.98   \n",
       "2021-11-17 00:00:00+00:00  2021-11-17T00:00:00.000000000Z 60,088.65 60,351.51   \n",
       "2021-11-18 00:00:00+00:00  2021-11-18T00:00:00.000000000Z 60,351.51 56,898.00   \n",
       "2021-11-19 00:00:00+00:00  2021-11-19T00:00:00.000000000Z 56,898.46 58,122.16   \n",
       "\n",
       "                               high       low    volume      vwap  \n",
       "date                                                               \n",
       "2021-08-22 00:00:00+00:00 49,526.13 48,102.89  6,243.40 48,847.07  \n",
       "2021-08-23 00:00:00+00:00 50,505.00 49,012.84 10,824.27 49,881.69  \n",
       "2021-08-24 00:00:00+00:00 49,875.90 47,600.00 12,068.34 48,642.69  \n",
       "2021-08-25 00:00:00+00:00 49,277.00 47,122.02  9,289.23 48,212.27  \n",
       "2021-08-26 00:00:00+00:00 49,365.10 46,315.48 11,651.32 47,253.25  \n",
       "...                             ...       ...       ...       ...  \n",
       "2021-11-15 00:00:00+00:00 66,339.90 63,371.00 10,426.56 64,753.40  \n",
       "2021-11-16 00:00:00+00:00 63,624.60 58,638.00 24,910.15 60,821.42  \n",
       "2021-11-17 00:00:00+00:00 60,824.38 58,380.00 20,907.45 59,824.24  \n",
       "2021-11-18 00:00:00+00:00 60,977.21 56,514.13 26,749.21 58,560.83  \n",
       "2021-11-19 00:00:00+00:00 58,412.12 55,625.00 18,554.56 57,263.64  \n",
       "\n",
       "[90 rows x 7 columns]>"
      ]
     },
     "execution_count": 5,
     "metadata": {},
     "output_type": "execute_result"
    }
   ],
   "source": [
    "# Volume Weighted Average Price: Ratio of total value traded diveded by the total volume traded\n",
    "# Create dataframe to work with\n",
    "vwap_df = asset_data_df\n",
    "vwap_df = vwap_df.set_index(pd.DatetimeIndex(vwap_df['date']))\n",
    "\n",
    "# # vwap_df[\"price_ma30\"] = vwap_df[\"close\"].rolling(window=30).mean()\n",
    "# vwap_df[\"vwap_ma20\"] = vwap_df[\"vwap\"].rolling(window=20).mean()\n",
    "\n",
    "# vwap_df[\"price_ma30\"]\n",
    "\n",
    "\n",
    "# CANDLE STICK\n",
    "# fig_vwap = go.Figure(data=[go.Candlestick(x=vwap_df.index,\n",
    "#                 open=vwap_df['open'],\n",
    "#                 high=vwap_df['high'],\n",
    "#                 low=vwap_df['low'],\n",
    "#                 close=vwap_df['close'],name='BTC')])\n",
    "\n",
    "vwap_df.head"
   ]
  },
  {
   "cell_type": "code",
   "execution_count": 6,
   "id": "2ceba062-935e-4195-8d34-3a87cb509e4d",
   "metadata": {},
   "outputs": [
    {
     "data": {
      "text/html": [
       "<div>\n",
       "<style scoped>\n",
       "    .dataframe tbody tr th:only-of-type {\n",
       "        vertical-align: middle;\n",
       "    }\n",
       "\n",
       "    .dataframe tbody tr th {\n",
       "        vertical-align: top;\n",
       "    }\n",
       "\n",
       "    .dataframe thead th {\n",
       "        text-align: right;\n",
       "    }\n",
       "</style>\n",
       "<table border=\"1\" class=\"dataframe\">\n",
       "  <thead>\n",
       "    <tr style=\"text-align: right;\">\n",
       "      <th></th>\n",
       "      <th>date</th>\n",
       "      <th>open</th>\n",
       "      <th>close</th>\n",
       "      <th>high</th>\n",
       "      <th>low</th>\n",
       "      <th>volume</th>\n",
       "      <th>vwap</th>\n",
       "      <th>vwap_ma</th>\n",
       "    </tr>\n",
       "    <tr>\n",
       "      <th>date</th>\n",
       "      <th></th>\n",
       "      <th></th>\n",
       "      <th></th>\n",
       "      <th></th>\n",
       "      <th></th>\n",
       "      <th></th>\n",
       "      <th></th>\n",
       "      <th></th>\n",
       "    </tr>\n",
       "  </thead>\n",
       "  <tbody>\n",
       "    <tr>\n",
       "      <th>2021-11-15 00:00:00+00:00</th>\n",
       "      <td>2021-11-15T00:00:00.000000000Z</td>\n",
       "      <td>65,505.03</td>\n",
       "      <td>63,624.59</td>\n",
       "      <td>66,339.90</td>\n",
       "      <td>63,371.00</td>\n",
       "      <td>10,426.56</td>\n",
       "      <td>64,753.40</td>\n",
       "      <td>64,527.09</td>\n",
       "    </tr>\n",
       "    <tr>\n",
       "      <th>2021-11-16 00:00:00+00:00</th>\n",
       "      <td>2021-11-16T00:00:00.000000000Z</td>\n",
       "      <td>63,621.05</td>\n",
       "      <td>60,107.98</td>\n",
       "      <td>63,624.60</td>\n",
       "      <td>58,638.00</td>\n",
       "      <td>24,910.15</td>\n",
       "      <td>60,821.42</td>\n",
       "      <td>64,518.08</td>\n",
       "    </tr>\n",
       "    <tr>\n",
       "      <th>2021-11-17 00:00:00+00:00</th>\n",
       "      <td>2021-11-17T00:00:00.000000000Z</td>\n",
       "      <td>60,088.65</td>\n",
       "      <td>60,351.51</td>\n",
       "      <td>60,824.38</td>\n",
       "      <td>58,380.00</td>\n",
       "      <td>20,907.45</td>\n",
       "      <td>59,824.24</td>\n",
       "      <td>64,275.51</td>\n",
       "    </tr>\n",
       "    <tr>\n",
       "      <th>2021-11-18 00:00:00+00:00</th>\n",
       "      <td>2021-11-18T00:00:00.000000000Z</td>\n",
       "      <td>60,351.51</td>\n",
       "      <td>56,898.00</td>\n",
       "      <td>60,977.21</td>\n",
       "      <td>56,514.13</td>\n",
       "      <td>26,749.21</td>\n",
       "      <td>58,560.83</td>\n",
       "      <td>63,562.83</td>\n",
       "    </tr>\n",
       "    <tr>\n",
       "      <th>2021-11-19 00:00:00+00:00</th>\n",
       "      <td>2021-11-19T00:00:00.000000000Z</td>\n",
       "      <td>56,898.46</td>\n",
       "      <td>58,122.16</td>\n",
       "      <td>58,412.12</td>\n",
       "      <td>55,625.00</td>\n",
       "      <td>18,554.56</td>\n",
       "      <td>57,263.64</td>\n",
       "      <td>62,542.56</td>\n",
       "    </tr>\n",
       "  </tbody>\n",
       "</table>\n",
       "</div>"
      ],
      "text/plain": [
       "                                                     date      open     close  \\\n",
       "date                                                                            \n",
       "2021-11-15 00:00:00+00:00  2021-11-15T00:00:00.000000000Z 65,505.03 63,624.59   \n",
       "2021-11-16 00:00:00+00:00  2021-11-16T00:00:00.000000000Z 63,621.05 60,107.98   \n",
       "2021-11-17 00:00:00+00:00  2021-11-17T00:00:00.000000000Z 60,088.65 60,351.51   \n",
       "2021-11-18 00:00:00+00:00  2021-11-18T00:00:00.000000000Z 60,351.51 56,898.00   \n",
       "2021-11-19 00:00:00+00:00  2021-11-19T00:00:00.000000000Z 56,898.46 58,122.16   \n",
       "\n",
       "                               high       low    volume      vwap   vwap_ma  \n",
       "date                                                                         \n",
       "2021-11-15 00:00:00+00:00 66,339.90 63,371.00 10,426.56 64,753.40 64,527.09  \n",
       "2021-11-16 00:00:00+00:00 63,624.60 58,638.00 24,910.15 60,821.42 64,518.08  \n",
       "2021-11-17 00:00:00+00:00 60,824.38 58,380.00 20,907.45 59,824.24 64,275.51  \n",
       "2021-11-18 00:00:00+00:00 60,977.21 56,514.13 26,749.21 58,560.83 63,562.83  \n",
       "2021-11-19 00:00:00+00:00 58,412.12 55,625.00 18,554.56 57,263.64 62,542.56  "
      ]
     },
     "execution_count": 6,
     "metadata": {},
     "output_type": "execute_result"
    }
   ],
   "source": [
    "#Calculate simple moving average \n",
    "def vwapma(data, window):\n",
    "    return(data.rolling(window = window).mean()) #finding the 10 day simple moving average \n",
    "vwapma(vwap_df['vwap'], window = 10)\n",
    "\n",
    "vwap_df['vwap_ma'] = vwapma(vwap_df['vwap'],10)\n",
    "vwap_df.tail()"
   ]
  },
  {
   "cell_type": "code",
   "execution_count": 7,
   "id": "907a20fa-56db-4ef7-a469-278efd44d2ee",
   "metadata": {},
   "outputs": [
    {
     "data": {
      "text/html": [
       "<div>\n",
       "<style scoped>\n",
       "    .dataframe tbody tr th:only-of-type {\n",
       "        vertical-align: middle;\n",
       "    }\n",
       "\n",
       "    .dataframe tbody tr th {\n",
       "        vertical-align: top;\n",
       "    }\n",
       "\n",
       "    .dataframe thead th {\n",
       "        text-align: right;\n",
       "    }\n",
       "</style>\n",
       "<table border=\"1\" class=\"dataframe\">\n",
       "  <thead>\n",
       "    <tr style=\"text-align: right;\">\n",
       "      <th></th>\n",
       "      <th>date</th>\n",
       "      <th>open</th>\n",
       "      <th>close</th>\n",
       "      <th>high</th>\n",
       "      <th>low</th>\n",
       "      <th>volume</th>\n",
       "      <th>vwap</th>\n",
       "      <th>vwap_ma</th>\n",
       "      <th>upper_band</th>\n",
       "      <th>lower_band</th>\n",
       "    </tr>\n",
       "    <tr>\n",
       "      <th>date</th>\n",
       "      <th></th>\n",
       "      <th></th>\n",
       "      <th></th>\n",
       "      <th></th>\n",
       "      <th></th>\n",
       "      <th></th>\n",
       "      <th></th>\n",
       "      <th></th>\n",
       "      <th></th>\n",
       "      <th></th>\n",
       "    </tr>\n",
       "  </thead>\n",
       "  <tbody>\n",
       "    <tr>\n",
       "      <th>2021-11-15 00:00:00+00:00</th>\n",
       "      <td>2021-11-15T00:00:00.000000000Z</td>\n",
       "      <td>65,505.03</td>\n",
       "      <td>63,624.59</td>\n",
       "      <td>66,339.90</td>\n",
       "      <td>63,371.00</td>\n",
       "      <td>10,426.56</td>\n",
       "      <td>64,753.40</td>\n",
       "      <td>64,527.09</td>\n",
       "      <td>68,415.22</td>\n",
       "      <td>60,638.95</td>\n",
       "    </tr>\n",
       "    <tr>\n",
       "      <th>2021-11-16 00:00:00+00:00</th>\n",
       "      <td>2021-11-16T00:00:00.000000000Z</td>\n",
       "      <td>63,621.05</td>\n",
       "      <td>60,107.98</td>\n",
       "      <td>63,624.60</td>\n",
       "      <td>58,638.00</td>\n",
       "      <td>24,910.15</td>\n",
       "      <td>60,821.42</td>\n",
       "      <td>64,518.08</td>\n",
       "      <td>68,443.69</td>\n",
       "      <td>60,592.46</td>\n",
       "    </tr>\n",
       "    <tr>\n",
       "      <th>2021-11-17 00:00:00+00:00</th>\n",
       "      <td>2021-11-17T00:00:00.000000000Z</td>\n",
       "      <td>60,088.65</td>\n",
       "      <td>60,351.51</td>\n",
       "      <td>60,824.38</td>\n",
       "      <td>58,380.00</td>\n",
       "      <td>20,907.45</td>\n",
       "      <td>59,824.24</td>\n",
       "      <td>64,275.51</td>\n",
       "      <td>69,035.18</td>\n",
       "      <td>59,515.85</td>\n",
       "    </tr>\n",
       "    <tr>\n",
       "      <th>2021-11-18 00:00:00+00:00</th>\n",
       "      <td>2021-11-18T00:00:00.000000000Z</td>\n",
       "      <td>60,351.51</td>\n",
       "      <td>56,898.00</td>\n",
       "      <td>60,977.21</td>\n",
       "      <td>56,514.13</td>\n",
       "      <td>26,749.21</td>\n",
       "      <td>58,560.83</td>\n",
       "      <td>63,562.83</td>\n",
       "      <td>69,395.94</td>\n",
       "      <td>57,729.72</td>\n",
       "    </tr>\n",
       "    <tr>\n",
       "      <th>2021-11-19 00:00:00+00:00</th>\n",
       "      <td>2021-11-19T00:00:00.000000000Z</td>\n",
       "      <td>56,898.46</td>\n",
       "      <td>58,122.16</td>\n",
       "      <td>58,412.12</td>\n",
       "      <td>55,625.00</td>\n",
       "      <td>18,554.56</td>\n",
       "      <td>57,263.64</td>\n",
       "      <td>62,542.56</td>\n",
       "      <td>68,887.79</td>\n",
       "      <td>56,197.33</td>\n",
       "    </tr>\n",
       "  </tbody>\n",
       "</table>\n",
       "</div>"
      ],
      "text/plain": [
       "                                                     date      open     close  \\\n",
       "date                                                                            \n",
       "2021-11-15 00:00:00+00:00  2021-11-15T00:00:00.000000000Z 65,505.03 63,624.59   \n",
       "2021-11-16 00:00:00+00:00  2021-11-16T00:00:00.000000000Z 63,621.05 60,107.98   \n",
       "2021-11-17 00:00:00+00:00  2021-11-17T00:00:00.000000000Z 60,088.65 60,351.51   \n",
       "2021-11-18 00:00:00+00:00  2021-11-18T00:00:00.000000000Z 60,351.51 56,898.00   \n",
       "2021-11-19 00:00:00+00:00  2021-11-19T00:00:00.000000000Z 56,898.46 58,122.16   \n",
       "\n",
       "                               high       low    volume      vwap   vwap_ma  \\\n",
       "date                                                                          \n",
       "2021-11-15 00:00:00+00:00 66,339.90 63,371.00 10,426.56 64,753.40 64,527.09   \n",
       "2021-11-16 00:00:00+00:00 63,624.60 58,638.00 24,910.15 60,821.42 64,518.08   \n",
       "2021-11-17 00:00:00+00:00 60,824.38 58,380.00 20,907.45 59,824.24 64,275.51   \n",
       "2021-11-18 00:00:00+00:00 60,977.21 56,514.13 26,749.21 58,560.83 63,562.83   \n",
       "2021-11-19 00:00:00+00:00 58,412.12 55,625.00 18,554.56 57,263.64 62,542.56   \n",
       "\n",
       "                           upper_band  lower_band  \n",
       "date                                               \n",
       "2021-11-15 00:00:00+00:00   68,415.22   60,638.95  \n",
       "2021-11-16 00:00:00+00:00   68,443.69   60,592.46  \n",
       "2021-11-17 00:00:00+00:00   69,035.18   59,515.85  \n",
       "2021-11-18 00:00:00+00:00   69,395.94   57,729.72  \n",
       "2021-11-19 00:00:00+00:00   68,887.79   56,197.33  "
      ]
     },
     "execution_count": 7,
     "metadata": {},
     "output_type": "execute_result"
    }
   ],
   "source": [
    "#Calculate the upper and lower bands \n",
    "def vwap(data, vwap_ma, window):\n",
    "    \n",
    "    std_vwap = data.rolling(window=window).std() #finding how far the standard deviation is away from the mean \n",
    "    \n",
    "# bollinger bands = simple moving average +- two standard deviations away\n",
    "\n",
    "    upper_band = vwap_ma + std_vwap * 2 #creating the top band\n",
    "    lower_band = vwap_ma - std_vwap * 2 #creating the lower band\n",
    "    return upper_band, lower_band\n",
    "vwap_df['upper_band'],vwap_df['lower_band'] = vwap(vwap_df['vwap'], vwap_df['vwap_ma'],10)\n",
    "vwap_df.tail()"
   ]
  },
  {
   "cell_type": "code",
   "execution_count": 8,
   "id": "91c225d4-281a-4898-948e-e7f5821baced",
   "metadata": {},
   "outputs": [
    {
     "data": {
      "text/html": [
       "<div>\n",
       "<style scoped>\n",
       "    .dataframe tbody tr th:only-of-type {\n",
       "        vertical-align: middle;\n",
       "    }\n",
       "\n",
       "    .dataframe tbody tr th {\n",
       "        vertical-align: top;\n",
       "    }\n",
       "\n",
       "    .dataframe thead th {\n",
       "        text-align: right;\n",
       "    }\n",
       "</style>\n",
       "<table border=\"1\" class=\"dataframe\">\n",
       "  <thead>\n",
       "    <tr style=\"text-align: right;\">\n",
       "      <th></th>\n",
       "      <th>date</th>\n",
       "      <th>open</th>\n",
       "      <th>close</th>\n",
       "      <th>high</th>\n",
       "      <th>low</th>\n",
       "      <th>volume</th>\n",
       "      <th>vwap</th>\n",
       "      <th>vwap_ma</th>\n",
       "      <th>upper_band</th>\n",
       "      <th>lower_band</th>\n",
       "      <th>sell_limit</th>\n",
       "      <th>buy_limit</th>\n",
       "      <th>vwap_signal</th>\n",
       "    </tr>\n",
       "    <tr>\n",
       "      <th>date</th>\n",
       "      <th></th>\n",
       "      <th></th>\n",
       "      <th></th>\n",
       "      <th></th>\n",
       "      <th></th>\n",
       "      <th></th>\n",
       "      <th></th>\n",
       "      <th></th>\n",
       "      <th></th>\n",
       "      <th></th>\n",
       "      <th></th>\n",
       "      <th></th>\n",
       "      <th></th>\n",
       "    </tr>\n",
       "  </thead>\n",
       "  <tbody>\n",
       "    <tr>\n",
       "      <th>2021-08-22 00:00:00+00:00</th>\n",
       "      <td>2021-08-22T00:00:00.000000000Z</td>\n",
       "      <td>48,870.21</td>\n",
       "      <td>49,284.63</td>\n",
       "      <td>49,526.13</td>\n",
       "      <td>48,102.89</td>\n",
       "      <td>6,243.40</td>\n",
       "      <td>48,847.07</td>\n",
       "      <td>NaN</td>\n",
       "      <td>NaN</td>\n",
       "      <td>NaN</td>\n",
       "      <td>NaN</td>\n",
       "      <td>NaN</td>\n",
       "      <td>NaN</td>\n",
       "    </tr>\n",
       "    <tr>\n",
       "      <th>2021-08-23 00:00:00+00:00</th>\n",
       "      <td>2021-08-23T00:00:00.000000000Z</td>\n",
       "      <td>49,284.38</td>\n",
       "      <td>49,506.50</td>\n",
       "      <td>50,505.00</td>\n",
       "      <td>49,012.84</td>\n",
       "      <td>10,824.27</td>\n",
       "      <td>49,881.69</td>\n",
       "      <td>NaN</td>\n",
       "      <td>NaN</td>\n",
       "      <td>NaN</td>\n",
       "      <td>NaN</td>\n",
       "      <td>NaN</td>\n",
       "      <td>NaN</td>\n",
       "    </tr>\n",
       "    <tr>\n",
       "      <th>2021-08-24 00:00:00+00:00</th>\n",
       "      <td>2021-08-24T00:00:00.000000000Z</td>\n",
       "      <td>49,504.53</td>\n",
       "      <td>47,682.45</td>\n",
       "      <td>49,875.90</td>\n",
       "      <td>47,600.00</td>\n",
       "      <td>12,068.34</td>\n",
       "      <td>48,642.69</td>\n",
       "      <td>NaN</td>\n",
       "      <td>NaN</td>\n",
       "      <td>NaN</td>\n",
       "      <td>NaN</td>\n",
       "      <td>NaN</td>\n",
       "      <td>NaN</td>\n",
       "    </tr>\n",
       "    <tr>\n",
       "      <th>2021-08-25 00:00:00+00:00</th>\n",
       "      <td>2021-08-25T00:00:00.000000000Z</td>\n",
       "      <td>47,682.45</td>\n",
       "      <td>48,987.33</td>\n",
       "      <td>49,277.00</td>\n",
       "      <td>47,122.02</td>\n",
       "      <td>9,289.23</td>\n",
       "      <td>48,212.27</td>\n",
       "      <td>NaN</td>\n",
       "      <td>NaN</td>\n",
       "      <td>NaN</td>\n",
       "      <td>NaN</td>\n",
       "      <td>NaN</td>\n",
       "      <td>NaN</td>\n",
       "    </tr>\n",
       "    <tr>\n",
       "      <th>2021-08-26 00:00:00+00:00</th>\n",
       "      <td>2021-08-26T00:00:00.000000000Z</td>\n",
       "      <td>48,991.57</td>\n",
       "      <td>46,851.47</td>\n",
       "      <td>49,365.10</td>\n",
       "      <td>46,315.48</td>\n",
       "      <td>11,651.32</td>\n",
       "      <td>47,253.25</td>\n",
       "      <td>NaN</td>\n",
       "      <td>NaN</td>\n",
       "      <td>NaN</td>\n",
       "      <td>NaN</td>\n",
       "      <td>NaN</td>\n",
       "      <td>NaN</td>\n",
       "    </tr>\n",
       "    <tr>\n",
       "      <th>2021-08-27 00:00:00+00:00</th>\n",
       "      <td>2021-08-27T00:00:00.000000000Z</td>\n",
       "      <td>46,851.47</td>\n",
       "      <td>49,077.57</td>\n",
       "      <td>49,185.12</td>\n",
       "      <td>46,361.01</td>\n",
       "      <td>8,924.12</td>\n",
       "      <td>47,765.93</td>\n",
       "      <td>NaN</td>\n",
       "      <td>NaN</td>\n",
       "      <td>NaN</td>\n",
       "      <td>NaN</td>\n",
       "      <td>NaN</td>\n",
       "      <td>NaN</td>\n",
       "    </tr>\n",
       "    <tr>\n",
       "      <th>2021-08-28 00:00:00+00:00</th>\n",
       "      <td>2021-08-28T00:00:00.000000000Z</td>\n",
       "      <td>49,081.08</td>\n",
       "      <td>48,942.94</td>\n",
       "      <td>49,309.83</td>\n",
       "      <td>48,370.00</td>\n",
       "      <td>4,895.70</td>\n",
       "      <td>48,889.40</td>\n",
       "      <td>NaN</td>\n",
       "      <td>NaN</td>\n",
       "      <td>NaN</td>\n",
       "      <td>NaN</td>\n",
       "      <td>NaN</td>\n",
       "      <td>NaN</td>\n",
       "    </tr>\n",
       "    <tr>\n",
       "      <th>2021-08-29 00:00:00+00:00</th>\n",
       "      <td>2021-08-29T00:00:00.000000000Z</td>\n",
       "      <td>48,942.89</td>\n",
       "      <td>48,802.58</td>\n",
       "      <td>49,667.10</td>\n",
       "      <td>47,801.00</td>\n",
       "      <td>6,935.10</td>\n",
       "      <td>48,729.18</td>\n",
       "      <td>NaN</td>\n",
       "      <td>NaN</td>\n",
       "      <td>NaN</td>\n",
       "      <td>NaN</td>\n",
       "      <td>NaN</td>\n",
       "      <td>NaN</td>\n",
       "    </tr>\n",
       "    <tr>\n",
       "      <th>2021-08-30 00:00:00+00:00</th>\n",
       "      <td>2021-08-30T00:00:00.000000000Z</td>\n",
       "      <td>48,802.58</td>\n",
       "      <td>46,993.71</td>\n",
       "      <td>48,906.51</td>\n",
       "      <td>46,866.00</td>\n",
       "      <td>12,249.24</td>\n",
       "      <td>48,006.58</td>\n",
       "      <td>NaN</td>\n",
       "      <td>NaN</td>\n",
       "      <td>NaN</td>\n",
       "      <td>NaN</td>\n",
       "      <td>NaN</td>\n",
       "      <td>NaN</td>\n",
       "    </tr>\n",
       "    <tr>\n",
       "      <th>2021-08-31 00:00:00+00:00</th>\n",
       "      <td>2021-08-31T00:00:00.000000000Z</td>\n",
       "      <td>46,996.80</td>\n",
       "      <td>47,112.50</td>\n",
       "      <td>48,259.68</td>\n",
       "      <td>46,708.93</td>\n",
       "      <td>12,919.44</td>\n",
       "      <td>47,346.39</td>\n",
       "      <td>48,357.44</td>\n",
       "      <td>49,963.14</td>\n",
       "      <td>46,751.74</td>\n",
       "      <td>49,963.14</td>\n",
       "      <td>46,751.74</td>\n",
       "      <td>0.00</td>\n",
       "    </tr>\n",
       "    <tr>\n",
       "      <th>2021-09-01 00:00:00+00:00</th>\n",
       "      <td>2021-09-01T00:00:00.000000000Z</td>\n",
       "      <td>47,110.33</td>\n",
       "      <td>48,839.86</td>\n",
       "      <td>49,125.00</td>\n",
       "      <td>46,537.62</td>\n",
       "      <td>13,010.84</td>\n",
       "      <td>47,817.45</td>\n",
       "      <td>48,254.48</td>\n",
       "      <td>49,852.67</td>\n",
       "      <td>46,656.29</td>\n",
       "      <td>49,852.67</td>\n",
       "      <td>46,656.29</td>\n",
       "      <td>0.00</td>\n",
       "    </tr>\n",
       "    <tr>\n",
       "      <th>2021-09-02 00:00:00+00:00</th>\n",
       "      <td>2021-09-02T00:00:00.000000000Z</td>\n",
       "      <td>48,834.27</td>\n",
       "      <td>49,279.37</td>\n",
       "      <td>50,392.19</td>\n",
       "      <td>48,620.73</td>\n",
       "      <td>14,120.38</td>\n",
       "      <td>49,684.35</td>\n",
       "      <td>48,234.75</td>\n",
       "      <td>49,746.16</td>\n",
       "      <td>46,723.34</td>\n",
       "      <td>49,746.16</td>\n",
       "      <td>46,723.34</td>\n",
       "      <td>0.00</td>\n",
       "    </tr>\n",
       "    <tr>\n",
       "      <th>2021-09-03 00:00:00+00:00</th>\n",
       "      <td>2021-09-03T00:00:00.000000000Z</td>\n",
       "      <td>49,279.38</td>\n",
       "      <td>50,025.00</td>\n",
       "      <td>51,064.44</td>\n",
       "      <td>48,349.66</td>\n",
       "      <td>14,577.23</td>\n",
       "      <td>50,032.04</td>\n",
       "      <td>48,373.68</td>\n",
       "      <td>50,260.55</td>\n",
       "      <td>46,486.82</td>\n",
       "      <td>50,260.55</td>\n",
       "      <td>46,486.82</td>\n",
       "      <td>0.00</td>\n",
       "    </tr>\n",
       "    <tr>\n",
       "      <th>2021-09-04 00:00:00+00:00</th>\n",
       "      <td>2021-09-04T00:00:00.000000000Z</td>\n",
       "      <td>50,025.00</td>\n",
       "      <td>49,942.98</td>\n",
       "      <td>50,558.75</td>\n",
       "      <td>49,400.00</td>\n",
       "      <td>7,595.49</td>\n",
       "      <td>50,014.31</td>\n",
       "      <td>48,553.89</td>\n",
       "      <td>50,698.80</td>\n",
       "      <td>46,408.97</td>\n",
       "      <td>50,698.80</td>\n",
       "      <td>46,408.97</td>\n",
       "      <td>0.00</td>\n",
       "    </tr>\n",
       "    <tr>\n",
       "      <th>2021-09-05 00:00:00+00:00</th>\n",
       "      <td>2021-09-05T00:00:00.000000000Z</td>\n",
       "      <td>49,944.89</td>\n",
       "      <td>51,789.17</td>\n",
       "      <td>51,907.08</td>\n",
       "      <td>49,500.00</td>\n",
       "      <td>7,743.93</td>\n",
       "      <td>50,658.49</td>\n",
       "      <td>48,894.41</td>\n",
       "      <td>51,197.03</td>\n",
       "      <td>46,591.79</td>\n",
       "      <td>51,197.03</td>\n",
       "      <td>46,591.79</td>\n",
       "      <td>-1.00</td>\n",
       "    </tr>\n",
       "    <tr>\n",
       "      <th>2021-09-06 00:00:00+00:00</th>\n",
       "      <td>2021-09-06T00:00:00.000000000Z</td>\n",
       "      <td>51,789.17</td>\n",
       "      <td>52,698.81</td>\n",
       "      <td>52,802.03</td>\n",
       "      <td>51,020.08</td>\n",
       "      <td>9,571.75</td>\n",
       "      <td>51,859.41</td>\n",
       "      <td>49,303.76</td>\n",
       "      <td>52,114.19</td>\n",
       "      <td>46,493.33</td>\n",
       "      <td>52,114.19</td>\n",
       "      <td>46,493.33</td>\n",
       "      <td>-1.00</td>\n",
       "    </tr>\n",
       "    <tr>\n",
       "      <th>2021-09-07 00:00:00+00:00</th>\n",
       "      <td>2021-09-07T00:00:00.000000000Z</td>\n",
       "      <td>52,698.80</td>\n",
       "      <td>46,894.50</td>\n",
       "      <td>52,944.96</td>\n",
       "      <td>42,830.77</td>\n",
       "      <td>29,022.82</td>\n",
       "      <td>48,527.93</td>\n",
       "      <td>49,267.61</td>\n",
       "      <td>52,110.84</td>\n",
       "      <td>46,424.39</td>\n",
       "      <td>52,110.84</td>\n",
       "      <td>46,424.39</td>\n",
       "      <td>0.00</td>\n",
       "    </tr>\n",
       "    <tr>\n",
       "      <th>2021-09-08 00:00:00+00:00</th>\n",
       "      <td>2021-09-08T00:00:00.000000000Z</td>\n",
       "      <td>46,880.15</td>\n",
       "      <td>46,060.36</td>\n",
       "      <td>47,381.47</td>\n",
       "      <td>44,423.49</td>\n",
       "      <td>19,624.55</td>\n",
       "      <td>46,200.97</td>\n",
       "      <td>49,014.79</td>\n",
       "      <td>52,457.28</td>\n",
       "      <td>45,572.31</td>\n",
       "      <td>52,457.28</td>\n",
       "      <td>45,572.31</td>\n",
       "      <td>0.00</td>\n",
       "    </tr>\n",
       "    <tr>\n",
       "      <th>2021-09-09 00:00:00+00:00</th>\n",
       "      <td>2021-09-09T00:00:00.000000000Z</td>\n",
       "      <td>46,059.94</td>\n",
       "      <td>46,400.00</td>\n",
       "      <td>47,400.00</td>\n",
       "      <td>45,511.82</td>\n",
       "      <td>13,592.53</td>\n",
       "      <td>46,479.00</td>\n",
       "      <td>48,862.03</td>\n",
       "      <td>52,624.09</td>\n",
       "      <td>45,099.97</td>\n",
       "      <td>52,624.09</td>\n",
       "      <td>45,099.97</td>\n",
       "      <td>0.00</td>\n",
       "    </tr>\n",
       "    <tr>\n",
       "      <th>2021-09-10 00:00:00+00:00</th>\n",
       "      <td>2021-09-10T00:00:00.000000000Z</td>\n",
       "      <td>46,394.38</td>\n",
       "      <td>44,851.45</td>\n",
       "      <td>47,040.76</td>\n",
       "      <td>44,140.48</td>\n",
       "      <td>14,905.55</td>\n",
       "      <td>45,725.30</td>\n",
       "      <td>48,699.92</td>\n",
       "      <td>52,869.85</td>\n",
       "      <td>44,530.00</td>\n",
       "      <td>52,869.85</td>\n",
       "      <td>44,530.00</td>\n",
       "      <td>0.00</td>\n",
       "    </tr>\n",
       "  </tbody>\n",
       "</table>\n",
       "</div>"
      ],
      "text/plain": [
       "                                                     date      open     close  \\\n",
       "date                                                                            \n",
       "2021-08-22 00:00:00+00:00  2021-08-22T00:00:00.000000000Z 48,870.21 49,284.63   \n",
       "2021-08-23 00:00:00+00:00  2021-08-23T00:00:00.000000000Z 49,284.38 49,506.50   \n",
       "2021-08-24 00:00:00+00:00  2021-08-24T00:00:00.000000000Z 49,504.53 47,682.45   \n",
       "2021-08-25 00:00:00+00:00  2021-08-25T00:00:00.000000000Z 47,682.45 48,987.33   \n",
       "2021-08-26 00:00:00+00:00  2021-08-26T00:00:00.000000000Z 48,991.57 46,851.47   \n",
       "2021-08-27 00:00:00+00:00  2021-08-27T00:00:00.000000000Z 46,851.47 49,077.57   \n",
       "2021-08-28 00:00:00+00:00  2021-08-28T00:00:00.000000000Z 49,081.08 48,942.94   \n",
       "2021-08-29 00:00:00+00:00  2021-08-29T00:00:00.000000000Z 48,942.89 48,802.58   \n",
       "2021-08-30 00:00:00+00:00  2021-08-30T00:00:00.000000000Z 48,802.58 46,993.71   \n",
       "2021-08-31 00:00:00+00:00  2021-08-31T00:00:00.000000000Z 46,996.80 47,112.50   \n",
       "2021-09-01 00:00:00+00:00  2021-09-01T00:00:00.000000000Z 47,110.33 48,839.86   \n",
       "2021-09-02 00:00:00+00:00  2021-09-02T00:00:00.000000000Z 48,834.27 49,279.37   \n",
       "2021-09-03 00:00:00+00:00  2021-09-03T00:00:00.000000000Z 49,279.38 50,025.00   \n",
       "2021-09-04 00:00:00+00:00  2021-09-04T00:00:00.000000000Z 50,025.00 49,942.98   \n",
       "2021-09-05 00:00:00+00:00  2021-09-05T00:00:00.000000000Z 49,944.89 51,789.17   \n",
       "2021-09-06 00:00:00+00:00  2021-09-06T00:00:00.000000000Z 51,789.17 52,698.81   \n",
       "2021-09-07 00:00:00+00:00  2021-09-07T00:00:00.000000000Z 52,698.80 46,894.50   \n",
       "2021-09-08 00:00:00+00:00  2021-09-08T00:00:00.000000000Z 46,880.15 46,060.36   \n",
       "2021-09-09 00:00:00+00:00  2021-09-09T00:00:00.000000000Z 46,059.94 46,400.00   \n",
       "2021-09-10 00:00:00+00:00  2021-09-10T00:00:00.000000000Z 46,394.38 44,851.45   \n",
       "\n",
       "                               high       low    volume      vwap   vwap_ma  \\\n",
       "date                                                                          \n",
       "2021-08-22 00:00:00+00:00 49,526.13 48,102.89  6,243.40 48,847.07       NaN   \n",
       "2021-08-23 00:00:00+00:00 50,505.00 49,012.84 10,824.27 49,881.69       NaN   \n",
       "2021-08-24 00:00:00+00:00 49,875.90 47,600.00 12,068.34 48,642.69       NaN   \n",
       "2021-08-25 00:00:00+00:00 49,277.00 47,122.02  9,289.23 48,212.27       NaN   \n",
       "2021-08-26 00:00:00+00:00 49,365.10 46,315.48 11,651.32 47,253.25       NaN   \n",
       "2021-08-27 00:00:00+00:00 49,185.12 46,361.01  8,924.12 47,765.93       NaN   \n",
       "2021-08-28 00:00:00+00:00 49,309.83 48,370.00  4,895.70 48,889.40       NaN   \n",
       "2021-08-29 00:00:00+00:00 49,667.10 47,801.00  6,935.10 48,729.18       NaN   \n",
       "2021-08-30 00:00:00+00:00 48,906.51 46,866.00 12,249.24 48,006.58       NaN   \n",
       "2021-08-31 00:00:00+00:00 48,259.68 46,708.93 12,919.44 47,346.39 48,357.44   \n",
       "2021-09-01 00:00:00+00:00 49,125.00 46,537.62 13,010.84 47,817.45 48,254.48   \n",
       "2021-09-02 00:00:00+00:00 50,392.19 48,620.73 14,120.38 49,684.35 48,234.75   \n",
       "2021-09-03 00:00:00+00:00 51,064.44 48,349.66 14,577.23 50,032.04 48,373.68   \n",
       "2021-09-04 00:00:00+00:00 50,558.75 49,400.00  7,595.49 50,014.31 48,553.89   \n",
       "2021-09-05 00:00:00+00:00 51,907.08 49,500.00  7,743.93 50,658.49 48,894.41   \n",
       "2021-09-06 00:00:00+00:00 52,802.03 51,020.08  9,571.75 51,859.41 49,303.76   \n",
       "2021-09-07 00:00:00+00:00 52,944.96 42,830.77 29,022.82 48,527.93 49,267.61   \n",
       "2021-09-08 00:00:00+00:00 47,381.47 44,423.49 19,624.55 46,200.97 49,014.79   \n",
       "2021-09-09 00:00:00+00:00 47,400.00 45,511.82 13,592.53 46,479.00 48,862.03   \n",
       "2021-09-10 00:00:00+00:00 47,040.76 44,140.48 14,905.55 45,725.30 48,699.92   \n",
       "\n",
       "                           upper_band  lower_band  sell_limit  buy_limit  \\\n",
       "date                                                                       \n",
       "2021-08-22 00:00:00+00:00         NaN         NaN         NaN        NaN   \n",
       "2021-08-23 00:00:00+00:00         NaN         NaN         NaN        NaN   \n",
       "2021-08-24 00:00:00+00:00         NaN         NaN         NaN        NaN   \n",
       "2021-08-25 00:00:00+00:00         NaN         NaN         NaN        NaN   \n",
       "2021-08-26 00:00:00+00:00         NaN         NaN         NaN        NaN   \n",
       "2021-08-27 00:00:00+00:00         NaN         NaN         NaN        NaN   \n",
       "2021-08-28 00:00:00+00:00         NaN         NaN         NaN        NaN   \n",
       "2021-08-29 00:00:00+00:00         NaN         NaN         NaN        NaN   \n",
       "2021-08-30 00:00:00+00:00         NaN         NaN         NaN        NaN   \n",
       "2021-08-31 00:00:00+00:00   49,963.14   46,751.74   49,963.14  46,751.74   \n",
       "2021-09-01 00:00:00+00:00   49,852.67   46,656.29   49,852.67  46,656.29   \n",
       "2021-09-02 00:00:00+00:00   49,746.16   46,723.34   49,746.16  46,723.34   \n",
       "2021-09-03 00:00:00+00:00   50,260.55   46,486.82   50,260.55  46,486.82   \n",
       "2021-09-04 00:00:00+00:00   50,698.80   46,408.97   50,698.80  46,408.97   \n",
       "2021-09-05 00:00:00+00:00   51,197.03   46,591.79   51,197.03  46,591.79   \n",
       "2021-09-06 00:00:00+00:00   52,114.19   46,493.33   52,114.19  46,493.33   \n",
       "2021-09-07 00:00:00+00:00   52,110.84   46,424.39   52,110.84  46,424.39   \n",
       "2021-09-08 00:00:00+00:00   52,457.28   45,572.31   52,457.28  45,572.31   \n",
       "2021-09-09 00:00:00+00:00   52,624.09   45,099.97   52,624.09  45,099.97   \n",
       "2021-09-10 00:00:00+00:00   52,869.85   44,530.00   52,869.85  44,530.00   \n",
       "\n",
       "                           vwap_signal  \n",
       "date                                    \n",
       "2021-08-22 00:00:00+00:00          NaN  \n",
       "2021-08-23 00:00:00+00:00          NaN  \n",
       "2021-08-24 00:00:00+00:00          NaN  \n",
       "2021-08-25 00:00:00+00:00          NaN  \n",
       "2021-08-26 00:00:00+00:00          NaN  \n",
       "2021-08-27 00:00:00+00:00          NaN  \n",
       "2021-08-28 00:00:00+00:00          NaN  \n",
       "2021-08-29 00:00:00+00:00          NaN  \n",
       "2021-08-30 00:00:00+00:00          NaN  \n",
       "2021-08-31 00:00:00+00:00         0.00  \n",
       "2021-09-01 00:00:00+00:00         0.00  \n",
       "2021-09-02 00:00:00+00:00         0.00  \n",
       "2021-09-03 00:00:00+00:00         0.00  \n",
       "2021-09-04 00:00:00+00:00         0.00  \n",
       "2021-09-05 00:00:00+00:00        -1.00  \n",
       "2021-09-06 00:00:00+00:00        -1.00  \n",
       "2021-09-07 00:00:00+00:00         0.00  \n",
       "2021-09-08 00:00:00+00:00         0.00  \n",
       "2021-09-09 00:00:00+00:00         0.00  \n",
       "2021-09-10 00:00:00+00:00         0.00  "
      ]
     },
     "execution_count": 8,
     "metadata": {},
     "output_type": "execute_result"
    }
   ],
   "source": [
    "## Buy/ Sell Indicator\n",
    "\n",
    "# append upper sell limit\n",
    "vwap_df[\"sell_limit\"] = vwap_df['upper_band']\n",
    "\n",
    "# append lower buy limit\n",
    "vwap_df[\"buy_limit\"] = vwap_df['lower_band']\n",
    "\n",
    "# append buy / sell signal\n",
    "vwap_df.loc[vwap_df['close'] < vwap_df['lower_band'], 'vwap_signal'] = 1\n",
    "vwap_df.loc[vwap_df['close'] > vwap_df['upper_band'], 'vwap_signal'] = -1\n",
    "vwap_df.loc[vwap_df['close'].between(vwap_df['lower_band'], vwap_df['upper_band']) , 'vwap_signal'] = 0\n",
    "\n",
    "vwap_df.head(20)"
   ]
  },
  {
   "cell_type": "markdown",
   "id": "7b527bc2-694d-496e-bf20-26f34b1f9e1a",
   "metadata": {},
   "source": [
    "## Creating VWAP Chart"
   ]
  },
  {
   "cell_type": "code",
   "execution_count": 13,
   "id": "a55f4c3d-8f08-493d-acd7-eac4419f0cfb",
   "metadata": {},
   "outputs": [
    {
     "data": {
      "application/vnd.plotly.v1+json": {
       "config": {
        "plotlyServerURL": "https://plot.ly"
       },
       "data": [
        {
         "line": {
          "color": "yellow",
          "width": 2
         },
         "name": "Price",
         "type": "scatter",
         "x": [
          "2021-08-22T00:00:00+00:00",
          "2021-08-23T00:00:00+00:00",
          "2021-08-24T00:00:00+00:00",
          "2021-08-25T00:00:00+00:00",
          "2021-08-26T00:00:00+00:00",
          "2021-08-27T00:00:00+00:00",
          "2021-08-28T00:00:00+00:00",
          "2021-08-29T00:00:00+00:00",
          "2021-08-30T00:00:00+00:00",
          "2021-08-31T00:00:00+00:00",
          "2021-09-01T00:00:00+00:00",
          "2021-09-02T00:00:00+00:00",
          "2021-09-03T00:00:00+00:00",
          "2021-09-04T00:00:00+00:00",
          "2021-09-05T00:00:00+00:00",
          "2021-09-06T00:00:00+00:00",
          "2021-09-07T00:00:00+00:00",
          "2021-09-08T00:00:00+00:00",
          "2021-09-09T00:00:00+00:00",
          "2021-09-10T00:00:00+00:00",
          "2021-09-11T00:00:00+00:00",
          "2021-09-12T00:00:00+00:00",
          "2021-09-13T00:00:00+00:00",
          "2021-09-14T00:00:00+00:00",
          "2021-09-15T00:00:00+00:00",
          "2021-09-16T00:00:00+00:00",
          "2021-09-17T00:00:00+00:00",
          "2021-09-18T00:00:00+00:00",
          "2021-09-19T00:00:00+00:00",
          "2021-09-20T00:00:00+00:00",
          "2021-09-21T00:00:00+00:00",
          "2021-09-22T00:00:00+00:00",
          "2021-09-23T00:00:00+00:00",
          "2021-09-24T00:00:00+00:00",
          "2021-09-25T00:00:00+00:00",
          "2021-09-26T00:00:00+00:00",
          "2021-09-27T00:00:00+00:00",
          "2021-09-28T00:00:00+00:00",
          "2021-09-29T00:00:00+00:00",
          "2021-09-30T00:00:00+00:00",
          "2021-10-01T00:00:00+00:00",
          "2021-10-02T00:00:00+00:00",
          "2021-10-03T00:00:00+00:00",
          "2021-10-04T00:00:00+00:00",
          "2021-10-05T00:00:00+00:00",
          "2021-10-06T00:00:00+00:00",
          "2021-10-07T00:00:00+00:00",
          "2021-10-08T00:00:00+00:00",
          "2021-10-09T00:00:00+00:00",
          "2021-10-10T00:00:00+00:00",
          "2021-10-11T00:00:00+00:00",
          "2021-10-12T00:00:00+00:00",
          "2021-10-13T00:00:00+00:00",
          "2021-10-14T00:00:00+00:00",
          "2021-10-15T00:00:00+00:00",
          "2021-10-16T00:00:00+00:00",
          "2021-10-17T00:00:00+00:00",
          "2021-10-18T00:00:00+00:00",
          "2021-10-19T00:00:00+00:00",
          "2021-10-20T00:00:00+00:00",
          "2021-10-21T00:00:00+00:00",
          "2021-10-22T00:00:00+00:00",
          "2021-10-23T00:00:00+00:00",
          "2021-10-24T00:00:00+00:00",
          "2021-10-25T00:00:00+00:00",
          "2021-10-26T00:00:00+00:00",
          "2021-10-27T00:00:00+00:00",
          "2021-10-28T00:00:00+00:00",
          "2021-10-29T00:00:00+00:00",
          "2021-10-30T00:00:00+00:00",
          "2021-10-31T00:00:00+00:00",
          "2021-11-01T00:00:00+00:00",
          "2021-11-02T00:00:00+00:00",
          "2021-11-03T00:00:00+00:00",
          "2021-11-04T00:00:00+00:00",
          "2021-11-05T00:00:00+00:00",
          "2021-11-06T00:00:00+00:00",
          "2021-11-07T00:00:00+00:00",
          "2021-11-08T00:00:00+00:00",
          "2021-11-09T00:00:00+00:00",
          "2021-11-10T00:00:00+00:00",
          "2021-11-11T00:00:00+00:00",
          "2021-11-12T00:00:00+00:00",
          "2021-11-13T00:00:00+00:00",
          "2021-11-14T00:00:00+00:00",
          "2021-11-15T00:00:00+00:00",
          "2021-11-16T00:00:00+00:00",
          "2021-11-17T00:00:00+00:00",
          "2021-11-18T00:00:00+00:00",
          "2021-11-19T00:00:00+00:00"
         ],
         "xaxis": "x",
         "y": [
          49284.63,
          49506.5,
          47682.45,
          48987.33,
          46851.47,
          49077.57,
          48942.94,
          48802.58,
          46993.71,
          47112.5,
          48839.86,
          49279.37,
          50025,
          49942.98,
          51789.17,
          52698.81,
          46894.5,
          46060.36,
          46400,
          44851.45,
          45171.83,
          46024.23,
          44947.72,
          47127.22,
          48148.12,
          47753.16,
          47303.5,
          48314.56,
          47255.92,
          43012.97,
          40719.6,
          43575.1,
          44897.59,
          42848.92,
          42705.51,
          43178.02,
          42171.76,
          41026.07,
          41522.16,
          43824.43,
          48165.76,
          47657.69,
          48233.99,
          49245.54,
          51493.99,
          55339.48,
          53797.82,
          53963.82,
          54962.29,
          54690.53,
          57487.44,
          56005.1,
          57367.32,
          57359.51,
          61695.4,
          60877.42,
          61527.11,
          62042.41,
          64303.14,
          66026.54,
          62204.02,
          60687.64,
          61300.01,
          60854.48,
          63083.54,
          60337.62,
          58455.47,
          60591.65,
          62276.72,
          61892.41,
          61343.69,
          60949.54,
          63266.51,
          62935.41,
          61444.5,
          61006.15,
          61539.31,
          63309.13,
          67554.84,
          66944.67,
          64912.2,
          64807.74,
          64147.9,
          64400.01,
          65505.02,
          63624.59,
          60107.98,
          60351.51,
          56898,
          58122.16
         ],
         "yaxis": "y"
        },
        {
         "line": {
          "color": "grey",
          "width": 2
         },
         "mode": "lines",
         "name": "vwap_ma",
         "type": "scatter",
         "x": [
          "2021-08-22T00:00:00+00:00",
          "2021-08-23T00:00:00+00:00",
          "2021-08-24T00:00:00+00:00",
          "2021-08-25T00:00:00+00:00",
          "2021-08-26T00:00:00+00:00",
          "2021-08-27T00:00:00+00:00",
          "2021-08-28T00:00:00+00:00",
          "2021-08-29T00:00:00+00:00",
          "2021-08-30T00:00:00+00:00",
          "2021-08-31T00:00:00+00:00",
          "2021-09-01T00:00:00+00:00",
          "2021-09-02T00:00:00+00:00",
          "2021-09-03T00:00:00+00:00",
          "2021-09-04T00:00:00+00:00",
          "2021-09-05T00:00:00+00:00",
          "2021-09-06T00:00:00+00:00",
          "2021-09-07T00:00:00+00:00",
          "2021-09-08T00:00:00+00:00",
          "2021-09-09T00:00:00+00:00",
          "2021-09-10T00:00:00+00:00",
          "2021-09-11T00:00:00+00:00",
          "2021-09-12T00:00:00+00:00",
          "2021-09-13T00:00:00+00:00",
          "2021-09-14T00:00:00+00:00",
          "2021-09-15T00:00:00+00:00",
          "2021-09-16T00:00:00+00:00",
          "2021-09-17T00:00:00+00:00",
          "2021-09-18T00:00:00+00:00",
          "2021-09-19T00:00:00+00:00",
          "2021-09-20T00:00:00+00:00",
          "2021-09-21T00:00:00+00:00",
          "2021-09-22T00:00:00+00:00",
          "2021-09-23T00:00:00+00:00",
          "2021-09-24T00:00:00+00:00",
          "2021-09-25T00:00:00+00:00",
          "2021-09-26T00:00:00+00:00",
          "2021-09-27T00:00:00+00:00",
          "2021-09-28T00:00:00+00:00",
          "2021-09-29T00:00:00+00:00",
          "2021-09-30T00:00:00+00:00",
          "2021-10-01T00:00:00+00:00",
          "2021-10-02T00:00:00+00:00",
          "2021-10-03T00:00:00+00:00",
          "2021-10-04T00:00:00+00:00",
          "2021-10-05T00:00:00+00:00",
          "2021-10-06T00:00:00+00:00",
          "2021-10-07T00:00:00+00:00",
          "2021-10-08T00:00:00+00:00",
          "2021-10-09T00:00:00+00:00",
          "2021-10-10T00:00:00+00:00",
          "2021-10-11T00:00:00+00:00",
          "2021-10-12T00:00:00+00:00",
          "2021-10-13T00:00:00+00:00",
          "2021-10-14T00:00:00+00:00",
          "2021-10-15T00:00:00+00:00",
          "2021-10-16T00:00:00+00:00",
          "2021-10-17T00:00:00+00:00",
          "2021-10-18T00:00:00+00:00",
          "2021-10-19T00:00:00+00:00",
          "2021-10-20T00:00:00+00:00",
          "2021-10-21T00:00:00+00:00",
          "2021-10-22T00:00:00+00:00",
          "2021-10-23T00:00:00+00:00",
          "2021-10-24T00:00:00+00:00",
          "2021-10-25T00:00:00+00:00",
          "2021-10-26T00:00:00+00:00",
          "2021-10-27T00:00:00+00:00",
          "2021-10-28T00:00:00+00:00",
          "2021-10-29T00:00:00+00:00",
          "2021-10-30T00:00:00+00:00",
          "2021-10-31T00:00:00+00:00",
          "2021-11-01T00:00:00+00:00",
          "2021-11-02T00:00:00+00:00",
          "2021-11-03T00:00:00+00:00",
          "2021-11-04T00:00:00+00:00",
          "2021-11-05T00:00:00+00:00",
          "2021-11-06T00:00:00+00:00",
          "2021-11-07T00:00:00+00:00",
          "2021-11-08T00:00:00+00:00",
          "2021-11-09T00:00:00+00:00",
          "2021-11-10T00:00:00+00:00",
          "2021-11-11T00:00:00+00:00",
          "2021-11-12T00:00:00+00:00",
          "2021-11-13T00:00:00+00:00",
          "2021-11-14T00:00:00+00:00",
          "2021-11-15T00:00:00+00:00",
          "2021-11-16T00:00:00+00:00",
          "2021-11-17T00:00:00+00:00",
          "2021-11-18T00:00:00+00:00",
          "2021-11-19T00:00:00+00:00"
         ],
         "y": [
          null,
          null,
          null,
          null,
          null,
          null,
          null,
          null,
          null,
          48357.444260488206,
          48254.48217282095,
          48234.74823703286,
          48373.68374602578,
          48553.88799929324,
          48894.412219321646,
          49303.75983874717,
          49267.612574209874,
          49014.79153162747,
          48862.03334069366,
          48699.924730987615,
          48454.22820998858,
          48051.21713236533,
          47530.24828506742,
          47154.35825611875,
          46857.159459696966,
          46452.58876453989,
          46348.14559265111,
          46546.778629207896,
          46660.20270542028,
          46505.53969731147,
          46164.362647904156,
          45863.835334717165,
          45795.78382018059,
          45439.50453468958,
          44923.306864529986,
          44408.54911361016,
          44006.671838215356,
          43371.605744811095,
          42786.65316405156,
          42694.23181586792,
          43172.306087697565,
          43693.55409132749,
          44093.92757521245,
          44665.526692726315,
          45451.70807821552,
          46532.01642694487,
          47620.03799511576,
          48898.19691372477,
          50199.68743824583,
          51397.1737725042,
          52407.83339535243,
          53255.520807924695,
          54043.79570940053,
          54965.62048537955,
          55951.04915648113,
          56724.55793286994,
          57353.394978006894,
          58060.11427679759,
          58883.22190642601,
          59931.399353634995,
          60668.16302322243,
          61213.306658812144,
          61716.610432702466,
          62003.98604523515,
          62254.79044352251,
          62314.61989443988,
          62182.81095641799,
          62047.52828781521,
          61903.28203305125,
          61491.24609009536,
          61175.44883087479,
          61118.187456050204,
          61294.92976217226,
          61507.6967092521,
          61402.43349090118,
          61360.9278405981,
          61520.55800234519,
          61712.28526482396,
          62124.3295394988,
          62711.89035510025,
          63283.81223245553,
          63651.85661556021,
          63755.443723662815,
          63908.58495118287,
          64190.50064318509,
          64527.08780608643,
          64518.07718861433,
          64275.51441873815,
          63562.83004812766,
          62542.55989678798
         ]
        },
        {
         "line": {
          "color": "red",
          "dash": "dot",
          "width": 1
         },
         "name": "Upper Band",
         "type": "scatter",
         "x": [
          "2021-08-22T00:00:00+00:00",
          "2021-08-23T00:00:00+00:00",
          "2021-08-24T00:00:00+00:00",
          "2021-08-25T00:00:00+00:00",
          "2021-08-26T00:00:00+00:00",
          "2021-08-27T00:00:00+00:00",
          "2021-08-28T00:00:00+00:00",
          "2021-08-29T00:00:00+00:00",
          "2021-08-30T00:00:00+00:00",
          "2021-08-31T00:00:00+00:00",
          "2021-09-01T00:00:00+00:00",
          "2021-09-02T00:00:00+00:00",
          "2021-09-03T00:00:00+00:00",
          "2021-09-04T00:00:00+00:00",
          "2021-09-05T00:00:00+00:00",
          "2021-09-06T00:00:00+00:00",
          "2021-09-07T00:00:00+00:00",
          "2021-09-08T00:00:00+00:00",
          "2021-09-09T00:00:00+00:00",
          "2021-09-10T00:00:00+00:00",
          "2021-09-11T00:00:00+00:00",
          "2021-09-12T00:00:00+00:00",
          "2021-09-13T00:00:00+00:00",
          "2021-09-14T00:00:00+00:00",
          "2021-09-15T00:00:00+00:00",
          "2021-09-16T00:00:00+00:00",
          "2021-09-17T00:00:00+00:00",
          "2021-09-18T00:00:00+00:00",
          "2021-09-19T00:00:00+00:00",
          "2021-09-20T00:00:00+00:00",
          "2021-09-21T00:00:00+00:00",
          "2021-09-22T00:00:00+00:00",
          "2021-09-23T00:00:00+00:00",
          "2021-09-24T00:00:00+00:00",
          "2021-09-25T00:00:00+00:00",
          "2021-09-26T00:00:00+00:00",
          "2021-09-27T00:00:00+00:00",
          "2021-09-28T00:00:00+00:00",
          "2021-09-29T00:00:00+00:00",
          "2021-09-30T00:00:00+00:00",
          "2021-10-01T00:00:00+00:00",
          "2021-10-02T00:00:00+00:00",
          "2021-10-03T00:00:00+00:00",
          "2021-10-04T00:00:00+00:00",
          "2021-10-05T00:00:00+00:00",
          "2021-10-06T00:00:00+00:00",
          "2021-10-07T00:00:00+00:00",
          "2021-10-08T00:00:00+00:00",
          "2021-10-09T00:00:00+00:00",
          "2021-10-10T00:00:00+00:00",
          "2021-10-11T00:00:00+00:00",
          "2021-10-12T00:00:00+00:00",
          "2021-10-13T00:00:00+00:00",
          "2021-10-14T00:00:00+00:00",
          "2021-10-15T00:00:00+00:00",
          "2021-10-16T00:00:00+00:00",
          "2021-10-17T00:00:00+00:00",
          "2021-10-18T00:00:00+00:00",
          "2021-10-19T00:00:00+00:00",
          "2021-10-20T00:00:00+00:00",
          "2021-10-21T00:00:00+00:00",
          "2021-10-22T00:00:00+00:00",
          "2021-10-23T00:00:00+00:00",
          "2021-10-24T00:00:00+00:00",
          "2021-10-25T00:00:00+00:00",
          "2021-10-26T00:00:00+00:00",
          "2021-10-27T00:00:00+00:00",
          "2021-10-28T00:00:00+00:00",
          "2021-10-29T00:00:00+00:00",
          "2021-10-30T00:00:00+00:00",
          "2021-10-31T00:00:00+00:00",
          "2021-11-01T00:00:00+00:00",
          "2021-11-02T00:00:00+00:00",
          "2021-11-03T00:00:00+00:00",
          "2021-11-04T00:00:00+00:00",
          "2021-11-05T00:00:00+00:00",
          "2021-11-06T00:00:00+00:00",
          "2021-11-07T00:00:00+00:00",
          "2021-11-08T00:00:00+00:00",
          "2021-11-09T00:00:00+00:00",
          "2021-11-10T00:00:00+00:00",
          "2021-11-11T00:00:00+00:00",
          "2021-11-12T00:00:00+00:00",
          "2021-11-13T00:00:00+00:00",
          "2021-11-14T00:00:00+00:00",
          "2021-11-15T00:00:00+00:00",
          "2021-11-16T00:00:00+00:00",
          "2021-11-17T00:00:00+00:00",
          "2021-11-18T00:00:00+00:00",
          "2021-11-19T00:00:00+00:00"
         ],
         "y": [
          null,
          null,
          null,
          null,
          null,
          null,
          null,
          null,
          null,
          49963.14406742544,
          49852.670918975426,
          49746.15559256184,
          50260.55207198326,
          50698.803101199395,
          51197.032281659456,
          52114.193955552786,
          52110.84001294921,
          52457.276406403376,
          52624.09458873006,
          52869.84863751839,
          53115.79892510528,
          52931.81979312538,
          52580.372350284815,
          51935.11314872147,
          50996.19209528823,
          48837.894009195385,
          48397.36616617789,
          48895.74620303059,
          49102.315025462274,
          49370.1554608065,
          50205.98306880607,
          50480.12098379496,
          50499.54066158833,
          50513.665968151916,
          50031.664660514565,
          49253.02846790714,
          48359.227098273055,
          46759.425278808674,
          44550.00108145206,
          44213.27382027553,
          46050.07628052008,
          47783.14118041577,
          49067.06210335664,
          50204.58903050818,
          51811.15565465579,
          54302.214456296635,
          56455.358927179885,
          57713.12242926286,
          58131.93612500785,
          58205.42234444605,
          59136.61047648689,
          59561.25979614932,
          59411.53317173069,
          59043.40795746645,
          59870.17839510349,
          61439.21315131474,
          62327.74408249634,
          63307.975804077854,
          64417.767456267095,
          66298.05932455792,
          67147.02953744787,
          66947.5672262665,
          66168.3167482332,
          65564.04410154776,
          65610.22636841742,
          65607.56102105965,
          65858.17312420983,
          65899.60067808651,
          65702.89537330715,
          64189.71382893973,
          63087.72204108934,
          62982.39478406895,
          63447.95183323549,
          63731.215952444836,
          63458.18213218695,
          63397.439049112465,
          63025.19211630482,
          63019.84720471295,
          64947.38899656741,
          67069.86517930026,
          68142.34139390971,
          68370.16549791713,
          68438.79563620996,
          68527.8406232478,
          68546.2016905145,
          68415.22489788839,
          68443.69105102391,
          69035.18168754589,
          69395.94191449783,
          68887.79430115818
         ]
        },
        {
         "line": {
          "color": "green",
          "dash": "dot",
          "width": 1
         },
         "name": "Lower Band",
         "type": "scatter",
         "x": [
          "2021-08-22T00:00:00+00:00",
          "2021-08-23T00:00:00+00:00",
          "2021-08-24T00:00:00+00:00",
          "2021-08-25T00:00:00+00:00",
          "2021-08-26T00:00:00+00:00",
          "2021-08-27T00:00:00+00:00",
          "2021-08-28T00:00:00+00:00",
          "2021-08-29T00:00:00+00:00",
          "2021-08-30T00:00:00+00:00",
          "2021-08-31T00:00:00+00:00",
          "2021-09-01T00:00:00+00:00",
          "2021-09-02T00:00:00+00:00",
          "2021-09-03T00:00:00+00:00",
          "2021-09-04T00:00:00+00:00",
          "2021-09-05T00:00:00+00:00",
          "2021-09-06T00:00:00+00:00",
          "2021-09-07T00:00:00+00:00",
          "2021-09-08T00:00:00+00:00",
          "2021-09-09T00:00:00+00:00",
          "2021-09-10T00:00:00+00:00",
          "2021-09-11T00:00:00+00:00",
          "2021-09-12T00:00:00+00:00",
          "2021-09-13T00:00:00+00:00",
          "2021-09-14T00:00:00+00:00",
          "2021-09-15T00:00:00+00:00",
          "2021-09-16T00:00:00+00:00",
          "2021-09-17T00:00:00+00:00",
          "2021-09-18T00:00:00+00:00",
          "2021-09-19T00:00:00+00:00",
          "2021-09-20T00:00:00+00:00",
          "2021-09-21T00:00:00+00:00",
          "2021-09-22T00:00:00+00:00",
          "2021-09-23T00:00:00+00:00",
          "2021-09-24T00:00:00+00:00",
          "2021-09-25T00:00:00+00:00",
          "2021-09-26T00:00:00+00:00",
          "2021-09-27T00:00:00+00:00",
          "2021-09-28T00:00:00+00:00",
          "2021-09-29T00:00:00+00:00",
          "2021-09-30T00:00:00+00:00",
          "2021-10-01T00:00:00+00:00",
          "2021-10-02T00:00:00+00:00",
          "2021-10-03T00:00:00+00:00",
          "2021-10-04T00:00:00+00:00",
          "2021-10-05T00:00:00+00:00",
          "2021-10-06T00:00:00+00:00",
          "2021-10-07T00:00:00+00:00",
          "2021-10-08T00:00:00+00:00",
          "2021-10-09T00:00:00+00:00",
          "2021-10-10T00:00:00+00:00",
          "2021-10-11T00:00:00+00:00",
          "2021-10-12T00:00:00+00:00",
          "2021-10-13T00:00:00+00:00",
          "2021-10-14T00:00:00+00:00",
          "2021-10-15T00:00:00+00:00",
          "2021-10-16T00:00:00+00:00",
          "2021-10-17T00:00:00+00:00",
          "2021-10-18T00:00:00+00:00",
          "2021-10-19T00:00:00+00:00",
          "2021-10-20T00:00:00+00:00",
          "2021-10-21T00:00:00+00:00",
          "2021-10-22T00:00:00+00:00",
          "2021-10-23T00:00:00+00:00",
          "2021-10-24T00:00:00+00:00",
          "2021-10-25T00:00:00+00:00",
          "2021-10-26T00:00:00+00:00",
          "2021-10-27T00:00:00+00:00",
          "2021-10-28T00:00:00+00:00",
          "2021-10-29T00:00:00+00:00",
          "2021-10-30T00:00:00+00:00",
          "2021-10-31T00:00:00+00:00",
          "2021-11-01T00:00:00+00:00",
          "2021-11-02T00:00:00+00:00",
          "2021-11-03T00:00:00+00:00",
          "2021-11-04T00:00:00+00:00",
          "2021-11-05T00:00:00+00:00",
          "2021-11-06T00:00:00+00:00",
          "2021-11-07T00:00:00+00:00",
          "2021-11-08T00:00:00+00:00",
          "2021-11-09T00:00:00+00:00",
          "2021-11-10T00:00:00+00:00",
          "2021-11-11T00:00:00+00:00",
          "2021-11-12T00:00:00+00:00",
          "2021-11-13T00:00:00+00:00",
          "2021-11-14T00:00:00+00:00",
          "2021-11-15T00:00:00+00:00",
          "2021-11-16T00:00:00+00:00",
          "2021-11-17T00:00:00+00:00",
          "2021-11-18T00:00:00+00:00",
          "2021-11-19T00:00:00+00:00"
         ],
         "y": [
          null,
          null,
          null,
          null,
          null,
          null,
          null,
          null,
          null,
          46751.74445355097,
          46656.293426666474,
          46723.34088150388,
          46486.815420068306,
          46408.97289738709,
          46591.792156983836,
          46493.32572194156,
          46424.38513547054,
          45572.30665685156,
          45099.97209265726,
          44530.00082445684,
          43792.65749487188,
          43170.61447160528,
          42480.124219850026,
          42373.60336351603,
          42718.126824105704,
          44067.2835198844,
          44298.92501912433,
          44197.8110553852,
          44218.09038537828,
          43640.92393381644,
          42122.74222700224,
          41247.54968563937,
          41092.026978772854,
          40365.34310122724,
          39814.94906854541,
          39564.069759313184,
          39654.11657815766,
          39983.786210813516,
          41023.30524665106,
          41175.18981146031,
          40294.53589487505,
          39603.96700223921,
          39120.79304706826,
          39126.46435494445,
          39092.26050177524,
          38761.81839759311,
          38784.717063051634,
          40083.271398186684,
          42267.438751483816,
          44588.92520056234,
          45679.05631421797,
          46949.78181970007,
          48676.058247070374,
          50887.83301329265,
          52031.91991785877,
          52009.90271442514,
          52379.04587351745,
          52812.25274951733,
          53348.67635658493,
          53564.73938271207,
          54189.29650899699,
          55479.046091357784,
          57264.90411717172,
          58443.92798892254,
          58899.35451862759,
          59021.6787678201,
          58507.44878862614,
          58195.45589754391,
          58103.66869279535,
          58792.778351250985,
          59263.17562066024,
          59253.98012803146,
          59141.90769110902,
          59284.177466059366,
          59346.68484961541,
          59324.41663208374,
          60015.923888385565,
          60404.72332493497,
          59301.270082430194,
          58353.91553090023,
          58425.28307100135,
          58933.54773320328,
          59072.09181111566,
          59289.32927911795,
          59834.799595855686,
          60638.95071428447,
          60592.46332620474,
          59515.84714993042,
          57729.71818175749,
          56197.32549241777
         ]
        }
       ],
       "layout": {
        "autosize": true,
        "template": {
         "data": {
          "bar": [
           {
            "error_x": {
             "color": "#f2f5fa"
            },
            "error_y": {
             "color": "#f2f5fa"
            },
            "marker": {
             "line": {
              "color": "rgb(17,17,17)",
              "width": 0.5
             },
             "pattern": {
              "fillmode": "overlay",
              "size": 10,
              "solidity": 0.2
             }
            },
            "type": "bar"
           }
          ],
          "barpolar": [
           {
            "marker": {
             "line": {
              "color": "rgb(17,17,17)",
              "width": 0.5
             },
             "pattern": {
              "fillmode": "overlay",
              "size": 10,
              "solidity": 0.2
             }
            },
            "type": "barpolar"
           }
          ],
          "carpet": [
           {
            "aaxis": {
             "endlinecolor": "#A2B1C6",
             "gridcolor": "#506784",
             "linecolor": "#506784",
             "minorgridcolor": "#506784",
             "startlinecolor": "#A2B1C6"
            },
            "baxis": {
             "endlinecolor": "#A2B1C6",
             "gridcolor": "#506784",
             "linecolor": "#506784",
             "minorgridcolor": "#506784",
             "startlinecolor": "#A2B1C6"
            },
            "type": "carpet"
           }
          ],
          "choropleth": [
           {
            "colorbar": {
             "outlinewidth": 0,
             "ticks": ""
            },
            "type": "choropleth"
           }
          ],
          "contour": [
           {
            "colorbar": {
             "outlinewidth": 0,
             "ticks": ""
            },
            "colorscale": [
             [
              0,
              "#0d0887"
             ],
             [
              0.1111111111111111,
              "#46039f"
             ],
             [
              0.2222222222222222,
              "#7201a8"
             ],
             [
              0.3333333333333333,
              "#9c179e"
             ],
             [
              0.4444444444444444,
              "#bd3786"
             ],
             [
              0.5555555555555556,
              "#d8576b"
             ],
             [
              0.6666666666666666,
              "#ed7953"
             ],
             [
              0.7777777777777778,
              "#fb9f3a"
             ],
             [
              0.8888888888888888,
              "#fdca26"
             ],
             [
              1,
              "#f0f921"
             ]
            ],
            "type": "contour"
           }
          ],
          "contourcarpet": [
           {
            "colorbar": {
             "outlinewidth": 0,
             "ticks": ""
            },
            "type": "contourcarpet"
           }
          ],
          "heatmap": [
           {
            "colorbar": {
             "outlinewidth": 0,
             "ticks": ""
            },
            "colorscale": [
             [
              0,
              "#0d0887"
             ],
             [
              0.1111111111111111,
              "#46039f"
             ],
             [
              0.2222222222222222,
              "#7201a8"
             ],
             [
              0.3333333333333333,
              "#9c179e"
             ],
             [
              0.4444444444444444,
              "#bd3786"
             ],
             [
              0.5555555555555556,
              "#d8576b"
             ],
             [
              0.6666666666666666,
              "#ed7953"
             ],
             [
              0.7777777777777778,
              "#fb9f3a"
             ],
             [
              0.8888888888888888,
              "#fdca26"
             ],
             [
              1,
              "#f0f921"
             ]
            ],
            "type": "heatmap"
           }
          ],
          "heatmapgl": [
           {
            "colorbar": {
             "outlinewidth": 0,
             "ticks": ""
            },
            "colorscale": [
             [
              0,
              "#0d0887"
             ],
             [
              0.1111111111111111,
              "#46039f"
             ],
             [
              0.2222222222222222,
              "#7201a8"
             ],
             [
              0.3333333333333333,
              "#9c179e"
             ],
             [
              0.4444444444444444,
              "#bd3786"
             ],
             [
              0.5555555555555556,
              "#d8576b"
             ],
             [
              0.6666666666666666,
              "#ed7953"
             ],
             [
              0.7777777777777778,
              "#fb9f3a"
             ],
             [
              0.8888888888888888,
              "#fdca26"
             ],
             [
              1,
              "#f0f921"
             ]
            ],
            "type": "heatmapgl"
           }
          ],
          "histogram": [
           {
            "marker": {
             "pattern": {
              "fillmode": "overlay",
              "size": 10,
              "solidity": 0.2
             }
            },
            "type": "histogram"
           }
          ],
          "histogram2d": [
           {
            "colorbar": {
             "outlinewidth": 0,
             "ticks": ""
            },
            "colorscale": [
             [
              0,
              "#0d0887"
             ],
             [
              0.1111111111111111,
              "#46039f"
             ],
             [
              0.2222222222222222,
              "#7201a8"
             ],
             [
              0.3333333333333333,
              "#9c179e"
             ],
             [
              0.4444444444444444,
              "#bd3786"
             ],
             [
              0.5555555555555556,
              "#d8576b"
             ],
             [
              0.6666666666666666,
              "#ed7953"
             ],
             [
              0.7777777777777778,
              "#fb9f3a"
             ],
             [
              0.8888888888888888,
              "#fdca26"
             ],
             [
              1,
              "#f0f921"
             ]
            ],
            "type": "histogram2d"
           }
          ],
          "histogram2dcontour": [
           {
            "colorbar": {
             "outlinewidth": 0,
             "ticks": ""
            },
            "colorscale": [
             [
              0,
              "#0d0887"
             ],
             [
              0.1111111111111111,
              "#46039f"
             ],
             [
              0.2222222222222222,
              "#7201a8"
             ],
             [
              0.3333333333333333,
              "#9c179e"
             ],
             [
              0.4444444444444444,
              "#bd3786"
             ],
             [
              0.5555555555555556,
              "#d8576b"
             ],
             [
              0.6666666666666666,
              "#ed7953"
             ],
             [
              0.7777777777777778,
              "#fb9f3a"
             ],
             [
              0.8888888888888888,
              "#fdca26"
             ],
             [
              1,
              "#f0f921"
             ]
            ],
            "type": "histogram2dcontour"
           }
          ],
          "mesh3d": [
           {
            "colorbar": {
             "outlinewidth": 0,
             "ticks": ""
            },
            "type": "mesh3d"
           }
          ],
          "parcoords": [
           {
            "line": {
             "colorbar": {
              "outlinewidth": 0,
              "ticks": ""
             }
            },
            "type": "parcoords"
           }
          ],
          "pie": [
           {
            "automargin": true,
            "type": "pie"
           }
          ],
          "scatter": [
           {
            "marker": {
             "line": {
              "color": "#283442"
             }
            },
            "type": "scatter"
           }
          ],
          "scatter3d": [
           {
            "line": {
             "colorbar": {
              "outlinewidth": 0,
              "ticks": ""
             }
            },
            "marker": {
             "colorbar": {
              "outlinewidth": 0,
              "ticks": ""
             }
            },
            "type": "scatter3d"
           }
          ],
          "scattercarpet": [
           {
            "marker": {
             "colorbar": {
              "outlinewidth": 0,
              "ticks": ""
             }
            },
            "type": "scattercarpet"
           }
          ],
          "scattergeo": [
           {
            "marker": {
             "colorbar": {
              "outlinewidth": 0,
              "ticks": ""
             }
            },
            "type": "scattergeo"
           }
          ],
          "scattergl": [
           {
            "marker": {
             "line": {
              "color": "#283442"
             }
            },
            "type": "scattergl"
           }
          ],
          "scattermapbox": [
           {
            "marker": {
             "colorbar": {
              "outlinewidth": 0,
              "ticks": ""
             }
            },
            "type": "scattermapbox"
           }
          ],
          "scatterpolar": [
           {
            "marker": {
             "colorbar": {
              "outlinewidth": 0,
              "ticks": ""
             }
            },
            "type": "scatterpolar"
           }
          ],
          "scatterpolargl": [
           {
            "marker": {
             "colorbar": {
              "outlinewidth": 0,
              "ticks": ""
             }
            },
            "type": "scatterpolargl"
           }
          ],
          "scatterternary": [
           {
            "marker": {
             "colorbar": {
              "outlinewidth": 0,
              "ticks": ""
             }
            },
            "type": "scatterternary"
           }
          ],
          "surface": [
           {
            "colorbar": {
             "outlinewidth": 0,
             "ticks": ""
            },
            "colorscale": [
             [
              0,
              "#0d0887"
             ],
             [
              0.1111111111111111,
              "#46039f"
             ],
             [
              0.2222222222222222,
              "#7201a8"
             ],
             [
              0.3333333333333333,
              "#9c179e"
             ],
             [
              0.4444444444444444,
              "#bd3786"
             ],
             [
              0.5555555555555556,
              "#d8576b"
             ],
             [
              0.6666666666666666,
              "#ed7953"
             ],
             [
              0.7777777777777778,
              "#fb9f3a"
             ],
             [
              0.8888888888888888,
              "#fdca26"
             ],
             [
              1,
              "#f0f921"
             ]
            ],
            "type": "surface"
           }
          ],
          "table": [
           {
            "cells": {
             "fill": {
              "color": "#506784"
             },
             "line": {
              "color": "rgb(17,17,17)"
             }
            },
            "header": {
             "fill": {
              "color": "#2a3f5f"
             },
             "line": {
              "color": "rgb(17,17,17)"
             }
            },
            "type": "table"
           }
          ]
         },
         "layout": {
          "annotationdefaults": {
           "arrowcolor": "#f2f5fa",
           "arrowhead": 0,
           "arrowwidth": 1
          },
          "autotypenumbers": "strict",
          "coloraxis": {
           "colorbar": {
            "outlinewidth": 0,
            "ticks": ""
           }
          },
          "colorscale": {
           "diverging": [
            [
             0,
             "#8e0152"
            ],
            [
             0.1,
             "#c51b7d"
            ],
            [
             0.2,
             "#de77ae"
            ],
            [
             0.3,
             "#f1b6da"
            ],
            [
             0.4,
             "#fde0ef"
            ],
            [
             0.5,
             "#f7f7f7"
            ],
            [
             0.6,
             "#e6f5d0"
            ],
            [
             0.7,
             "#b8e186"
            ],
            [
             0.8,
             "#7fbc41"
            ],
            [
             0.9,
             "#4d9221"
            ],
            [
             1,
             "#276419"
            ]
           ],
           "sequential": [
            [
             0,
             "#0d0887"
            ],
            [
             0.1111111111111111,
             "#46039f"
            ],
            [
             0.2222222222222222,
             "#7201a8"
            ],
            [
             0.3333333333333333,
             "#9c179e"
            ],
            [
             0.4444444444444444,
             "#bd3786"
            ],
            [
             0.5555555555555556,
             "#d8576b"
            ],
            [
             0.6666666666666666,
             "#ed7953"
            ],
            [
             0.7777777777777778,
             "#fb9f3a"
            ],
            [
             0.8888888888888888,
             "#fdca26"
            ],
            [
             1,
             "#f0f921"
            ]
           ],
           "sequentialminus": [
            [
             0,
             "#0d0887"
            ],
            [
             0.1111111111111111,
             "#46039f"
            ],
            [
             0.2222222222222222,
             "#7201a8"
            ],
            [
             0.3333333333333333,
             "#9c179e"
            ],
            [
             0.4444444444444444,
             "#bd3786"
            ],
            [
             0.5555555555555556,
             "#d8576b"
            ],
            [
             0.6666666666666666,
             "#ed7953"
            ],
            [
             0.7777777777777778,
             "#fb9f3a"
            ],
            [
             0.8888888888888888,
             "#fdca26"
            ],
            [
             1,
             "#f0f921"
            ]
           ]
          },
          "colorway": [
           "#636efa",
           "#EF553B",
           "#00cc96",
           "#ab63fa",
           "#FFA15A",
           "#19d3f3",
           "#FF6692",
           "#B6E880",
           "#FF97FF",
           "#FECB52"
          ],
          "font": {
           "color": "#f2f5fa"
          },
          "geo": {
           "bgcolor": "rgb(17,17,17)",
           "lakecolor": "rgb(17,17,17)",
           "landcolor": "rgb(17,17,17)",
           "showlakes": true,
           "showland": true,
           "subunitcolor": "#506784"
          },
          "hoverlabel": {
           "align": "left"
          },
          "hovermode": "closest",
          "mapbox": {
           "style": "dark"
          },
          "paper_bgcolor": "rgb(17,17,17)",
          "plot_bgcolor": "rgb(17,17,17)",
          "polar": {
           "angularaxis": {
            "gridcolor": "#506784",
            "linecolor": "#506784",
            "ticks": ""
           },
           "bgcolor": "rgb(17,17,17)",
           "radialaxis": {
            "gridcolor": "#506784",
            "linecolor": "#506784",
            "ticks": ""
           }
          },
          "scene": {
           "xaxis": {
            "backgroundcolor": "rgb(17,17,17)",
            "gridcolor": "#506784",
            "gridwidth": 2,
            "linecolor": "#506784",
            "showbackground": true,
            "ticks": "",
            "zerolinecolor": "#C8D4E3"
           },
           "yaxis": {
            "backgroundcolor": "rgb(17,17,17)",
            "gridcolor": "#506784",
            "gridwidth": 2,
            "linecolor": "#506784",
            "showbackground": true,
            "ticks": "",
            "zerolinecolor": "#C8D4E3"
           },
           "zaxis": {
            "backgroundcolor": "rgb(17,17,17)",
            "gridcolor": "#506784",
            "gridwidth": 2,
            "linecolor": "#506784",
            "showbackground": true,
            "ticks": "",
            "zerolinecolor": "#C8D4E3"
           }
          },
          "shapedefaults": {
           "line": {
            "color": "#f2f5fa"
           }
          },
          "sliderdefaults": {
           "bgcolor": "#C8D4E3",
           "bordercolor": "rgb(17,17,17)",
           "borderwidth": 1,
           "tickwidth": 0
          },
          "ternary": {
           "aaxis": {
            "gridcolor": "#506784",
            "linecolor": "#506784",
            "ticks": ""
           },
           "baxis": {
            "gridcolor": "#506784",
            "linecolor": "#506784",
            "ticks": ""
           },
           "bgcolor": "rgb(17,17,17)",
           "caxis": {
            "gridcolor": "#506784",
            "linecolor": "#506784",
            "ticks": ""
           }
          },
          "title": {
           "x": 0.05
          },
          "updatemenudefaults": {
           "bgcolor": "#506784",
           "borderwidth": 0
          },
          "xaxis": {
           "automargin": true,
           "gridcolor": "#283442",
           "linecolor": "#506784",
           "ticks": "",
           "title": {
            "standoff": 15
           },
           "zerolinecolor": "#283442",
           "zerolinewidth": 2
          },
          "yaxis": {
           "automargin": true,
           "gridcolor": "#283442",
           "linecolor": "#506784",
           "ticks": "",
           "title": {
            "standoff": 15
           },
           "zerolinecolor": "#283442",
           "zerolinewidth": 2
          }
         }
        },
        "title": {
         "text": "V Wap"
        },
        "xaxis": {
         "anchor": "y",
         "autorange": true,
         "domain": [
          0,
          1
         ],
         "range": [
          "2021-08-22",
          "2021-11-19"
         ],
         "type": "date"
        },
        "yaxis": {
         "anchor": "x",
         "autorange": true,
         "domain": [
          0,
          1
         ],
         "range": [
          37059.922646653955,
          71097.83766543698
         ],
         "type": "linear"
        }
       }
      },
      "image/png": "[encoded data removed]",
      "text/html": [
       "<div>                            <div id=\"becefa81-ec73-4d77-a5ab-11256348d7fd\" class=\"plotly-graph-div\" style=\"height:600px; width:100%;\"></div>            <script type=\"text/javascript\">                require([\"plotly\"], function(Plotly) {                    window.PLOTLYENV=window.PLOTLYENV || {};                                    if (document.getElementById(\"becefa81-ec73-4d77-a5ab-11256348d7fd\")) {                    Plotly.newPlot(                        \"becefa81-ec73-4d77-a5ab-11256348d7fd\",                        [{\"line\":{\"color\":\"yellow\",\"width\":2},\"name\":\"Price\",\"type\":\"scatter\",\"x\":[\"2021-08-22T00:00:00+00:00\",\"2021-08-23T00:00:00+00:00\",\"2021-08-24T00:00:00+00:00\",\"2021-08-25T00:00:00+00:00\",\"2021-08-26T00:00:00+00:00\",\"2021-08-27T00:00:00+00:00\",\"2021-08-28T00:00:00+00:00\",\"2021-08-29T00:00:00+00:00\",\"2021-08-30T00:00:00+00:00\",\"2021-08-31T00:00:00+00:00\",\"2021-09-01T00:00:00+00:00\",\"2021-09-02T00:00:00+00:00\",\"2021-09-03T00:00:00+00:00\",\"2021-09-04T00:00:00+00:00\",\"2021-09-05T00:00:00+00:00\",\"2021-09-06T00:00:00+00:00\",\"2021-09-07T00:00:00+00:00\",\"2021-09-08T00:00:00+00:00\",\"2021-09-09T00:00:00+00:00\",\"2021-09-10T00:00:00+00:00\",\"2021-09-11T00:00:00+00:00\",\"2021-09-12T00:00:00+00:00\",\"2021-09-13T00:00:00+00:00\",\"2021-09-14T00:00:00+00:00\",\"2021-09-15T00:00:00+00:00\",\"2021-09-16T00:00:00+00:00\",\"2021-09-17T00:00:00+00:00\",\"2021-09-18T00:00:00+00:00\",\"2021-09-19T00:00:00+00:00\",\"2021-09-20T00:00:00+00:00\",\"2021-09-21T00:00:00+00:00\",\"2021-09-22T00:00:00+00:00\",\"2021-09-23T00:00:00+00:00\",\"2021-09-24T00:00:00+00:00\",\"2021-09-25T00:00:00+00:00\",\"2021-09-26T00:00:00+00:00\",\"2021-09-27T00:00:00+00:00\",\"2021-09-28T00:00:00+00:00\",\"2021-09-29T00:00:00+00:00\",\"2021-09-30T00:00:00+00:00\",\"2021-10-01T00:00:00+00:00\",\"2021-10-02T00:00:00+00:00\",\"2021-10-03T00:00:00+00:00\",\"2021-10-04T00:00:00+00:00\",\"2021-10-05T00:00:00+00:00\",\"2021-10-06T00:00:00+00:00\",\"2021-10-07T00:00:00+00:00\",\"2021-10-08T00:00:00+00:00\",\"2021-10-09T00:00:00+00:00\",\"2021-10-10T00:00:00+00:00\",\"2021-10-11T00:00:00+00:00\",\"2021-10-12T00:00:00+00:00\",\"2021-10-13T00:00:00+00:00\",\"2021-10-14T00:00:00+00:00\",\"2021-10-15T00:00:00+00:00\",\"2021-10-16T00:00:00+00:00\",\"2021-10-17T00:00:00+00:00\",\"2021-10-18T00:00:00+00:00\",\"2021-10-19T00:00:00+00:00\",\"2021-10-20T00:00:00+00:00\",\"2021-10-21T00:00:00+00:00\",\"2021-10-22T00:00:00+00:00\",\"2021-10-23T00:00:00+00:00\",\"2021-10-24T00:00:00+00:00\",\"2021-10-25T00:00:00+00:00\",\"2021-10-26T00:00:00+00:00\",\"2021-10-27T00:00:00+00:00\",\"2021-10-28T00:00:00+00:00\",\"2021-10-29T00:00:00+00:00\",\"2021-10-30T00:00:00+00:00\",\"2021-10-31T00:00:00+00:00\",\"2021-11-01T00:00:00+00:00\",\"2021-11-02T00:00:00+00:00\",\"2021-11-03T00:00:00+00:00\",\"2021-11-04T00:00:00+00:00\",\"2021-11-05T00:00:00+00:00\",\"2021-11-06T00:00:00+00:00\",\"2021-11-07T00:00:00+00:00\",\"2021-11-08T00:00:00+00:00\",\"2021-11-09T00:00:00+00:00\",\"2021-11-10T00:00:00+00:00\",\"2021-11-11T00:00:00+00:00\",\"2021-11-12T00:00:00+00:00\",\"2021-11-13T00:00:00+00:00\",\"2021-11-14T00:00:00+00:00\",\"2021-11-15T00:00:00+00:00\",\"2021-11-16T00:00:00+00:00\",\"2021-11-17T00:00:00+00:00\",\"2021-11-18T00:00:00+00:00\",\"2021-11-19T00:00:00+00:00\"],\"xaxis\":\"x\",\"y\":[49284.63,49506.5,47682.45,48987.33,46851.47,49077.57,48942.94,48802.58,46993.71,47112.5,48839.86,49279.37,50025.0,49942.98,51789.17,52698.81,46894.5,46060.36,46400.0,44851.45,45171.83,46024.23,44947.72,47127.22,48148.12,47753.16,47303.5,48314.56,47255.92,43012.97,40719.6,43575.1,44897.59,42848.92,42705.51,43178.02,42171.76,41026.07,41522.16,43824.43,48165.76,47657.69,48233.99,49245.54,51493.99,55339.48,53797.82,53963.82,54962.29,54690.53,57487.44,56005.1,57367.32,57359.51,61695.4,60877.42,61527.11,62042.41,64303.14,66026.54,62204.02,60687.64,61300.01,60854.48,63083.54,60337.62,58455.47,60591.65,62276.72,61892.41,61343.69,60949.54,63266.51,62935.41,61444.5,61006.15,61539.31,63309.13,67554.84,66944.67,64912.2,64807.74,64147.9,64400.01,65505.02,63624.59,60107.98,60351.51,56898.0,58122.16],\"yaxis\":\"y\"},{\"line\":{\"color\":\"grey\",\"width\":2},\"mode\":\"lines\",\"name\":\"vwap_ma\",\"type\":\"scatter\",\"x\":[\"2021-08-22T00:00:00+00:00\",\"2021-08-23T00:00:00+00:00\",\"2021-08-24T00:00:00+00:00\",\"2021-08-25T00:00:00+00:00\",\"2021-08-26T00:00:00+00:00\",\"2021-08-27T00:00:00+00:00\",\"2021-08-28T00:00:00+00:00\",\"2021-08-29T00:00:00+00:00\",\"2021-08-30T00:00:00+00:00\",\"2021-08-31T00:00:00+00:00\",\"2021-09-01T00:00:00+00:00\",\"2021-09-02T00:00:00+00:00\",\"2021-09-03T00:00:00+00:00\",\"2021-09-04T00:00:00+00:00\",\"2021-09-05T00:00:00+00:00\",\"2021-09-06T00:00:00+00:00\",\"2021-09-07T00:00:00+00:00\",\"2021-09-08T00:00:00+00:00\",\"2021-09-09T00:00:00+00:00\",\"2021-09-10T00:00:00+00:00\",\"2021-09-11T00:00:00+00:00\",\"2021-09-12T00:00:00+00:00\",\"2021-09-13T00:00:00+00:00\",\"2021-09-14T00:00:00+00:00\",\"2021-09-15T00:00:00+00:00\",\"2021-09-16T00:00:00+00:00\",\"2021-09-17T00:00:00+00:00\",\"2021-09-18T00:00:00+00:00\",\"2021-09-19T00:00:00+00:00\",\"2021-09-20T00:00:00+00:00\",\"2021-09-21T00:00:00+00:00\",\"2021-09-22T00:00:00+00:00\",\"2021-09-23T00:00:00+00:00\",\"2021-09-24T00:00:00+00:00\",\"2021-09-25T00:00:00+00:00\",\"2021-09-26T00:00:00+00:00\",\"2021-09-27T00:00:00+00:00\",\"2021-09-28T00:00:00+00:00\",\"2021-09-29T00:00:00+00:00\",\"2021-09-30T00:00:00+00:00\",\"2021-10-01T00:00:00+00:00\",\"2021-10-02T00:00:00+00:00\",\"2021-10-03T00:00:00+00:00\",\"2021-10-04T00:00:00+00:00\",\"2021-10-05T00:00:00+00:00\",\"2021-10-06T00:00:00+00:00\",\"2021-10-07T00:00:00+00:00\",\"2021-10-08T00:00:00+00:00\",\"2021-10-09T00:00:00+00:00\",\"2021-10-10T00:00:00+00:00\",\"2021-10-11T00:00:00+00:00\",\"2021-10-12T00:00:00+00:00\",\"2021-10-13T00:00:00+00:00\",\"2021-10-14T00:00:00+00:00\",\"2021-10-15T00:00:00+00:00\",\"2021-10-16T00:00:00+00:00\",\"2021-10-17T00:00:00+00:00\",\"2021-10-18T00:00:00+00:00\",\"2021-10-19T00:00:00+00:00\",\"2021-10-20T00:00:00+00:00\",\"2021-10-21T00:00:00+00:00\",\"2021-10-22T00:00:00+00:00\",\"2021-10-23T00:00:00+00:00\",\"2021-10-24T00:00:00+00:00\",\"2021-10-25T00:00:00+00:00\",\"2021-10-26T00:00:00+00:00\",\"2021-10-27T00:00:00+00:00\",\"2021-10-28T00:00:00+00:00\",\"2021-10-29T00:00:00+00:00\",\"2021-10-30T00:00:00+00:00\",\"2021-10-31T00:00:00+00:00\",\"2021-11-01T00:00:00+00:00\",\"2021-11-02T00:00:00+00:00\",\"2021-11-03T00:00:00+00:00\",\"2021-11-04T00:00:00+00:00\",\"2021-11-05T00:00:00+00:00\",\"2021-11-06T00:00:00+00:00\",\"2021-11-07T00:00:00+00:00\",\"2021-11-08T00:00:00+00:00\",\"2021-11-09T00:00:00+00:00\",\"2021-11-10T00:00:00+00:00\",\"2021-11-11T00:00:00+00:00\",\"2021-11-12T00:00:00+00:00\",\"2021-11-13T00:00:00+00:00\",\"2021-11-14T00:00:00+00:00\",\"2021-11-15T00:00:00+00:00\",\"2021-11-16T00:00:00+00:00\",\"2021-11-17T00:00:00+00:00\",\"2021-11-18T00:00:00+00:00\",\"2021-11-19T00:00:00+00:00\"],\"y\":[null,null,null,null,null,null,null,null,null,48357.444260488206,48254.48217282095,48234.74823703286,48373.68374602578,48553.88799929324,48894.412219321646,49303.75983874717,49267.612574209874,49014.79153162747,48862.03334069366,48699.924730987615,48454.22820998858,48051.21713236533,47530.24828506742,47154.35825611875,46857.159459696966,46452.58876453989,46348.14559265111,46546.778629207896,46660.20270542028,46505.53969731147,46164.362647904156,45863.835334717165,45795.78382018059,45439.50453468958,44923.306864529986,44408.54911361016,44006.671838215356,43371.605744811095,42786.65316405156,42694.23181586792,43172.306087697565,43693.55409132749,44093.92757521245,44665.526692726315,45451.70807821552,46532.01642694487,47620.03799511576,48898.19691372477,50199.68743824583,51397.1737725042,52407.83339535243,53255.520807924695,54043.79570940053,54965.62048537955,55951.04915648113,56724.55793286994,57353.394978006894,58060.11427679759,58883.22190642601,59931.399353634995,60668.16302322243,61213.306658812144,61716.610432702466,62003.98604523515,62254.79044352251,62314.61989443988,62182.81095641799,62047.52828781521,61903.28203305125,61491.24609009536,61175.44883087479,61118.187456050204,61294.92976217226,61507.6967092521,61402.43349090118,61360.9278405981,61520.55800234519,61712.28526482396,62124.3295394988,62711.89035510025,63283.81223245553,63651.85661556021,63755.443723662815,63908.58495118287,64190.50064318509,64527.08780608643,64518.07718861433,64275.51441873815,63562.83004812766,62542.55989678798]},{\"line\":{\"color\":\"red\",\"dash\":\"dot\",\"width\":1},\"name\":\"Upper Band\",\"type\":\"scatter\",\"x\":[\"2021-08-22T00:00:00+00:00\",\"2021-08-23T00:00:00+00:00\",\"2021-08-24T00:00:00+00:00\",\"2021-08-25T00:00:00+00:00\",\"2021-08-26T00:00:00+00:00\",\"2021-08-27T00:00:00+00:00\",\"2021-08-28T00:00:00+00:00\",\"2021-08-29T00:00:00+00:00\",\"2021-08-30T00:00:00+00:00\",\"2021-08-31T00:00:00+00:00\",\"2021-09-01T00:00:00+00:00\",\"2021-09-02T00:00:00+00:00\",\"2021-09-03T00:00:00+00:00\",\"2021-09-04T00:00:00+00:00\",\"2021-09-05T00:00:00+00:00\",\"2021-09-06T00:00:00+00:00\",\"2021-09-07T00:00:00+00:00\",\"2021-09-08T00:00:00+00:00\",\"2021-09-09T00:00:00+00:00\",\"2021-09-10T00:00:00+00:00\",\"2021-09-11T00:00:00+00:00\",\"2021-09-12T00:00:00+00:00\",\"2021-09-13T00:00:00+00:00\",\"2021-09-14T00:00:00+00:00\",\"2021-09-15T00:00:00+00:00\",\"2021-09-16T00:00:00+00:00\",\"2021-09-17T00:00:00+00:00\",\"2021-09-18T00:00:00+00:00\",\"2021-09-19T00:00:00+00:00\",\"2021-09-20T00:00:00+00:00\",\"2021-09-21T00:00:00+00:00\",\"2021-09-22T00:00:00+00:00\",\"2021-09-23T00:00:00+00:00\",\"2021-09-24T00:00:00+00:00\",\"2021-09-25T00:00:00+00:00\",\"2021-09-26T00:00:00+00:00\",\"2021-09-27T00:00:00+00:00\",\"2021-09-28T00:00:00+00:00\",\"2021-09-29T00:00:00+00:00\",\"2021-09-30T00:00:00+00:00\",\"2021-10-01T00:00:00+00:00\",\"2021-10-02T00:00:00+00:00\",\"2021-10-03T00:00:00+00:00\",\"2021-10-04T00:00:00+00:00\",\"2021-10-05T00:00:00+00:00\",\"2021-10-06T00:00:00+00:00\",\"2021-10-07T00:00:00+00:00\",\"2021-10-08T00:00:00+00:00\",\"2021-10-09T00:00:00+00:00\",\"2021-10-10T00:00:00+00:00\",\"2021-10-11T00:00:00+00:00\",\"2021-10-12T00:00:00+00:00\",\"2021-10-13T00:00:00+00:00\",\"2021-10-14T00:00:00+00:00\",\"2021-10-15T00:00:00+00:00\",\"2021-10-16T00:00:00+00:00\",\"2021-10-17T00:00:00+00:00\",\"2021-10-18T00:00:00+00:00\",\"2021-10-19T00:00:00+00:00\",\"2021-10-20T00:00:00+00:00\",\"2021-10-21T00:00:00+00:00\",\"2021-10-22T00:00:00+00:00\",\"2021-10-23T00:00:00+00:00\",\"2021-10-24T00:00:00+00:00\",\"2021-10-25T00:00:00+00:00\",\"2021-10-26T00:00:00+00:00\",\"2021-10-27T00:00:00+00:00\",\"2021-10-28T00:00:00+00:00\",\"2021-10-29T00:00:00+00:00\",\"2021-10-30T00:00:00+00:00\",\"2021-10-31T00:00:00+00:00\",\"2021-11-01T00:00:00+00:00\",\"2021-11-02T00:00:00+00:00\",\"2021-11-03T00:00:00+00:00\",\"2021-11-04T00:00:00+00:00\",\"2021-11-05T00:00:00+00:00\",\"2021-11-06T00:00:00+00:00\",\"2021-11-07T00:00:00+00:00\",\"2021-11-08T00:00:00+00:00\",\"2021-11-09T00:00:00+00:00\",\"2021-11-10T00:00:00+00:00\",\"2021-11-11T00:00:00+00:00\",\"2021-11-12T00:00:00+00:00\",\"2021-11-13T00:00:00+00:00\",\"2021-11-14T00:00:00+00:00\",\"2021-11-15T00:00:00+00:00\",\"2021-11-16T00:00:00+00:00\",\"2021-11-17T00:00:00+00:00\",\"2021-11-18T00:00:00+00:00\",\"2021-11-19T00:00:00+00:00\"],\"y\":[null,null,null,null,null,null,null,null,null,49963.14406742544,49852.670918975426,49746.15559256184,50260.55207198326,50698.803101199395,51197.032281659456,52114.193955552786,52110.84001294921,52457.276406403376,52624.09458873006,52869.84863751839,53115.79892510528,52931.81979312538,52580.372350284815,51935.11314872147,50996.19209528823,48837.894009195385,48397.36616617789,48895.74620303059,49102.315025462274,49370.1554608065,50205.98306880607,50480.12098379496,50499.54066158833,50513.665968151916,50031.664660514565,49253.02846790714,48359.227098273055,46759.425278808674,44550.00108145206,44213.27382027553,46050.07628052008,47783.14118041577,49067.06210335664,50204.58903050818,51811.15565465579,54302.214456296635,56455.358927179885,57713.12242926286,58131.93612500785,58205.42234444605,59136.61047648689,59561.25979614932,59411.53317173069,59043.40795746645,59870.17839510349,61439.21315131474,62327.74408249634,63307.975804077854,64417.767456267095,66298.05932455792,67147.02953744787,66947.5672262665,66168.3167482332,65564.04410154776,65610.22636841742,65607.56102105965,65858.17312420983,65899.60067808651,65702.89537330715,64189.71382893973,63087.72204108934,62982.39478406895,63447.95183323549,63731.215952444836,63458.18213218695,63397.439049112465,63025.19211630482,63019.84720471295,64947.38899656741,67069.86517930026,68142.34139390971,68370.16549791713,68438.79563620996,68527.8406232478,68546.2016905145,68415.22489788839,68443.69105102391,69035.18168754589,69395.94191449783,68887.79430115818]},{\"line\":{\"color\":\"green\",\"dash\":\"dot\",\"width\":1},\"name\":\"Lower Band\",\"type\":\"scatter\",\"x\":[\"2021-08-22T00:00:00+00:00\",\"2021-08-23T00:00:00+00:00\",\"2021-08-24T00:00:00+00:00\",\"2021-08-25T00:00:00+00:00\",\"2021-08-26T00:00:00+00:00\",\"2021-08-27T00:00:00+00:00\",\"2021-08-28T00:00:00+00:00\",\"2021-08-29T00:00:00+00:00\",\"2021-08-30T00:00:00+00:00\",\"2021-08-31T00:00:00+00:00\",\"2021-09-01T00:00:00+00:00\",\"2021-09-02T00:00:00+00:00\",\"2021-09-03T00:00:00+00:00\",\"2021-09-04T00:00:00+00:00\",\"2021-09-05T00:00:00+00:00\",\"2021-09-06T00:00:00+00:00\",\"2021-09-07T00:00:00+00:00\",\"2021-09-08T00:00:00+00:00\",\"2021-09-09T00:00:00+00:00\",\"2021-09-10T00:00:00+00:00\",\"2021-09-11T00:00:00+00:00\",\"2021-09-12T00:00:00+00:00\",\"2021-09-13T00:00:00+00:00\",\"2021-09-14T00:00:00+00:00\",\"2021-09-15T00:00:00+00:00\",\"2021-09-16T00:00:00+00:00\",\"2021-09-17T00:00:00+00:00\",\"2021-09-18T00:00:00+00:00\",\"2021-09-19T00:00:00+00:00\",\"2021-09-20T00:00:00+00:00\",\"2021-09-21T00:00:00+00:00\",\"2021-09-22T00:00:00+00:00\",\"2021-09-23T00:00:00+00:00\",\"2021-09-24T00:00:00+00:00\",\"2021-09-25T00:00:00+00:00\",\"2021-09-26T00:00:00+00:00\",\"2021-09-27T00:00:00+00:00\",\"2021-09-28T00:00:00+00:00\",\"2021-09-29T00:00:00+00:00\",\"2021-09-30T00:00:00+00:00\",\"2021-10-01T00:00:00+00:00\",\"2021-10-02T00:00:00+00:00\",\"2021-10-03T00:00:00+00:00\",\"2021-10-04T00:00:00+00:00\",\"2021-10-05T00:00:00+00:00\",\"2021-10-06T00:00:00+00:00\",\"2021-10-07T00:00:00+00:00\",\"2021-10-08T00:00:00+00:00\",\"2021-10-09T00:00:00+00:00\",\"2021-10-10T00:00:00+00:00\",\"2021-10-11T00:00:00+00:00\",\"2021-10-12T00:00:00+00:00\",\"2021-10-13T00:00:00+00:00\",\"2021-10-14T00:00:00+00:00\",\"2021-10-15T00:00:00+00:00\",\"2021-10-16T00:00:00+00:00\",\"2021-10-17T00:00:00+00:00\",\"2021-10-18T00:00:00+00:00\",\"2021-10-19T00:00:00+00:00\",\"2021-10-20T00:00:00+00:00\",\"2021-10-21T00:00:00+00:00\",\"2021-10-22T00:00:00+00:00\",\"2021-10-23T00:00:00+00:00\",\"2021-10-24T00:00:00+00:00\",\"2021-10-25T00:00:00+00:00\",\"2021-10-26T00:00:00+00:00\",\"2021-10-27T00:00:00+00:00\",\"2021-10-28T00:00:00+00:00\",\"2021-10-29T00:00:00+00:00\",\"2021-10-30T00:00:00+00:00\",\"2021-10-31T00:00:00+00:00\",\"2021-11-01T00:00:00+00:00\",\"2021-11-02T00:00:00+00:00\",\"2021-11-03T00:00:00+00:00\",\"2021-11-04T00:00:00+00:00\",\"2021-11-05T00:00:00+00:00\",\"2021-11-06T00:00:00+00:00\",\"2021-11-07T00:00:00+00:00\",\"2021-11-08T00:00:00+00:00\",\"2021-11-09T00:00:00+00:00\",\"2021-11-10T00:00:00+00:00\",\"2021-11-11T00:00:00+00:00\",\"2021-11-12T00:00:00+00:00\",\"2021-11-13T00:00:00+00:00\",\"2021-11-14T00:00:00+00:00\",\"2021-11-15T00:00:00+00:00\",\"2021-11-16T00:00:00+00:00\",\"2021-11-17T00:00:00+00:00\",\"2021-11-18T00:00:00+00:00\",\"2021-11-19T00:00:00+00:00\"],\"y\":[null,null,null,null,null,null,null,null,null,46751.74445355097,46656.293426666474,46723.34088150388,46486.815420068306,46408.97289738709,46591.792156983836,46493.32572194156,46424.38513547054,45572.30665685156,45099.97209265726,44530.00082445684,43792.65749487188,43170.61447160528,42480.124219850026,42373.60336351603,42718.126824105704,44067.2835198844,44298.92501912433,44197.8110553852,44218.09038537828,43640.92393381644,42122.74222700224,41247.54968563937,41092.026978772854,40365.34310122724,39814.94906854541,39564.069759313184,39654.11657815766,39983.786210813516,41023.30524665106,41175.18981146031,40294.53589487505,39603.96700223921,39120.79304706826,39126.46435494445,39092.26050177524,38761.81839759311,38784.717063051634,40083.271398186684,42267.438751483816,44588.92520056234,45679.05631421797,46949.78181970007,48676.058247070374,50887.83301329265,52031.91991785877,52009.90271442514,52379.04587351745,52812.25274951733,53348.67635658493,53564.73938271207,54189.29650899699,55479.046091357784,57264.90411717172,58443.92798892254,58899.35451862759,59021.6787678201,58507.44878862614,58195.45589754391,58103.66869279535,58792.778351250985,59263.17562066024,59253.98012803146,59141.90769110902,59284.177466059366,59346.68484961541,59324.41663208374,60015.923888385565,60404.72332493497,59301.270082430194,58353.91553090023,58425.28307100135,58933.54773320328,59072.09181111566,59289.32927911795,59834.799595855686,60638.95071428447,60592.46332620474,59515.84714993042,57729.71818175749,56197.32549241777]}],                        {\"height\":600,\"template\":{\"data\":{\"bar\":[{\"error_x\":{\"color\":\"#f2f5fa\"},\"error_y\":{\"color\":\"#f2f5fa\"},\"marker\":{\"line\":{\"color\":\"rgb(17,17,17)\",\"width\":0.5},\"pattern\":{\"fillmode\":\"overlay\",\"size\":10,\"solidity\":0.2}},\"type\":\"bar\"}],\"barpolar\":[{\"marker\":{\"line\":{\"color\":\"rgb(17,17,17)\",\"width\":0.5},\"pattern\":{\"fillmode\":\"overlay\",\"size\":10,\"solidity\":0.2}},\"type\":\"barpolar\"}],\"carpet\":[{\"aaxis\":{\"endlinecolor\":\"#A2B1C6\",\"gridcolor\":\"#506784\",\"linecolor\":\"#506784\",\"minorgridcolor\":\"#506784\",\"startlinecolor\":\"#A2B1C6\"},\"baxis\":{\"endlinecolor\":\"#A2B1C6\",\"gridcolor\":\"#506784\",\"linecolor\":\"#506784\",\"minorgridcolor\":\"#506784\",\"startlinecolor\":\"#A2B1C6\"},\"type\":\"carpet\"}],\"choropleth\":[{\"colorbar\":{\"outlinewidth\":0,\"ticks\":\"\"},\"type\":\"choropleth\"}],\"contour\":[{\"colorbar\":{\"outlinewidth\":0,\"ticks\":\"\"},\"colorscale\":[[0.0,\"#0d0887\"],[0.1111111111111111,\"#46039f\"],[0.2222222222222222,\"#7201a8\"],[0.3333333333333333,\"#9c179e\"],[0.4444444444444444,\"#bd3786\"],[0.5555555555555556,\"#d8576b\"],[0.6666666666666666,\"#ed7953\"],[0.7777777777777778,\"#fb9f3a\"],[0.8888888888888888,\"#fdca26\"],[1.0,\"#f0f921\"]],\"type\":\"contour\"}],\"contourcarpet\":[{\"colorbar\":{\"outlinewidth\":0,\"ticks\":\"\"},\"type\":\"contourcarpet\"}],\"heatmap\":[{\"colorbar\":{\"outlinewidth\":0,\"ticks\":\"\"},\"colorscale\":[[0.0,\"#0d0887\"],[0.1111111111111111,\"#46039f\"],[0.2222222222222222,\"#7201a8\"],[0.3333333333333333,\"#9c179e\"],[0.4444444444444444,\"#bd3786\"],[0.5555555555555556,\"#d8576b\"],[0.6666666666666666,\"#ed7953\"],[0.7777777777777778,\"#fb9f3a\"],[0.8888888888888888,\"#fdca26\"],[1.0,\"#f0f921\"]],\"type\":\"heatmap\"}],\"heatmapgl\":[{\"colorbar\":{\"outlinewidth\":0,\"ticks\":\"\"},\"colorscale\":[[0.0,\"#0d0887\"],[0.1111111111111111,\"#46039f\"],[0.2222222222222222,\"#7201a8\"],[0.3333333333333333,\"#9c179e\"],[0.4444444444444444,\"#bd3786\"],[0.5555555555555556,\"#d8576b\"],[0.6666666666666666,\"#ed7953\"],[0.7777777777777778,\"#fb9f3a\"],[0.8888888888888888,\"#fdca26\"],[1.0,\"#f0f921\"]],\"type\":\"heatmapgl\"}],\"histogram\":[{\"marker\":{\"pattern\":{\"fillmode\":\"overlay\",\"size\":10,\"solidity\":0.2}},\"type\":\"histogram\"}],\"histogram2d\":[{\"colorbar\":{\"outlinewidth\":0,\"ticks\":\"\"},\"colorscale\":[[0.0,\"#0d0887\"],[0.1111111111111111,\"#46039f\"],[0.2222222222222222,\"#7201a8\"],[0.3333333333333333,\"#9c179e\"],[0.4444444444444444,\"#bd3786\"],[0.5555555555555556,\"#d8576b\"],[0.6666666666666666,\"#ed7953\"],[0.7777777777777778,\"#fb9f3a\"],[0.8888888888888888,\"#fdca26\"],[1.0,\"#f0f921\"]],\"type\":\"histogram2d\"}],\"histogram2dcontour\":[{\"colorbar\":{\"outlinewidth\":0,\"ticks\":\"\"},\"colorscale\":[[0.0,\"#0d0887\"],[0.1111111111111111,\"#46039f\"],[0.2222222222222222,\"#7201a8\"],[0.3333333333333333,\"#9c179e\"],[0.4444444444444444,\"#bd3786\"],[0.5555555555555556,\"#d8576b\"],[0.6666666666666666,\"#ed7953\"],[0.7777777777777778,\"#fb9f3a\"],[0.8888888888888888,\"#fdca26\"],[1.0,\"#f0f921\"]],\"type\":\"histogram2dcontour\"}],\"mesh3d\":[{\"colorbar\":{\"outlinewidth\":0,\"ticks\":\"\"},\"type\":\"mesh3d\"}],\"parcoords\":[{\"line\":{\"colorbar\":{\"outlinewidth\":0,\"ticks\":\"\"}},\"type\":\"parcoords\"}],\"pie\":[{\"automargin\":true,\"type\":\"pie\"}],\"scatter\":[{\"marker\":{\"line\":{\"color\":\"#283442\"}},\"type\":\"scatter\"}],\"scatter3d\":[{\"line\":{\"colorbar\":{\"outlinewidth\":0,\"ticks\":\"\"}},\"marker\":{\"colorbar\":{\"outlinewidth\":0,\"ticks\":\"\"}},\"type\":\"scatter3d\"}],\"scattercarpet\":[{\"marker\":{\"colorbar\":{\"outlinewidth\":0,\"ticks\":\"\"}},\"type\":\"scattercarpet\"}],\"scattergeo\":[{\"marker\":{\"colorbar\":{\"outlinewidth\":0,\"ticks\":\"\"}},\"type\":\"scattergeo\"}],\"scattergl\":[{\"marker\":{\"line\":{\"color\":\"#283442\"}},\"type\":\"scattergl\"}],\"scattermapbox\":[{\"marker\":{\"colorbar\":{\"outlinewidth\":0,\"ticks\":\"\"}},\"type\":\"scattermapbox\"}],\"scatterpolar\":[{\"marker\":{\"colorbar\":{\"outlinewidth\":0,\"ticks\":\"\"}},\"type\":\"scatterpolar\"}],\"scatterpolargl\":[{\"marker\":{\"colorbar\":{\"outlinewidth\":0,\"ticks\":\"\"}},\"type\":\"scatterpolargl\"}],\"scatterternary\":[{\"marker\":{\"colorbar\":{\"outlinewidth\":0,\"ticks\":\"\"}},\"type\":\"scatterternary\"}],\"surface\":[{\"colorbar\":{\"outlinewidth\":0,\"ticks\":\"\"},\"colorscale\":[[0.0,\"#0d0887\"],[0.1111111111111111,\"#46039f\"],[0.2222222222222222,\"#7201a8\"],[0.3333333333333333,\"#9c179e\"],[0.4444444444444444,\"#bd3786\"],[0.5555555555555556,\"#d8576b\"],[0.6666666666666666,\"#ed7953\"],[0.7777777777777778,\"#fb9f3a\"],[0.8888888888888888,\"#fdca26\"],[1.0,\"#f0f921\"]],\"type\":\"surface\"}],\"table\":[{\"cells\":{\"fill\":{\"color\":\"#506784\"},\"line\":{\"color\":\"rgb(17,17,17)\"}},\"header\":{\"fill\":{\"color\":\"#2a3f5f\"},\"line\":{\"color\":\"rgb(17,17,17)\"}},\"type\":\"table\"}]},\"layout\":{\"annotationdefaults\":{\"arrowcolor\":\"#f2f5fa\",\"arrowhead\":0,\"arrowwidth\":1},\"autotypenumbers\":\"strict\",\"coloraxis\":{\"colorbar\":{\"outlinewidth\":0,\"ticks\":\"\"}},\"colorscale\":{\"diverging\":[[0,\"#8e0152\"],[0.1,\"#c51b7d\"],[0.2,\"#de77ae\"],[0.3,\"#f1b6da\"],[0.4,\"#fde0ef\"],[0.5,\"#f7f7f7\"],[0.6,\"#e6f5d0\"],[0.7,\"#b8e186\"],[0.8,\"#7fbc41\"],[0.9,\"#4d9221\"],[1,\"#276419\"]],\"sequential\":[[0.0,\"#0d0887\"],[0.1111111111111111,\"#46039f\"],[0.2222222222222222,\"#7201a8\"],[0.3333333333333333,\"#9c179e\"],[0.4444444444444444,\"#bd3786\"],[0.5555555555555556,\"#d8576b\"],[0.6666666666666666,\"#ed7953\"],[0.7777777777777778,\"#fb9f3a\"],[0.8888888888888888,\"#fdca26\"],[1.0,\"#f0f921\"]],\"sequentialminus\":[[0.0,\"#0d0887\"],[0.1111111111111111,\"#46039f\"],[0.2222222222222222,\"#7201a8\"],[0.3333333333333333,\"#9c179e\"],[0.4444444444444444,\"#bd3786\"],[0.5555555555555556,\"#d8576b\"],[0.6666666666666666,\"#ed7953\"],[0.7777777777777778,\"#fb9f3a\"],[0.8888888888888888,\"#fdca26\"],[1.0,\"#f0f921\"]]},\"colorway\":[\"#636efa\",\"#EF553B\",\"#00cc96\",\"#ab63fa\",\"#FFA15A\",\"#19d3f3\",\"#FF6692\",\"#B6E880\",\"#FF97FF\",\"#FECB52\"],\"font\":{\"color\":\"#f2f5fa\"},\"geo\":{\"bgcolor\":\"rgb(17,17,17)\",\"lakecolor\":\"rgb(17,17,17)\",\"landcolor\":\"rgb(17,17,17)\",\"showlakes\":true,\"showland\":true,\"subunitcolor\":\"#506784\"},\"hoverlabel\":{\"align\":\"left\"},\"hovermode\":\"closest\",\"mapbox\":{\"style\":\"dark\"},\"paper_bgcolor\":\"rgb(17,17,17)\",\"plot_bgcolor\":\"rgb(17,17,17)\",\"polar\":{\"angularaxis\":{\"gridcolor\":\"#506784\",\"linecolor\":\"#506784\",\"ticks\":\"\"},\"bgcolor\":\"rgb(17,17,17)\",\"radialaxis\":{\"gridcolor\":\"#506784\",\"linecolor\":\"#506784\",\"ticks\":\"\"}},\"scene\":{\"xaxis\":{\"backgroundcolor\":\"rgb(17,17,17)\",\"gridcolor\":\"#506784\",\"gridwidth\":2,\"linecolor\":\"#506784\",\"showbackground\":true,\"ticks\":\"\",\"zerolinecolor\":\"#C8D4E3\"},\"yaxis\":{\"backgroundcolor\":\"rgb(17,17,17)\",\"gridcolor\":\"#506784\",\"gridwidth\":2,\"linecolor\":\"#506784\",\"showbackground\":true,\"ticks\":\"\",\"zerolinecolor\":\"#C8D4E3\"},\"zaxis\":{\"backgroundcolor\":\"rgb(17,17,17)\",\"gridcolor\":\"#506784\",\"gridwidth\":2,\"linecolor\":\"#506784\",\"showbackground\":true,\"ticks\":\"\",\"zerolinecolor\":\"#C8D4E3\"}},\"shapedefaults\":{\"line\":{\"color\":\"#f2f5fa\"}},\"sliderdefaults\":{\"bgcolor\":\"#C8D4E3\",\"bordercolor\":\"rgb(17,17,17)\",\"borderwidth\":1,\"tickwidth\":0},\"ternary\":{\"aaxis\":{\"gridcolor\":\"#506784\",\"linecolor\":\"#506784\",\"ticks\":\"\"},\"baxis\":{\"gridcolor\":\"#506784\",\"linecolor\":\"#506784\",\"ticks\":\"\"},\"bgcolor\":\"rgb(17,17,17)\",\"caxis\":{\"gridcolor\":\"#506784\",\"linecolor\":\"#506784\",\"ticks\":\"\"}},\"title\":{\"x\":0.05},\"updatemenudefaults\":{\"bgcolor\":\"#506784\",\"borderwidth\":0},\"xaxis\":{\"automargin\":true,\"gridcolor\":\"#283442\",\"linecolor\":\"#506784\",\"ticks\":\"\",\"title\":{\"standoff\":15},\"zerolinecolor\":\"#283442\",\"zerolinewidth\":2},\"yaxis\":{\"automargin\":true,\"gridcolor\":\"#283442\",\"linecolor\":\"#506784\",\"ticks\":\"\",\"title\":{\"standoff\":15},\"zerolinecolor\":\"#283442\",\"zerolinewidth\":2}}},\"title\":{\"text\":\"V Wap\"},\"xaxis\":{\"anchor\":\"y\",\"domain\":[0.0,1.0]},\"yaxis\":{\"anchor\":\"x\",\"domain\":[0.0,1.0]}},                        {\"responsive\": true}                    ).then(function(){\n",
       "                            \n",
       "var gd = document.getElementById('becefa81-ec73-4d77-a5ab-11256348d7fd');\n",
       "var x = new MutationObserver(function (mutations, observer) {{\n",
       "        var display = window.getComputedStyle(gd).display;\n",
       "        if (!display || display === 'none') {{\n",
       "            console.log([gd, 'removed!']);\n",
       "            Plotly.purge(gd);\n",
       "            observer.disconnect();\n",
       "        }}\n",
       "}});\n",
       "\n",
       "// Listen for the removal of the full notebook cells\n",
       "var notebookContainer = gd.closest('#notebook-container');\n",
       "if (notebookContainer) {{\n",
       "    x.observe(notebookContainer, {childList: true});\n",
       "}}\n",
       "\n",
       "// Listen for the clearing of the current output cell\n",
       "var outputEl = gd.closest('.output');\n",
       "if (outputEl) {{\n",
       "    x.observe(outputEl, {childList: true});\n",
       "}}\n",
       "\n",
       "                        })                };                });            </script>        </div>"
      ]
     },
     "metadata": {},
     "output_type": "display_data"
    }
   ],
   "source": [
    "# LINE Graph\n",
    "\n",
    "fig_vwap = make_subplots(rows=1, cols=1)\n",
    "\n",
    "# Plotting Closing price line\n",
    "fig_vwap.add_trace(go.Scatter(\n",
    "    x = vwap_df.index, \n",
    "    y = vwap_df[\"close\"], \n",
    "    line = dict(color='yellow', width=2), \n",
    "    name = 'Price'), col=1, row=1)\n",
    "\n",
    "# Plotting VWAP MA line\n",
    "fig_vwap.add_trace(go.Scatter(\n",
    "    x = vwap_df.index,\n",
    "    y = vwap_df['vwap_ma'],\n",
    "    mode = 'lines',\n",
    "    name = 'vwap_ma', \n",
    "    line = dict(color='grey',width=2)\n",
    "))\n",
    "\n",
    "# # Add Bands\n",
    "# fig_vwap.add_trace(go.Scatter(\n",
    "#     x = vwap_df.index,\n",
    "#     y = vwap_df['upper_band'],\n",
    "#     line = dict('blue', width=2, dash='dot'),\n",
    "#     name = 'Upper Band'))\n",
    "\n",
    "fig_vwap.add_trace(go.Scatter(x=vwap_df.index, y= vwap_df['upper_band'], line=dict (color='red', width=1, dash='dot'), name = 'Upper Band'))\n",
    "fig_vwap.add_trace(go.Scatter(x=vwap_df.index, y= vwap_df['lower_band'], line=dict (color='green', width=1, dash='dot'), name = 'Lower Band'))\n",
    "                   \n",
    "# fig_vwap.add_hline(y=\"upper_band\", col=1, row=1, line_color='#336699', line_width=2, line_dash='dash')\n",
    "# fig_vwap.add_hline(y=80, col=1, row=1, line_color='#336699', line_width=2, line_dash='dash')\n",
    "\n",
    "fig_vwap.update_layout(\n",
    "    template = 'plotly_dark',\n",
    "    height=600,\n",
    "    title = 'V Wap'\n",
    ")\n",
    "fig_vwap.show()"
   ]
  },
  {
   "cell_type": "code",
   "execution_count": null,
   "id": "7aef880a-0674-4fbb-86f7-01bec545f5b3",
   "metadata": {},
   "outputs": [],
   "source": []
  },
  {
   "cell_type": "markdown",
   "id": "ac7c3db6",
   "metadata": {
    "tags": []
   },
   "source": [
    "# Rolling Averages - Jeff"
   ]
  },
  {
   "cell_type": "code",
   "execution_count": null,
   "id": "5f062265",
   "metadata": {
    "tags": []
   },
   "outputs": [],
   "source": []
  },
  {
   "cell_type": "markdown",
   "id": "5ae5bfc2",
   "metadata": {},
   "source": [
    "# SKDJ - Stochastic Oscillator - Anjan"
   ]
  },
  {
   "cell_type": "code",
   "execution_count": null,
   "id": "3ec87676",
   "metadata": {},
   "outputs": [],
   "source": [
    "# Create dataframe to work with\n",
    "skdj_df = asset_data_df\n",
    "skdj_df = skdj_df.set_index(pd.DatetimeIndex(skdj_df['date']))\n",
    "\n",
    "# Define Periods\n",
    "k_period = 14\n",
    "d_period = 3\n",
    "\n",
    "# Adds a 'n_high' column with max value of previous 14 periods\n",
    "skdj_df['n_high'] = skdj_df['high'].rolling(k_period).max()\n",
    "\n",
    "# Adds a 'n_low' column with min value of previous 14 periods\n",
    "skdj_df['n_low'] = skdj_df['low'].rolling(k_period).min()\n",
    "\n",
    "#Uses the min/max values to calculate the %k (as a percentage)\n",
    "skdj_df['%k'] = (skdj_df['close'] - skdj_df['n_low']) * 100 / (skdj_df['n_high'] - skdj_df['n_low'])\n",
    "\n",
    "# Uses the %k to calculate a SMA over the past 3 values of %k\n",
    "skdj_df['%d'] = skdj_df['%k'].rolling(d_period).mean()\n",
    "\n",
    "skdj_df.head(20)"
   ]
  },
  {
   "cell_type": "code",
   "execution_count": null,
   "id": "f02f90eb-e954-4bb6-a440-420ece5b0417",
   "metadata": {},
   "outputs": [],
   "source": [
    "# # Creating a function to find the sell/buy price determined by the Stochastic Oscillator\n",
    "# def skdj_signals(prices, skdj):    \n",
    "#     buy_price = []\n",
    "#     sell_price = []\n",
    "#     signal = 0\n",
    "#     skdj_signal = []\n",
    "\n",
    "#     for i in range(len(rsi)):\n",
    "#         if skdj_df['%k'][i] < 20: #When the calculated skdj is less than 20 creates a buy signal \n",
    "#             if signal != 1:\n",
    "#                 buy_price.append(prices[i])\n",
    "#                 sell_price.append(np.nan)\n",
    "#                 signal = 1\n",
    "#                 skdj_signal.append(signal) #A value of 1 would reflect the signal to buy \n",
    "#             else:\n",
    "#                 buy_price.append(np.nan)\n",
    "#                 sell_price.append(np.nan)\n",
    "#                 signal = 0\n",
    "#                 skdj_signal.append(0) #A value of 0 reflects a neautral postion \n",
    "\n",
    "#         elif skdj_df['rsi_14'][i] > 70: #When the calculted rsi is greater than 70 creates a sell signal\n",
    "#             if signal != -1:\n",
    "#                 buy_price.append(np.nan)\n",
    "#                 sell_price.append(prices[i])\n",
    "#                 signal = -1 \n",
    "#                 skdj_signal.append(signal) #A value of -1 would refelct a signal to sell \n",
    "                \n",
    "#             else:\n",
    "#                 buy_price.append(np.nan)\n",
    "#                 sell_price.append(np.nan)\n",
    "#                 signal = 0\n",
    "#                 skdj_signal.append(0)\n",
    "#         else:\n",
    "#             buy_price.append(np.nan)\n",
    "#             sell_price.append(np.nan)\n",
    "#             skdj_signal.append(0) \n",
    "            \n",
    "         \n",
    "#     return buy_price, sell_price, rsi_signal\n",
    "\n",
    "\n",
    "#BUY // SELL INDICATORS\n",
    "\n",
    "# append upper sell limit\n",
    "skdj_df[\"sell_limit\"] = 80\n",
    "\n",
    "# append lower buy limit\n",
    "skdj_df[\"buy_limit\"] = 20\n",
    "\n",
    "# append buy / sell signal\n",
    "skdj_df.loc[skdj_df['%k'] < .5, 'skdj_signal'] = 1\n",
    "skdj_df.loc[skdj_df['%k'] > 4, 'skdj_signal'] = -1\n",
    "skdj_df.loc[skdj_df['%k'].between(.5, 4) , 'skdj_signal'] = 0\n",
    "\n",
    "skdj_df.head(20)"
   ]
  },
  {
   "cell_type": "markdown",
   "id": "3bf2e5a3",
   "metadata": {},
   "source": [
    "### Creating SKDJ Chart"
   ]
  },
  {
   "cell_type": "code",
   "execution_count": null,
   "id": "b5b88a1d",
   "metadata": {},
   "outputs": [],
   "source": [
    "import plotly.graph_objects as go\n",
    "from plotly.subplots import make_subplots\n",
    "\n",
    "# Create primary chart\n",
    "fig_skdj = make_subplots(rows=2, cols=1)\n",
    "\n",
    "# Create Candlestick chart with an overlaid price line\n",
    "fig_skdj.append_trace(\n",
    "    go.Candlestick(\n",
    "        x=skdj_df.index,\n",
    "        open = skdj_df['open'],\n",
    "        high = skdj_df['high'],\n",
    "        low = skdj_df['low'],\n",
    "        close = skdj_df['close'],\n",
    "        increasing_line_color = '#ff9900',\n",
    "        decreasing_line_color = 'black',\n",
    "        showlegend = False\n",
    "    ), row=1, col=1 \n",
    ")\n",
    "\n",
    "# price Line\n",
    "fig_skdj.append_trace(\n",
    "    go.Scatter(\n",
    "        x = skdj_df.index,\n",
    "        y = skdj_df['open'],\n",
    "        line = dict(color='#ff9900', width=1),\n",
    "        name = 'open',\n",
    "    ), row=1, col=1\n",
    ")\n",
    "\n",
    "# Fast Signal (%k)\n",
    "fig_skdj.append_trace(\n",
    "    go.Scatter(\n",
    "        x = skdj_df.index,\n",
    "        y = skdj_df['%k'],\n",
    "        line = dict(color='#ff9900', width=2),\n",
    "        name = 'fast',\n",
    "    ), row=2, col=1\n",
    ")\n",
    "\n",
    "# Slow Signal (%d)\n",
    "fig_skdj.append_trace(\n",
    "    go.Scatter(\n",
    "        x = skdj_df.index,\n",
    "        y = skdj_df['%d'],\n",
    "        line = dict(color='#000000', width=2),\n",
    "        name = 'slow'\n",
    "    ), row=2, col=1\n",
    ")\n",
    "\n",
    "# Extend our y-axis\n",
    "fig_skdj.update_yaxes(range=[-10, 200], row=2, col=1)\n",
    "\n",
    "# Add upper/lower bounds\n",
    "fig_skdj.add_hline(y=0, col=1, row=2, line_color=\"#666\", line_width=2)\n",
    "fig_skdj.add_hline(y=100, col=1, row=2, line_color=\"#666\", line_width=2)\n",
    "\n",
    "# Add overbought/oversold\n",
    "fig_skdj.add_hline(y=20, col=1, row=2, line_color='#336699', line_width=2, line_dash='dash')\n",
    "fig_skdj.add_hline(y=80, col=1, row=2, line_color='#336699', line_width=2, line_dash='dash')\n",
    "\n",
    "# Make it pretty\n",
    "layout = go.Layout(\n",
    "    plot_bgcolor='#efefef',\n",
    "    # Font Families\n",
    "    font_family='sans serif',\n",
    "    font_color='#000000',\n",
    "    font_size=15,\n",
    "    title = 'Stochastic Oscillator',\n",
    "    height = 800,\n",
    "    xaxis=dict(\n",
    "        rangeslider=dict(\n",
    "            visible=False\n",
    "        )\n",
    "    )\n",
    ")\n",
    "fig_skdj.update_layout(layout)\n",
    "\n",
    "fig_skdj.show()"
   ]
  },
  {
   "cell_type": "code",
   "execution_count": null,
   "id": "634e2a42",
   "metadata": {},
   "outputs": [],
   "source": [
    "### Logic\n",
    "# # Overbought status\n",
    "# if k > 80 and d > 80 and k < d:\n",
    "#     sell\n",
    "# # Oversold status   \n",
    "# else if k < 20 and d < 20 and k > d:\n",
    "#     buy\n",
    "# # Something in the middle\n",
    "# else:\n",
    "#     do nothing"
   ]
  },
  {
   "cell_type": "markdown",
   "id": "b72af52a",
   "metadata": {
    "tags": []
   },
   "source": [
    "# NVT - Network Value to Transaction"
   ]
  },
  {
   "cell_type": "markdown",
   "id": "769c3170",
   "metadata": {
    "tags": []
   },
   "source": []
  },
  {
   "cell_type": "markdown",
   "id": "357c73d7",
   "metadata": {
    "tags": []
   },
   "source": [
    "# The Puell Multiple - Brian / Jeff"
   ]
  },
  {
   "cell_type": "code",
   "execution_count": null,
   "id": "2e33d2f1",
   "metadata": {
    "tags": []
   },
   "outputs": [],
   "source": []
  },
  {
   "cell_type": "markdown",
   "id": "b1ce7e5e",
   "metadata": {
    "tags": []
   },
   "source": [
    "# Sharpe Ratios"
   ]
  },
  {
   "cell_type": "code",
   "execution_count": null,
   "id": "de65ef76",
   "metadata": {
    "tags": []
   },
   "outputs": [],
   "source": [
    "# Risk free rate doc saves in resources\n",
    "# SAMPLE: risk_free_rate = 0.0000022\n",
    "# combined_sharpe_ratios = ((combined_returns.mean()-(risk_free_rate)) * 252) / (combined_returns.std() * np.sqrt(252))\n"
   ]
  },
  {
   "cell_type": "code",
   "execution_count": null,
   "id": "5e806ee9",
   "metadata": {
    "tags": []
   },
   "outputs": [],
   "source": []
  }
 ],
 "metadata": {
  "kernelspec": {
   "display_name": "Python 3 (ipykernel)",
   "language": "python",
   "name": "python3"
  },
  "language_info": {
   "codemirror_mode": {
    "name": "ipython",
    "version": 3
   },
   "file_extension": ".py",
   "mimetype": "text/x-python",
   "name": "python",
   "nbconvert_exporter": "python",
   "pygments_lexer": "ipython3",
   "version": "3.8.8"
  }
 },
 "nbformat": 4,
 "nbformat_minor": 5
}
